{
 "cells": [
  {
   "cell_type": "code",
   "execution_count": 58,
   "metadata": {},
   "outputs": [],
   "source": [
    "from utils import *\n",
    "from sklearn.datasets import make_friedman2\n",
    "from multiprocessing import Pool\n",
    "from scipy import optimize"
   ]
  },
  {
   "cell_type": "markdown",
   "metadata": {},
   "source": [
    "# Friedman 2 Data"
   ]
  },
  {
   "cell_type": "markdown",
   "metadata": {},
   "source": [
    "## Dataset"
   ]
  },
  {
   "cell_type": "code",
   "execution_count": 59,
   "metadata": {},
   "outputs": [],
   "source": [
    "# add noise\n",
    "# redo with scipy.minimize\n",
    "X, y = make_friedman2(random_state=18397425)\n",
    "datasets = processing(X, y)\n",
    "\n",
    "X, y = datasets['orig']\n",
    "X_norm, y_norm = datasets['norm']\n",
    "X_train, y_train, y_train_noisy = datasets['orig train']\n",
    "X_train_norm, y_train_norm, y_train_norm_noisy = datasets['norm train']"
   ]
  },
  {
   "cell_type": "markdown",
   "metadata": {},
   "source": [
    "## Noiseless"
   ]
  },
  {
   "cell_type": "markdown",
   "metadata": {},
   "source": [
    "### $\\mathbb{R}^d$"
   ]
  },
  {
   "cell_type": "code",
   "execution_count": 60,
   "metadata": {},
   "outputs": [
    {
     "name": "stdout",
     "output_type": "stream",
     "text": [
      "NTK     :  0.0113**2 * NTK(depth=3, c=2.000, bias=0.056)\n",
      "NTK     :  0.000429**2 * NTK(depth=100, c=2.000, bias=0.002)\n",
      "Laplace :  0.224**2 * Matern(length_scale=1, nu=0.5)\n"
     ]
    }
   ],
   "source": [
    "ntk_1 = (\n",
    "    ConstantKernel(\n",
    "        constant_value=1, \n",
    "        constant_value_bounds=(1e-9, 1e2)\n",
    "    ) * \n",
    "    NTK(depth=3, c=2, \n",
    "        bias=1e-1, \n",
    "        bias_bounds=(1e-9, 1e0)\n",
    "    ) \n",
    ")\n",
    "\n",
    "ntk_2 = (\n",
    "    ConstantKernel(\n",
    "        constant_value=1, \n",
    "        constant_value_bounds=(1e-9, 1e2)\n",
    "    ) * \n",
    "    NTK(depth=100, c=2, \n",
    "        bias=1e-1, \n",
    "        bias_bounds=(1e-9, 1e0)\n",
    "    ) \n",
    ")\n",
    "\n",
    "lpk = (\n",
    "    ConstantKernel(\n",
    "        constant_value=0.224**2, \n",
    "        constant_value_bounds='fixed'#(1e-9, 1e5) \n",
    "    ) * \n",
    "    Matern(\n",
    "        nu=1/2,\n",
    "        length_scale=1,\n",
    "        length_scale_bounds='fixed'#(1e-1, 1e3), \n",
    "    ) \n",
    ")\n",
    "\n",
    "gp_ntk_1 = GPR(kernel=ntk_1, alpha=1e-9, normalize_y=True, n_restarts_optimizer=9, random_state=3480795)\n",
    "gp_ntk_1.fit(X_train, y_train)\n",
    "print('NTK     : ', gp_ntk_1.kernel_)\n",
    "mean_ntk_1 = gp_ntk_1.predict(X)\n",
    "\n",
    "gp_ntk_2 = GPR(kernel=ntk_2, alpha=1e-9, normalize_y=True, n_restarts_optimizer=9, random_state=3480795)\n",
    "gp_ntk_2.fit(X_train, y_train)\n",
    "print('NTK     : ', gp_ntk_2.kernel_)\n",
    "mean_ntk_2 = gp_ntk_2.predict(X)\n",
    "\n",
    "gp_lpk = GPR(kernel=lpk, alpha=1e-9, normalize_y=True, n_restarts_optimizer=0, random_state=3480795)\n",
    "gp_lpk.fit(X_train, y_train)\n",
    "print('Laplace : ', gp_lpk.kernel_)\n",
    "mean_lpk = gp_lpk.predict(X)"
   ]
  },
  {
   "cell_type": "code",
   "execution_count": 61,
   "metadata": {},
   "outputs": [],
   "source": [
    "# def f(args):\n",
    "#     ell, gp, X, X_train, y_train, residual_target, out = args\n",
    "#     gp.set_params(**{'kernel__k2__length_scale': ell})\n",
    "#     gp.fit(X_train, y_train)\n",
    "\n",
    "#     if out:\n",
    "#         print(gp)\n",
    "        \n",
    "#     mean = gp.predict(X)\n",
    "#     return np.corrcoef((residual_target)[:,0], (y-mean)[:,0])[0, 1]"
   ]
  },
  {
   "cell_type": "code",
   "execution_count": 62,
   "metadata": {},
   "outputs": [],
   "source": [
    "# arg_list = (gp_lpk, X, X_train, y_train, y-mean_ntk_1, False)\n",
    "# N = 10000\n",
    "# ell_search = np.linspace(0.001, 30, N)\n",
    "\n",
    "# args = [(ell, *arg_list) for ell in ell_search]\n",
    "\n",
    "# with Pool(4) as p:\n",
    "#     result_1 = p.map(f, args)\n",
    "#     i = np.argmax(result_1)\n",
    "#     print(f\"NTK depth 3, LPK lengthscale {ell_search[i]} at {i} with {max(result_1)}\")"
   ]
  },
  {
   "cell_type": "code",
   "execution_count": 63,
   "metadata": {},
   "outputs": [],
   "source": [
    "# arg_list = (gp_lpk, X, X_train, y_train, y-mean_ntk_2, False)\n",
    "# N = 10000\n",
    "# ell_search = np.linspace(0.001, 30, N)\n",
    "\n",
    "# args = [(ell, *arg_list) for ell in ell_search]\n",
    "\n",
    "# with Pool(4) as p:\n",
    "#     result_2 = p.map(f, args)\n",
    "#     i = np.argmax(result_2)\n",
    "#     print(f\"NTK depth 100, LPK lengthscale {ell_search[i]} at {i} with {max(result_2)}\")"
   ]
  },
  {
   "cell_type": "code",
   "execution_count": 64,
   "metadata": {},
   "outputs": [],
   "source": [
    "def g(ell, residual):\n",
    "    gp_lpk.set_params(**{'kernel__k2__length_scale': ell})\n",
    "    gp_lpk.fit(X_train, y_train)\n",
    "    mean = gp_lpk.predict(X)\n",
    "    return -np.corrcoef((residual)[:,0], (y-mean)[:,0])[0, 1]"
   ]
  },
  {
   "cell_type": "code",
   "execution_count": 65,
   "metadata": {},
   "outputs": [
    {
     "name": "stdout",
     "output_type": "stream",
     "text": [
      " \n",
      " Func-count     x          f(x)          Procedure\n",
      "    1        38.1972    -0.656757        initial\n",
      "    2        61.8038    -0.645999        golden\n",
      "    3        23.6076     -0.65597        golden\n",
      "    4        32.9248     -0.65831        parabolic\n",
      "    5        31.6242    -0.658479        parabolic\n",
      "    6        29.6672    -0.658501        parabolic\n",
      "    7        27.3526    -0.658071        golden\n",
      "    8        30.4923    -0.658529        parabolic\n",
      "    9        30.5071    -0.658529        parabolic\n",
      "   10        30.4881    -0.658529        parabolic\n",
      "   11        30.4877    -0.658529        parabolic\n",
      "   12        30.4877    -0.658529        parabolic\n",
      "   13        30.4877    -0.658529        parabolic\n",
      "\n",
      "Optimization terminated successfully;\n",
      "The returned value satisfies the termination criteria\n",
      "(using xtol =  1e-05 )\n"
     ]
    },
    {
     "data": {
      "text/plain": [
       "     fun: -0.65852938042022\n",
       " message: 'Solution found.'\n",
       "    nfev: 13\n",
       "     nit: 13\n",
       "  status: 0\n",
       " success: True\n",
       "       x: 30.48768459024271"
      ]
     },
     "execution_count": 65,
     "metadata": {},
     "output_type": "execute_result"
    }
   ],
   "source": [
    "ell_3 = optimize.minimize_scalar(g, args=(y-mean_ntk_1), method='bounded', bounds=[0.001, 100], options={'disp':3})\n",
    "ell_3"
   ]
  },
  {
   "cell_type": "code",
   "execution_count": 66,
   "metadata": {},
   "outputs": [
    {
     "name": "stdout",
     "output_type": "stream",
     "text": [
      " \n",
      " Func-count     x          f(x)          Procedure\n",
      "    1        38.1972    -0.644372        initial\n",
      "    2        61.8038    -0.631492        golden\n",
      "    3        23.6076    -0.646424        golden\n",
      "    4        24.2658    -0.646779        parabolic\n",
      "    5        29.4592    -0.647599        parabolic\n",
      "    6        32.7968    -0.646806        golden\n",
      "    7        28.5658    -0.647667        parabolic\n",
      "    8        28.0184    -0.647671        parabolic\n",
      "    9        28.1994    -0.647673        parabolic\n",
      "   10         28.204    -0.647673        parabolic\n",
      "   11        28.2027    -0.647673        parabolic\n",
      "   12        28.2027    -0.647673        parabolic\n",
      "   13        28.2027    -0.647673        parabolic\n",
      "\n",
      "Optimization terminated successfully;\n",
      "The returned value satisfies the termination criteria\n",
      "(using xtol =  1e-05 )\n"
     ]
    },
    {
     "data": {
      "text/plain": [
       "     fun: -0.6476731549688525\n",
       " message: 'Solution found.'\n",
       "    nfev: 13\n",
       "     nit: 13\n",
       "  status: 0\n",
       " success: True\n",
       "       x: 28.202666546225164"
      ]
     },
     "execution_count": 66,
     "metadata": {},
     "output_type": "execute_result"
    }
   ],
   "source": [
    "ell_100 = optimize.minimize_scalar(g, args=(y-mean_ntk_2), method='bounded', bounds=[0.001, 100], options={'disp':3})\n",
    "ell_100"
   ]
  },
  {
   "cell_type": "code",
   "execution_count": 67,
   "metadata": {},
   "outputs": [],
   "source": [
    "# D=3\n",
    "gp_lpk.set_params(**{'kernel__k2__length_scale': ell_3.x})\n",
    "gp_lpk.fit(X_train, y_train)\n",
    "mean_opt_1 = gp_lpk.predict(X)\n",
    "\n",
    "# D=100\n",
    "gp_lpk.set_params(**{'kernel__k2__length_scale': ell_100.x})\n",
    "gp_lpk.fit(X_train, y_train)\n",
    "mean_opt_2 = gp_lpk.predict(X)"
   ]
  },
  {
   "cell_type": "code",
   "execution_count": 68,
   "metadata": {},
   "outputs": [
    {
     "data": {
      "image/png": "[encoded data removed]",
      "text/plain": [
       "<Figure size 720x720 with 4 Axes>"
      ]
     },
     "metadata": {
      "needs_background": "light"
     },
     "output_type": "display_data"
    }
   ],
   "source": [
    "fig1, ax1 = plt.subplots(nrows=2, ncols=2, sharex=True, sharey=True, figsize=(10,10))\n",
    "ax1 = ax1.ravel()\n",
    "ax1[0].scatter(y - mean_ntk_1, y - mean_lpk)\n",
    "ax1[0].set_title('Depth=3, Lengthscale=1')\n",
    "ax1[1].scatter(y - mean_ntk_2, y - mean_lpk)\n",
    "ax1[1].set_title('Depth=100, Lengthscale=1')\n",
    "ax1[2].scatter(y - mean_ntk_1, y - mean_opt_1)\n",
    "ax1[2].set_title(f'Depth=3, Optimal Lengthscale (1/c)={round(ell_3.x, 4)}')\n",
    "ax1[3].scatter(y - mean_ntk_2, y - mean_opt_2)\n",
    "ax1[3].set_title(f'Depth=100, Optimal Lengthscale (1/c)={round(ell_100.x, 4)}')\n",
    "fig1.suptitle(r'Noiseless Friedman 2 $\\mathbb{R}^d$ NTK vs LPK')\n",
    "fig1.supxlabel('NTK residuals')\n",
    "fig1.supylabel('LaPlace residuals')\n",
    "fig1.tight_layout()"
   ]
  },
  {
   "cell_type": "markdown",
   "metadata": {},
   "source": [
    "### $\\mathbb{S}^{d-1}$"
   ]
  },
  {
   "cell_type": "code",
   "execution_count": 69,
   "metadata": {},
   "outputs": [
    {
     "name": "stderr",
     "output_type": "stream",
     "text": [
      "/home/rona1das/Tools/anaconda3/envs/thesis/lib/python3.9/site-packages/sklearn/gaussian_process/_gpr.py:610: ConvergenceWarning: lbfgs failed to converge (status=2):\n",
      "ABNORMAL_TERMINATION_IN_LNSRCH.\n",
      "\n",
      "Increase the number of iterations (max_iter) or scale the data as shown in:\n",
      "    https://scikit-learn.org/stable/modules/preprocessing.html\n",
      "  _check_optimize_result(\"lbfgs\", opt_res)\n"
     ]
    },
    {
     "name": "stdout",
     "output_type": "stream",
     "text": [
      "NTK     :  6.87**2 * NTK(depth=3, c=2.000, bias=0.882)\n",
      "NTK     :  0.306**2 * NTK(depth=100, c=2.000, bias=0.313)\n",
      "Laplace :  0.224**2 * Matern(length_scale=1, nu=0.5)\n"
     ]
    }
   ],
   "source": [
    "ntk_1 = (\n",
    "    ConstantKernel(\n",
    "        constant_value=1, \n",
    "        constant_value_bounds=(1e-9, 1e2)\n",
    "    ) * \n",
    "    NTK(depth=3, c=2, \n",
    "        bias=1e-1, \n",
    "        bias_bounds=(1e-9, 1e0)\n",
    "    ) \n",
    ")\n",
    "\n",
    "ntk_2 = (\n",
    "    ConstantKernel(\n",
    "        constant_value=1, \n",
    "        constant_value_bounds=(1e-9, 1e2)\n",
    "    ) * \n",
    "    NTK(depth=100, c=2, \n",
    "        bias=1e-1, \n",
    "        bias_bounds=(1e-9, 1e0)\n",
    "    ) \n",
    ")\n",
    "\n",
    "lpk = (\n",
    "    ConstantKernel(\n",
    "        constant_value=0.224**2, \n",
    "        constant_value_bounds='fixed'#(1e-9, 1e5) \n",
    "    ) * \n",
    "    Matern(\n",
    "        nu=1/2,\n",
    "        length_scale=1,\n",
    "        length_scale_bounds='fixed'#(1e-1, 1e3), \n",
    "    ) \n",
    ")\n",
    "\n",
    "gp_ntk_1 = GPR(kernel=ntk_1, alpha=1e-9, normalize_y=True, n_restarts_optimizer=9, random_state=3480795)\n",
    "gp_ntk_1.fit(X_train_norm, y_train)\n",
    "print('NTK     : ', gp_ntk_1.kernel_)\n",
    "mean_ntk_1 = gp_ntk_1.predict(X_norm)\n",
    "\n",
    "gp_ntk_2 = GPR(kernel=ntk_2, alpha=1e-9, normalize_y=True, n_restarts_optimizer=9, random_state=3480795)\n",
    "gp_ntk_2.fit(X_train_norm, y_train)\n",
    "print('NTK     : ', gp_ntk_2.kernel_)\n",
    "mean_ntk_2 = gp_ntk_2.predict(X_norm)\n",
    "\n",
    "gp_lpk = GPR(kernel=lpk, alpha=1e-9, normalize_y=True, n_restarts_optimizer=0, random_state=3480795)\n",
    "gp_lpk.fit(X_train_norm, y_train)\n",
    "print('Laplace : ', gp_lpk.kernel_)\n",
    "mean_lpk = gp_lpk.predict(X_norm)"
   ]
  },
  {
   "cell_type": "code",
   "execution_count": 70,
   "metadata": {},
   "outputs": [],
   "source": [
    "# arg_list = (gp_lpk, X_norm, X_train_norm, y_train, y-mean_ntk_1, False)\n",
    "# N = 10000\n",
    "# ell_search = np.linspace(0.01, 100, N)\n",
    "\n",
    "# args = [(ell, *arg_list) for ell in ell_search]\n",
    "\n",
    "# with Pool(4) as p:\n",
    "#     result_1 = p.map(f, args)\n",
    "#     i = np.argmax(result_1)\n",
    "#     print(f\"NTK depth 3, LPK lengthscale {ell_search[i]} at {i} with {max(result_1)}\")"
   ]
  },
  {
   "cell_type": "code",
   "execution_count": 71,
   "metadata": {},
   "outputs": [],
   "source": [
    "# arg_list = (gp_lpk, X_norm, X_train_norm, y_train, y-mean_ntk_2, False)\n",
    "# N = 10000\n",
    "# ell_search = np.linspace(0.01, 100, N)\n",
    "\n",
    "# args = [(ell, *arg_list) for ell in ell_search]\n",
    "\n",
    "# with Pool(4) as p:\n",
    "#     result_1 = p.map(f, args)\n",
    "#     i = np.argmax(result_1)\n",
    "#     print(f\"NTK depth 3, LPK lengthscale {ell_search[i]} at {i} with {max(result_1)}\")"
   ]
  },
  {
   "cell_type": "code",
   "execution_count": 72,
   "metadata": {},
   "outputs": [],
   "source": [
    "def g(ell, residual):\n",
    "    gp_lpk.set_params(**{'kernel__k2__length_scale': ell})\n",
    "    gp_lpk.fit(X_train_norm, y_train)\n",
    "    mean = gp_lpk.predict(X_norm)\n",
    "    return -np.corrcoef((residual)[:,0], (y-mean)[:,0])[0, 1]"
   ]
  },
  {
   "cell_type": "code",
   "execution_count": 73,
   "metadata": {},
   "outputs": [
    {
     "name": "stdout",
     "output_type": "stream",
     "text": [
      " \n",
      " Func-count     x          f(x)          Procedure\n",
      "    1        11.4596    -0.999999        initial\n",
      "    2        18.5414    -0.999999        golden\n",
      "    3        22.9182    -0.999999        golden\n",
      "    4        21.1542    -0.999999        parabolic\n",
      "    5        21.5428    -0.999999        parabolic\n",
      "    6        21.4614    -0.999999        parabolic\n",
      "    7        21.4541    -0.999999        parabolic\n",
      "    8        21.4542    -0.999999        parabolic\n",
      "    9        21.3395    -0.999999        golden\n",
      "   10        21.4103    -0.999999        golden\n",
      "   11        21.4374    -0.999999        golden\n",
      "   12        21.4477    -0.999999        golden\n",
      "   13        21.4512    -0.999999        parabolic\n",
      "   14        21.4526    -0.999999        parabolic\n",
      "   15        21.4499    -0.999999        golden\n",
      "   16        21.4517    -0.999999        golden\n",
      "   17        21.4507    -0.999999        golden\n",
      "   18        21.4514    -0.999999        golden\n",
      "   19        21.4513    -0.999999        parabolic\n",
      "   20        21.4513    -0.999999        parabolic\n",
      "   21        21.4513    -0.999999        parabolic\n",
      "\n",
      "Optimization terminated successfully;\n",
      "The returned value satisfies the termination criteria\n",
      "(using xtol =  1e-05 )\n"
     ]
    },
    {
     "data": {
      "text/plain": [
       "     fun: -0.9999988106985284\n",
       " message: 'Solution found.'\n",
       "    nfev: 21\n",
       "     nit: 21\n",
       "  status: 0\n",
       " success: True\n",
       "       x: 21.451285392788023"
      ]
     },
     "execution_count": 73,
     "metadata": {},
     "output_type": "execute_result"
    }
   ],
   "source": [
    "ell_3 = optimize.minimize_scalar(g, args=(y-mean_ntk_1), method='bounded', bounds=[0.001, 30], options={'disp':3})\n",
    "ell_3"
   ]
  },
  {
   "cell_type": "code",
   "execution_count": 74,
   "metadata": {},
   "outputs": [
    {
     "name": "stdout",
     "output_type": "stream",
     "text": [
      " \n",
      " Func-count     x          f(x)          Procedure\n",
      "    1        11.4596     -0.99947        initial\n",
      "    2        18.5414    -0.999469        golden\n",
      "    3         7.0828     -0.99947        golden\n",
      "    4         4.3778    -0.999472        golden\n",
      "    5        2.70601    -0.999474        golden\n",
      "    6        1.67279    -0.999477        golden\n",
      "    7        1.03422    -0.999483        golden\n",
      "    8       0.639566    -0.999495        golden\n",
      "    9       0.395655     -0.99952        golden\n",
      "   10        0.24491    -0.999572        golden\n",
      "   11       0.151745    -0.999675        golden\n",
      "   12      0.0941655    -0.999809        golden\n",
      "   13      0.0585794    -0.999741        golden\n",
      "   14      0.0974708    -0.999801        parabolic\n",
      "   15      0.0851503    -0.999826        parabolic\n",
      "   16      0.0750011     -0.99983        golden\n",
      "   17      0.0776763    -0.999831        parabolic\n",
      "   18      0.0785217    -0.999831        parabolic\n",
      "   19       0.078182    -0.999831        parabolic\n",
      "   20      0.0781896    -0.999831        parabolic\n",
      "   21      0.0781929    -0.999831        parabolic\n",
      "   22      0.0781863    -0.999831        parabolic\n",
      "\n",
      "Optimization terminated successfully;\n",
      "The returned value satisfies the termination criteria\n",
      "(using xtol =  1e-05 )\n"
     ]
    },
    {
     "data": {
      "text/plain": [
       "     fun: -0.9998312901127916\n",
       " message: 'Solution found.'\n",
       "    nfev: 22\n",
       "     nit: 22\n",
       "  status: 0\n",
       " success: True\n",
       "       x: 0.07818627825716633"
      ]
     },
     "execution_count": 74,
     "metadata": {},
     "output_type": "execute_result"
    }
   ],
   "source": [
    "ell_100 = optimize.minimize_scalar(g, args=(y-mean_ntk_2), method='bounded', bounds=[0.001, 30], options={'disp':3})\n",
    "ell_100"
   ]
  },
  {
   "cell_type": "code",
   "execution_count": 75,
   "metadata": {},
   "outputs": [],
   "source": [
    "# D=3\n",
    "gp_lpk.set_params(**{'kernel__k2__length_scale': ell_3.x})\n",
    "gp_lpk.fit(X_train_norm, y_train)\n",
    "mean_opt_1 = gp_lpk.predict(X_norm)\n",
    "\n",
    "# D=100\n",
    "gp_lpk.set_params(**{'kernel__k2__length_scale': ell_100.x})\n",
    "gp_lpk.fit(X_train_norm, y_train)\n",
    "mean_opt_2 = gp_lpk.predict(X_norm)"
   ]
  },
  {
   "cell_type": "code",
   "execution_count": 76,
   "metadata": {},
   "outputs": [
    {
     "data": {
      "image/png": "[encoded data removed]",
      "text/plain": [
       "<Figure size 720x720 with 4 Axes>"
      ]
     },
     "metadata": {
      "needs_background": "light"
     },
     "output_type": "display_data"
    }
   ],
   "source": [
    "fig2, ax2 = plt.subplots(nrows=2, ncols=2, sharex=True, sharey=True, figsize=(10,10))\n",
    "ax2 = ax2.ravel()\n",
    "ax2[0].scatter(y - mean_ntk_1, y - mean_lpk)\n",
    "ax2[0].set_title('Depth=3, Lengthscale=1')\n",
    "ax2[1].scatter(y - mean_ntk_2, y - mean_lpk)\n",
    "ax2[1].set_title('Depth=100, Lengthscale=1')\n",
    "ax2[2].scatter(y - mean_ntk_1, y - mean_opt_1)\n",
    "ax2[2].set_title(f'Depth=3, Optimal Lengthscale (1/c)={round(ell_3.x, 4)}')\n",
    "ax2[3].scatter(y - mean_ntk_2, y - mean_opt_2)\n",
    "ax2[3].set_title(f'Depth=100, Optimal Lengthscale (1/c)={round(ell_100.x, 4)}')\n",
    "fig2.suptitle(r'Noiseless Friedman 2 $\\mathbb{S}^{d-1}$ NTK vs LPK')\n",
    "fig2.supxlabel('NTK residuals')\n",
    "fig2.supylabel('LaPlace residuals')\n",
    "fig2.tight_layout()"
   ]
  },
  {
   "cell_type": "markdown",
   "metadata": {},
   "source": [
    "### RBF"
   ]
  },
  {
   "cell_type": "code",
   "execution_count": 77,
   "metadata": {},
   "outputs": [],
   "source": [
    "rbf = (\n",
    "        ConstantKernel(\n",
    "            constant_value=0.224**2, \n",
    "            constant_value_bounds='fixed'#(1e-9, 1e5) \n",
    "        ) * \n",
    "        Matern(\n",
    "            nu=np.inf,\n",
    "            length_scale=1,\n",
    "            length_scale_bounds='fixed',#(1e-1, 1e3), \n",
    "        ) \n",
    "    )\n",
    "\n",
    "gp_rbf = GPR(kernel=rbf, alpha=1e-9, normalize_y=True, n_restarts_optimizer=0, random_state=3480795)\n",
    "gp_rbf.fit(X_train_norm, y_train)\n",
    "mean_rbf = gp_rbf.predict(X_norm)"
   ]
  },
  {
   "cell_type": "code",
   "execution_count": 78,
   "metadata": {},
   "outputs": [],
   "source": [
    "def h(ell, residual):\n",
    "    gp_rbf.set_params(**{'kernel__k2__length_scale': ell})\n",
    "    gp_rbf.fit(X_train_norm, y_train)\n",
    "    mean = gp_rbf.predict(X_norm)\n",
    "    return -np.corrcoef((residual)[:,0], (y-mean)[:,0])[0, 1]"
   ]
  },
  {
   "cell_type": "code",
   "execution_count": 79,
   "metadata": {},
   "outputs": [
    {
     "name": "stdout",
     "output_type": "stream",
     "text": [
      " \n",
      " Func-count     x          f(x)          Procedure\n",
      "    1        3819.66    -0.526136        initial\n",
      "    2        6180.34    -0.506453        golden\n",
      "    3        2360.68    -0.539007        golden\n",
      "    4        1458.98    -0.547495        golden\n",
      "    5          901.7    -0.556193        golden\n",
      "    6        557.282    -0.566571        golden\n",
      "    7         344.42    -0.576029        golden\n",
      "    8        212.863    -0.582045        golden\n",
      "    9        131.557    -0.584948        golden\n",
      "   10        81.3072    -0.585988        golden\n",
      "   11        15.7463    -0.582536        parabolic\n",
      "   12        90.0941    -0.585882        parabolic\n",
      "   13        56.6426    -0.585893        parabolic\n",
      "   14        71.8861    -0.586039        golden\n",
      "   15        72.1764    -0.586038        parabolic\n",
      "   16        70.9074    -0.586039        parabolic\n",
      "   17        70.9787    -0.586039        parabolic\n",
      "   18        71.0842    -0.586039        parabolic\n",
      "   19         70.991    -0.586039        parabolic\n",
      "   20        70.9497    -0.586039        parabolic\n",
      "   21        70.9676    -0.586039        golden\n",
      "   22        70.9834    -0.586039        golden\n",
      "   23        70.9744    -0.586039        golden\n",
      "   24        70.9805    -0.586039        golden\n",
      "   25        70.9771    -0.586039        golden\n",
      "   26        70.9794    -0.586039        golden\n",
      "   27        70.9781    -0.586039        golden\n",
      "   28        70.9789    -0.586039        golden\n",
      "   29        70.9784    -0.586039        golden\n",
      "   30        70.9788    -0.586039        golden\n",
      "   31        70.9786    -0.586039        golden\n",
      "   32        70.9787    -0.586039        golden\n",
      "   33        70.9786    -0.586039        golden\n",
      "   34        70.9787    -0.586039        golden\n",
      "   35        70.9787    -0.586039        golden\n",
      "   36        70.9787    -0.586039        golden\n",
      "   37        70.9787    -0.586039        golden\n",
      "\n",
      "Optimization terminated successfully;\n",
      "The returned value satisfies the termination criteria\n",
      "(using xtol =  1e-05 )\n"
     ]
    },
    {
     "data": {
      "text/plain": [
       "     fun: -0.5860391897802191\n",
       " message: 'Solution found.'\n",
       "    nfev: 37\n",
       "     nit: 37\n",
       "  status: 0\n",
       " success: True\n",
       "       x: 70.97867629802221"
      ]
     },
     "execution_count": 79,
     "metadata": {},
     "output_type": "execute_result"
    }
   ],
   "source": [
    "ell_3 = optimize.minimize_scalar(h, args=(y-mean_ntk_1), method='bounded', bounds=[0.001, 10000], options={'disp':3})\n",
    "ell_3"
   ]
  },
  {
   "cell_type": "code",
   "execution_count": 80,
   "metadata": {},
   "outputs": [
    {
     "name": "stdout",
     "output_type": "stream",
     "text": [
      " \n",
      " Func-count     x          f(x)          Procedure\n",
      "    1        38196.6     -0.47123        initial\n",
      "    2        61803.4    -0.469886        golden\n",
      "    3        23606.8    -0.474575        golden\n",
      "    4        14589.8    -0.482287        golden\n",
      "    5           9017    -0.497213        golden\n",
      "    6        5572.81    -0.517897        golden\n",
      "    7        3444.19    -0.535984        golden\n",
      "    8        2128.62    -0.547181        golden\n",
      "    9        1315.56    -0.555063        golden\n",
      "   10        813.063    -0.563745        golden\n",
      "   11        502.501     -0.57373        golden\n",
      "   12        310.563    -0.582142        golden\n",
      "   13        191.939    -0.587139        golden\n",
      "   14        118.625    -0.589406        golden\n",
      "   15        73.3147    -0.590018        golden\n",
      "   16        50.0901     -0.58954        parabolic\n",
      "   17        82.3993    -0.589993        parabolic\n",
      "   18        75.9613    -0.590018        parabolic\n",
      "   19        74.9203    -0.590019        parabolic\n",
      "   20        74.8934    -0.590019        parabolic\n",
      "   21        74.8887    -0.590019        parabolic\n",
      "   22        74.9057    -0.590019        parabolic\n",
      "   23        74.9063    -0.590019        parabolic\n",
      "   24        74.9116    -0.590019        golden\n",
      "   25        74.9083    -0.590019        golden\n",
      "   26        74.9069    -0.590019        parabolic\n",
      "   27        74.9063    -0.590019        parabolic\n",
      "   28         74.906    -0.590019        parabolic\n",
      "   29        74.9061    -0.590019        golden\n",
      "   30        74.9062    -0.590019        golden\n",
      "   31        74.9062    -0.590019        golden\n",
      "   32        74.9062    -0.590019        golden\n",
      "\n",
      "Optimization terminated successfully;\n",
      "The returned value satisfies the termination criteria\n",
      "(using xtol =  1e-05 )\n"
     ]
    },
    {
     "data": {
      "text/plain": [
       "     fun: -0.5900188841944871\n",
       " message: 'Solution found.'\n",
       "    nfev: 32\n",
       "     nit: 32\n",
       "  status: 0\n",
       " success: True\n",
       "       x: 74.90625268140103"
      ]
     },
     "execution_count": 80,
     "metadata": {},
     "output_type": "execute_result"
    }
   ],
   "source": [
    "ell_100 = optimize.minimize_scalar(h, args=(y-mean_ntk_2), method='bounded', bounds=[0.001, 100000], options={'disp':3})\n",
    "ell_100"
   ]
  },
  {
   "cell_type": "code",
   "execution_count": 81,
   "metadata": {},
   "outputs": [],
   "source": [
    "# D=3\n",
    "gp_rbf.set_params(**{'kernel__k2__length_scale': ell_3.x})\n",
    "gp_rbf.fit(X_train_norm, y_train)\n",
    "mean_opt_1 = gp_rbf.predict(X_norm)\n",
    "\n",
    "# D=100\n",
    "gp_rbf.set_params(**{'kernel__k2__length_scale': ell_100.x})\n",
    "gp_rbf.fit(X_train_norm, y_train)\n",
    "mean_opt_2 = gp_rbf.predict(X_norm)"
   ]
  },
  {
   "cell_type": "code",
   "execution_count": 82,
   "metadata": {},
   "outputs": [
    {
     "data": {
      "image/png": "[encoded data removed]",
      "text/plain": [
       "<Figure size 720x720 with 4 Axes>"
      ]
     },
     "metadata": {
      "needs_background": "light"
     },
     "output_type": "display_data"
    }
   ],
   "source": [
    "fig2, ax2 = plt.subplots(nrows=2, ncols=2, sharex=True, sharey=True, figsize=(10,10))\n",
    "ax2 = ax2.ravel()\n",
    "ax2[0].scatter(y - mean_ntk_1, y - mean_rbf)\n",
    "ax2[0].set_title('Depth=3, Lengthscale=1')\n",
    "ax2[1].scatter(y - mean_ntk_2, y - mean_rbf)\n",
    "ax2[1].set_title('Depth=100, Lengthscale=1')\n",
    "ax2[2].scatter(y - mean_ntk_1, y - mean_opt_1)\n",
    "ax2[2].set_title(f'Depth=3, Optimal Lengthscale (1/c)={round(ell_3.x, 4)}')\n",
    "ax2[3].scatter(y - mean_ntk_2, y - mean_opt_2)\n",
    "ax2[3].set_title(f'Depth=100, Optimal Lengthscale (1/c)={round(ell_100.x, 4)}')\n",
    "fig2.suptitle(r'Noiseless Friedman 2 $\\mathbb{S}^{d-1}$ NTK vs RBF')\n",
    "fig2.supxlabel('NTK residuals')\n",
    "fig2.supylabel('RBF residuals')\n",
    "fig2.tight_layout()"
   ]
  },
  {
   "cell_type": "code",
   "execution_count": 83,
   "metadata": {},
   "outputs": [],
   "source": [
    "# lengthscale = np.linspace(0.1, 5, 50)\n",
    "\n",
    "# fig, ax = plt.subplots(nrows=10, ncols=5, sharex=True, sharey=True, figsize=(15, 30))\n",
    "# ax=ax.ravel()\n",
    "\n",
    "# for x, ax in zip(lengthscale, ax):\n",
    "#     rbf = (\n",
    "#         ConstantKernel(\n",
    "#             constant_value=0.05, \n",
    "#             constant_value_bounds=(1e-9, 1e5) \n",
    "#         ) * \n",
    "#         Matern(\n",
    "#             nu=np.inf,\n",
    "#             length_scale=x,\n",
    "#             length_scale_bounds='fixed',#(1e-1, 1e3), \n",
    "#         ) \n",
    "#     )\n",
    "\n",
    "#     gp = GPR(kernel=rbf, alpha=1e-10, normalize_y=True, n_restarts_optimizer=9, random_state=3480795)\n",
    "#     gp.fit(X_train_norm, y_train)\n",
    "#     mean_rbf = gp.predict(X_norm)\n",
    "\n",
    "#     ax.set_title(f'RBF Lengthscale={x.round(2)}')\n",
    "#     ax.scatter(y-mean_ntk_1, y-mean_rbf)\n",
    "\n",
    "# fig.suptitle(r\"NTK vs RBF Kernel in $\\mathbb{S}^{d-1}$\")\n",
    "# fig.supxlabel('NTK residuals')\n",
    "# fig.supylabel('RBF residuals')\n",
    "# fig.tight_layout()"
   ]
  },
  {
   "cell_type": "code",
   "execution_count": 84,
   "metadata": {},
   "outputs": [],
   "source": [
    "# rbf = (\n",
    "#     ConstantKernel(\n",
    "#         constant_value=0.05, \n",
    "#         constant_value_bounds=(1e-9, 1e5) \n",
    "#     ) * \n",
    "#     Matern(\n",
    "#         nu=np.inf,\n",
    "#         length_scale=0.35,\n",
    "#         length_scale_bounds=(1e-1, 1e3), \n",
    "#     ) \n",
    "# )\n",
    "\n",
    "# gp = GPR(kernel=rbf, alpha=1e-10, normalize_y=True, n_restarts_optimizer=9, random_state=3480795)\n",
    "# gp.fit(X_train_norm, y_train)\n",
    "# mean_rbf = gp.predict(X_norm)\n",
    "# print(rbf)\n",
    "# fig, ax = plt.subplots(1,1, figsize=(5,5))\n",
    "# ax.set_title(f'RBF Lengthscale={0.35}')\n",
    "# ax.scatter(y-mean_ntk_1, y-mean_rbf)"
   ]
  },
  {
   "cell_type": "code",
   "execution_count": 85,
   "metadata": {},
   "outputs": [
    {
     "data": {
      "text/plain": [
       "array([[1.       , 0.5377113],\n",
       "       [0.5377113, 1.       ]])"
      ]
     },
     "execution_count": 85,
     "metadata": {},
     "output_type": "execute_result"
    }
   ],
   "source": [
    "np.corrcoef((y-mean_ntk_1)[:,0], (y-mean_rbf)[:,0])"
   ]
  },
  {
   "cell_type": "code",
   "execution_count": 86,
   "metadata": {},
   "outputs": [
    {
     "data": {
      "text/plain": [
       "array([[1.       , 0.9999957],\n",
       "       [0.9999957, 1.       ]])"
      ]
     },
     "execution_count": 86,
     "metadata": {},
     "output_type": "execute_result"
    }
   ],
   "source": [
    "np.corrcoef((y-mean_ntk_1)[:,0], (y-mean_lpk)[:,0])"
   ]
  },
  {
   "cell_type": "markdown",
   "metadata": {},
   "source": [
    "## Dataset"
   ]
  },
  {
   "cell_type": "code",
   "execution_count": 87,
   "metadata": {},
   "outputs": [],
   "source": [
    "X, y = make_friedman2(noise=0.2, random_state=18397425)\n",
    "datasets = processing(X, y)\n",
    "\n",
    "X, y = datasets['orig']\n",
    "X_norm, y_norm = datasets['norm']\n",
    "X_train, y_train, y_train_noisy = datasets['orig train']\n",
    "X_train_norm, y_train_norm, y_train_norm_noisy = datasets['norm train']"
   ]
  },
  {
   "cell_type": "markdown",
   "metadata": {},
   "source": [
    "## Noisy"
   ]
  },
  {
   "cell_type": "markdown",
   "metadata": {},
   "source": [
    "### $\\mathbb{R}^d$"
   ]
  },
  {
   "cell_type": "code",
   "execution_count": 88,
   "metadata": {},
   "outputs": [
    {
     "name": "stdout",
     "output_type": "stream",
     "text": [
      "NTK     :  0.0113**2 * NTK(depth=3, c=2.000, bias=0.056)\n",
      "NTK     :  0.000429**2 * NTK(depth=100, c=2.000, bias=0.002)\n",
      "Laplace :  0.224**2 * Matern(length_scale=1, nu=0.5)\n"
     ]
    }
   ],
   "source": [
    "ntk_1 = (\n",
    "    ConstantKernel(\n",
    "        constant_value=1, \n",
    "        constant_value_bounds=(1e-9, 1e2)\n",
    "    ) * \n",
    "    NTK(depth=3, c=2, \n",
    "        bias=1e-1, \n",
    "        bias_bounds=(1e-9, 1e0)\n",
    "    ) \n",
    ")\n",
    "\n",
    "ntk_2 = (\n",
    "    ConstantKernel(\n",
    "        constant_value=1, \n",
    "        constant_value_bounds=(1e-9, 1e2)\n",
    "    ) * \n",
    "    NTK(depth=100, c=2, \n",
    "        bias=1e-1, \n",
    "        bias_bounds=(1e-9, 1e0)\n",
    "    ) \n",
    ")\n",
    "\n",
    "lpk = (\n",
    "    ConstantKernel(\n",
    "        constant_value=0.224**2, \n",
    "        constant_value_bounds='fixed'#(1e-9, 1e5) \n",
    "    ) * \n",
    "    Matern(\n",
    "        nu=1/2,\n",
    "        length_scale=1,\n",
    "        length_scale_bounds='fixed'#(1e-1, 1e3), \n",
    "    ) \n",
    ")\n",
    "\n",
    "gp_ntk_1 = GPR(kernel=ntk_1, alpha=1e-9, normalize_y=True, n_restarts_optimizer=9, random_state=3480795)\n",
    "gp_ntk_1.fit(X_train, y_train)\n",
    "print('NTK     : ', gp_ntk_1.kernel_)\n",
    "mean_ntk_1 = gp_ntk_1.predict(X)\n",
    "\n",
    "gp_ntk_2 = GPR(kernel=ntk_2, alpha=1e-9, normalize_y=True, n_restarts_optimizer=9, random_state=3480795)\n",
    "gp_ntk_2.fit(X_train, y_train)\n",
    "print('NTK     : ', gp_ntk_2.kernel_)\n",
    "mean_ntk_2 = gp_ntk_2.predict(X)\n",
    "\n",
    "gp_lpk = GPR(kernel=lpk, alpha=1e-9, normalize_y=True, n_restarts_optimizer=0, random_state=3480795)\n",
    "gp_lpk.fit(X_train, y_train)\n",
    "print('Laplace : ', gp_lpk.kernel_)\n",
    "mean_lpk = gp_lpk.predict(X)"
   ]
  },
  {
   "cell_type": "code",
   "execution_count": 89,
   "metadata": {},
   "outputs": [],
   "source": [
    "# def f(args):\n",
    "#     ell, gp, X, X_train, y_train, residual_target, out = args\n",
    "#     gp.set_params(**{'kernel__k2__length_scale': ell})\n",
    "#     gp.fit(X_train, y_train)\n",
    "\n",
    "#     if out:\n",
    "#         print(gp)\n",
    "        \n",
    "#     mean = gp.predict(X)\n",
    "#     return np.corrcoef((residual_target)[:,0], (y-mean)[:,0])[0, 1]"
   ]
  },
  {
   "cell_type": "code",
   "execution_count": 90,
   "metadata": {},
   "outputs": [],
   "source": [
    "# arg_list = (gp_lpk, X, X_train, y_train, y-mean_ntk_1, False)\n",
    "# N = 10000\n",
    "# ell_search = np.linspace(0.001, 30, N)\n",
    "\n",
    "# args = [(ell, *arg_list) for ell in ell_search]\n",
    "\n",
    "# with Pool(4) as p:\n",
    "#     result_1 = p.map(f, args)\n",
    "#     i = np.argmax(result_1)\n",
    "#     print(f\"NTK depth 3, LPK lengthscale {ell_search[i]} at {i} with {max(result_1)}\")"
   ]
  },
  {
   "cell_type": "code",
   "execution_count": 91,
   "metadata": {},
   "outputs": [],
   "source": [
    "# arg_list = (gp_lpk, X, X_train, y_train, y-mean_ntk_2, False)\n",
    "# N = 10000\n",
    "# ell_search = np.linspace(0.001, 30, N)\n",
    "\n",
    "# args = [(ell, *arg_list) for ell in ell_search]\n",
    "\n",
    "# with Pool(4) as p:\n",
    "#     result_2 = p.map(f, args)\n",
    "#     i = np.argmax(result_2)\n",
    "#     print(f\"NTK depth 100, LPK lengthscale {ell_search[i]} at {i} with {max(result_2)}\")"
   ]
  },
  {
   "cell_type": "code",
   "execution_count": 92,
   "metadata": {},
   "outputs": [],
   "source": [
    "def g(ell, residual):\n",
    "    gp_lpk.set_params(**{'kernel__k2__length_scale': ell})\n",
    "    gp_lpk.fit(X_train, y_train)\n",
    "    mean = gp_lpk.predict(X)\n",
    "    return -np.corrcoef((residual)[:,0], (y-mean)[:,0])[0, 1]"
   ]
  },
  {
   "cell_type": "code",
   "execution_count": 93,
   "metadata": {},
   "outputs": [
    {
     "name": "stdout",
     "output_type": "stream",
     "text": [
      " \n",
      " Func-count     x          f(x)          Procedure\n",
      "    1        38.1972    -0.656837        initial\n",
      "    2        61.8038    -0.646085        golden\n",
      "    3        23.6076    -0.656032        golden\n",
      "    4        32.9653    -0.658378        parabolic\n",
      "    5        31.6403    -0.658551        parabolic\n",
      "    6        29.6757    -0.658573        parabolic\n",
      "    7        27.3579    -0.658141        golden\n",
      "    8        30.5068    -0.658602        parabolic\n",
      "    9        30.5216    -0.658602        parabolic\n",
      "   10        30.5024    -0.658602        parabolic\n",
      "   11         30.502    -0.658602        parabolic\n",
      "   12         30.502    -0.658602        parabolic\n",
      "   13         30.502    -0.658602        parabolic\n",
      "\n",
      "Optimization terminated successfully;\n",
      "The returned value satisfies the termination criteria\n",
      "(using xtol =  1e-05 )\n"
     ]
    },
    {
     "data": {
      "text/plain": [
       "     fun: -0.6586019962059189\n",
       " message: 'Solution found.'\n",
       "    nfev: 13\n",
       "     nit: 13\n",
       "  status: 0\n",
       " success: True\n",
       "       x: 30.501977028686653"
      ]
     },
     "execution_count": 93,
     "metadata": {},
     "output_type": "execute_result"
    }
   ],
   "source": [
    "ell_3 = optimize.minimize_scalar(g, args=(y-mean_ntk_1), method='bounded', bounds=[0.001, 100], options={'disp':3})\n",
    "ell_3"
   ]
  },
  {
   "cell_type": "code",
   "execution_count": 94,
   "metadata": {},
   "outputs": [
    {
     "name": "stdout",
     "output_type": "stream",
     "text": [
      " \n",
      " Func-count     x          f(x)          Procedure\n",
      "    1        38.1972     -0.64445        initial\n",
      "    2        61.8038    -0.631573        golden\n",
      "    3        23.6076    -0.646491        golden\n",
      "    4        24.3166    -0.646871        parabolic\n",
      "    5        29.4659    -0.647672        parabolic\n",
      "    6         32.801    -0.646881        golden\n",
      "    7        28.5711    -0.647739        parabolic\n",
      "    8        28.0299    -0.647744        parabolic\n",
      "    9        28.2097    -0.647746        parabolic\n",
      "   10        28.2142    -0.647746        parabolic\n",
      "   11        28.2128    -0.647746        parabolic\n",
      "   12        28.2128    -0.647746        parabolic\n",
      "   13        28.2128    -0.647746        parabolic\n",
      "\n",
      "Optimization terminated successfully;\n",
      "The returned value satisfies the termination criteria\n",
      "(using xtol =  1e-05 )\n"
     ]
    },
    {
     "data": {
      "text/plain": [
       "     fun: -0.6477455101683492\n",
       " message: 'Solution found.'\n",
       "    nfev: 13\n",
       "     nit: 13\n",
       "  status: 0\n",
       " success: True\n",
       "       x: 28.212830366459368"
      ]
     },
     "execution_count": 94,
     "metadata": {},
     "output_type": "execute_result"
    }
   ],
   "source": [
    "ell_100 = optimize.minimize_scalar(g, args=(y-mean_ntk_2), method='bounded', bounds=[0.001, 100], options={'disp':3})\n",
    "ell_100"
   ]
  },
  {
   "cell_type": "code",
   "execution_count": 95,
   "metadata": {},
   "outputs": [],
   "source": [
    "# D=3\n",
    "gp_lpk.set_params(**{'kernel__k2__length_scale': ell_3.x})\n",
    "gp_lpk.fit(X_train, y_train)\n",
    "mean_opt_1 = gp_lpk.predict(X)\n",
    "\n",
    "# D=100\n",
    "gp_lpk.set_params(**{'kernel__k2__length_scale': ell_100.x})\n",
    "gp_lpk.fit(X_train, y_train)\n",
    "mean_opt_2 = gp_lpk.predict(X)"
   ]
  },
  {
   "cell_type": "code",
   "execution_count": 96,
   "metadata": {},
   "outputs": [
    {
     "data": {
      "image/png": "[encoded data removed]",
      "text/plain": [
       "<Figure size 720x720 with 4 Axes>"
      ]
     },
     "metadata": {
      "needs_background": "light"
     },
     "output_type": "display_data"
    }
   ],
   "source": [
    "fig1, ax1 = plt.subplots(nrows=2, ncols=2, sharex=True, sharey=True, figsize=(10,10))\n",
    "ax1 = ax1.ravel()\n",
    "ax1[0].scatter(y - mean_ntk_1, y - mean_lpk)\n",
    "ax1[0].set_title('Depth=3, Lengthscale=1')\n",
    "ax1[1].scatter(y - mean_ntk_2, y - mean_lpk)\n",
    "ax1[1].set_title('Depth=100, Lengthscale=1')\n",
    "ax1[2].scatter(y - mean_ntk_1, y - mean_opt_1)\n",
    "ax1[2].set_title(f'Depth=3, Optimal Lengthscale (1/c)={round(ell_3.x, 4)}')\n",
    "ax1[3].scatter(y - mean_ntk_2, y - mean_opt_2)\n",
    "ax1[3].set_title(f'Depth=100, Optimal Lengthscale (1/c)={round(ell_100.x, 4)}')\n",
    "fig1.suptitle(r'Noisy Friedman 2 $\\mathbb{R}^d$ NTK vs LPK')\n",
    "fig1.supxlabel('NTK residuals')\n",
    "fig1.supylabel('LaPlace residuals')\n",
    "fig1.tight_layout()"
   ]
  },
  {
   "cell_type": "markdown",
   "metadata": {},
   "source": [
    "### $\\mathbb{S}^{d-1}$"
   ]
  },
  {
   "cell_type": "code",
   "execution_count": 97,
   "metadata": {},
   "outputs": [
    {
     "name": "stdout",
     "output_type": "stream",
     "text": [
      "NTK     :  0.356**2 * NTK(depth=3, c=2.000, bias=25.704)\n",
      "NTK     :  0.0488**2 * NTK(depth=100, c=2.000, bias=6.490)\n",
      "Laplace :  0.224**2 * Matern(length_scale=1, nu=0.5)\n"
     ]
    }
   ],
   "source": [
    "ntk_1 = (\n",
    "    ConstantKernel(\n",
    "        constant_value=1, \n",
    "        constant_value_bounds=(1e-9, 1e2)\n",
    "    ) * \n",
    "    NTK(depth=3, c=2, \n",
    "        bias=1e-1, \n",
    "        bias_bounds=(1e-9, 1e2)\n",
    "    ) \n",
    ")\n",
    "\n",
    "ntk_2 = (\n",
    "    ConstantKernel(\n",
    "        constant_value=1, \n",
    "        constant_value_bounds=(1e-9, 1e2)\n",
    "    ) * \n",
    "    NTK(depth=100, c=2, \n",
    "        bias=1e-1, \n",
    "        bias_bounds=(1e-9, 1e2)\n",
    "    ) \n",
    ")\n",
    "\n",
    "lpk = (\n",
    "    ConstantKernel(\n",
    "        constant_value=0.224**2, \n",
    "        constant_value_bounds='fixed'#(1e-9, 1e5) \n",
    "    ) * \n",
    "    Matern(\n",
    "        nu=1/2,\n",
    "        length_scale=1,\n",
    "        length_scale_bounds='fixed'#(1e-1, 1e3), \n",
    "    ) \n",
    ")\n",
    "\n",
    "gp_ntk_1 = GPR(kernel=ntk_1, alpha=1e-9, normalize_y=True, n_restarts_optimizer=9, random_state=3480795)\n",
    "gp_ntk_1.fit(X_train_norm, y_train)\n",
    "print('NTK     : ', gp_ntk_1.kernel_)\n",
    "mean_ntk_1 = gp_ntk_1.predict(X_norm)\n",
    "\n",
    "gp_ntk_2 = GPR(kernel=ntk_2, alpha=1e-9, normalize_y=True, n_restarts_optimizer=9, random_state=3480795)\n",
    "gp_ntk_2.fit(X_train_norm, y_train)\n",
    "print('NTK     : ', gp_ntk_2.kernel_)\n",
    "mean_ntk_2 = gp_ntk_2.predict(X_norm)\n",
    "\n",
    "gp_lpk = GPR(kernel=lpk, alpha=1e-9, normalize_y=True, n_restarts_optimizer=0, random_state=3480795)\n",
    "gp_lpk.fit(X_train_norm, y_train)\n",
    "print('Laplace : ', gp_lpk.kernel_)\n",
    "mean_lpk = gp_lpk.predict(X_norm)"
   ]
  },
  {
   "cell_type": "code",
   "execution_count": 98,
   "metadata": {},
   "outputs": [],
   "source": [
    "# arg_list = (gp_lpk, X_norm, X_train_norm, y_train, y-mean_ntk_1, False)\n",
    "# N = 10000\n",
    "# ell_search = np.linspace(0.01, 100, N)\n",
    "\n",
    "# args = [(ell, *arg_list) for ell in ell_search]\n",
    "\n",
    "# with Pool(4) as p:\n",
    "#     result_1 = p.map(f, args)\n",
    "#     i = np.argmax(result_1)\n",
    "#     print(f\"NTK depth 3, LPK lengthscale {ell_search[i]} at {i} with {max(result_1)}\")"
   ]
  },
  {
   "cell_type": "code",
   "execution_count": 99,
   "metadata": {},
   "outputs": [],
   "source": [
    "# arg_list = (gp_lpk, X_norm, X_train_norm, y_train, y-mean_ntk_2, False)\n",
    "# N = 10000\n",
    "# ell_search = np.linspace(0.01, 100, N)\n",
    "\n",
    "# args = [(ell, *arg_list) for ell in ell_search]\n",
    "\n",
    "# with Pool(4) as p:\n",
    "#     result_1 = p.map(f, args)\n",
    "#     i = np.argmax(result_1)\n",
    "#     print(f\"NTK depth 3, LPK lengthscale {ell_search[i]} at {i} with {max(result_1)}\")"
   ]
  },
  {
   "cell_type": "code",
   "execution_count": 100,
   "metadata": {},
   "outputs": [],
   "source": [
    "def g(ell, residual):\n",
    "    gp_lpk.set_params(**{'kernel__k2__length_scale': ell})\n",
    "    gp_lpk.fit(X_train_norm, y_train)\n",
    "    mean = gp_lpk.predict(X_norm)\n",
    "    return -np.corrcoef((residual)[:,0], (y-mean)[:,0])[0, 1]"
   ]
  },
  {
   "cell_type": "code",
   "execution_count": 101,
   "metadata": {},
   "outputs": [
    {
     "name": "stdout",
     "output_type": "stream",
     "text": [
      " \n",
      " Func-count     x          f(x)          Procedure\n",
      "    1        11.4596    -0.999998        initial\n",
      "    2        18.5414    -0.999998        golden\n",
      "    3         7.0828    -0.999999        golden\n",
      "    4         4.3778    -0.999999        golden\n",
      "    5        2.70601    -0.999999        golden\n",
      "    6        1.67279    -0.999999        golden\n",
      "    7        1.03422    -0.999999        golden\n",
      "    8        1.96493    -0.999999        parabolic\n",
      "    9        1.42888    -0.999999        golden\n",
      "   10        1.65868    -0.999999        parabolic\n",
      "   11        1.63116    -0.999999        parabolic\n",
      "   12        1.55389    -0.999999        golden\n",
      "   13        1.62163    -0.999999        parabolic\n",
      "   14        1.62292    -0.999999        parabolic\n",
      "   15        1.62306    -0.999999        parabolic\n",
      "   16        1.62305    -0.999999        parabolic\n",
      "   17        1.62615    -0.999999        golden\n",
      "   18        1.62323    -0.999999        parabolic\n",
      "   19        1.62312    -0.999999        golden\n",
      "   20        1.62307    -0.999999        parabolic\n",
      "   21        1.62306    -0.999999        parabolic\n",
      "   22        1.62306    -0.999999        parabolic\n",
      "\n",
      "Optimization terminated successfully;\n",
      "The returned value satisfies the termination criteria\n",
      "(using xtol =  1e-05 )\n"
     ]
    },
    {
     "data": {
      "text/plain": [
       "     fun: -0.9999991566105527\n",
       " message: 'Solution found.'\n",
       "    nfev: 22\n",
       "     nit: 22\n",
       "  status: 0\n",
       " success: True\n",
       "       x: 1.623061439609715"
      ]
     },
     "execution_count": 101,
     "metadata": {},
     "output_type": "execute_result"
    }
   ],
   "source": [
    "ell_3 = optimize.minimize_scalar(g, args=(y-mean_ntk_1), method='bounded', bounds=[0.001, 30], options={'disp':3})\n",
    "ell_3"
   ]
  },
  {
   "cell_type": "code",
   "execution_count": 102,
   "metadata": {},
   "outputs": [
    {
     "name": "stdout",
     "output_type": "stream",
     "text": [
      " \n",
      " Func-count     x          f(x)          Procedure\n",
      "    1        11.4596    -0.999467        initial\n",
      "    2        18.5414    -0.999467        golden\n",
      "    3         7.0828    -0.999468        golden\n",
      "    4         4.3778    -0.999469        golden\n",
      "    5        2.70601    -0.999471        golden\n",
      "    6        1.67279    -0.999475        golden\n",
      "    7        1.03422    -0.999481        golden\n",
      "    8       0.639566    -0.999493        golden\n",
      "    9       0.395655    -0.999518        golden\n",
      "   10        0.24491     -0.99957        golden\n",
      "   11       0.151745    -0.999673        golden\n",
      "   12      0.0941655    -0.999808        golden\n",
      "   13      0.0585794     -0.99974        golden\n",
      "   14       0.097292      -0.9998        parabolic\n",
      "   15      0.0850334    -0.999825        parabolic\n",
      "   16      0.0749289    -0.999829        golden\n",
      "   17      0.0775975     -0.99983        parabolic\n",
      "   18      0.0784405     -0.99983        parabolic\n",
      "   19      0.0781031     -0.99983        parabolic\n",
      "   20      0.0781108     -0.99983        parabolic\n",
      "   21      0.0781142     -0.99983        parabolic\n",
      "   22      0.0781075     -0.99983        parabolic\n",
      "\n",
      "Optimization terminated successfully;\n",
      "The returned value satisfies the termination criteria\n",
      "(using xtol =  1e-05 )\n"
     ]
    },
    {
     "data": {
      "text/plain": [
       "     fun: -0.9998302113981682\n",
       " message: 'Solution found.'\n",
       "    nfev: 22\n",
       "     nit: 22\n",
       "  status: 0\n",
       " success: True\n",
       "       x: 0.0781074901498984"
      ]
     },
     "execution_count": 102,
     "metadata": {},
     "output_type": "execute_result"
    }
   ],
   "source": [
    "ell_100 = optimize.minimize_scalar(g, args=(y-mean_ntk_2), method='bounded', bounds=[0.001, 30], options={'disp':3})\n",
    "ell_100"
   ]
  },
  {
   "cell_type": "code",
   "execution_count": 103,
   "metadata": {},
   "outputs": [],
   "source": [
    "# D=3\n",
    "gp_lpk.set_params(**{'kernel__k2__length_scale': ell_3.x})\n",
    "gp_lpk.fit(X_train_norm, y_train)\n",
    "mean_opt_1 = gp_lpk.predict(X_norm)\n",
    "\n",
    "# D=100\n",
    "gp_lpk.set_params(**{'kernel__k2__length_scale': ell_100.x})\n",
    "gp_lpk.fit(X_train_norm, y_train)\n",
    "mean_opt_2 = gp_lpk.predict(X_norm)"
   ]
  },
  {
   "cell_type": "code",
   "execution_count": 104,
   "metadata": {},
   "outputs": [
    {
     "data": {
      "image/png": "[encoded data removed]",
      "text/plain": [
       "<Figure size 720x720 with 4 Axes>"
      ]
     },
     "metadata": {
      "needs_background": "light"
     },
     "output_type": "display_data"
    }
   ],
   "source": [
    "fig2, ax2 = plt.subplots(nrows=2, ncols=2, sharex=True, sharey=True, figsize=(10,10))\n",
    "ax2 = ax2.ravel()\n",
    "ax2[0].scatter(y - mean_ntk_1, y - mean_lpk)\n",
    "ax2[0].set_title('Depth=3, Lengthscale=1')\n",
    "ax2[1].scatter(y - mean_ntk_2, y - mean_lpk)\n",
    "ax2[1].set_title('Depth=100, Lengthscale=1')\n",
    "ax2[2].scatter(y - mean_ntk_1, y - mean_opt_1)\n",
    "ax2[2].set_title(f'Depth=3, Optimal Lengthscale (1/c)={round(ell_3.x, 4)}')\n",
    "ax2[3].scatter(y - mean_ntk_2, y - mean_opt_2)\n",
    "ax2[3].set_title(f'Depth=100, Optimal Lengthscale (1/c)={round(ell_100.x, 4)}')\n",
    "fig2.suptitle(r'Noisy Friedman 2 $\\mathbb{S}^{d-1}$ NTK vs LPK')\n",
    "fig2.supxlabel('NTK residuals')\n",
    "fig2.supylabel('LaPlace residuals')\n",
    "fig2.tight_layout()"
   ]
  },
  {
   "cell_type": "markdown",
   "metadata": {},
   "source": [
    "### RBF"
   ]
  },
  {
   "cell_type": "code",
   "execution_count": 105,
   "metadata": {},
   "outputs": [],
   "source": [
    "rbf = (\n",
    "        ConstantKernel(\n",
    "            constant_value=0.224**2, \n",
    "            constant_value_bounds='fixed'#(1e-9, 1e5) \n",
    "        ) * \n",
    "        Matern(\n",
    "            nu=np.inf,\n",
    "            length_scale=1,\n",
    "            length_scale_bounds='fixed',#(1e-1, 1e3), \n",
    "        ) \n",
    "    )\n",
    "\n",
    "gp_rbf = GPR(kernel=rbf, alpha=1e-10, normalize_y=True, n_restarts_optimizer=0, random_state=3480795)\n",
    "gp_rbf.fit(X_train_norm, y_train)\n",
    "mean_rbf = gp_rbf.predict(X_norm)"
   ]
  },
  {
   "cell_type": "code",
   "execution_count": 106,
   "metadata": {},
   "outputs": [],
   "source": [
    "def h(ell, residual):\n",
    "    gp_rbf.set_params(**{'kernel__k2__length_scale': ell})\n",
    "    gp_rbf.fit(X_train_norm, y_train)\n",
    "    mean = gp_rbf.predict(X_norm)\n",
    "    return -np.corrcoef((residual)[:,0], (y-mean)[:,0])[0, 1]"
   ]
  },
  {
   "cell_type": "code",
   "execution_count": 107,
   "metadata": {},
   "outputs": [
    {
     "name": "stdout",
     "output_type": "stream",
     "text": [
      " \n",
      " Func-count     x          f(x)          Procedure\n",
      "    1        3819.66    -0.550702        initial\n",
      "    2        6180.34    -0.542569        golden\n",
      "    3        2360.68    -0.560139        golden\n",
      "    4        1458.98    -0.570581        golden\n",
      "    5          901.7    -0.578819        golden\n",
      "    6        557.282    -0.583462        golden\n",
      "    7         344.42    -0.585503        golden\n",
      "    8        212.863    -0.585987        golden\n",
      "    9        171.576     -0.58577        parabolic\n",
      "   10        243.056    -0.585985        parabolic\n",
      "   11        227.516    -0.585998        parabolic\n",
      "   12        227.359    -0.585999        parabolic\n",
      "   13        224.241    -0.585998        parabolic\n",
      "   14        226.168    -0.585998        golden\n",
      "   15        226.829    -0.585999        parabolic\n",
      "   16        227.157    -0.585999        golden\n",
      "   17        227.282    -0.585999        golden\n",
      "   18        227.343    -0.585998        parabolic\n",
      "   19        227.359    -0.585999        parabolic\n",
      "   20        227.353    -0.585998        golden\n",
      "   21        227.357    -0.585998        golden\n",
      "   22        227.358    -0.585999        golden\n",
      "   23        227.358    -0.585999        golden\n",
      "   24        227.359    -0.585998        golden\n",
      "   25        227.359    -0.585999        golden\n",
      "   26        227.359    -0.585999        golden\n",
      "   27        227.359    -0.585998        golden\n",
      "\n",
      "Optimization terminated successfully;\n",
      "The returned value satisfies the termination criteria\n",
      "(using xtol =  1e-05 )\n"
     ]
    },
    {
     "data": {
      "text/plain": [
       "     fun: -0.5859985615082116\n",
       " message: 'Solution found.'\n",
       "    nfev: 27\n",
       "     nit: 27\n",
       "  status: 0\n",
       " success: True\n",
       "       x: 227.3587970740914"
      ]
     },
     "execution_count": 107,
     "metadata": {},
     "output_type": "execute_result"
    }
   ],
   "source": [
    "ell_3 = optimize.minimize_scalar(h, args=(y-mean_ntk_1), method='bounded', bounds=[0.001, 10000], options={'disp':3})\n",
    "ell_3"
   ]
  },
  {
   "cell_type": "code",
   "execution_count": 108,
   "metadata": {},
   "outputs": [
    {
     "name": "stdout",
     "output_type": "stream",
     "text": [
      " \n",
      " Func-count     x          f(x)          Procedure\n",
      "    1        38196.6    -0.487158        initial\n",
      "    2        61803.4    -0.476875        golden\n",
      "    3        23606.8    -0.504985        golden\n",
      "    4        14589.8    -0.525742        golden\n",
      "    5           9017    -0.541062        golden\n",
      "    6        5572.81    -0.550354        golden\n",
      "    7        3444.19    -0.558206        golden\n",
      "    8        2128.62    -0.567588        golden\n",
      "    9        1315.56    -0.577342        golden\n",
      "   10        813.063    -0.584455        golden\n",
      "   11        502.501    -0.588226        golden\n",
      "   12        310.563    -0.589751        golden\n",
      "   13        191.939    -0.589826        golden\n",
      "   14        237.841    -0.589959        parabolic\n",
      "   15        244.732    -0.589956        parabolic\n",
      "   16        238.098    -0.589958        parabolic\n",
      "   17        236.946    -0.589959        parabolic\n",
      "   18        237.499    -0.589958        golden\n",
      "   19         237.71    -0.589959        golden\n",
      "   20        237.939    -0.589959        golden\n",
      "   21        237.791    -0.589959        golden\n",
      "   22        237.878    -0.589959        golden\n",
      "   23        237.887    -0.589958        parabolic\n",
      "   24        237.878    -0.589958        parabolic\n",
      "   25        237.882    -0.589958        golden\n",
      "   26         237.88    -0.589958        golden\n",
      "   27        237.879    -0.589958        golden\n",
      "   28        237.879    -0.589958        golden\n",
      "   29        237.878    -0.589958        golden\n",
      "   30        237.878    -0.589959        golden\n",
      "   31        237.878    -0.589958        golden\n",
      "\n",
      "Optimization terminated successfully;\n",
      "The returned value satisfies the termination criteria\n",
      "(using xtol =  1e-05 )\n"
     ]
    },
    {
     "data": {
      "text/plain": [
       "     fun: -0.5899585562793632\n",
       " message: 'Solution found.'\n",
       "    nfev: 31\n",
       "     nit: 31\n",
       "  status: 0\n",
       " success: True\n",
       "       x: 237.87833002797998"
      ]
     },
     "execution_count": 108,
     "metadata": {},
     "output_type": "execute_result"
    }
   ],
   "source": [
    "ell_100 = optimize.minimize_scalar(h, args=(y-mean_ntk_2), method='bounded', bounds=[0.001, 100000], options={'disp':3})\n",
    "ell_100"
   ]
  },
  {
   "cell_type": "code",
   "execution_count": 109,
   "metadata": {},
   "outputs": [],
   "source": [
    "# D=3\n",
    "gp_rbf.set_params(**{'kernel__k2__length_scale': ell_3.x})\n",
    "gp_rbf.fit(X_train_norm, y_train)\n",
    "mean_opt_1 = gp_rbf.predict(X_norm)\n",
    "\n",
    "# D=100\n",
    "gp_rbf.set_params(**{'kernel__k2__length_scale': ell_100.x})\n",
    "gp_rbf.fit(X_train_norm, y_train)\n",
    "mean_opt_2 = gp_rbf.predict(X_norm)"
   ]
  },
  {
   "cell_type": "code",
   "execution_count": 110,
   "metadata": {},
   "outputs": [
    {
     "data": {
      "image/png": "[encoded data removed]",
      "text/plain": [
       "<Figure size 720x720 with 4 Axes>"
      ]
     },
     "metadata": {
      "needs_background": "light"
     },
     "output_type": "display_data"
    }
   ],
   "source": [
    "fig2, ax2 = plt.subplots(nrows=2, ncols=2, sharex=True, sharey=True, figsize=(10,10))\n",
    "ax2 = ax2.ravel()\n",
    "ax2[0].scatter(y - mean_ntk_1, y - mean_rbf)\n",
    "ax2[0].set_title('Depth=3, Lengthscale=1')\n",
    "ax2[1].scatter(y - mean_ntk_2, y - mean_rbf)\n",
    "ax2[1].set_title('Depth=100, Lengthscale=1')\n",
    "ax2[2].scatter(y - mean_ntk_1, y - mean_opt_1)\n",
    "ax2[2].set_title(f'Depth=3, Optimal Lengthscale (1/c)={round(ell_3.x, 4)}')\n",
    "ax2[3].scatter(y - mean_ntk_2, y - mean_opt_2)\n",
    "ax2[3].set_title(f'Depth=100, Optimal Lengthscale (1/c)={round(ell_100.x, 4)}')\n",
    "fig2.suptitle(r'Noisy Friedman 2 $\\mathbb{S}^{d-1}$ NTK vs RBF')\n",
    "fig2.supxlabel('NTK residuals')\n",
    "fig2.supylabel('RBF residuals')\n",
    "fig2.tight_layout()"
   ]
  },
  {
   "cell_type": "code",
   "execution_count": 111,
   "metadata": {},
   "outputs": [],
   "source": [
    "# lengthscale = np.linspace(0.1, 5, 50)\n",
    "\n",
    "# fig, ax = plt.subplots(nrows=10, ncols=5, sharex=True, sharey=True, figsize=(15, 30))\n",
    "# ax=ax.ravel()\n",
    "\n",
    "# for x, ax in zip(lengthscale, ax):\n",
    "#     rbf = (\n",
    "#         ConstantKernel(\n",
    "#             constant_value=0.05, \n",
    "#             constant_value_bounds=(1e-9, 1e5) \n",
    "#         ) * \n",
    "#         Matern(\n",
    "#             nu=np.inf,\n",
    "#             length_scale=x,\n",
    "#             length_scale_bounds='fixed',#(1e-1, 1e3), \n",
    "#         ) \n",
    "#     )\n",
    "\n",
    "#     gp = GPR(kernel=rbf, alpha=1e-10, normalize_y=True, n_restarts_optimizer=9, random_state=3480795)\n",
    "#     gp.fit(X_train_norm, y_train)\n",
    "#     mean_rbf = gp.predict(X_norm)\n",
    "\n",
    "#     ax.set_title(f'RBF Lengthscale={x.round(2)}')\n",
    "#     ax.scatter(y-mean_ntk_1, y-mean_rbf)\n",
    "\n",
    "# fig.suptitle(r\"NTK vs RBF Kernel in $\\mathbb{S}^{d-1}$\")\n",
    "# fig.supxlabel('NTK residuals')\n",
    "# fig.supylabel('RBF residuals')\n",
    "# fig.tight_layout()"
   ]
  },
  {
   "cell_type": "code",
   "execution_count": 112,
   "metadata": {},
   "outputs": [],
   "source": [
    "# rbf = (\n",
    "#     ConstantKernel(\n",
    "#         constant_value=0.05, \n",
    "#         constant_value_bounds=(1e-9, 1e5) \n",
    "#     ) * \n",
    "#     Matern(\n",
    "#         nu=np.inf,\n",
    "#         length_scale=0.35,\n",
    "#         length_scale_bounds=(1e-1, 1e3), \n",
    "#     ) \n",
    "# )\n",
    "\n",
    "# gp = GPR(kernel=rbf, alpha=1e-10, normalize_y=True, n_restarts_optimizer=9, random_state=3480795)\n",
    "# gp.fit(X_train_norm, y_train)\n",
    "# mean_rbf = gp.predict(X_norm)\n",
    "# print(rbf)\n",
    "# fig, ax = plt.subplots(1,1, figsize=(5,5))\n",
    "# ax.set_title(f'RBF Lengthscale={0.35}')\n",
    "# ax.scatter(y-mean_ntk_1, y-mean_rbf)"
   ]
  },
  {
   "cell_type": "code",
   "execution_count": 113,
   "metadata": {},
   "outputs": [
    {
     "data": {
      "text/plain": [
       "array([[1.        , 0.51143652],\n",
       "       [0.51143652, 1.        ]])"
      ]
     },
     "execution_count": 113,
     "metadata": {},
     "output_type": "execute_result"
    }
   ],
   "source": [
    "np.corrcoef((y-mean_ntk_1)[:,0], (y-mean_rbf)[:,0])"
   ]
  },
  {
   "cell_type": "code",
   "execution_count": 114,
   "metadata": {},
   "outputs": [
    {
     "data": {
      "text/plain": [
       "array([[1.        , 0.99999889],\n",
       "       [0.99999889, 1.        ]])"
      ]
     },
     "execution_count": 114,
     "metadata": {},
     "output_type": "execute_result"
    }
   ],
   "source": [
    "np.corrcoef((y-mean_ntk_1)[:,0], (y-mean_lpk)[:,0])"
   ]
  }
 ],
 "metadata": {
  "interpreter": {
   "hash": "68b02c908e2cdb95db1fe9ab6c7ce5e7b7519642826f3cbd5d028e2ea906a416"
  },
  "kernelspec": {
   "display_name": "Python 3.9.7 ('thesis')",
   "language": "python",
   "name": "python3"
  },
  "language_info": {
   "codemirror_mode": {
    "name": "ipython",
    "version": 3
   },
   "file_extension": ".py",
   "mimetype": "text/x-python",
   "name": "python",
   "nbconvert_exporter": "python",
   "pygments_lexer": "ipython3",
   "version": "3.9.7"
  },
  "orig_nbformat": 4
 },
 "nbformat": 4,
 "nbformat_minor": 2
}
