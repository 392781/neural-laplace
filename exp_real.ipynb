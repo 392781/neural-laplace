{
 "cells": [
  {
   "cell_type": "code",
   "execution_count": 1,
   "metadata": {},
   "outputs": [],
   "source": [
    "from utils import *\n",
    "from sklearn import metrics\n",
    "import pandas as pd"
   ]
  },
  {
   "cell_type": "markdown",
   "metadata": {},
   "source": [
    "# Experiment runner"
   ]
  },
  {
   "cell_type": "code",
   "execution_count": 2,
   "metadata": {},
   "outputs": [],
   "source": [
    "def real_experiment(data, depths, alpha=1e-5):\n",
    "    \"\"\"\n",
    "    Data format := `[X_train, y_train, X_test, y_test, norm : bool, noise : bool, name : str]`\n",
    "\n",
    "    Outputs dictionary containing `dataset`, `means`, `kernel`, \n",
    "    `ntk`, `lap`, and `gaus` information\n",
    "    \"\"\"\n",
    "    norm = data[-3]\n",
    "    noise = data[-2]\n",
    "    name = data[-1]\n",
    "\n",
    "    print(f'\\n{name} :\\nnorm  = {norm}\\nnoise = {noise}\\ndepth = {depths}')\n",
    "\n",
    "    exp_data = {}\n",
    "\n",
    "\n",
    "    means_n = []\n",
    "    for depth in depths:\n",
    "\n",
    "\n",
    "        #########################\n",
    "        # Neural tangent Kernel #\n",
    "        #########################\n",
    "\n",
    "\n",
    "        ntk = (\n",
    "            ConstantKernel(constant_value=1) + \n",
    "            NTK(depth=depth, bias=0.1)\n",
    "        )\n",
    "\n",
    "        if noise:\n",
    "            ntk += WhiteKernel(noise_level=0.1)\n",
    "\n",
    "        gp_n = GPR(kernel=ntk, alpha=alpha, normalize_y=True,\n",
    "            n_restarts_optimizer=9, random_state=29834057)\n",
    "\n",
    "        gp_n.fit(data[0], data[1])\n",
    "        mean_n = gp_n.predict(data[2])\n",
    "        print(gp_n.kernel_)\n",
    "\n",
    "\n",
    "        #########################\n",
    "        #         Data          #\n",
    "        #########################\n",
    "\n",
    "\n",
    "        if noise: \n",
    "            const_val_n = gp_n.kernel_.get_params()['k1__k1__constant_value']\n",
    "            noise_lvl_n = gp_n.kernel_.get_params()['k2__noise_level']\n",
    "            bias = gp_n.kernel_.get_params()['k1__k2__bias']\n",
    "        else:\n",
    "            const_val_n = gp_n.kernel_.get_params()['k1__constant_value']\n",
    "            noise_lvl_n = None\n",
    "            bias = gp_n.kernel_.get_params()['k2__bias']\n",
    "\n",
    "        means_n.append(mean_n.ravel())\n",
    "\n",
    "        exp_data['kernel'] = {\n",
    "            f'ntk_{depth}' : {\n",
    "                'C' : const_val_n,\n",
    "                'W' : noise_lvl_n,\n",
    "                'depth' : depths,\n",
    "                'bias' : bias\n",
    "            }\n",
    "        }\n",
    "        exp_data[f'ntk_{depth}'] = {\n",
    "            'rmse' : metrics.mean_squared_error(data[3].ravel(), mean_n.ravel(), squared=False),\n",
    "            'r2' : metrics.r2_score(data[3].ravel(), mean_n.ravel())\n",
    "        }\n",
    "\n",
    "\n",
    "\n",
    "\n",
    "    #########################\n",
    "    #   Lap + Gaus Kernel   #\n",
    "    #########################    \n",
    "\n",
    "\n",
    "    lap = (\n",
    "        ConstantKernel(constant_value=1) + \n",
    "        Matern(nu=1/2, length_scale=1)\n",
    "    )\n",
    "\n",
    "    gaus = (\n",
    "        ConstantKernel(constant_value=1) + \n",
    "        Matern(nu=np.inf, length_scale=1)\n",
    "    )\n",
    "\n",
    "    if noise:\n",
    "        ntk += WhiteKernel(noise_level=0.1)\n",
    "        lap += WhiteKernel(noise_level=0.1)\n",
    "        gaus += WhiteKernel(noise_level=0.1)\n",
    "\n",
    "\n",
    "    gp_l = GPR(kernel=lap, alpha=alpha, normalize_y=True,\n",
    "        n_restarts_optimizer=9, random_state=29834057)\n",
    "\n",
    "    gp_g = GPR(kernel=gaus, alpha=alpha, normalize_y=True,\n",
    "        n_restarts_optimizer=9, random_state=29834057)\n",
    "\n",
    "\n",
    "    gp_l.fit(data[0], data[1])\n",
    "    mean_l = gp_l.predict(data[2])\n",
    "    print(gp_l.kernel_)\n",
    "\n",
    "    gp_g.fit(data[0], data[1])\n",
    "    mean_g = gp_g.predict(data[2])\n",
    "    print(gp_g.kernel_)\n",
    "\n",
    "\n",
    "    #########################\n",
    "    #         Data          #\n",
    "    #########################\n",
    "\n",
    "\n",
    "    if noise: \n",
    "        const_val_l = gp_l.kernel_.get_params()['k1__k1__constant_value']\n",
    "        const_val_g = gp_g.kernel_.get_params()['k1__k1__constant_value']\n",
    "\n",
    "        noise_lvl_l = gp_l.kernel_.get_params()['k2__noise_level']\n",
    "        noise_lvl_g = gp_g.kernel_.get_params()['k2__noise_level']\n",
    "\n",
    "        ell_l = gp_l.kernel_.get_params()['k1__k2__length_scale']\n",
    "        ell_g = gp_g.kernel_.get_params()['k1__k2__length_scale']\n",
    "    else:\n",
    "        const_val_l = gp_l.kernel_.get_params()['k1__constant_value']\n",
    "        const_val_g = gp_g.kernel_.get_params()['k1__constant_value']\n",
    "\n",
    "        noise_lvl_l = None\n",
    "        noise_lvl_g = None\n",
    "        \n",
    "        ell_l = gp_l.kernel_.get_params()['k2__length_scale']\n",
    "        ell_g = gp_g.kernel_.get_params()['k2__length_scale']\n",
    "\n",
    "\n",
    "    exp_data['dataset'] = {\n",
    "        'name' : name, \n",
    "        'norm' : norm,\n",
    "        'noise': noise,\n",
    "        'test' : [data[2], data[3]]\n",
    "    }\n",
    "\n",
    "    exp_data['means'] = (*means_n, mean_l.ravel(), mean_g.ravel())\n",
    "\n",
    "\n",
    "    exp_data['kernel'] = {\n",
    "        'lap' : {\n",
    "            'C' : const_val_l,\n",
    "            'W' : noise_lvl_l,\n",
    "            'ell' : ell_l\n",
    "        },\n",
    "        'gaus' : {\n",
    "            'C' : const_val_g,\n",
    "            'W' : noise_lvl_g,\n",
    "            'ell' : ell_g\n",
    "        }\n",
    "    }\n",
    "    exp_data['lap'] = {\n",
    "        'rmse' : metrics.mean_squared_error(data[3].ravel(), mean_l.ravel(), squared=False),\n",
    "        'r2' : metrics.r2_score(data[3].ravel(), mean_l.ravel())\n",
    "    }\n",
    "    exp_data['gaus'] = {\n",
    "        'rmse' : metrics.mean_squared_error(data[3].ravel(), mean_g.ravel(), squared=False),\n",
    "        'r2' : metrics.r2_score(data[3].ravel(), mean_g.ravel())\n",
    "    }\n",
    "\n",
    "    return exp_data"
   ]
  },
  {
   "cell_type": "markdown",
   "metadata": {},
   "source": [
    "# Datasets"
   ]
  },
  {
   "cell_type": "code",
   "execution_count": 3,
   "metadata": {},
   "outputs": [],
   "source": [
    "# [X_train, y_train, X_test, y_test, norm : bool, noise : bool, name : str]\n",
    "datasets = []"
   ]
  },
  {
   "cell_type": "code",
   "execution_count": 4,
   "metadata": {},
   "outputs": [],
   "source": [
    "concrete = pd.read_csv('./real_world_data/concrete.csv', header=0)\n",
    "\n",
    "names_c = concrete.columns\n",
    "\n",
    "X = concrete.drop(names_c[-1], axis=1)\n",
    "y = concrete[names_c[-1]]\n",
    "\n",
    "X_train, X_test, y_train, y_test = train_test_split(X, y, test_size=0.25, random_state=13450978)\n",
    "\n",
    "datasets.append([X_train, y_train, X_test, y_test, False, False, 'Concrete'])\n",
    "datasets.append([X_train, y_train, X_test, y_test, False, True, 'Concrete'])\n",
    "\n",
    "X_train, X_test, y_train, y_test = train_test_split(normalize(X, axis=1), y, test_size=0.25, random_state=13450978)\n",
    "\n",
    "datasets.append([X_train, y_train, X_test, y_test, True, False, 'Concrete'])\n",
    "datasets.append([X_train, y_train, X_test, y_test, True, True, 'Concrete'])"
   ]
  },
  {
   "cell_type": "code",
   "execution_count": 5,
   "metadata": {},
   "outputs": [],
   "source": [
    "forest_fires = pd.read_csv('./real_world_data/forestfires.csv', header=0)\n",
    "forest_fires.drop(['month', 'day'], axis=1, inplace=True)\n",
    "\n",
    "names_f = forest_fires.columns\n",
    "\n",
    "X = forest_fires.drop('area', axis=1)\n",
    "y = forest_fires['area']\n",
    "\n",
    "X_train, X_test, y_train, y_test = train_test_split(X, y, test_size=0.25, random_state=879631245)\n",
    "\n",
    "datasets.append([X_train, y_train, X_test, y_test, False, False, 'Forest Fires'])\n",
    "datasets.append([X_train, y_train, X_test, y_test, False, True, 'Forest Fires'])\n",
    "\n",
    "X_train, X_test, y_train, y_test = train_test_split(normalize(X, axis=1), y, test_size=0.25, random_state=879631245)\n",
    "\n",
    "datasets.append([X_train, y_train, X_test, y_test, True, False, 'Forest Fires'])\n",
    "datasets.append([X_train, y_train, X_test, y_test, True, True, 'Forest Fires'])"
   ]
  },
  {
   "cell_type": "markdown",
   "metadata": {},
   "source": [
    "# Results"
   ]
  },
  {
   "cell_type": "code",
   "execution_count": 6,
   "metadata": {},
   "outputs": [
    {
     "data": {
      "text/html": [
       "<div>\n",
       "<style scoped>\n",
       "    .dataframe tbody tr th:only-of-type {\n",
       "        vertical-align: middle;\n",
       "    }\n",
       "\n",
       "    .dataframe tbody tr th {\n",
       "        vertical-align: top;\n",
       "    }\n",
       "\n",
       "    .dataframe thead th {\n",
       "        text-align: right;\n",
       "    }\n",
       "</style>\n",
       "<table border=\"1\" class=\"dataframe\">\n",
       "  <thead>\n",
       "    <tr style=\"text-align: right;\">\n",
       "      <th></th>\n",
       "      <th></th>\n",
       "      <th></th>\n",
       "      <th>NTK D=3</th>\n",
       "      <th>NTK D=25</th>\n",
       "      <th>NTK D=100</th>\n",
       "      <th>Laplace</th>\n",
       "      <th>Gaussian</th>\n",
       "    </tr>\n",
       "    <tr>\n",
       "      <th>Dataset</th>\n",
       "      <th>Metric</th>\n",
       "      <th>Noise</th>\n",
       "      <th></th>\n",
       "      <th></th>\n",
       "      <th></th>\n",
       "      <th></th>\n",
       "      <th></th>\n",
       "    </tr>\n",
       "  </thead>\n",
       "  <tbody>\n",
       "    <tr>\n",
       "      <th rowspan=\"4\" valign=\"top\">Concrete</th>\n",
       "      <th rowspan=\"2\" valign=\"top\">rmse</th>\n",
       "      <th>False</th>\n",
       "      <td>NaN</td>\n",
       "      <td>NaN</td>\n",
       "      <td>NaN</td>\n",
       "      <td>NaN</td>\n",
       "      <td>NaN</td>\n",
       "    </tr>\n",
       "    <tr>\n",
       "      <th>True</th>\n",
       "      <td>NaN</td>\n",
       "      <td>NaN</td>\n",
       "      <td>NaN</td>\n",
       "      <td>NaN</td>\n",
       "      <td>NaN</td>\n",
       "    </tr>\n",
       "    <tr>\n",
       "      <th rowspan=\"2\" valign=\"top\">r2</th>\n",
       "      <th>False</th>\n",
       "      <td>NaN</td>\n",
       "      <td>NaN</td>\n",
       "      <td>NaN</td>\n",
       "      <td>NaN</td>\n",
       "      <td>NaN</td>\n",
       "    </tr>\n",
       "    <tr>\n",
       "      <th>True</th>\n",
       "      <td>NaN</td>\n",
       "      <td>NaN</td>\n",
       "      <td>NaN</td>\n",
       "      <td>NaN</td>\n",
       "      <td>NaN</td>\n",
       "    </tr>\n",
       "    <tr>\n",
       "      <th rowspan=\"4\" valign=\"top\">Forest Fires</th>\n",
       "      <th rowspan=\"2\" valign=\"top\">rmse</th>\n",
       "      <th>False</th>\n",
       "      <td>NaN</td>\n",
       "      <td>NaN</td>\n",
       "      <td>NaN</td>\n",
       "      <td>NaN</td>\n",
       "      <td>NaN</td>\n",
       "    </tr>\n",
       "    <tr>\n",
       "      <th>True</th>\n",
       "      <td>NaN</td>\n",
       "      <td>NaN</td>\n",
       "      <td>NaN</td>\n",
       "      <td>NaN</td>\n",
       "      <td>NaN</td>\n",
       "    </tr>\n",
       "    <tr>\n",
       "      <th rowspan=\"2\" valign=\"top\">r2</th>\n",
       "      <th>False</th>\n",
       "      <td>NaN</td>\n",
       "      <td>NaN</td>\n",
       "      <td>NaN</td>\n",
       "      <td>NaN</td>\n",
       "      <td>NaN</td>\n",
       "    </tr>\n",
       "    <tr>\n",
       "      <th>True</th>\n",
       "      <td>NaN</td>\n",
       "      <td>NaN</td>\n",
       "      <td>NaN</td>\n",
       "      <td>NaN</td>\n",
       "      <td>NaN</td>\n",
       "    </tr>\n",
       "  </tbody>\n",
       "</table>\n",
       "</div>"
      ],
      "text/plain": [
       "                          NTK D=3 NTK D=25 NTK D=100 Laplace Gaussian\n",
       "Dataset      Metric Noise                                            \n",
       "Concrete     rmse   False     NaN      NaN       NaN     NaN      NaN\n",
       "                    True      NaN      NaN       NaN     NaN      NaN\n",
       "             r2     False     NaN      NaN       NaN     NaN      NaN\n",
       "                    True      NaN      NaN       NaN     NaN      NaN\n",
       "Forest Fires rmse   False     NaN      NaN       NaN     NaN      NaN\n",
       "                    True      NaN      NaN       NaN     NaN      NaN\n",
       "             r2     False     NaN      NaN       NaN     NaN      NaN\n",
       "                    True      NaN      NaN       NaN     NaN      NaN"
      ]
     },
     "execution_count": 6,
     "metadata": {},
     "output_type": "execute_result"
    }
   ],
   "source": [
    "arrays = [\n",
    "    [\"Concrete\", \"Forest Fires\"],\n",
    "    ['rmse', 'r2'],\n",
    "    [False, True],  # Noise\n",
    "]\n",
    "\n",
    "index = pd.MultiIndex.from_product(\n",
    "    arrays, names=['Dataset', 'Metric', 'Noise'])\n",
    "\n",
    "\n",
    "df_rd = pd.DataFrame(\n",
    "    index=index,\n",
    "    columns=['NTK D=3', 'NTK D=25', 'NTK D=100', 'Laplace', 'Gaussian']\n",
    ")\n",
    "\n",
    "df_sd = pd.DataFrame(\n",
    "    index=index,\n",
    "    columns=['NTK D=3', 'NTK D=25', 'NTK D=100', 'Laplace', 'Gaussian']\n",
    ")\n",
    "\n",
    "df_rd"
   ]
  },
  {
   "cell_type": "code",
   "execution_count": 7,
   "metadata": {},
   "outputs": [
    {
     "name": "stdout",
     "output_type": "stream",
     "text": [
      "\n",
      "Concrete :\n",
      "norm  = False\n",
      "noise = False\n",
      "depth = (3, 25, 100)\n"
     ]
    },
    {
     "name": "stderr",
     "output_type": "stream",
     "text": [
      "/home/rona1das/Tools/anaconda3/envs/thesis/lib/python3.9/site-packages/sklearn/gaussian_process/_gpr.py:610: ConvergenceWarning: lbfgs failed to converge (status=2):\n",
      "ABNORMAL_TERMINATION_IN_LNSRCH.\n",
      "\n",
      "Increase the number of iterations (max_iter) or scale the data as shown in:\n",
      "    https://scikit-learn.org/stable/modules/preprocessing.html\n",
      "  _check_optimize_result(\"lbfgs\", opt_res)\n"
     ]
    },
    {
     "name": "stdout",
     "output_type": "stream",
     "text": [
      "0.274**2 + NTK(depth=3, c=2.000, bias=129.560)\n"
     ]
    },
    {
     "name": "stderr",
     "output_type": "stream",
     "text": [
      "/home/rona1das/Tools/anaconda3/envs/thesis/lib/python3.9/site-packages/sklearn/gaussian_process/_gpr.py:610: ConvergenceWarning: lbfgs failed to converge (status=2):\n",
      "ABNORMAL_TERMINATION_IN_LNSRCH.\n",
      "\n",
      "Increase the number of iterations (max_iter) or scale the data as shown in:\n",
      "    https://scikit-learn.org/stable/modules/preprocessing.html\n",
      "  _check_optimize_result(\"lbfgs\", opt_res)\n"
     ]
    },
    {
     "name": "stdout",
     "output_type": "stream",
     "text": [
      "0.00405**2 + NTK(depth=25, c=2.000, bias=384.429)\n"
     ]
    },
    {
     "name": "stderr",
     "output_type": "stream",
     "text": [
      "/home/rona1das/Tools/anaconda3/envs/thesis/lib/python3.9/site-packages/sklearn/gaussian_process/_gpr.py:610: ConvergenceWarning: lbfgs failed to converge (status=2):\n",
      "ABNORMAL_TERMINATION_IN_LNSRCH.\n",
      "\n",
      "Increase the number of iterations (max_iter) or scale the data as shown in:\n",
      "    https://scikit-learn.org/stable/modules/preprocessing.html\n",
      "  _check_optimize_result(\"lbfgs\", opt_res)\n"
     ]
    },
    {
     "name": "stdout",
     "output_type": "stream",
     "text": [
      "0.0148**2 + NTK(depth=100, c=2.000, bias=841.000)\n",
      "0.0847**2 + Matern(length_scale=13.5, nu=0.5)\n"
     ]
    },
    {
     "name": "stderr",
     "output_type": "stream",
     "text": [
      "/home/rona1das/Tools/anaconda3/envs/thesis/lib/python3.9/site-packages/sklearn/gaussian_process/_gpr.py:610: ConvergenceWarning: lbfgs failed to converge (status=2):\n",
      "ABNORMAL_TERMINATION_IN_LNSRCH.\n",
      "\n",
      "Increase the number of iterations (max_iter) or scale the data as shown in:\n",
      "    https://scikit-learn.org/stable/modules/preprocessing.html\n",
      "  _check_optimize_result(\"lbfgs\", opt_res)\n",
      "/home/rona1das/Tools/anaconda3/envs/thesis/lib/python3.9/site-packages/sklearn/gaussian_process/kernels.py:420: ConvergenceWarning: The optimal value found for dimension 0 of parameter k2__length_scale is close to the specified lower bound 1e-05. Decreasing the bound and calling fit again may find a better value.\n",
      "  warnings.warn(\n"
     ]
    },
    {
     "name": "stdout",
     "output_type": "stream",
     "text": [
      "0.014**2 + Matern(length_scale=1e-05, nu=inf)\n",
      "\n",
      "Concrete :\n",
      "norm  = False\n",
      "noise = True\n",
      "depth = (3, 25, 100)\n",
      "0.0266**2 + NTK(depth=3, c=2.000, bias=443.406) + WhiteKernel(noise_level=0.0426)\n"
     ]
    },
    {
     "name": "stderr",
     "output_type": "stream",
     "text": [
      "/home/rona1das/Tools/anaconda3/envs/thesis/lib/python3.9/site-packages/sklearn/gaussian_process/_gpr.py:610: ConvergenceWarning: lbfgs failed to converge (status=2):\n",
      "ABNORMAL_TERMINATION_IN_LNSRCH.\n",
      "\n",
      "Increase the number of iterations (max_iter) or scale the data as shown in:\n",
      "    https://scikit-learn.org/stable/modules/preprocessing.html\n",
      "  _check_optimize_result(\"lbfgs\", opt_res)\n"
     ]
    },
    {
     "name": "stdout",
     "output_type": "stream",
     "text": [
      "0.135**2 + NTK(depth=25, c=2.000, bias=1812.640) + WhiteKernel(noise_level=0.0399)\n"
     ]
    },
    {
     "name": "stderr",
     "output_type": "stream",
     "text": [
      "/home/rona1das/Tools/anaconda3/envs/thesis/lib/python3.9/site-packages/sklearn/gaussian_process/_gpr.py:610: ConvergenceWarning: lbfgs failed to converge (status=2):\n",
      "ABNORMAL_TERMINATION_IN_LNSRCH.\n",
      "\n",
      "Increase the number of iterations (max_iter) or scale the data as shown in:\n",
      "    https://scikit-learn.org/stable/modules/preprocessing.html\n",
      "  _check_optimize_result(\"lbfgs\", opt_res)\n"
     ]
    },
    {
     "name": "stdout",
     "output_type": "stream",
     "text": [
      "0.109**2 + NTK(depth=100, c=2.000, bias=30062.378) + WhiteKernel(noise_level=0.033)\n",
      "0.291**2 + Matern(length_scale=311, nu=0.5) + WhiteKernel(noise_level=0.0453)\n",
      "0.178**2 + Matern(length_scale=113, nu=inf) + WhiteKernel(noise_level=0.0872)\n",
      "\n",
      "Concrete :\n",
      "norm  = True\n",
      "noise = False\n",
      "depth = (3, 25, 100)\n"
     ]
    },
    {
     "name": "stderr",
     "output_type": "stream",
     "text": [
      "/home/rona1das/Tools/anaconda3/envs/thesis/lib/python3.9/site-packages/sklearn/gaussian_process/_gpr.py:610: ConvergenceWarning: lbfgs failed to converge (status=2):\n",
      "ABNORMAL_TERMINATION_IN_LNSRCH.\n",
      "\n",
      "Increase the number of iterations (max_iter) or scale the data as shown in:\n",
      "    https://scikit-learn.org/stable/modules/preprocessing.html\n",
      "  _check_optimize_result(\"lbfgs\", opt_res)\n"
     ]
    },
    {
     "name": "stdout",
     "output_type": "stream",
     "text": [
      "2.83**2 + NTK(depth=3, c=2.000, bias=0.000)\n"
     ]
    },
    {
     "name": "stderr",
     "output_type": "stream",
     "text": [
      "/home/rona1das/Tools/anaconda3/envs/thesis/lib/python3.9/site-packages/sklearn/gaussian_process/_gpr.py:610: ConvergenceWarning: lbfgs failed to converge (status=2):\n",
      "ABNORMAL_TERMINATION_IN_LNSRCH.\n",
      "\n",
      "Increase the number of iterations (max_iter) or scale the data as shown in:\n",
      "    https://scikit-learn.org/stable/modules/preprocessing.html\n",
      "  _check_optimize_result(\"lbfgs\", opt_res)\n"
     ]
    },
    {
     "name": "stdout",
     "output_type": "stream",
     "text": [
      "0.166**2 + NTK(depth=25, c=2.000, bias=0.000)\n"
     ]
    },
    {
     "name": "stderr",
     "output_type": "stream",
     "text": [
      "/home/rona1das/Tools/anaconda3/envs/thesis/lib/python3.9/site-packages/sklearn/gaussian_process/_gpr.py:610: ConvergenceWarning: lbfgs failed to converge (status=2):\n",
      "ABNORMAL_TERMINATION_IN_LNSRCH.\n",
      "\n",
      "Increase the number of iterations (max_iter) or scale the data as shown in:\n",
      "    https://scikit-learn.org/stable/modules/preprocessing.html\n",
      "  _check_optimize_result(\"lbfgs\", opt_res)\n"
     ]
    },
    {
     "name": "stdout",
     "output_type": "stream",
     "text": [
      "0.00957**2 + NTK(depth=100, c=2.000, bias=0.000)\n",
      "0.124**2 + Matern(length_scale=0.0118, nu=0.5)\n",
      "0.0217**2 + Matern(length_scale=3.91e-05, nu=inf)\n",
      "\n",
      "Concrete :\n",
      "norm  = True\n",
      "noise = True\n",
      "depth = (3, 25, 100)\n"
     ]
    },
    {
     "name": "stderr",
     "output_type": "stream",
     "text": [
      "/home/rona1das/Tools/anaconda3/envs/thesis/lib/python3.9/site-packages/sklearn/gaussian_process/_gpr.py:610: ConvergenceWarning: lbfgs failed to converge (status=2):\n",
      "ABNORMAL_TERMINATION_IN_LNSRCH.\n",
      "\n",
      "Increase the number of iterations (max_iter) or scale the data as shown in:\n",
      "    https://scikit-learn.org/stable/modules/preprocessing.html\n",
      "  _check_optimize_result(\"lbfgs\", opt_res)\n"
     ]
    },
    {
     "name": "stdout",
     "output_type": "stream",
     "text": [
      "0.95**2 + NTK(depth=3, c=2.000, bias=0.000) + WhiteKernel(noise_level=0.185)\n"
     ]
    },
    {
     "name": "stderr",
     "output_type": "stream",
     "text": [
      "/home/rona1das/Tools/anaconda3/envs/thesis/lib/python3.9/site-packages/sklearn/gaussian_process/_gpr.py:610: ConvergenceWarning: lbfgs failed to converge (status=2):\n",
      "ABNORMAL_TERMINATION_IN_LNSRCH.\n",
      "\n",
      "Increase the number of iterations (max_iter) or scale the data as shown in:\n",
      "    https://scikit-learn.org/stable/modules/preprocessing.html\n",
      "  _check_optimize_result(\"lbfgs\", opt_res)\n"
     ]
    },
    {
     "name": "stdout",
     "output_type": "stream",
     "text": [
      "0.00602**2 + NTK(depth=25, c=2.000, bias=0.000) + WhiteKernel(noise_level=0.0502)\n"
     ]
    },
    {
     "name": "stderr",
     "output_type": "stream",
     "text": [
      "/home/rona1das/Tools/anaconda3/envs/thesis/lib/python3.9/site-packages/sklearn/gaussian_process/kernels.py:420: ConvergenceWarning: The optimal value found for dimension 0 of parameter k1__k1__constant_value is close to the specified lower bound 1e-05. Decreasing the bound and calling fit again may find a better value.\n",
      "  warnings.warn(\n",
      "/home/rona1das/Tools/anaconda3/envs/thesis/lib/python3.9/site-packages/sklearn/gaussian_process/kernels.py:420: ConvergenceWarning: The optimal value found for dimension 0 of parameter k1__k2__bias is close to the specified lower bound 1e-05. Decreasing the bound and calling fit again may find a better value.\n",
      "  warnings.warn(\n"
     ]
    },
    {
     "name": "stdout",
     "output_type": "stream",
     "text": [
      "0.00316**2 + NTK(depth=100, c=2.000, bias=0.000) + WhiteKernel(noise_level=0.033)\n",
      "0.419**2 + Matern(length_scale=0.217, nu=0.5) + WhiteKernel(noise_level=0.0443)\n",
      "0.132**2 + Matern(length_scale=0.0746, nu=inf) + WhiteKernel(noise_level=0.0888)\n",
      "\n",
      "Forest Fires :\n",
      "norm  = False\n",
      "noise = False\n",
      "depth = (3, 25, 100)\n"
     ]
    },
    {
     "name": "stderr",
     "output_type": "stream",
     "text": [
      "/home/rona1das/Tools/anaconda3/envs/thesis/lib/python3.9/site-packages/sklearn/gaussian_process/_gpr.py:610: ConvergenceWarning: lbfgs failed to converge (status=2):\n",
      "ABNORMAL_TERMINATION_IN_LNSRCH.\n",
      "\n",
      "Increase the number of iterations (max_iter) or scale the data as shown in:\n",
      "    https://scikit-learn.org/stable/modules/preprocessing.html\n",
      "  _check_optimize_result(\"lbfgs\", opt_res)\n"
     ]
    },
    {
     "name": "stdout",
     "output_type": "stream",
     "text": [
      "0.999**2 + NTK(depth=3, c=2.000, bias=44.993)\n"
     ]
    },
    {
     "name": "stderr",
     "output_type": "stream",
     "text": [
      "/home/rona1das/Tools/anaconda3/envs/thesis/lib/python3.9/site-packages/sklearn/gaussian_process/_gpr.py:610: ConvergenceWarning: lbfgs failed to converge (status=2):\n",
      "ABNORMAL_TERMINATION_IN_LNSRCH.\n",
      "\n",
      "Increase the number of iterations (max_iter) or scale the data as shown in:\n",
      "    https://scikit-learn.org/stable/modules/preprocessing.html\n",
      "  _check_optimize_result(\"lbfgs\", opt_res)\n",
      "/home/rona1das/Tools/anaconda3/envs/thesis/lib/python3.9/site-packages/sklearn/gaussian_process/kernels.py:420: ConvergenceWarning: The optimal value found for dimension 0 of parameter k1__constant_value is close to the specified lower bound 1e-05. Decreasing the bound and calling fit again may find a better value.\n",
      "  warnings.warn(\n"
     ]
    },
    {
     "name": "stdout",
     "output_type": "stream",
     "text": [
      "0.00316**2 + NTK(depth=25, c=2.000, bias=127.373)\n"
     ]
    },
    {
     "name": "stderr",
     "output_type": "stream",
     "text": [
      "/home/rona1das/Tools/anaconda3/envs/thesis/lib/python3.9/site-packages/sklearn/gaussian_process/_gpr.py:610: ConvergenceWarning: lbfgs failed to converge (status=2):\n",
      "ABNORMAL_TERMINATION_IN_LNSRCH.\n",
      "\n",
      "Increase the number of iterations (max_iter) or scale the data as shown in:\n",
      "    https://scikit-learn.org/stable/modules/preprocessing.html\n",
      "  _check_optimize_result(\"lbfgs\", opt_res)\n"
     ]
    },
    {
     "name": "stdout",
     "output_type": "stream",
     "text": [
      "0.00473**2 + NTK(depth=100, c=2.000, bias=252.201)\n"
     ]
    },
    {
     "name": "stderr",
     "output_type": "stream",
     "text": [
      "/home/rona1das/Tools/anaconda3/envs/thesis/lib/python3.9/site-packages/sklearn/gaussian_process/kernels.py:420: ConvergenceWarning: The optimal value found for dimension 0 of parameter k1__constant_value is close to the specified lower bound 1e-05. Decreasing the bound and calling fit again may find a better value.\n",
      "  warnings.warn(\n"
     ]
    },
    {
     "name": "stdout",
     "output_type": "stream",
     "text": [
      "0.00316**2 + Matern(length_scale=2.03, nu=0.5)\n"
     ]
    },
    {
     "name": "stderr",
     "output_type": "stream",
     "text": [
      "/home/rona1das/Tools/anaconda3/envs/thesis/lib/python3.9/site-packages/sklearn/gaussian_process/kernels.py:420: ConvergenceWarning: The optimal value found for dimension 0 of parameter k1__constant_value is close to the specified lower bound 1e-05. Decreasing the bound and calling fit again may find a better value.\n",
      "  warnings.warn(\n"
     ]
    },
    {
     "name": "stdout",
     "output_type": "stream",
     "text": [
      "0.00316**2 + Matern(length_scale=2.15, nu=inf)\n",
      "\n",
      "Forest Fires :\n",
      "norm  = False\n",
      "noise = True\n",
      "depth = (3, 25, 100)\n"
     ]
    },
    {
     "name": "stderr",
     "output_type": "stream",
     "text": [
      "/home/rona1das/Tools/anaconda3/envs/thesis/lib/python3.9/site-packages/sklearn/gaussian_process/_gpr.py:610: ConvergenceWarning: lbfgs failed to converge (status=2):\n",
      "ABNORMAL_TERMINATION_IN_LNSRCH.\n",
      "\n",
      "Increase the number of iterations (max_iter) or scale the data as shown in:\n",
      "    https://scikit-learn.org/stable/modules/preprocessing.html\n",
      "  _check_optimize_result(\"lbfgs\", opt_res)\n"
     ]
    },
    {
     "name": "stdout",
     "output_type": "stream",
     "text": [
      "0.605**2 + NTK(depth=3, c=2.000, bias=1258.889) + WhiteKernel(noise_level=0.986)\n"
     ]
    },
    {
     "name": "stderr",
     "output_type": "stream",
     "text": [
      "/home/rona1das/Tools/anaconda3/envs/thesis/lib/python3.9/site-packages/sklearn/gaussian_process/_gpr.py:610: ConvergenceWarning: lbfgs failed to converge (status=2):\n",
      "ABNORMAL_TERMINATION_IN_LNSRCH.\n",
      "\n",
      "Increase the number of iterations (max_iter) or scale the data as shown in:\n",
      "    https://scikit-learn.org/stable/modules/preprocessing.html\n",
      "  _check_optimize_result(\"lbfgs\", opt_res)\n",
      "/home/rona1das/Tools/anaconda3/envs/thesis/lib/python3.9/site-packages/sklearn/gaussian_process/kernels.py:420: ConvergenceWarning: The optimal value found for dimension 0 of parameter k1__k1__constant_value is close to the specified lower bound 1e-05. Decreasing the bound and calling fit again may find a better value.\n",
      "  warnings.warn(\n"
     ]
    },
    {
     "name": "stdout",
     "output_type": "stream",
     "text": [
      "0.00316**2 + NTK(depth=25, c=2.000, bias=78850.373) + WhiteKernel(noise_level=0.972)\n"
     ]
    },
    {
     "name": "stderr",
     "output_type": "stream",
     "text": [
      "/home/rona1das/Tools/anaconda3/envs/thesis/lib/python3.9/site-packages/sklearn/gaussian_process/_gpr.py:610: ConvergenceWarning: lbfgs failed to converge (status=2):\n",
      "ABNORMAL_TERMINATION_IN_LNSRCH.\n",
      "\n",
      "Increase the number of iterations (max_iter) or scale the data as shown in:\n",
      "    https://scikit-learn.org/stable/modules/preprocessing.html\n",
      "  _check_optimize_result(\"lbfgs\", opt_res)\n"
     ]
    },
    {
     "name": "stdout",
     "output_type": "stream",
     "text": [
      "0.00782**2 + NTK(depth=100, c=2.000, bias=253.729) + WhiteKernel(noise_level=0.00379)\n"
     ]
    },
    {
     "name": "stderr",
     "output_type": "stream",
     "text": [
      "/home/rona1das/Tools/anaconda3/envs/thesis/lib/python3.9/site-packages/sklearn/gaussian_process/kernels.py:420: ConvergenceWarning: The optimal value found for dimension 0 of parameter k1__k1__constant_value is close to the specified lower bound 1e-05. Decreasing the bound and calling fit again may find a better value.\n",
      "  warnings.warn(\n"
     ]
    },
    {
     "name": "stdout",
     "output_type": "stream",
     "text": [
      "0.00316**2 + Matern(length_scale=2.04, nu=0.5) + WhiteKernel(noise_level=0.00382)\n"
     ]
    },
    {
     "name": "stderr",
     "output_type": "stream",
     "text": [
      "/home/rona1das/Tools/anaconda3/envs/thesis/lib/python3.9/site-packages/sklearn/gaussian_process/kernels.py:420: ConvergenceWarning: The optimal value found for dimension 0 of parameter k1__k1__constant_value is close to the specified lower bound 1e-05. Decreasing the bound and calling fit again may find a better value.\n",
      "  warnings.warn(\n"
     ]
    },
    {
     "name": "stdout",
     "output_type": "stream",
     "text": [
      "0.00316**2 + Matern(length_scale=2.15, nu=inf) + WhiteKernel(noise_level=0.00379)\n",
      "\n",
      "Forest Fires :\n",
      "norm  = True\n",
      "noise = False\n",
      "depth = (3, 25, 100)\n"
     ]
    },
    {
     "name": "stderr",
     "output_type": "stream",
     "text": [
      "/home/rona1das/Tools/anaconda3/envs/thesis/lib/python3.9/site-packages/sklearn/gaussian_process/_gpr.py:610: ConvergenceWarning: lbfgs failed to converge (status=2):\n",
      "ABNORMAL_TERMINATION_IN_LNSRCH.\n",
      "\n",
      "Increase the number of iterations (max_iter) or scale the data as shown in:\n",
      "    https://scikit-learn.org/stable/modules/preprocessing.html\n",
      "  _check_optimize_result(\"lbfgs\", opt_res)\n",
      "/home/rona1das/Tools/anaconda3/envs/thesis/lib/python3.9/site-packages/sklearn/gaussian_process/kernels.py:420: ConvergenceWarning: The optimal value found for dimension 0 of parameter k1__constant_value is close to the specified lower bound 1e-05. Decreasing the bound and calling fit again may find a better value.\n",
      "  warnings.warn(\n"
     ]
    },
    {
     "name": "stdout",
     "output_type": "stream",
     "text": [
      "0.00316**2 + NTK(depth=3, c=2.000, bias=0.001)\n"
     ]
    },
    {
     "name": "stderr",
     "output_type": "stream",
     "text": [
      "/home/rona1das/Tools/anaconda3/envs/thesis/lib/python3.9/site-packages/sklearn/gaussian_process/_gpr.py:610: ConvergenceWarning: lbfgs failed to converge (status=2):\n",
      "ABNORMAL_TERMINATION_IN_LNSRCH.\n",
      "\n",
      "Increase the number of iterations (max_iter) or scale the data as shown in:\n",
      "    https://scikit-learn.org/stable/modules/preprocessing.html\n",
      "  _check_optimize_result(\"lbfgs\", opt_res)\n",
      "/home/rona1das/Tools/anaconda3/envs/thesis/lib/python3.9/site-packages/sklearn/gaussian_process/kernels.py:420: ConvergenceWarning: The optimal value found for dimension 0 of parameter k1__constant_value is close to the specified lower bound 1e-05. Decreasing the bound and calling fit again may find a better value.\n",
      "  warnings.warn(\n"
     ]
    },
    {
     "name": "stdout",
     "output_type": "stream",
     "text": [
      "0.00316**2 + NTK(depth=25, c=2.000, bias=0.000)\n"
     ]
    },
    {
     "name": "stderr",
     "output_type": "stream",
     "text": [
      "/home/rona1das/Tools/anaconda3/envs/thesis/lib/python3.9/site-packages/sklearn/gaussian_process/_gpr.py:610: ConvergenceWarning: lbfgs failed to converge (status=2):\n",
      "ABNORMAL_TERMINATION_IN_LNSRCH.\n",
      "\n",
      "Increase the number of iterations (max_iter) or scale the data as shown in:\n",
      "    https://scikit-learn.org/stable/modules/preprocessing.html\n",
      "  _check_optimize_result(\"lbfgs\", opt_res)\n",
      "/home/rona1das/Tools/anaconda3/envs/thesis/lib/python3.9/site-packages/sklearn/gaussian_process/kernels.py:420: ConvergenceWarning: The optimal value found for dimension 0 of parameter k1__constant_value is close to the specified lower bound 1e-05. Decreasing the bound and calling fit again may find a better value.\n",
      "  warnings.warn(\n"
     ]
    },
    {
     "name": "stdout",
     "output_type": "stream",
     "text": [
      "0.00316**2 + NTK(depth=100, c=2.000, bias=0.000)\n"
     ]
    },
    {
     "name": "stderr",
     "output_type": "stream",
     "text": [
      "/home/rona1das/Tools/anaconda3/envs/thesis/lib/python3.9/site-packages/sklearn/gaussian_process/kernels.py:420: ConvergenceWarning: The optimal value found for dimension 0 of parameter k1__constant_value is close to the specified lower bound 1e-05. Decreasing the bound and calling fit again may find a better value.\n",
      "  warnings.warn(\n",
      "/home/rona1das/Tools/anaconda3/envs/thesis/lib/python3.9/site-packages/sklearn/gaussian_process/kernels.py:420: ConvergenceWarning: The optimal value found for dimension 0 of parameter k2__length_scale is close to the specified lower bound 1e-05. Decreasing the bound and calling fit again may find a better value.\n",
      "  warnings.warn(\n"
     ]
    },
    {
     "name": "stdout",
     "output_type": "stream",
     "text": [
      "0.00316**2 + Matern(length_scale=1e-05, nu=0.5)\n"
     ]
    },
    {
     "name": "stderr",
     "output_type": "stream",
     "text": [
      "/home/rona1das/Tools/anaconda3/envs/thesis/lib/python3.9/site-packages/sklearn/gaussian_process/kernels.py:420: ConvergenceWarning: The optimal value found for dimension 0 of parameter k1__constant_value is close to the specified lower bound 1e-05. Decreasing the bound and calling fit again may find a better value.\n",
      "  warnings.warn(\n",
      "/home/rona1das/Tools/anaconda3/envs/thesis/lib/python3.9/site-packages/sklearn/gaussian_process/kernels.py:420: ConvergenceWarning: The optimal value found for dimension 0 of parameter k2__length_scale is close to the specified lower bound 1e-05. Decreasing the bound and calling fit again may find a better value.\n",
      "  warnings.warn(\n"
     ]
    },
    {
     "name": "stdout",
     "output_type": "stream",
     "text": [
      "0.00316**2 + Matern(length_scale=1e-05, nu=inf)\n",
      "\n",
      "Forest Fires :\n",
      "norm  = True\n",
      "noise = True\n",
      "depth = (3, 25, 100)\n"
     ]
    },
    {
     "name": "stderr",
     "output_type": "stream",
     "text": [
      "/home/rona1das/Tools/anaconda3/envs/thesis/lib/python3.9/site-packages/sklearn/gaussian_process/_gpr.py:610: ConvergenceWarning: lbfgs failed to converge (status=2):\n",
      "ABNORMAL_TERMINATION_IN_LNSRCH.\n",
      "\n",
      "Increase the number of iterations (max_iter) or scale the data as shown in:\n",
      "    https://scikit-learn.org/stable/modules/preprocessing.html\n",
      "  _check_optimize_result(\"lbfgs\", opt_res)\n"
     ]
    },
    {
     "name": "stdout",
     "output_type": "stream",
     "text": [
      "0.274**2 + NTK(depth=3, c=2.000, bias=232.256) + WhiteKernel(noise_level=0.995)\n",
      "0.274**2 + NTK(depth=25, c=2.000, bias=265.039) + WhiteKernel(noise_level=0.971)\n"
     ]
    },
    {
     "name": "stderr",
     "output_type": "stream",
     "text": [
      "/home/rona1das/Tools/anaconda3/envs/thesis/lib/python3.9/site-packages/sklearn/gaussian_process/kernels.py:420: ConvergenceWarning: The optimal value found for dimension 0 of parameter k1__k1__constant_value is close to the specified lower bound 1e-05. Decreasing the bound and calling fit again may find a better value.\n",
      "  warnings.warn(\n"
     ]
    },
    {
     "name": "stdout",
     "output_type": "stream",
     "text": [
      "0.00316**2 + NTK(depth=100, c=2.000, bias=0.083) + WhiteKernel(noise_level=0.878)\n"
     ]
    },
    {
     "name": "stderr",
     "output_type": "stream",
     "text": [
      "/home/rona1das/Tools/anaconda3/envs/thesis/lib/python3.9/site-packages/sklearn/gaussian_process/kernels.py:420: ConvergenceWarning: The optimal value found for dimension 0 of parameter k1__k1__constant_value is close to the specified lower bound 1e-05. Decreasing the bound and calling fit again may find a better value.\n",
      "  warnings.warn(\n"
     ]
    },
    {
     "name": "stdout",
     "output_type": "stream",
     "text": [
      "0.00316**2 + Matern(length_scale=0.00264, nu=0.5) + WhiteKernel(noise_level=0.00382)\n",
      "0.00316**2 + Matern(length_scale=1e-05, nu=inf) + WhiteKernel(noise_level=0.00382)\n"
     ]
    },
    {
     "name": "stderr",
     "output_type": "stream",
     "text": [
      "/home/rona1das/Tools/anaconda3/envs/thesis/lib/python3.9/site-packages/sklearn/gaussian_process/kernels.py:420: ConvergenceWarning: The optimal value found for dimension 0 of parameter k1__k1__constant_value is close to the specified lower bound 1e-05. Decreasing the bound and calling fit again may find a better value.\n",
      "  warnings.warn(\n",
      "/home/rona1das/Tools/anaconda3/envs/thesis/lib/python3.9/site-packages/sklearn/gaussian_process/kernels.py:420: ConvergenceWarning: The optimal value found for dimension 0 of parameter k1__k2__length_scale is close to the specified lower bound 1e-05. Decreasing the bound and calling fit again may find a better value.\n",
      "  warnings.warn(\n"
     ]
    }
   ],
   "source": [
    "experiment_outputs = []\n",
    "depths = (3, 25, 100)\n",
    "for data in datasets:\n",
    "    experiment_outputs.append(real_experiment(data, depths))"
   ]
  },
  {
   "cell_type": "code",
   "execution_count": 13,
   "metadata": {},
   "outputs": [],
   "source": [
    "test = load_data('exp_real')"
   ]
  },
  {
   "cell_type": "code",
   "execution_count": 14,
   "metadata": {},
   "outputs": [
    {
     "data": {
      "text/plain": [
       "8"
      ]
     },
     "execution_count": 14,
     "metadata": {},
     "output_type": "execute_result"
    }
   ],
   "source": []
  },
  {
   "cell_type": "code",
   "execution_count": 8,
   "metadata": {},
   "outputs": [],
   "source": [
    "for exp in experiment_outputs:\n",
    "    name = exp['dataset']['name']\n",
    "    noise = exp['dataset']['noise']\n",
    "\n",
    "\n",
    "    # if exp['dataset']['norm']:\n",
    "    #     for depth in depths:\n",
    "    #         df_sd[f'NTK D={depth}'][name, 'rmse', noise] = exp[f'ntk_{depth}']['rmse']\n",
    "    #         df_sd[f'NTK D={depth}'][name, 'r2', noise] = exp[f'ntk_{depth}']['r2']\n",
    "        \n",
    "    #     df_sd['Laplace'][name, 'rmse', noise] = exp['lap']['rmse']\n",
    "    #     df_sd['Laplace'][name, 'r2', noise] = exp['lap']['r2']\n",
    "    #     df_sd['Gaussian'][name, 'rmse', noise] = exp['gaus']['rmse']\n",
    "    #     df_sd['Gaussian'][name, 'r2', noise] = exp['gaus']['r2']\n",
    "    # else:\n",
    "    #     for depth in depths:\n",
    "    #         df_rd[f'NTK D={depth}'][name, 'rmse', noise] = exp[f'ntk_{depth}']['rmse']\n",
    "    #         df_rd[f'NTK D={depth}'][name, 'r2', noise] = exp[f'ntk_{depth}']['r2']\n",
    "        \n",
    "    #     df_rd['Laplace'][name, 'rmse', noise] = exp['lap']['rmse']\n",
    "    #     df_rd['Laplace'][name, 'r2', noise] = exp['lap']['r2']\n",
    "    #     df_rd['Gaussian'][name, 'rmse', noise] = exp['gaus']['rmse']\n",
    "    #     df_rd['Gaussian'][name, 'r2', noise] = exp['gaus']['r2']\n",
    "\n",
    "    if exp['dataset']['norm']:\n",
    "        for depth in depths:\n",
    "            df_sd[f'NTK D={depth}'][name, 'rmse', noise] = exp[f'ntk_{depth}']['rmse']\n",
    "            df_sd[f'NTK D={depth}'][name, 'r2', noise] =\n",
    "        \n",
    "        df_sd['Laplace'][name, 'rmse', noise] = exp['lap']['rmse']\n",
    "        df_sd['Laplace'][name, 'r2', noise] = exp['lap']['r2']\n",
    "        df_sd['Gaussian'][name, 'rmse', noise] = exp['gaus']['rmse']\n",
    "        df_sd['Gaussian'][name, 'r2', noise] = exp['gaus']['r2']\n",
    "    else:\n",
    "        for depth in depths:\n",
    "            df_rd[f'NTK D={depth}'][name, 'rmse', noise] = exp[f'ntk_{depth}']['rmse']\n",
    "            df_rd[f'NTK D={depth}'][name, 'r2', noise] = exp[f'ntk_{depth}']['r2']\n",
    "        \n",
    "        df_rd['Laplace'][name, 'rmse', noise] = exp['lap']['rmse']\n",
    "        df_rd['Laplace'][name, 'r2', noise] = exp['lap']['r2']\n",
    "        df_rd['Gaussian'][name, 'rmse', noise] = exp['gaus']['rmse']\n",
    "        df_rd['Gaussian'][name, 'r2', noise] = exp['gaus']['r2']"
   ]
  },
  {
   "cell_type": "code",
   "execution_count": 9,
   "metadata": {},
   "outputs": [],
   "source": [
    "# save_data(experiment_outputs, 'exp_real')"
   ]
  },
  {
   "cell_type": "code",
   "execution_count": 11,
   "metadata": {},
   "outputs": [
    {
     "data": {
      "text/html": [
       "<div>\n",
       "<style scoped>\n",
       "    .dataframe tbody tr th:only-of-type {\n",
       "        vertical-align: middle;\n",
       "    }\n",
       "\n",
       "    .dataframe tbody tr th {\n",
       "        vertical-align: top;\n",
       "    }\n",
       "\n",
       "    .dataframe thead th {\n",
       "        text-align: right;\n",
       "    }\n",
       "</style>\n",
       "<table border=\"1\" class=\"dataframe\">\n",
       "  <thead>\n",
       "    <tr style=\"text-align: right;\">\n",
       "      <th></th>\n",
       "      <th></th>\n",
       "      <th></th>\n",
       "      <th>NTK D=3</th>\n",
       "      <th>NTK D=25</th>\n",
       "      <th>NTK D=100</th>\n",
       "      <th>Laplace</th>\n",
       "      <th>Gaussian</th>\n",
       "    </tr>\n",
       "    <tr>\n",
       "      <th>Dataset</th>\n",
       "      <th>Metric</th>\n",
       "      <th>Noise</th>\n",
       "      <th></th>\n",
       "      <th></th>\n",
       "      <th></th>\n",
       "      <th></th>\n",
       "      <th></th>\n",
       "    </tr>\n",
       "  </thead>\n",
       "  <tbody>\n",
       "    <tr>\n",
       "      <th rowspan=\"4\" valign=\"top\">Concrete</th>\n",
       "      <th rowspan=\"2\" valign=\"top\">rmse</th>\n",
       "      <th>False</th>\n",
       "      <td>5.04729</td>\n",
       "      <td>5.201556</td>\n",
       "      <td>5.900334</td>\n",
       "      <td>11.448858</td>\n",
       "      <td>15.485845</td>\n",
       "    </tr>\n",
       "    <tr>\n",
       "      <th>True</th>\n",
       "      <td>5.421162</td>\n",
       "      <td>5.555517</td>\n",
       "      <td>6.072096</td>\n",
       "      <td>5.508261</td>\n",
       "      <td>5.761243</td>\n",
       "    </tr>\n",
       "    <tr>\n",
       "      <th rowspan=\"2\" valign=\"top\">r2</th>\n",
       "      <th>False</th>\n",
       "      <td>0.900508</td>\n",
       "      <td>0.894333</td>\n",
       "      <td>0.864036</td>\n",
       "      <td>0.488086</td>\n",
       "      <td>0.063426</td>\n",
       "    </tr>\n",
       "    <tr>\n",
       "      <th>True</th>\n",
       "      <td>0.885222</td>\n",
       "      <td>0.879463</td>\n",
       "      <td>0.856004</td>\n",
       "      <td>0.881505</td>\n",
       "      <td>0.87037</td>\n",
       "    </tr>\n",
       "    <tr>\n",
       "      <th rowspan=\"4\" valign=\"top\">Forest Fires</th>\n",
       "      <th rowspan=\"2\" valign=\"top\">rmse</th>\n",
       "      <th>False</th>\n",
       "      <td>38.78891</td>\n",
       "      <td>37.720642</td>\n",
       "      <td>34.160519</td>\n",
       "      <td>16.423256</td>\n",
       "      <td>17.255082</td>\n",
       "    </tr>\n",
       "    <tr>\n",
       "      <th>True</th>\n",
       "      <td>18.332155</td>\n",
       "      <td>22.107979</td>\n",
       "      <td>34.137496</td>\n",
       "      <td>16.421816</td>\n",
       "      <td>17.247906</td>\n",
       "    </tr>\n",
       "    <tr>\n",
       "      <th rowspan=\"2\" valign=\"top\">r2</th>\n",
       "      <th>False</th>\n",
       "      <td>-6.786299</td>\n",
       "      <td>-6.363327</td>\n",
       "      <td>-5.038997</td>\n",
       "      <td>-0.395836</td>\n",
       "      <td>-0.540813</td>\n",
       "    </tr>\n",
       "    <tr>\n",
       "      <th>True</th>\n",
       "      <td>-0.739174</td>\n",
       "      <td>-1.52938</td>\n",
       "      <td>-5.03086</td>\n",
       "      <td>-0.395591</td>\n",
       "      <td>-0.539532</td>\n",
       "    </tr>\n",
       "  </tbody>\n",
       "</table>\n",
       "</div>"
      ],
      "text/plain": [
       "                             NTK D=3   NTK D=25  NTK D=100    Laplace  \\\n",
       "Dataset      Metric Noise                                               \n",
       "Concrete     rmse   False    5.04729   5.201556   5.900334  11.448858   \n",
       "                    True    5.421162   5.555517   6.072096   5.508261   \n",
       "             r2     False   0.900508   0.894333   0.864036   0.488086   \n",
       "                    True    0.885222   0.879463   0.856004   0.881505   \n",
       "Forest Fires rmse   False   38.78891  37.720642  34.160519  16.423256   \n",
       "                    True   18.332155  22.107979  34.137496  16.421816   \n",
       "             r2     False  -6.786299  -6.363327  -5.038997  -0.395836   \n",
       "                    True   -0.739174   -1.52938   -5.03086  -0.395591   \n",
       "\n",
       "                            Gaussian  \n",
       "Dataset      Metric Noise             \n",
       "Concrete     rmse   False  15.485845  \n",
       "                    True    5.761243  \n",
       "             r2     False   0.063426  \n",
       "                    True     0.87037  \n",
       "Forest Fires rmse   False  17.255082  \n",
       "                    True   17.247906  \n",
       "             r2     False  -0.540813  \n",
       "                    True   -0.539532  "
      ]
     },
     "execution_count": 11,
     "metadata": {},
     "output_type": "execute_result"
    }
   ],
   "source": [
    "df_rd"
   ]
  },
  {
   "cell_type": "code",
   "execution_count": 12,
   "metadata": {},
   "outputs": [
    {
     "data": {
      "text/html": [
       "<div>\n",
       "<style scoped>\n",
       "    .dataframe tbody tr th:only-of-type {\n",
       "        vertical-align: middle;\n",
       "    }\n",
       "\n",
       "    .dataframe tbody tr th {\n",
       "        vertical-align: top;\n",
       "    }\n",
       "\n",
       "    .dataframe thead th {\n",
       "        text-align: right;\n",
       "    }\n",
       "</style>\n",
       "<table border=\"1\" class=\"dataframe\">\n",
       "  <thead>\n",
       "    <tr style=\"text-align: right;\">\n",
       "      <th></th>\n",
       "      <th></th>\n",
       "      <th></th>\n",
       "      <th>NTK D=3</th>\n",
       "      <th>NTK D=25</th>\n",
       "      <th>NTK D=100</th>\n",
       "      <th>Laplace</th>\n",
       "      <th>Gaussian</th>\n",
       "    </tr>\n",
       "    <tr>\n",
       "      <th>Dataset</th>\n",
       "      <th>Metric</th>\n",
       "      <th>Noise</th>\n",
       "      <th></th>\n",
       "      <th></th>\n",
       "      <th></th>\n",
       "      <th></th>\n",
       "      <th></th>\n",
       "    </tr>\n",
       "  </thead>\n",
       "  <tbody>\n",
       "    <tr>\n",
       "      <th rowspan=\"4\" valign=\"top\">Concrete</th>\n",
       "      <th rowspan=\"2\" valign=\"top\">rmse</th>\n",
       "      <th>False</th>\n",
       "      <td>5.034478</td>\n",
       "      <td>5.194905</td>\n",
       "      <td>5.89325</td>\n",
       "      <td>10.603514</td>\n",
       "      <td>15.480197</td>\n",
       "    </tr>\n",
       "    <tr>\n",
       "      <th>True</th>\n",
       "      <td>7.250604</td>\n",
       "      <td>5.70731</td>\n",
       "      <td>6.069782</td>\n",
       "      <td>5.542235</td>\n",
       "      <td>5.755933</td>\n",
       "    </tr>\n",
       "    <tr>\n",
       "      <th rowspan=\"2\" valign=\"top\">r2</th>\n",
       "      <th>False</th>\n",
       "      <td>0.901012</td>\n",
       "      <td>0.894603</td>\n",
       "      <td>0.864362</td>\n",
       "      <td>0.560891</td>\n",
       "      <td>0.064109</td>\n",
       "    </tr>\n",
       "    <tr>\n",
       "      <th>True</th>\n",
       "      <td>0.794685</td>\n",
       "      <td>0.872786</td>\n",
       "      <td>0.856114</td>\n",
       "      <td>0.880038</td>\n",
       "      <td>0.870609</td>\n",
       "    </tr>\n",
       "    <tr>\n",
       "      <th rowspan=\"4\" valign=\"top\">Forest Fires</th>\n",
       "      <th rowspan=\"2\" valign=\"top\">rmse</th>\n",
       "      <th>False</th>\n",
       "      <td>38.51829</td>\n",
       "      <td>37.494737</td>\n",
       "      <td>34.006587</td>\n",
       "      <td>16.149912</td>\n",
       "      <td>16.149912</td>\n",
       "    </tr>\n",
       "    <tr>\n",
       "      <th>True</th>\n",
       "      <td>17.887548</td>\n",
       "      <td>22.108632</td>\n",
       "      <td>25.115341</td>\n",
       "      <td>16.768897</td>\n",
       "      <td>16.149721</td>\n",
       "    </tr>\n",
       "    <tr>\n",
       "      <th rowspan=\"2\" valign=\"top\">r2</th>\n",
       "      <th>False</th>\n",
       "      <td>-6.678032</td>\n",
       "      <td>-6.275395</td>\n",
       "      <td>-4.984695</td>\n",
       "      <td>-0.349759</td>\n",
       "      <td>-0.349759</td>\n",
       "    </tr>\n",
       "    <tr>\n",
       "      <th>True</th>\n",
       "      <td>-0.655837</td>\n",
       "      <td>-1.529529</td>\n",
       "      <td>-2.26433</td>\n",
       "      <td>-0.455207</td>\n",
       "      <td>-0.349727</td>\n",
       "    </tr>\n",
       "  </tbody>\n",
       "</table>\n",
       "</div>"
      ],
      "text/plain": [
       "                             NTK D=3   NTK D=25  NTK D=100    Laplace  \\\n",
       "Dataset      Metric Noise                                               \n",
       "Concrete     rmse   False   5.034478   5.194905    5.89325  10.603514   \n",
       "                    True    7.250604    5.70731   6.069782   5.542235   \n",
       "             r2     False   0.901012   0.894603   0.864362   0.560891   \n",
       "                    True    0.794685   0.872786   0.856114   0.880038   \n",
       "Forest Fires rmse   False   38.51829  37.494737  34.006587  16.149912   \n",
       "                    True   17.887548  22.108632  25.115341  16.768897   \n",
       "             r2     False  -6.678032  -6.275395  -4.984695  -0.349759   \n",
       "                    True   -0.655837  -1.529529   -2.26433  -0.455207   \n",
       "\n",
       "                            Gaussian  \n",
       "Dataset      Metric Noise             \n",
       "Concrete     rmse   False  15.480197  \n",
       "                    True    5.755933  \n",
       "             r2     False   0.064109  \n",
       "                    True    0.870609  \n",
       "Forest Fires rmse   False  16.149912  \n",
       "                    True   16.149721  \n",
       "             r2     False  -0.349759  \n",
       "                    True   -0.349727  "
      ]
     },
     "execution_count": 12,
     "metadata": {},
     "output_type": "execute_result"
    }
   ],
   "source": [
    "df_sd"
   ]
  }
 ],
 "metadata": {
  "interpreter": {
   "hash": "68b02c908e2cdb95db1fe9ab6c7ce5e7b7519642826f3cbd5d028e2ea906a416"
  },
  "kernelspec": {
   "display_name": "Python 3.9.7 ('thesis')",
   "language": "python",
   "name": "python3"
  },
  "language_info": {
   "codemirror_mode": {
    "name": "ipython",
    "version": 3
   },
   "file_extension": ".py",
   "mimetype": "text/x-python",
   "name": "python",
   "nbconvert_exporter": "python",
   "pygments_lexer": "ipython3",
   "version": "3.9.7"
  },
  "orig_nbformat": 4
 },
 "nbformat": 4,
 "nbformat_minor": 2
}
