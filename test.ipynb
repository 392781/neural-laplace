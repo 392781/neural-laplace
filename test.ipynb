{
 "cells": [
  {
   "cell_type": "code",
   "execution_count": 1,
   "metadata": {},
   "outputs": [
    {
     "name": "stderr",
     "output_type": "stream",
     "text": [
      "/home/rona1das/Tools/anaconda3/envs/thesis/lib/python3.9/site-packages/sklearn/gaussian_process/kernels.py:430: ConvergenceWarning: The optimal value found for dimension 0 of parameter k1__constant_value is close to the specified upper bound 1000.0. Increasing the bound and calling fit again may find a better value.\n",
      "  warnings.warn(\n"
     ]
    }
   ],
   "source": [
    "from itertools import product\n",
    "import numpy as np\n",
    "from matplotlib import pyplot as plt\n",
    "from mpl_toolkits.mplot3d import Axes3D\n",
    "\n",
    "from sklearn.gaussian_process import GaussianProcessRegressor\n",
    "from sklearn.gaussian_process.kernels import RBF, ConstantKernel as C\n",
    "\n",
    "X = np.array([[0,0],[2,0],[4,0],[6,0],[8,0],[10,0],[12,0],[14,0],[16,0],[0,2],\n",
    "                    [2,2],[4,2],[6,2],[8,2],[10,2],[12,2],[14,2],[16,2]])\n",
    "\n",
    "y = np.array([-54,-60,-62,-64,-66,-68,-70,-72,-74,-60,-62,-64,-66,\n",
    "                    -68,-70,-72,-74,-76])\n",
    "\n",
    "# Input space\n",
    "x1 = np.linspace(X[:,0].min(), X[:,0].max()) #p\n",
    "x2 = np.linspace(X[:,1].min(), X[:,1].max()) #q\n",
    "x = (np.array([x1, x2])).T\n",
    "\n",
    "kernel = C(1.0, (1e-3, 1e3)) * RBF([5,5], (1e-2, 1e2))\n",
    "gp = GaussianProcessRegressor(kernel=kernel, n_restarts_optimizer=15)\n",
    "\n",
    "gp.fit(X, y)\n",
    "\n",
    "x1x2 = np.array(list(product(x1, x2)))\n",
    "y_pred, MSE = gp.predict(x1x2, return_std=True)\n",
    "\n",
    "X0p, X1p = x1x2[:,0].reshape(50,50), x1x2[:,1].reshape(50,50)\n",
    "Zp = np.reshape(y_pred,(50,50))\n",
    "\n",
    "# alternative way to generate equivalent X0p, X1p, Zp\n",
    "# X0p, X1p = np.meshgrid(x1, x2)\n",
    "# Zp = [gp.predict([(X0p[i, j], X1p[i, j]) for i in range(X0p.shape[0])]) for j in range(X0p.shape[1])]\n",
    "# Zp = np.array(Zp).T"
   ]
  },
  {
   "cell_type": "code",
   "execution_count": 6,
   "metadata": {},
   "outputs": [
    {
     "data": {
      "text/plain": [
       "(2500, 2)"
      ]
     },
     "execution_count": 6,
     "metadata": {},
     "output_type": "execute_result"
    }
   ],
   "source": [
    "np.stack(np.meshgrid(x1,x2), axis=2).reshape(-1,2).shape"
   ]
  }
 ],
 "metadata": {
  "interpreter": {
   "hash": "68b02c908e2cdb95db1fe9ab6c7ce5e7b7519642826f3cbd5d028e2ea906a416"
  },
  "kernelspec": {
   "display_name": "Python 3.9.7 ('thesis')",
   "language": "python",
   "name": "python3"
  },
  "language_info": {
   "codemirror_mode": {
    "name": "ipython",
    "version": 3
   },
   "file_extension": ".py",
   "mimetype": "text/x-python",
   "name": "python",
   "nbconvert_exporter": "python",
   "pygments_lexer": "ipython3",
   "version": "3.9.7"
  },
  "orig_nbformat": 4
 },
 "nbformat": 4,
 "nbformat_minor": 2
}
