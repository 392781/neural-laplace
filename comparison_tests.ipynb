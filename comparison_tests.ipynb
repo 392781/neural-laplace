{
 "cells": [
  {
   "cell_type": "code",
   "execution_count": null,
   "metadata": {
    "collapsed": true,
    "pycharm": {
     "name": "#%%\n"
    }
   },
   "outputs": [],
   "source": [
    "from utils import *\n",
    "from tqdm.auto import tqdm"
   ]
  },
  {
   "cell_type": "code",
   "execution_count": null,
   "metadata": {
    "collapsed": false,
    "pycharm": {
     "name": "#%%\n"
    }
   },
   "outputs": [],
   "source": [
    "x = np.random.random_integers(0,100,3).reshape(1,-1)\n",
    "y = np.random.random_integers(0,100,3).reshape(1,-1)\n",
    "\n",
    "x = normalize(x)\n",
    "y = normalize(y)"
   ]
  },
  {
   "cell_type": "code",
   "execution_count": null,
   "metadata": {
    "collapsed": false,
    "pycharm": {
     "name": "#%%\n"
    }
   },
   "outputs": [],
   "source": [
    "print(x)\n",
    "print(y)"
   ]
  },
  {
   "cell_type": "code",
   "execution_count": null,
   "metadata": {
    "collapsed": false,
    "pycharm": {
     "name": "#%%\n"
    }
   },
   "outputs": [],
   "source": [
    "for l in range(0,100):\n",
    "    l = 2 + l/100\n",
    "    print(l)\n",
    "    k1 = Matern(length_scale=l, nu = 0.5)\n",
    "    k2 = NTK(depth = 3, c = 2.0, bias = 2.0)\n",
    "    print(k1(x,y))\n",
    "    print(k2(x,y))"
   ]
  },
  {
   "cell_type": "code",
   "execution_count": null,
   "metadata": {
    "collapsed": false,
    "pycharm": {
     "name": "#%%\n"
    }
   },
   "outputs": [],
   "source": [
    "k2 = NTK(depth = 3, c = 2.0, bias = 2.05)\n",
    "k2.bias = 3\n",
    "k2.get_params()\n"
   ]
  },
  {
   "cell_type": "code",
   "execution_count": null,
   "metadata": {},
   "outputs": [],
   "source": [
    "k1 = Matern(nu=0.5)\n",
    "k2 = NTK(depth=3, c=2.0)\n",
    "\n",
    "bias = np.linspace(0, 10, 100)\n",
    "lengthscale = np.linspace(0.0001, 10, 100)\n",
    "\n",
    "candidates = []\n",
    "for coor in tqdm(range(0, 100), leave=False):\n",
    "    data = {'xy': [], 'params': [], 'var': []}\n",
    "    x1 = normalize(np.random.randint(0, 100, 3).reshape(1,-1))\n",
    "    y1 = normalize(np.random.randint(0, 100, 3).reshape(1,-1))\n",
    "\n",
    "    x2 = normalize(np.random.randint(0, 100, 3).reshape(1,-1))\n",
    "    y2 = normalize(np.random.randint(0, 100, 3).reshape(1,-1))\n",
    "\n",
    "    data['xy'].append(((x1, y1), (x2, y2)))\n",
    "\n",
    "    for b in bias:\n",
    "        k2.bias = b\n",
    "        for ell in lengthscale:\n",
    "            k1.length_scale = ell\n",
    "            data['params'].append((k2.bias, k1.length_scale))\n",
    "            data['var'].append(\n",
    "                np.var([(k1(x1,y1)-k2(x1,y1)).squeeze(), (k1(x2,y2)-k2(x2,y2)).squeeze()])\n",
    "            )\n",
    "\n",
    "    candidates.append(data)\n",
    "\n",
    "\n"
   ]
  },
  {
   "cell_type": "code",
   "execution_count": 48,
   "metadata": {
    "collapsed": false,
    "pycharm": {
     "name": "#%%\n"
    }
   },
   "outputs": [
    {
     "name": "stdout",
     "output_type": "stream",
     "text": [
      "bias = 0.0\n",
      "mean(lengthscales) = 0.4770072653473283\n",
      "var(lengthscales) = 0.041329834647556615\n",
      "bias = 0.001\n",
      "mean(lengthscales) = 0.4744110314713321\n",
      "var(lengthscales) = 0.0419321394016437\n",
      "bias = 0.002\n",
      "mean(lengthscales) = 0.4613427763298891\n",
      "var(lengthscales) = 0.036067953988580495\n",
      "bias = 0.003\n",
      "mean(lengthscales) = 0.4492612412351211\n",
      "var(lengthscales) = 0.044258491153953486\n",
      "bias = 0.004\n",
      "mean(lengthscales) = 0.48089069048383626\n",
      "var(lengthscales) = 0.04009397736153122\n",
      "bias = 0.005\n",
      "mean(lengthscales) = 0.47622232894551286\n",
      "var(lengthscales) = 0.04225869547217912\n",
      "bias = 0.006\n",
      "mean(lengthscales) = 0.4880354198117091\n",
      "var(lengthscales) = 0.03761847014393136\n",
      "bias = 0.007\n",
      "mean(lengthscales) = 0.46229862031002983\n",
      "var(lengthscales) = 0.03151347309554651\n",
      "bias = 0.008\n",
      "mean(lengthscales) = 0.48107311593497765\n",
      "var(lengthscales) = 0.04026967898715058\n",
      "bias = 0.009\n",
      "mean(lengthscales) = 0.4814629232090703\n",
      "var(lengthscales) = 0.044984454433552104\n",
      "bias = 0.01\n",
      "mean(lengthscales) = 0.4613178530032138\n",
      "var(lengthscales) = 0.04062078153288055\n",
      "bias = 0.011\n",
      "mean(lengthscales) = 0.5084246455511664\n",
      "var(lengthscales) = 0.04758219926711256\n",
      "bias = 0.012\n",
      "mean(lengthscales) = 0.4806027910009765\n",
      "var(lengthscales) = 0.03421546485917571\n",
      "bias = 0.013\n",
      "mean(lengthscales) = 0.47621599239738027\n",
      "var(lengthscales) = 0.044168712041663255\n",
      "bias = 0.014\n",
      "mean(lengthscales) = 0.4867062369327047\n",
      "var(lengthscales) = 0.045577937041850515\n",
      "bias = 0.015\n",
      "mean(lengthscales) = 0.4715580042624831\n",
      "var(lengthscales) = 0.04381242809458616\n",
      "bias = 0.016\n",
      "mean(lengthscales) = 0.5176789455831764\n",
      "var(lengthscales) = 0.04184675126623561\n",
      "bias = 0.017\n",
      "mean(lengthscales) = 0.4533607181742704\n",
      "var(lengthscales) = 0.03206870062710016\n",
      "bias = 0.018\n",
      "mean(lengthscales) = 0.4525875720198883\n",
      "var(lengthscales) = 0.04258411538779974\n",
      "bias = 0.019\n",
      "mean(lengthscales) = 0.48492522892504797\n",
      "var(lengthscales) = 0.03795528963684085\n",
      "bias = 0.02\n",
      "mean(lengthscales) = 0.4477839445963096\n",
      "var(lengthscales) = 0.04132100282353877\n",
      "bias = 0.021\n",
      "mean(lengthscales) = 0.46963534505157667\n",
      "var(lengthscales) = 0.04513366700466825\n",
      "bias = 0.022\n",
      "mean(lengthscales) = 0.4622656477062171\n",
      "var(lengthscales) = 0.036104556826340166\n",
      "bias = 0.023\n",
      "mean(lengthscales) = 0.44386828691713065\n",
      "var(lengthscales) = 0.03655850076509502\n",
      "bias = 0.024\n",
      "mean(lengthscales) = 0.4506755323173025\n",
      "var(lengthscales) = 0.03991801695975035\n",
      "bias = 0.025\n",
      "mean(lengthscales) = 0.4829847891353882\n",
      "var(lengthscales) = 0.0427526885674579\n",
      "bias = 0.026\n",
      "mean(lengthscales) = 0.4878217749322457\n",
      "var(lengthscales) = 0.041896961776165066\n",
      "bias = 0.027\n",
      "mean(lengthscales) = 0.44416144648733125\n",
      "var(lengthscales) = 0.03637342569059113\n",
      "bias = 0.028\n",
      "mean(lengthscales) = 0.48867523271375285\n",
      "var(lengthscales) = 0.03166674821923174\n",
      "bias = 0.029\n",
      "mean(lengthscales) = 0.5187342715197909\n",
      "var(lengthscales) = 0.04200212281329969\n",
      "bias = 0.03\n",
      "mean(lengthscales) = 0.5032283415271337\n",
      "var(lengthscales) = 0.04544264882853295\n",
      "bias = 0.031\n",
      "mean(lengthscales) = 0.4655658453262746\n",
      "var(lengthscales) = 0.04168207114415548\n",
      "bias = 0.032\n",
      "mean(lengthscales) = 0.47678877944793896\n",
      "var(lengthscales) = 0.040437673824547125\n",
      "bias = 0.033\n",
      "mean(lengthscales) = 0.47975818503762535\n",
      "var(lengthscales) = 0.04136445558035769\n",
      "bias = 0.034\n",
      "mean(lengthscales) = 0.5063895759853382\n",
      "var(lengthscales) = 0.0353266068314173\n",
      "bias = 0.035\n",
      "mean(lengthscales) = 0.4790141995365829\n",
      "var(lengthscales) = 0.04530095875435752\n",
      "bias = 0.036\n",
      "mean(lengthscales) = 0.49566364850595035\n",
      "var(lengthscales) = 0.04039075694966773\n",
      "bias = 0.037\n",
      "mean(lengthscales) = 0.4879824815283002\n",
      "var(lengthscales) = 0.03822957520630814\n",
      "bias = 0.038\n",
      "mean(lengthscales) = 0.48113512366046807\n",
      "var(lengthscales) = 0.0409699823420335\n",
      "bias = 0.039\n",
      "mean(lengthscales) = 0.48376571967367005\n",
      "var(lengthscales) = 0.03648278414612683\n",
      "bias = 0.04\n",
      "mean(lengthscales) = 0.478826886815315\n",
      "var(lengthscales) = 0.043482605335195955\n",
      "bias = 0.041\n",
      "mean(lengthscales) = 0.4655157550942709\n",
      "var(lengthscales) = 0.04229806082800375\n",
      "bias = 0.042\n",
      "mean(lengthscales) = 0.4948710926820395\n",
      "var(lengthscales) = 0.036215998407182294\n",
      "bias = 0.043\n",
      "mean(lengthscales) = 0.4591062199206999\n",
      "var(lengthscales) = 0.040609801633813794\n",
      "bias = 0.044\n",
      "mean(lengthscales) = 0.4814562845928502\n",
      "var(lengthscales) = 0.040956608721879874\n",
      "bias = 0.045\n",
      "mean(lengthscales) = 0.4868867785859038\n",
      "var(lengthscales) = 0.03842523099037353\n",
      "bias = 0.046\n",
      "mean(lengthscales) = 0.4532611436041734\n",
      "var(lengthscales) = 0.040943668829050664\n",
      "bias = 0.047\n",
      "mean(lengthscales) = 0.4813025591863279\n",
      "var(lengthscales) = 0.03912563612285953\n",
      "bias = 0.048\n",
      "mean(lengthscales) = 0.43431857384320105\n",
      "var(lengthscales) = 0.03330967313972202\n",
      "bias = 0.049\n",
      "mean(lengthscales) = 0.46605822152306864\n",
      "var(lengthscales) = 0.03718779545121818\n",
      "bias = 0.05\n",
      "mean(lengthscales) = 0.47287849229299317\n",
      "var(lengthscales) = 0.036374443396319116\n",
      "bias = 0.051\n",
      "mean(lengthscales) = 0.4375238840821663\n",
      "var(lengthscales) = 0.041513079190353304\n",
      "bias = 0.052\n",
      "mean(lengthscales) = 0.4384368081743494\n",
      "var(lengthscales) = 0.03233051813098387\n",
      "bias = 0.053\n",
      "mean(lengthscales) = 0.46151600573488577\n",
      "var(lengthscales) = 0.03722831752438556\n",
      "bias = 0.054\n",
      "mean(lengthscales) = 0.4375611196634652\n",
      "var(lengthscales) = 0.0371462446562361\n",
      "bias = 0.055\n",
      "mean(lengthscales) = 0.4458913235093528\n",
      "var(lengthscales) = 0.03945086612463551\n",
      "bias = 0.056\n",
      "mean(lengthscales) = 0.4890830540717777\n",
      "var(lengthscales) = 0.041491384452779806\n",
      "bias = 0.057\n",
      "mean(lengthscales) = 0.5183530773775094\n",
      "var(lengthscales) = 0.04702342339189977\n",
      "bias = 0.058\n",
      "mean(lengthscales) = 0.46594841904465056\n",
      "var(lengthscales) = 0.03753309605689739\n",
      "bias = 0.059\n",
      "mean(lengthscales) = 0.49564048725744797\n",
      "var(lengthscales) = 0.03593499505080025\n",
      "bias = 0.06\n",
      "mean(lengthscales) = 0.49841545828178985\n",
      "var(lengthscales) = 0.04657431574204357\n",
      "bias = 0.061\n",
      "mean(lengthscales) = 0.4511259494633326\n",
      "var(lengthscales) = 0.04732466658289141\n",
      "bias = 0.062\n",
      "mean(lengthscales) = 0.49930910098834114\n",
      "var(lengthscales) = 0.039754763291311\n",
      "bias = 0.063\n",
      "mean(lengthscales) = 0.4488360103723156\n",
      "var(lengthscales) = 0.034381775068862475\n",
      "bias = 0.064\n",
      "mean(lengthscales) = 0.46218425483413406\n",
      "var(lengthscales) = 0.04497581630659612\n",
      "bias = 0.065\n",
      "mean(lengthscales) = 0.45706797981804165\n",
      "var(lengthscales) = 0.03789237820642853\n",
      "bias = 0.066\n",
      "mean(lengthscales) = 0.47482853545160936\n",
      "var(lengthscales) = 0.03913283878641312\n",
      "bias = 0.067\n",
      "mean(lengthscales) = 0.4744028763194473\n",
      "var(lengthscales) = 0.03925353734591491\n",
      "bias = 0.068\n",
      "mean(lengthscales) = 0.4742479883230978\n",
      "var(lengthscales) = 0.03960055863308664\n",
      "bias = 0.069\n"
     ]
    },
    {
     "ename": "KeyboardInterrupt",
     "evalue": "",
     "output_type": "error",
     "traceback": [
      "\u001b[0;31m---------------------------------------------------------------------------\u001b[0m",
      "\u001b[0;31mKeyboardInterrupt\u001b[0m                         Traceback (most recent call last)",
      "\u001b[0;32m/tmp/ipykernel_2967426/3319687131.py\u001b[0m in \u001b[0;36m<module>\u001b[0;34m\u001b[0m\n\u001b[1;32m     12\u001b[0m         \u001b[0my2\u001b[0m \u001b[0;34m=\u001b[0m \u001b[0mnormalize\u001b[0m\u001b[0;34m(\u001b[0m\u001b[0my2\u001b[0m\u001b[0;34m)\u001b[0m\u001b[0;34m\u001b[0m\u001b[0;34m\u001b[0m\u001b[0m\n\u001b[1;32m     13\u001b[0m \u001b[0;34m\u001b[0m\u001b[0m\n\u001b[0;32m---> 14\u001b[0;31m         \u001b[0mK\u001b[0m \u001b[0;34m=\u001b[0m \u001b[0mk2\u001b[0m\u001b[0;34m(\u001b[0m\u001b[0mx2\u001b[0m\u001b[0;34m,\u001b[0m\u001b[0my2\u001b[0m\u001b[0;34m)\u001b[0m\u001b[0;34m\u001b[0m\u001b[0;34m\u001b[0m\u001b[0m\n\u001b[0m\u001b[1;32m     15\u001b[0m         \u001b[0mlengthscales\u001b[0m\u001b[0;34m[\u001b[0m\u001b[0mi\u001b[0m\u001b[0;34m]\u001b[0m \u001b[0;34m=\u001b[0m \u001b[0;34m-\u001b[0m \u001b[0mnp\u001b[0m\u001b[0;34m.\u001b[0m\u001b[0mlinalg\u001b[0m\u001b[0;34m.\u001b[0m\u001b[0mnorm\u001b[0m\u001b[0;34m(\u001b[0m\u001b[0mx2\u001b[0m\u001b[0;34m-\u001b[0m\u001b[0my2\u001b[0m\u001b[0;34m)\u001b[0m \u001b[0;34m/\u001b[0m \u001b[0mnp\u001b[0m\u001b[0;34m.\u001b[0m\u001b[0mlog\u001b[0m\u001b[0;34m(\u001b[0m\u001b[0mk1\u001b[0m\u001b[0;34m(\u001b[0m\u001b[0mx2\u001b[0m\u001b[0;34m,\u001b[0m\u001b[0my2\u001b[0m\u001b[0;34m)\u001b[0m\u001b[0;34m)\u001b[0m\u001b[0;34m\u001b[0m\u001b[0;34m\u001b[0m\u001b[0m\n\u001b[1;32m     16\u001b[0m     \u001b[0mprint\u001b[0m\u001b[0;34m(\u001b[0m\u001b[0;34mf\"mean(lengthscales) = {np.mean(lengthscales)}\"\u001b[0m\u001b[0;34m)\u001b[0m\u001b[0;34m\u001b[0m\u001b[0;34m\u001b[0m\u001b[0m\n",
      "\u001b[0;32m~/Documents/code/python/thesis/kernel.py\u001b[0m in \u001b[0;36m__call__\u001b[0;34m(self, X, Z, eval_gradient)\u001b[0m\n\u001b[1;32m     43\u001b[0m             \u001b[0mdiag\u001b[0m \u001b[0;34m=\u001b[0m \u001b[0mnp\u001b[0m\u001b[0;34m.\u001b[0m\u001b[0mdiag\u001b[0m\u001b[0;34m(\u001b[0m\u001b[0mΣ_mat\u001b[0m\u001b[0;34m)\u001b[0m \u001b[0;34m+\u001b[0m \u001b[0;36m1e-15\u001b[0m \u001b[0;31m# WAS ON BEFORE TO FIX NUMERICAL ERROR\u001b[0m\u001b[0;34m\u001b[0m\u001b[0;34m\u001b[0m\u001b[0m\n\u001b[1;32m     44\u001b[0m             \u001b[0mdenominator\u001b[0m \u001b[0;34m=\u001b[0m \u001b[0mnp\u001b[0m\u001b[0;34m.\u001b[0m\u001b[0msqrt\u001b[0m\u001b[0;34m(\u001b[0m\u001b[0mnp\u001b[0m\u001b[0;34m.\u001b[0m\u001b[0mouter\u001b[0m\u001b[0;34m(\u001b[0m\u001b[0mdiag\u001b[0m\u001b[0;34m,\u001b[0m \u001b[0mdiag\u001b[0m\u001b[0;34m)\u001b[0m\u001b[0;34m)\u001b[0m\u001b[0;34m\u001b[0m\u001b[0;34m\u001b[0m\u001b[0m\n\u001b[0;32m---> 45\u001b[0;31m             \u001b[0mλ\u001b[0m \u001b[0;34m=\u001b[0m \u001b[0mnp\u001b[0m\u001b[0;34m.\u001b[0m\u001b[0mclip\u001b[0m\u001b[0;34m(\u001b[0m\u001b[0mΣ_mat\u001b[0m \u001b[0;34m/\u001b[0m \u001b[0mdenominator\u001b[0m\u001b[0;34m,\u001b[0m \u001b[0ma_min\u001b[0m\u001b[0;34m=\u001b[0m\u001b[0;34m-\u001b[0m\u001b[0;36m1\u001b[0m\u001b[0;34m,\u001b[0m \u001b[0ma_max\u001b[0m\u001b[0;34m=\u001b[0m\u001b[0;36m1\u001b[0m\u001b[0;34m)\u001b[0m\u001b[0;34m\u001b[0m\u001b[0;34m\u001b[0m\u001b[0m\n\u001b[0m\u001b[1;32m     46\u001b[0m             \u001b[0mΣ_mat\u001b[0m \u001b[0;34m=\u001b[0m \u001b[0;34m(\u001b[0m\u001b[0mself\u001b[0m\u001b[0;34m.\u001b[0m\u001b[0mc\u001b[0m \u001b[0;34m/\u001b[0m \u001b[0;34m(\u001b[0m\u001b[0;36m2\u001b[0m \u001b[0;34m*\u001b[0m \u001b[0mnp\u001b[0m\u001b[0;34m.\u001b[0m\u001b[0mpi\u001b[0m\u001b[0;34m)\u001b[0m\u001b[0;34m)\u001b[0m \u001b[0;34m*\u001b[0m \u001b[0;34m(\u001b[0m\u001b[0mλ\u001b[0m \u001b[0;34m*\u001b[0m \u001b[0;34m(\u001b[0m\u001b[0mnp\u001b[0m\u001b[0;34m.\u001b[0m\u001b[0mpi\u001b[0m \u001b[0;34m-\u001b[0m \u001b[0mnp\u001b[0m\u001b[0;34m.\u001b[0m\u001b[0marccos\u001b[0m\u001b[0;34m(\u001b[0m\u001b[0mλ\u001b[0m\u001b[0;34m)\u001b[0m\u001b[0;34m)\u001b[0m \u001b[0;34m+\u001b[0m \u001b[0mnp\u001b[0m\u001b[0;34m.\u001b[0m\u001b[0msqrt\u001b[0m\u001b[0;34m(\u001b[0m\u001b[0;36m1\u001b[0m \u001b[0;34m-\u001b[0m \u001b[0mλ\u001b[0m\u001b[0;34m**\u001b[0m\u001b[0;36m2\u001b[0m\u001b[0;34m)\u001b[0m\u001b[0;34m)\u001b[0m \u001b[0;34m*\u001b[0m \u001b[0mdenominator\u001b[0m\u001b[0;34m\u001b[0m\u001b[0;34m\u001b[0m\u001b[0m\n\u001b[1;32m     47\u001b[0m             \u001b[0mΣ_mat_dot\u001b[0m \u001b[0;34m=\u001b[0m \u001b[0;34m(\u001b[0m\u001b[0mself\u001b[0m\u001b[0;34m.\u001b[0m\u001b[0mc\u001b[0m \u001b[0;34m/\u001b[0m \u001b[0;34m(\u001b[0m\u001b[0;36m2\u001b[0m \u001b[0;34m*\u001b[0m \u001b[0mnp\u001b[0m\u001b[0;34m.\u001b[0m\u001b[0mpi\u001b[0m\u001b[0;34m)\u001b[0m\u001b[0;34m)\u001b[0m \u001b[0;34m*\u001b[0m \u001b[0;34m(\u001b[0m\u001b[0mnp\u001b[0m\u001b[0;34m.\u001b[0m\u001b[0mpi\u001b[0m \u001b[0;34m-\u001b[0m \u001b[0mnp\u001b[0m\u001b[0;34m.\u001b[0m\u001b[0marccos\u001b[0m\u001b[0;34m(\u001b[0m\u001b[0mλ\u001b[0m\u001b[0;34m)\u001b[0m\u001b[0;34m)\u001b[0m\u001b[0;34m\u001b[0m\u001b[0;34m\u001b[0m\u001b[0m\n",
      "\u001b[0;32m<__array_function__ internals>\u001b[0m in \u001b[0;36mclip\u001b[0;34m(*args, **kwargs)\u001b[0m\n",
      "\u001b[0;32m~/Tools/anaconda3/envs/thesis/lib/python3.9/site-packages/numpy/core/fromnumeric.py\u001b[0m in \u001b[0;36mclip\u001b[0;34m(a, a_min, a_max, out, **kwargs)\u001b[0m\n\u001b[1;32m   2101\u001b[0m \u001b[0;34m\u001b[0m\u001b[0m\n\u001b[1;32m   2102\u001b[0m     \"\"\"\n\u001b[0;32m-> 2103\u001b[0;31m     \u001b[0;32mreturn\u001b[0m \u001b[0m_wrapfunc\u001b[0m\u001b[0;34m(\u001b[0m\u001b[0ma\u001b[0m\u001b[0;34m,\u001b[0m \u001b[0;34m'clip'\u001b[0m\u001b[0;34m,\u001b[0m \u001b[0ma_min\u001b[0m\u001b[0;34m,\u001b[0m \u001b[0ma_max\u001b[0m\u001b[0;34m,\u001b[0m \u001b[0mout\u001b[0m\u001b[0;34m=\u001b[0m\u001b[0mout\u001b[0m\u001b[0;34m,\u001b[0m \u001b[0;34m**\u001b[0m\u001b[0mkwargs\u001b[0m\u001b[0;34m)\u001b[0m\u001b[0;34m\u001b[0m\u001b[0;34m\u001b[0m\u001b[0m\n\u001b[0m\u001b[1;32m   2104\u001b[0m \u001b[0;34m\u001b[0m\u001b[0m\n\u001b[1;32m   2105\u001b[0m \u001b[0;34m\u001b[0m\u001b[0m\n",
      "\u001b[0;32m~/Tools/anaconda3/envs/thesis/lib/python3.9/site-packages/numpy/core/fromnumeric.py\u001b[0m in \u001b[0;36m_wrapfunc\u001b[0;34m(obj, method, *args, **kwds)\u001b[0m\n\u001b[1;32m     56\u001b[0m \u001b[0;34m\u001b[0m\u001b[0m\n\u001b[1;32m     57\u001b[0m     \u001b[0;32mtry\u001b[0m\u001b[0;34m:\u001b[0m\u001b[0;34m\u001b[0m\u001b[0;34m\u001b[0m\u001b[0m\n\u001b[0;32m---> 58\u001b[0;31m         \u001b[0;32mreturn\u001b[0m \u001b[0mbound\u001b[0m\u001b[0;34m(\u001b[0m\u001b[0;34m*\u001b[0m\u001b[0margs\u001b[0m\u001b[0;34m,\u001b[0m \u001b[0;34m**\u001b[0m\u001b[0mkwds\u001b[0m\u001b[0;34m)\u001b[0m\u001b[0;34m\u001b[0m\u001b[0;34m\u001b[0m\u001b[0m\n\u001b[0m\u001b[1;32m     59\u001b[0m     \u001b[0;32mexcept\u001b[0m \u001b[0mTypeError\u001b[0m\u001b[0;34m:\u001b[0m\u001b[0;34m\u001b[0m\u001b[0;34m\u001b[0m\u001b[0m\n\u001b[1;32m     60\u001b[0m         \u001b[0;31m# A TypeError occurs if the object does have such a method in its\u001b[0m\u001b[0;34m\u001b[0m\u001b[0;34m\u001b[0m\u001b[0m\n",
      "\u001b[0;32m~/Tools/anaconda3/envs/thesis/lib/python3.9/site-packages/numpy/core/_methods.py\u001b[0m in \u001b[0;36m_clip\u001b[0;34m(a, min, max, out, casting, **kwargs)\u001b[0m\n\u001b[1;32m    156\u001b[0m             um.maximum, a, min, out=out, casting=casting, **kwargs)\n\u001b[1;32m    157\u001b[0m     \u001b[0;32melse\u001b[0m\u001b[0;34m:\u001b[0m\u001b[0;34m\u001b[0m\u001b[0;34m\u001b[0m\u001b[0m\n\u001b[0;32m--> 158\u001b[0;31m         return _clip_dep_invoke_with_casting(\n\u001b[0m\u001b[1;32m    159\u001b[0m             um.clip, a, min, max, out=out, casting=casting, **kwargs)\n\u001b[1;32m    160\u001b[0m \u001b[0;34m\u001b[0m\u001b[0m\n",
      "\u001b[0;32m~/Tools/anaconda3/envs/thesis/lib/python3.9/site-packages/numpy/core/_methods.py\u001b[0m in \u001b[0;36m_clip_dep_invoke_with_casting\u001b[0;34m(ufunc, out, casting, *args, **kwargs)\u001b[0m\n\u001b[1;32m    103\u001b[0m     \u001b[0;32mreturn\u001b[0m \u001b[0;32mFalse\u001b[0m\u001b[0;34m\u001b[0m\u001b[0;34m\u001b[0m\u001b[0m\n\u001b[1;32m    104\u001b[0m \u001b[0;34m\u001b[0m\u001b[0m\n\u001b[0;32m--> 105\u001b[0;31m \u001b[0;32mdef\u001b[0m \u001b[0m_clip_dep_invoke_with_casting\u001b[0m\u001b[0;34m(\u001b[0m\u001b[0mufunc\u001b[0m\u001b[0;34m,\u001b[0m \u001b[0;34m*\u001b[0m\u001b[0margs\u001b[0m\u001b[0;34m,\u001b[0m \u001b[0mout\u001b[0m\u001b[0;34m=\u001b[0m\u001b[0;32mNone\u001b[0m\u001b[0;34m,\u001b[0m \u001b[0mcasting\u001b[0m\u001b[0;34m=\u001b[0m\u001b[0;32mNone\u001b[0m\u001b[0;34m,\u001b[0m \u001b[0;34m**\u001b[0m\u001b[0mkwargs\u001b[0m\u001b[0;34m)\u001b[0m\u001b[0;34m:\u001b[0m\u001b[0;34m\u001b[0m\u001b[0;34m\u001b[0m\u001b[0m\n\u001b[0m\u001b[1;32m    106\u001b[0m     \u001b[0;31m# normal path\u001b[0m\u001b[0;34m\u001b[0m\u001b[0;34m\u001b[0m\u001b[0m\n\u001b[1;32m    107\u001b[0m     \u001b[0;32mif\u001b[0m \u001b[0mcasting\u001b[0m \u001b[0;32mis\u001b[0m \u001b[0;32mnot\u001b[0m \u001b[0;32mNone\u001b[0m\u001b[0;34m:\u001b[0m\u001b[0;34m\u001b[0m\u001b[0;34m\u001b[0m\u001b[0m\n",
      "\u001b[0;31mKeyboardInterrupt\u001b[0m: "
     ]
    }
   ],
   "source": [
    "k1 = NTK(depth=100, c=2.0)\n",
    "\n",
    "for b in range(0,1000):\n",
    "    k1.bias = b/1000\n",
    "    print(f\"bias = {k1.bias}\")\n",
    "    lengthscales = np.zeros([100])\n",
    "    for i in range(0,100):\n",
    "        x2 = np.random.randint(0,100,3).reshape(1,-1)\n",
    "        y2 = np.random.randint(0,100,3).reshape(1,-1)\n",
    "\n",
    "        x2 = normalize(x2)\n",
    "        y2 = normalize(y2)\n",
    "\n",
    "        K = k2(x2,y2)\n",
    "        lengthscales[i] = - np.linalg.norm(x2-y2) / np.log(k1(x2,y2))\n",
    "    print(f\"mean(lengthscales) = {np.mean(lengthscales)}\")\n",
    "    print(f\"var(lengthscales) = {np.var(lengthscales)}\")"
   ]
  },
  {
   "cell_type": "code",
   "execution_count": null,
   "metadata": {
    "collapsed": false,
    "pycharm": {
     "name": "#%%\n"
    }
   },
   "outputs": [],
   "source": []
  },
  {
   "cell_type": "code",
   "execution_count": 140,
   "metadata": {
    "collapsed": false,
    "pycharm": {
     "name": "#%%\n"
    }
   },
   "outputs": [
    {
     "name": "stdout",
     "output_type": "stream",
     "text": [
      "[[0.27682645]]\n",
      "[[0.28592777]]\n"
     ]
    }
   ],
   "source": [
    "# \"d\" doesn't matter (here is S^{49})\n",
    "\n",
    "k1 = Matern(length_scale=0.55, nu=0.5)\n",
    "k2 = NTK(depth = 100, c = 2.0, bias = 0)\n",
    "\n",
    "\n",
    "x2 = np.random.randint(0,100,100).reshape(1,-1)\n",
    "y2 = np.random.randint(0,100,100).reshape(1,-1)\n",
    "\n",
    "x2 = normalize(x2)\n",
    "y2 = normalize(y2)\n",
    "\n",
    "print(k1(x2,y2))\n",
    "print(k2(x2,y2))"
   ]
  }
 ],
 "metadata": {
  "kernelspec": {
   "display_name": "Python 3",
   "language": "python",
   "name": "python3"
  },
  "language_info": {
   "codemirror_mode": {
    "name": "ipython",
    "version": 3
   },
   "file_extension": ".py",
   "mimetype": "text/x-python",
   "name": "python",
   "nbconvert_exporter": "python",
   "pygments_lexer": "ipython3",
   "version": "3.9.7"
  }
 },
 "nbformat": 4,
 "nbformat_minor": 0
}
