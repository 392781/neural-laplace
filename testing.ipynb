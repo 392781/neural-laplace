{
 "cells": [
  {
   "cell_type": "code",
   "execution_count": 1,
   "metadata": {},
   "outputs": [],
   "source": [
    "from sklearn.gaussian_process import GaussianProcessRegressor as GPR\n",
    "from sklearn.gaussian_process.kernels import *\n",
    "from sklearn.kernel_approximation import Nystroem\n",
    "import matplotlib.pyplot as plt \n",
    "import numpy as np"
   ]
  },
  {
   "cell_type": "markdown",
   "metadata": {},
   "source": [
    "## Example"
   ]
  },
  {
   "cell_type": "code",
   "execution_count": 2,
   "metadata": {},
   "outputs": [],
   "source": [
    "# class RBF(StationaryKernelMixin, NormalizedKernelMixin, Kernel):\n",
    "#     def __init__(self, length_scale=1.0, length_scale_bounds=(1e-5, 1e5)):\n",
    "#         self.length_scale = length_scale\n",
    "#         self.length_scale_bounds = length_scale_bounds\n",
    "\n",
    "#     @property\n",
    "#     def anisotropic(self):\n",
    "#         return np.iterable(self.length_scale) and len(self.length_scale) > 1\n",
    "\n",
    "#     @property\n",
    "#     def hyperparameter_length_scale(self):\n",
    "#         if self.anisotropic:\n",
    "#             return Hyperparameter(\n",
    "#                 \"length_scale\",\n",
    "#                 \"numeric\",\n",
    "#                 self.length_scale_bounds,\n",
    "#                 len(self.length_scale),\n",
    "#             )\n",
    "#         return Hyperparameter(\"length_scale\", \"numeric\", self.length_scale_bounds)\n",
    "\n",
    "#     def __call__(self, X, Y=None, eval_gradient=False):\n",
    "#         \"\"\"Return the kernel k(X, Y) and optionally its gradient.\n",
    "#         Parameters\n",
    "#         ----------\n",
    "#         X : ndarray of shape (n_samples_X, n_features)\n",
    "#             Left argument of the returned kernel k(X, Y)\n",
    "#         Y : ndarray of shape (n_samples_Y, n_features), default=None\n",
    "#             Right argument of the returned kernel k(X, Y). If None, k(X, X)\n",
    "#             if evaluated instead.\n",
    "#         eval_gradient : bool, default=False\n",
    "#             Determines whether the gradient with respect to the log of\n",
    "#             the kernel hyperparameter is computed.\n",
    "#             Only supported when Y is None.\n",
    "#         Returns\n",
    "#         -------\n",
    "#         K : ndarray of shape (n_samples_X, n_samples_Y)\n",
    "#             Kernel k(X, Y)\n",
    "#         K_gradient : ndarray of shape (n_samples_X, n_samples_X, n_dims), \\\n",
    "#                 optional\n",
    "#             The gradient of the kernel k(X, X) with respect to the log of the\n",
    "#             hyperparameter of the kernel. Only returned when `eval_gradient`\n",
    "#             is True.\n",
    "#         \"\"\"\n",
    "#         X = np.atleast_2d(X)\n",
    "#         length_scale = _check_length_scale(X, self.length_scale)\n",
    "#         if Y is None:\n",
    "#             dists = pdist(X / length_scale, metric=\"sqeuclidean\")\n",
    "#             K = np.exp(-0.5 * dists)\n",
    "#             # convert from upper-triangular matrix to square matrix\n",
    "#             K = squareform(K)\n",
    "#             np.fill_diagonal(K, 1)\n",
    "#         else:\n",
    "#             if eval_gradient:\n",
    "#                 raise ValueError(\"Gradient can only be evaluated when Y is None.\")\n",
    "#             dists = cdist(X / length_scale, Y / length_scale, metric=\"sqeuclidean\")\n",
    "#             K = np.exp(-0.5 * dists)\n",
    "\n",
    "#         if eval_gradient:\n",
    "#             if self.hyperparameter_length_scale.fixed:\n",
    "#                 # Hyperparameter l kept fixed\n",
    "#                 return K, np.empty((X.shape[0], X.shape[0], 0))\n",
    "#             elif not self.anisotropic or length_scale.shape[0] == 1:\n",
    "#                 K_gradient = (K * squareform(dists))[:, :, np.newaxis]\n",
    "#                 return K, K_gradient\n",
    "#             elif self.anisotropic:\n",
    "#                 # We need to recompute the pairwise dimension-wise distances\n",
    "#                 K_gradient = (X[:, np.newaxis, :] - X[np.newaxis, :, :]) ** 2 / (\n",
    "#                     length_scale ** 2\n",
    "#                 )\n",
    "#                 K_gradient *= K[..., np.newaxis]\n",
    "#                 return K, K_gradient\n",
    "#         else:\n",
    "#             return K\n",
    "\n",
    "#     def __repr__(self):\n",
    "#         if self.anisotropic:\n",
    "#             return \"{0}(length_scale=[{1}])\".format(\n",
    "#                 self.__class__.__name__,\n",
    "#                 \", \".join(map(\"{0:.3g}\".format, self.length_scale)),\n",
    "#             )\n",
    "#         else:  # isotropic\n",
    "#             return \"{0}(length_scale={1:.3g})\".format(\n",
    "#                 self.__class__.__name__, np.ravel(self.length_scale)[0]\n",
    "#             )\n"
   ]
  },
  {
   "cell_type": "markdown",
   "metadata": {},
   "source": [
    "## NTK"
   ]
  },
  {
   "cell_type": "code",
   "execution_count": 33,
   "metadata": {},
   "outputs": [],
   "source": [
    "class NTK(Kernel):\n",
    "    def __init__(\n",
    "        self, \n",
    "        depth, \n",
    "        # fixed_depth, \n",
    "        c=2.0):\n",
    "        self.depth = depth\n",
    "        # self.fixed_depth = fixed_depth\n",
    "        self.c = c\n",
    "\n",
    "    # Need's rewrite -> 2007.01580 uses x,z in R^d not whole matricies\n",
    "    def __call__(self, X, Z=None, eval_gradient=False):\n",
    "        \n",
    "\n",
    "        # sigma_0(X,Z) = X @ Z.T -> usually vector x vector = scaler\n",
    "        #                        -> but with n x m \n",
    "\n",
    "\n",
    "\n",
    "        if Z is None:\n",
    "            Z = X\n",
    "        # else:\n",
    "            \n",
    "\n",
    "        Σ = np.matmul(X, Z.T)\n",
    "        print(X.shape, Z.shape, Σ.shape)\n",
    "        Σ_dot = np.zeros_like(Σ)\n",
    "        Θ = np.zeros((self.depth, X.shape[0], Z.shape[0]))\n",
    "        Θ[0] = Σ\n",
    "\n",
    "        D = np.sqrt(np.matmul(X, X.T) * np.matmul(Z, Z.T))\n",
    "        \n",
    "        for dep in range(1, self.depth):\n",
    "            D = np.sqrt(np.matmul(X, X.T) * np.matmul(Z, Z.T))\n",
    "            λ = np.clip(Σ / D, a_min = - 1, a_max = 1)\n",
    "            Σ = (self.c/(2*np.pi)) * λ * (np.pi - np.arccos(λ) + np.sqrt(1 - λ**2)) * D\n",
    "            Σ_dot = (self.c/(2*np.pi)) * (np.pi - np.arccos(λ))\n",
    "            Θ[dep] = Θ[dep-1] * Σ_dot + Σ\n",
    "\n",
    "        if eval_gradient:\n",
    "            return Θ[self.depth-1], np.empty((X.shape[0], X.shape[0], 0))\n",
    "        else:\n",
    "            return Θ[self.depth-1]\n",
    "        \n",
    "        # return Θ\n",
    "\n",
    "    def diag(self, X):\n",
    "        return np.einsum(\"ij,ij->i\", X, X)\n",
    "\n",
    "    def is_stationary(self):\n",
    "        \"\"\"Returns whether the kernel is stationary.\"\"\"\n",
    "        return False\n",
    "\n",
    "    def __repr__(self):\n",
    "        return \"{0}(depth={1:3d}, c={2:.3f})\".format(\n",
    "                self.__class__.__name__, self.depth, self.c)"
   ]
  },
  {
   "cell_type": "code",
   "execution_count": 4,
   "metadata": {},
   "outputs": [],
   "source": [
    "\"\"\"\n",
    "Neural Tangent Kernel Precompute\n",
    "https://github.com/LeoYu/neural-tangent-kernel-UCI/\n",
    "\"\"\"\n",
    "def ntk_value(X, d_max, fix_dep): \n",
    "    K = np.zeros((d_max, X.shape[0], X.shape[0]))\n",
    "    Σ = np.matmul(X, X.T)\n",
    "    Σ_dot = np.zeros_like(Σ)\n",
    "    for dep in range(d_max):\n",
    "        if fix_dep <= dep:\n",
    "            Σ_dot += Σ\n",
    "        K[dep] = Σ_dot\n",
    "        L = np.diag(Σ)\n",
    "        P = np.clip(np.sqrt(np.outer(L, L)), a_min = 1e-9, a_max = None)\n",
    "        λ = np.clip(Σ / P, a_min = -1, a_max = 1)\n",
    "        Σ = (λ * (math.pi - np.arccos(λ)) + np.sqrt(1.0 - λ * λ)) * P / 2.0 / math.pi\n",
    "        Σ_dot = Σ_dot * (math.pi - np.arccos(λ)) / 2.0 / math.pi\n",
    "    return K[d_max - 1]"
   ]
  },
  {
   "cell_type": "markdown",
   "metadata": {},
   "source": [
    "## Gaussian Process Practice"
   ]
  },
  {
   "cell_type": "code",
   "execution_count": 5,
   "metadata": {},
   "outputs": [],
   "source": [
    "# Dataset\n",
    "rng = np.random.RandomState(624562)\n",
    "X = np.linspace(0, 10, 1000)\n",
    "y = X * np.sin(X)\n",
    "\n",
    "X = X.reshape((-1, 1))\n",
    "y = y.reshape((-1, 1))\n",
    "\n",
    "training_indices = rng.choice(np.arange(y.size), size=10, replace=False)\n",
    "x_train, y_train = X[training_indices], y[training_indices]\n",
    "y_train_noisy = y_train + rng.normal(loc=0.0, scale=0.75, size=y_train.shape)"
   ]
  },
  {
   "cell_type": "code",
   "execution_count": 6,
   "metadata": {},
   "outputs": [
    {
     "data": {
      "text/plain": [
       "[<matplotlib.lines.Line2D at 0x7f8b83107bb0>]"
      ]
     },
     "execution_count": 6,
     "metadata": {},
     "output_type": "execute_result"
    },
    {
     "data": {
      "image/png": "[encoded data removed]",
      "text/plain": [
       "<Figure size 432x288 with 1 Axes>"
      ]
     },
     "metadata": {
      "needs_background": "light"
     },
     "output_type": "display_data"
    }
   ],
   "source": [
    "plt.plot(X,y)"
   ]
  },
  {
   "cell_type": "code",
   "execution_count": 7,
   "metadata": {},
   "outputs": [
    {
     "data": {
      "text/plain": [
       "<matplotlib.collections.PathCollection at 0x7f8b827fd190>"
      ]
     },
     "execution_count": 7,
     "metadata": {},
     "output_type": "execute_result"
    },
    {
     "data": {
      "image/png": "[encoded data removed]",
      "text/plain": [
       "<Figure size 432x288 with 1 Axes>"
      ]
     },
     "metadata": {
      "needs_background": "light"
     },
     "output_type": "display_data"
    }
   ],
   "source": [
    "plt.scatter(x_train, y_train_noisy)"
   ]
  },
  {
   "cell_type": "code",
   "execution_count": 34,
   "metadata": {},
   "outputs": [
    {
     "name": "stdout",
     "output_type": "stream",
     "text": [
      "(10, 1) (10, 1) (10, 10)\n",
      "(10, 1) (10, 1) (10, 10)\n",
      "(10, 1) (10, 1) (10, 10)\n",
      "(10, 1) (10, 1) (10, 10)\n",
      "(10, 1) (10, 1) (10, 10)\n",
      "(10, 1) (10, 1) (10, 10)\n",
      "(10, 1) (10, 1) (10, 10)\n",
      "(10, 1) (10, 1) (10, 10)\n",
      "(10, 1) (10, 1) (10, 10)\n",
      "(10, 1) (10, 1) (10, 10)\n",
      "(10, 1) (10, 1) (10, 10)\n",
      "(10, 1) (10, 1) (10, 10)\n",
      "(10, 1) (10, 1) (10, 10)\n",
      "(10, 1) (10, 1) (10, 10)\n",
      "(10, 1) (10, 1) (10, 10)\n",
      "(10, 1) (10, 1) (10, 10)\n",
      "(10, 1) (10, 1) (10, 10)\n",
      "(10, 1) (10, 1) (10, 10)\n",
      "(10, 1) (10, 1) (10, 10)\n",
      "(10, 1) (10, 1) (10, 10)\n",
      "(10, 1) (10, 1) (10, 10)\n",
      "(10, 1) (10, 1) (10, 10)\n",
      "(10, 1) (10, 1) (10, 10)\n",
      "(10, 1) (10, 1) (10, 10)\n",
      "(10, 1) (10, 1) (10, 10)\n",
      "(10, 1) (10, 1) (10, 10)\n",
      "(10, 1) (10, 1) (10, 10)\n",
      "(10, 1) (10, 1) (10, 10)\n",
      "(10, 1) (10, 1) (10, 10)\n",
      "(10, 1) (10, 1) (10, 10)\n",
      "(10, 1) (10, 1) (10, 10)\n",
      "(10, 1) (10, 1) (10, 10)\n",
      "(10, 1) (10, 1) (10, 10)\n",
      "(10, 1) (10, 1) (10, 10)\n",
      "(10, 1) (10, 1) (10, 10)\n",
      "(10, 1) (10, 1) (10, 10)\n",
      "(10, 1) (10, 1) (10, 10)\n",
      "(10, 1) (10, 1) (10, 10)\n",
      "(10, 1) (10, 1) (10, 10)\n",
      "(10, 1) (10, 1) (10, 10)\n",
      "(10, 1) (10, 1) (10, 10)\n",
      "(10, 1) (10, 1) (10, 10)\n",
      "(10, 1) (10, 1) (10, 10)\n",
      "(10, 1) (10, 1) (10, 10)\n",
      "(10, 1) (10, 1) (10, 10)\n",
      "(10, 1) (10, 1) (10, 10)\n",
      "(10, 1) (10, 1) (10, 10)\n",
      "(10, 1) (10, 1) (10, 10)\n",
      "(10, 1) (10, 1) (10, 10)\n",
      "(10, 1) (10, 1) (10, 10)\n",
      "(10, 1) (10, 1) (10, 10)\n",
      "(10, 1) (10, 1) (10, 10)\n",
      "(10, 1) (10, 1) (10, 10)\n",
      "(10, 1) (10, 1) (10, 10)\n",
      "(10, 1) (10, 1) (10, 10)\n",
      "(10, 1) (10, 1) (10, 10)\n",
      "(10, 1) (10, 1) (10, 10)\n",
      "(10, 1) (10, 1) (10, 10)\n",
      "(10, 1) (10, 1) (10, 10)\n",
      "(10, 1) (10, 1) (10, 10)\n",
      "(10, 1) (10, 1) (10, 10)\n",
      "(10, 1) (10, 1) (10, 10)\n",
      "(10, 1) (10, 1) (10, 10)\n",
      "(10, 1) (10, 1) (10, 10)\n",
      "(10, 1) (10, 1) (10, 10)\n",
      "(10, 1) (10, 1) (10, 10)\n",
      "(10, 1) (10, 1) (10, 10)\n",
      "(10, 1) (10, 1) (10, 10)\n",
      "(10, 1) (10, 1) (10, 10)\n",
      "(10, 1) (10, 1) (10, 10)\n",
      "(10, 1) (10, 1) (10, 10)\n",
      "(10, 1) (10, 1) (10, 10)\n",
      "(10, 1) (10, 1) (10, 10)\n",
      "(10, 1) (10, 1) (10, 10)\n",
      "(10, 1) (10, 1) (10, 10)\n",
      "(10, 1) (10, 1) (10, 10)\n",
      "(10, 1) (10, 1) (10, 10)\n",
      "(10, 1) (10, 1) (10, 10)\n",
      "(10, 1) (10, 1) (10, 10)\n",
      "(10, 1) (10, 1) (10, 10)\n",
      "(10, 1) (10, 1) (10, 10)\n",
      "(10, 1) (10, 1) (10, 10)\n",
      "(10, 1) (10, 1) (10, 10)\n",
      "(10, 1) (10, 1) (10, 10)\n",
      "(10, 1) (10, 1) (10, 10)\n",
      "(10, 1) (10, 1) (10, 10)\n",
      "(10, 1) (10, 1) (10, 10)\n",
      "(10, 1) (10, 1) (10, 10)\n",
      "(10, 1) (10, 1) (10, 10)\n",
      "(10, 1) (10, 1) (10, 10)\n",
      "(10, 1) (10, 1) (10, 10)\n",
      "(10, 1) (10, 1) (10, 10)\n",
      "(10, 1) (10, 1) (10, 10)\n",
      "(10, 1) (10, 1) (10, 10)\n",
      "(10, 1) (10, 1) (10, 10)\n",
      "(10, 1) (10, 1) (10, 10)\n",
      "(10, 1) (10, 1) (10, 10)\n",
      "(10, 1) (10, 1) (10, 10)\n",
      "(10, 1) (10, 1) (10, 10)\n",
      "(10, 1) (10, 1) (10, 10)\n",
      "(10, 1) (10, 1) (10, 10)\n",
      "(10, 1) (10, 1) (10, 10)\n",
      "(10, 1) (10, 1) (10, 10)\n",
      "(10, 1) (10, 1) (10, 10)\n",
      "(10, 1) (10, 1) (10, 10)\n",
      "(10, 1) (10, 1) (10, 10)\n",
      "(10, 1) (10, 1) (10, 10)\n",
      "(10, 1) (10, 1) (10, 10)\n",
      "(10, 1) (10, 1) (10, 10)\n",
      "(10, 1) (10, 1) (10, 10)\n",
      "(10, 1) (10, 1) (10, 10)\n",
      "(10, 1) (10, 1) (10, 10)\n",
      "(10, 1) (10, 1) (10, 10)\n",
      "(10, 1) (10, 1) (10, 10)\n",
      "(10, 1) (10, 1) (10, 10)\n",
      "(10, 1) (10, 1) (10, 10)\n",
      "(10, 1) (10, 1) (10, 10)\n",
      "(10, 1) (10, 1) (10, 10)\n",
      "(10, 1) (10, 1) (10, 10)\n",
      "(10, 1) (10, 1) (10, 10)\n",
      "(10, 1) (10, 1) (10, 10)\n",
      "(10, 1) (10, 1) (10, 10)\n",
      "(10, 1) (10, 1) (10, 10)\n",
      "(10, 1) (10, 1) (10, 10)\n",
      "(10, 1) (10, 1) (10, 10)\n",
      "(10, 1) (10, 1) (10, 10)\n",
      "(10, 1) (10, 1) (10, 10)\n",
      "(10, 1) (10, 1) (10, 10)\n",
      "(10, 1) (10, 1) (10, 10)\n",
      "(10, 1) (10, 1) (10, 10)\n",
      "(10, 1) (10, 1) (10, 10)\n",
      "(10, 1) (10, 1) (10, 10)\n",
      "(10, 1) (10, 1) (10, 10)\n",
      "(10, 1) (10, 1) (10, 10)\n",
      "(10, 1) (10, 1) (10, 10)\n",
      "(10, 1) (10, 1) (10, 10)\n",
      "(10, 1) (10, 1) (10, 10)\n",
      "(10, 1) (10, 1) (10, 10)\n",
      "(10, 1) (10, 1) (10, 10)\n",
      "(10, 1) (10, 1) (10, 10)\n",
      "(10, 1) (10, 1) (10, 10)\n",
      "(10, 1) (10, 1) (10, 10)\n",
      "(10, 1) (10, 1) (10, 10)\n",
      "(10, 1) (10, 1) (10, 10)\n",
      "(10, 1) (10, 1) (10, 10)\n",
      "(10, 1) (10, 1) (10, 10)\n",
      "(10, 1) (10, 1) (10, 10)\n",
      "(10, 1) (10, 1) (10, 10)\n",
      "(10, 1) (10, 1) (10, 10)\n",
      "(10, 1) (10, 1) (10, 10)\n",
      "(10, 1) (10, 1) (10, 10)\n",
      "(10, 1) (10, 1) (10, 10)\n",
      "(10, 1) (10, 1) (10, 10)\n",
      "(10, 1) (10, 1) (10, 10)\n",
      "(10, 1) (10, 1) (10, 10)\n",
      "(10, 1) (10, 1) (10, 10)\n",
      "(10, 1) (10, 1) (10, 10)\n",
      "(10, 1) (10, 1) (10, 10)\n",
      "(10, 1) (10, 1) (10, 10)\n",
      "(10, 1) (10, 1) (10, 10)\n",
      "(10, 1) (10, 1) (10, 10)\n",
      "(10, 1) (10, 1) (10, 10)\n",
      "(10, 1) (10, 1) (10, 10)\n",
      "(10, 1) (10, 1) (10, 10)\n",
      "(10, 1) (10, 1) (10, 10)\n",
      "(10, 1) (10, 1) (10, 10)\n",
      "(10, 1) (10, 1) (10, 10)\n",
      "(10, 1) (10, 1) (10, 10)\n",
      "(10, 1) (10, 1) (10, 10)\n",
      "(10, 1) (10, 1) (10, 10)\n",
      "(10, 1) (10, 1) (10, 10)\n",
      "(10, 1) (10, 1) (10, 10)\n",
      "(10, 1) (10, 1) (10, 10)\n",
      "(10, 1) (10, 1) (10, 10)\n",
      "(10, 1) (10, 1) (10, 10)\n",
      "(10, 1) (10, 1) (10, 10)\n",
      "(10, 1) (10, 1) (10, 10)\n",
      "(10, 1) (10, 1) (10, 10)\n",
      "(10, 1) (10, 1) (10, 10)\n",
      "(10, 1) (10, 1) (10, 10)\n",
      "(10, 1) (10, 1) (10, 10)\n",
      "(10, 1) (10, 1) (10, 10)\n",
      "(10, 1) (10, 1) (10, 10)\n",
      "(10, 1) (10, 1) (10, 10)\n",
      "(10, 1) (10, 1) (10, 10)\n",
      "(10, 1) (10, 1) (10, 10)\n",
      "(10, 1) (10, 1) (10, 10)\n",
      "(10, 1) (10, 1) (10, 10)\n",
      "(10, 1) (10, 1) (10, 10)\n",
      "(10, 1) (10, 1) (10, 10)\n",
      "(10, 1) (10, 1) (10, 10)\n",
      "(10, 1) (10, 1) (10, 10)\n"
     ]
    },
    {
     "data": {
      "text/plain": [
       "0.249**2 * NTK(depth=  2, c=2.000) + WhiteKernel(noise_level=6.15)"
      ]
     },
     "execution_count": 34,
     "metadata": {},
     "output_type": "execute_result"
    }
   ],
   "source": [
    "# kernel = 1 * Matern(length_scale=1.0, length_scale_bounds=(1e-2, 1e2), nu=0.5)\n",
    "# kernel = ConstantKernel() * RBF(1, length_scale_bounds=(1e-2, 1e2)) + WhiteKernel(0.1, (1e-9, 1e5))\n",
    "kernel = ConstantKernel() * NTK(depth=2, c=2.0) + WhiteKernel(0.1)\n",
    "gp = GPR(kernel=kernel, n_restarts_optimizer=9)\n",
    "gp.fit(x_train, y_train_noisy)\n",
    "gp.kernel_"
   ]
  },
  {
   "cell_type": "code",
   "execution_count": 37,
   "metadata": {},
   "outputs": [
    {
     "name": "stdout",
     "output_type": "stream",
     "text": [
      "(10, 1) (10, 1) (10, 10)\n"
     ]
    },
    {
     "data": {
      "image/png": "[encoded data removed]",
      "text/plain": [
       "<Figure size 432x288 with 1 Axes>"
      ]
     },
     "metadata": {
      "needs_background": "light"
     },
     "output_type": "display_data"
    }
   ],
   "source": [
    "mean_pred, std_pred = gp.predict(x_train, return_std=True)\n",
    "\n",
    "plt.plot(X, y, label=r\"$f(x) = x \\sin(x)$\", linestyle=\"dotted\")\n",
    "plt.scatter(x=x_train.ravel(), y=y_train_noisy.ravel())\n",
    "plt.plot(x_train, mean_pred, label=\"Mean prediction\")\n",
    "plt.fill_between(\n",
    "    x_train.ravel(), \n",
    "    mean_pred.ravel() - 1.96*std_pred.ravel(), \n",
    "    mean_pred.ravel() + 1.96*std_pred.ravel(),\n",
    "    alpha=0.5)\n",
    "plt.legend()\n",
    "plt.xlabel(\"$x$\")\n",
    "plt.ylabel(\"$f(x)$\")\n",
    "_ = plt.title(\"Gaussian process regression on a noisy dataset\")"
   ]
  },
  {
   "cell_type": "code",
   "execution_count": 10,
   "metadata": {},
   "outputs": [],
   "source": [
    "laplace_kernel = Matern(\n",
    "    length_scale=1.0,\n",
    "    length_scale_bounds=(1e-5, 1e5),\n",
    "    nu=1/2\n",
    "    )\n",
    "\n"
   ]
  }
 ],
 "metadata": {
  "interpreter": {
   "hash": "68b02c908e2cdb95db1fe9ab6c7ce5e7b7519642826f3cbd5d028e2ea906a416"
  },
  "kernelspec": {
   "display_name": "Python 3.9.7 64-bit ('thesis': conda)",
   "language": "python",
   "name": "python3"
  },
  "language_info": {
   "codemirror_mode": {
    "name": "ipython",
    "version": 3
   },
   "file_extension": ".py",
   "mimetype": "text/x-python",
   "name": "python",
   "nbconvert_exporter": "python",
   "pygments_lexer": "ipython3",
   "version": "3.9.7"
  },
  "orig_nbformat": 4
 },
 "nbformat": 4,
 "nbformat_minor": 2
}
