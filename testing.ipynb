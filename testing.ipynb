{
 "cells": [
  {
   "cell_type": "markdown",
   "metadata": {},
   "source": [
    "### Imports"
   ]
  },
  {
   "cell_type": "code",
   "execution_count": 2,
   "metadata": {},
   "outputs": [],
   "source": [
    "from sklearn.gaussian_process import GaussianProcessRegressor as GPR\n",
    "from sklearn.gaussian_process.kernels import *\n",
    "from sklearn.kernel_approximation import Nystroem\n",
    "import matplotlib.pyplot as plt \n",
    "import numpy as np"
   ]
  },
  {
   "cell_type": "markdown",
   "metadata": {},
   "source": [
    "### NTK"
   ]
  },
  {
   "cell_type": "markdown",
   "metadata": {},
   "source": [
    "#### NTK Class"
   ]
  },
  {
   "cell_type": "code",
   "execution_count": 34,
   "metadata": {},
   "outputs": [],
   "source": [
    "class NTK(Kernel):\n",
    "    def __init__(\n",
    "        self, \n",
    "        depth, \n",
    "        # fixed_depth, \n",
    "        c=2.0):\n",
    "        self.depth = depth\n",
    "        # self.fixed_depth = fixed_depth\n",
    "        self.c = c\n",
    "\n",
    "    # Need's rewrite -> 2007.01580 uses x,z in R^d not whole matricies\n",
    "    def __call__(self, X, Z=None, eval_gradient=False):\n",
    "        \n",
    "\n",
    "        # sigma_0(X,Z) = X @ Z.T -> usually vector x vector = scaler\n",
    "        #                        -> but with n x m \n",
    "\n",
    "        aug = False\n",
    "\n",
    "        if Z is None:\n",
    "            Z = X\n",
    "        else:\n",
    "            # print(X.shape, Z.shape)\n",
    "            A = np.concatenate((X, Z), axis=0)\n",
    "            # print(A.shape)\n",
    "            X = A \n",
    "            Z = A\n",
    "            aug = True\n",
    "            \n",
    "\n",
    "        Σ = X @ Z.T\n",
    "        # print(X.shape, Z.shape, Σ.shape)\n",
    "        Σ_dot = np.zeros_like(Σ)\n",
    "        Θ = np.zeros((self.depth, X.shape[0], Z.shape[0]))\n",
    "        Θ[0] = Σ\n",
    "\n",
    "        D = np.sqrt((X @ X.T) * (Z @ Z.T))\n",
    "        \n",
    "        for dep in range(1, self.depth):\n",
    "            D = np.sqrt((X @ X.T) * (Z @ Z.T))\n",
    "            λ = np.clip(Σ / D, a_min = - 1, a_max = 1)\n",
    "            Σ = (self.c/(2*np.pi)) * λ * (np.pi - np.arccos(λ) + np.sqrt(1 - λ**2)) * D\n",
    "            Σ_dot = (self.c/(2*np.pi)) * (np.pi - np.arccos(λ))\n",
    "            Θ[dep] = Θ[dep-1] * Σ_dot + Σ\n",
    "\n",
    "        if eval_gradient:\n",
    "            return Θ[self.depth-1], np.empty((X.shape[0], X.shape[0], 0))\n",
    "        else:\n",
    "            if aug:\n",
    "                return Θ[self.depth-1, 0:1000, 1000:1010]\n",
    "            else:\n",
    "                return Θ[self.depth-1]\n",
    "        \n",
    "        # return Θ\n",
    "\n",
    "    def diag(self, X):\n",
    "        return np.einsum(\"ij,ij->i\", X, X)\n",
    "\n",
    "    def is_stationary(self):\n",
    "        \"\"\"Returns whether the kernel is stationary.\"\"\"\n",
    "        return False\n",
    "\n",
    "    def __repr__(self):\n",
    "        return \"{0}(depth={1:d}, c={2:.3f})\".format(\n",
    "                self.__class__.__name__, self.depth, self.c)"
   ]
  },
  {
   "cell_type": "markdown",
   "metadata": {},
   "source": [
    "#### NTK Function"
   ]
  },
  {
   "cell_type": "code",
   "execution_count": 4,
   "metadata": {},
   "outputs": [],
   "source": [
    "\"\"\"\n",
    "Neural Tangent Kernel Precompute\n",
    "https://github.com/LeoYu/neural-tangent-kernel-UCI/\n",
    "\"\"\"\n",
    "def ntk_value(X, d_max, fix_dep): \n",
    "    K = np.zeros((d_max, X.shape[0], X.shape[0]))\n",
    "    Σ = np.matmul(X, X.T)\n",
    "    Σ_dot = np.zeros_like(Σ)\n",
    "    for dep in range(d_max):\n",
    "        if fix_dep <= dep:\n",
    "            Σ_dot += Σ\n",
    "        K[dep] = Σ_dot\n",
    "        L = np.diag(Σ)\n",
    "        P = np.clip(np.sqrt(np.outer(L, L)), a_min = 1e-9, a_max = None)\n",
    "        λ = np.clip(Σ / P, a_min = -1, a_max = 1)\n",
    "        Σ = (λ * (math.pi - np.arccos(λ)) + np.sqrt(1.0 - λ * λ)) * P / 2.0 / math.pi\n",
    "        Σ_dot = Σ_dot * (math.pi - np.arccos(λ)) / 2.0 / math.pi\n",
    "    return K[d_max - 1]"
   ]
  },
  {
   "cell_type": "markdown",
   "metadata": {},
   "source": [
    "### Gaussian Process Practice"
   ]
  },
  {
   "cell_type": "code",
   "execution_count": 4,
   "metadata": {},
   "outputs": [],
   "source": [
    "# Dataset\n",
    "rng = np.random.RandomState(624562)\n",
    "X = np.linspace(0, 10, 1000)\n",
    "y = X * np.sin(X)\n",
    "\n",
    "X = X.reshape((-1, 1))\n",
    "y = y.reshape((-1, 1))\n",
    "\n",
    "training_indices = rng.choice(np.arange(y.size), size=10, replace=False)\n",
    "x_train, y_train = X[training_indices], y[training_indices]\n",
    "y_train_noisy = y_train + rng.normal(loc=0.0, scale=0.75, size=y_train.shape)"
   ]
  },
  {
   "cell_type": "code",
   "execution_count": 5,
   "metadata": {},
   "outputs": [
    {
     "data": {
      "text/plain": [
       "<matplotlib.collections.PathCollection at 0x7f2cfe755fd0>"
      ]
     },
     "execution_count": 5,
     "metadata": {},
     "output_type": "execute_result"
    },
    {
     "data": {
      "image/png": "[encoded data removed]",
      "text/plain": [
       "<Figure size 432x288 with 1 Axes>"
      ]
     },
     "metadata": {
      "needs_background": "light"
     },
     "output_type": "display_data"
    }
   ],
   "source": [
    "plt.plot(X,y)\n",
    "plt.scatter(x_train, y_train)"
   ]
  },
  {
   "cell_type": "code",
   "execution_count": 35,
   "metadata": {},
   "outputs": [
    {
     "name": "stdout",
     "output_type": "stream",
     "text": [
      "(10, 1) (10, 1) (10, 10)\n",
      "(10, 1) (10, 1) (10, 10)\n",
      "(10, 1) (10, 1) (10, 10)\n",
      "(10, 1) (10, 1) (10, 10)\n",
      "(10, 1) (10, 1) (10, 10)\n",
      "(10, 1) (10, 1) (10, 10)\n",
      "(10, 1) (10, 1) (10, 10)\n",
      "(10, 1) (10, 1) (10, 10)\n",
      "(10, 1) (10, 1) (10, 10)\n",
      "(10, 1) (10, 1) (10, 10)\n",
      "(10, 1) (10, 1) (10, 10)\n",
      "(10, 1) (10, 1) (10, 10)\n",
      "(10, 1) (10, 1) (10, 10)\n",
      "(10, 1) (10, 1) (10, 10)\n",
      "(10, 1) (10, 1) (10, 10)\n",
      "(10, 1) (10, 1) (10, 10)\n",
      "(10, 1) (10, 1) (10, 10)\n",
      "(10, 1) (10, 1) (10, 10)\n",
      "(10, 1) (10, 1) (10, 10)\n",
      "(10, 1) (10, 1) (10, 10)\n",
      "(10, 1) (10, 1) (10, 10)\n",
      "(10, 1) (10, 1) (10, 10)\n",
      "(10, 1) (10, 1) (10, 10)\n",
      "(10, 1) (10, 1) (10, 10)\n",
      "(10, 1) (10, 1) (10, 10)\n",
      "(10, 1) (10, 1) (10, 10)\n",
      "(10, 1) (10, 1) (10, 10)\n",
      "(10, 1) (10, 1) (10, 10)\n",
      "(10, 1) (10, 1) (10, 10)\n",
      "(10, 1) (10, 1) (10, 10)\n",
      "(10, 1) (10, 1) (10, 10)\n",
      "(10, 1) (10, 1) (10, 10)\n",
      "(10, 1) (10, 1) (10, 10)\n",
      "(10, 1) (10, 1) (10, 10)\n",
      "(10, 1) (10, 1) (10, 10)\n",
      "(10, 1) (10, 1) (10, 10)\n",
      "(10, 1) (10, 1) (10, 10)\n",
      "(10, 1) (10, 1) (10, 10)\n",
      "(10, 1) (10, 1) (10, 10)\n",
      "(10, 1) (10, 1) (10, 10)\n",
      "(10, 1) (10, 1) (10, 10)\n",
      "(10, 1) (10, 1) (10, 10)\n",
      "(10, 1) (10, 1) (10, 10)\n",
      "(10, 1) (10, 1) (10, 10)\n",
      "(10, 1) (10, 1) (10, 10)\n",
      "(10, 1) (10, 1) (10, 10)\n",
      "(10, 1) (10, 1) (10, 10)\n",
      "(10, 1) (10, 1) (10, 10)\n",
      "(10, 1) (10, 1) (10, 10)\n",
      "(10, 1) (10, 1) (10, 10)\n",
      "(10, 1) (10, 1) (10, 10)\n",
      "(10, 1) (10, 1) (10, 10)\n",
      "(10, 1) (10, 1) (10, 10)\n",
      "(10, 1) (10, 1) (10, 10)\n",
      "(10, 1) (10, 1) (10, 10)\n",
      "(10, 1) (10, 1) (10, 10)\n",
      "(10, 1) (10, 1) (10, 10)\n",
      "(10, 1) (10, 1) (10, 10)\n",
      "(10, 1) (10, 1) (10, 10)\n",
      "(10, 1) (10, 1) (10, 10)\n",
      "(10, 1) (10, 1) (10, 10)\n",
      "(10, 1) (10, 1) (10, 10)\n",
      "(10, 1) (10, 1) (10, 10)\n",
      "(10, 1) (10, 1) (10, 10)\n",
      "(10, 1) (10, 1) (10, 10)\n",
      "(10, 1) (10, 1) (10, 10)\n",
      "(10, 1) (10, 1) (10, 10)\n",
      "(10, 1) (10, 1) (10, 10)\n",
      "(10, 1) (10, 1) (10, 10)\n",
      "(10, 1) (10, 1) (10, 10)\n",
      "(10, 1) (10, 1) (10, 10)\n",
      "(10, 1) (10, 1) (10, 10)\n",
      "(10, 1) (10, 1) (10, 10)\n",
      "(10, 1) (10, 1) (10, 10)\n",
      "(10, 1) (10, 1) (10, 10)\n",
      "(10, 1) (10, 1) (10, 10)\n",
      "(10, 1) (10, 1) (10, 10)\n",
      "(10, 1) (10, 1) (10, 10)\n",
      "(10, 1) (10, 1) (10, 10)\n",
      "(10, 1) (10, 1) (10, 10)\n",
      "(10, 1) (10, 1) (10, 10)\n",
      "(10, 1) (10, 1) (10, 10)\n",
      "(10, 1) (10, 1) (10, 10)\n",
      "(10, 1) (10, 1) (10, 10)\n",
      "(10, 1) (10, 1) (10, 10)\n",
      "(10, 1) (10, 1) (10, 10)\n",
      "(10, 1) (10, 1) (10, 10)\n",
      "(10, 1) (10, 1) (10, 10)\n",
      "(10, 1) (10, 1) (10, 10)\n",
      "(10, 1) (10, 1) (10, 10)\n",
      "(10, 1) (10, 1) (10, 10)\n",
      "(10, 1) (10, 1) (10, 10)\n",
      "(10, 1) (10, 1) (10, 10)\n",
      "(10, 1) (10, 1) (10, 10)\n",
      "(10, 1) (10, 1) (10, 10)\n",
      "(10, 1) (10, 1) (10, 10)\n",
      "(10, 1) (10, 1) (10, 10)\n",
      "(10, 1) (10, 1) (10, 10)\n",
      "(10, 1) (10, 1) (10, 10)\n",
      "(10, 1) (10, 1) (10, 10)\n",
      "(10, 1) (10, 1) (10, 10)\n",
      "(10, 1) (10, 1) (10, 10)\n",
      "(10, 1) (10, 1) (10, 10)\n",
      "(10, 1) (10, 1) (10, 10)\n",
      "(10, 1) (10, 1) (10, 10)\n",
      "(10, 1) (10, 1) (10, 10)\n",
      "(10, 1) (10, 1) (10, 10)\n",
      "(10, 1) (10, 1) (10, 10)\n",
      "(10, 1) (10, 1) (10, 10)\n",
      "(10, 1) (10, 1) (10, 10)\n",
      "(10, 1) (10, 1) (10, 10)\n",
      "(10, 1) (10, 1) (10, 10)\n",
      "(10, 1) (10, 1) (10, 10)\n",
      "(10, 1) (10, 1) (10, 10)\n",
      "(10, 1) (10, 1) (10, 10)\n",
      "(10, 1) (10, 1) (10, 10)\n",
      "(10, 1) (10, 1) (10, 10)\n",
      "(10, 1) (10, 1) (10, 10)\n",
      "(10, 1) (10, 1) (10, 10)\n",
      "(10, 1) (10, 1) (10, 10)\n",
      "(10, 1) (10, 1) (10, 10)\n",
      "(10, 1) (10, 1) (10, 10)\n",
      "(10, 1) (10, 1) (10, 10)\n",
      "(10, 1) (10, 1) (10, 10)\n",
      "(10, 1) (10, 1) (10, 10)\n",
      "(10, 1) (10, 1) (10, 10)\n",
      "(10, 1) (10, 1) (10, 10)\n",
      "(10, 1) (10, 1) (10, 10)\n",
      "(10, 1) (10, 1) (10, 10)\n",
      "(10, 1) (10, 1) (10, 10)\n",
      "(10, 1) (10, 1) (10, 10)\n",
      "(10, 1) (10, 1) (10, 10)\n",
      "(10, 1) (10, 1) (10, 10)\n",
      "(10, 1) (10, 1) (10, 10)\n",
      "(10, 1) (10, 1) (10, 10)\n",
      "(10, 1) (10, 1) (10, 10)\n",
      "(10, 1) (10, 1) (10, 10)\n",
      "(10, 1) (10, 1) (10, 10)\n",
      "(10, 1) (10, 1) (10, 10)\n",
      "(10, 1) (10, 1) (10, 10)\n",
      "(10, 1) (10, 1) (10, 10)\n",
      "(10, 1) (10, 1) (10, 10)\n",
      "(10, 1) (10, 1) (10, 10)\n",
      "(10, 1) (10, 1) (10, 10)\n",
      "(10, 1) (10, 1) (10, 10)\n",
      "(10, 1) (10, 1) (10, 10)\n",
      "(10, 1) (10, 1) (10, 10)\n",
      "(10, 1) (10, 1) (10, 10)\n",
      "(10, 1) (10, 1) (10, 10)\n",
      "(10, 1) (10, 1) (10, 10)\n",
      "(10, 1) (10, 1) (10, 10)\n",
      "(10, 1) (10, 1) (10, 10)\n",
      "(10, 1) (10, 1) (10, 10)\n",
      "(10, 1) (10, 1) (10, 10)\n",
      "(10, 1) (10, 1) (10, 10)\n",
      "(10, 1) (10, 1) (10, 10)\n",
      "(10, 1) (10, 1) (10, 10)\n",
      "(10, 1) (10, 1) (10, 10)\n",
      "(10, 1) (10, 1) (10, 10)\n",
      "(10, 1) (10, 1) (10, 10)\n",
      "(10, 1) (10, 1) (10, 10)\n",
      "(10, 1) (10, 1) (10, 10)\n",
      "(10, 1) (10, 1) (10, 10)\n",
      "(10, 1) (10, 1) (10, 10)\n",
      "(10, 1) (10, 1) (10, 10)\n",
      "(10, 1) (10, 1) (10, 10)\n",
      "(10, 1) (10, 1) (10, 10)\n",
      "(10, 1) (10, 1) (10, 10)\n",
      "(10, 1) (10, 1) (10, 10)\n",
      "(10, 1) (10, 1) (10, 10)\n",
      "(10, 1) (10, 1) (10, 10)\n",
      "(10, 1) (10, 1) (10, 10)\n",
      "(10, 1) (10, 1) (10, 10)\n",
      "(10, 1) (10, 1) (10, 10)\n",
      "(10, 1) (10, 1) (10, 10)\n",
      "(10, 1) (10, 1) (10, 10)\n",
      "(10, 1) (10, 1) (10, 10)\n",
      "(10, 1) (10, 1) (10, 10)\n",
      "(10, 1) (10, 1) (10, 10)\n",
      "(10, 1) (10, 1) (10, 10)\n",
      "(10, 1) (10, 1) (10, 10)\n",
      "(10, 1) (10, 1) (10, 10)\n",
      "(10, 1) (10, 1) (10, 10)\n",
      "(10, 1) (10, 1) (10, 10)\n",
      "(10, 1) (10, 1) (10, 10)\n",
      "(10, 1) (10, 1) (10, 10)\n",
      "(10, 1) (10, 1) (10, 10)\n",
      "(10, 1) (10, 1) (10, 10)\n",
      "(10, 1) (10, 1) (10, 10)\n",
      "(10, 1) (10, 1) (10, 10)\n",
      "(10, 1) (10, 1) (10, 10)\n",
      "(10, 1) (10, 1) (10, 10)\n",
      "(10, 1) (10, 1) (10, 10)\n",
      "(10, 1) (10, 1) (10, 10)\n",
      "(10, 1) (10, 1) (10, 10)\n",
      "(10, 1) (10, 1) (10, 10)\n",
      "(10, 1) (10, 1) (10, 10)\n",
      "(10, 1) (10, 1) (10, 10)\n",
      "(10, 1) (10, 1) (10, 10)\n",
      "(10, 1) (10, 1) (10, 10)\n",
      "(10, 1) (10, 1) (10, 10)\n",
      "(10, 1) (10, 1) (10, 10)\n",
      "(10, 1) (10, 1) (10, 10)\n",
      "(10, 1) (10, 1) (10, 10)\n",
      "(10, 1) (10, 1) (10, 10)\n",
      "(10, 1) (10, 1) (10, 10)\n",
      "(10, 1) (10, 1) (10, 10)\n",
      "(10, 1) (10, 1) (10, 10)\n",
      "(2, 10, 10)\n"
     ]
    },
    {
     "data": {
      "text/plain": [
       "0.236**2 * NTK(depth=2, c=2.000) + WhiteKernel(noise_level=7.69)"
      ]
     },
     "execution_count": 35,
     "metadata": {},
     "output_type": "execute_result"
    }
   ],
   "source": [
    "# kernel = 1 * Matern(length_scale=1.0, length_scale_bounds=(1e-2, 1e2), nu=0.5)\n",
    "# kernel = ConstantKernel() * RBF(1, length_scale_bounds=(1e-2, 1e2)) + WhiteKernel(0.1, (1e-9, 1e5))\n",
    "kernel = ConstantKernel() * NTK(depth=2, c=2.0) + WhiteKernel(0.1)\n",
    "gp = GPR(kernel=kernel, n_restarts_optimizer=9)\n",
    "gp.fit(x_train, y_train)\n",
    "gp.kernel_"
   ]
  },
  {
   "cell_type": "code",
   "execution_count": 36,
   "metadata": {},
   "outputs": [
    {
     "name": "stdout",
     "output_type": "stream",
     "text": [
      "(1000, 1) (10, 1)\n",
      "(1010, 1)\n",
      "(1010, 1) (1010, 1) (1010, 1010)\n",
      "(2, 1010, 1010)\n",
      "Returned (1000, 10)\n"
     ]
    },
    {
     "name": "stderr",
     "output_type": "stream",
     "text": [
      "/tmp/ipykernel_18254/2879064464.py:41: RuntimeWarning: invalid value encountered in true_divide\n",
      "  λ = np.clip(Σ / D, a_min = - 1, a_max = 1)\n"
     ]
    }
   ],
   "source": [
    "mean_pred, std_pred = gp.predict(X, return_std=True)"
   ]
  },
  {
   "cell_type": "code",
   "execution_count": 39,
   "metadata": {},
   "outputs": [
    {
     "data": {
      "image/png": "[encoded data removed]",
      "text/plain": [
       "<Figure size 432x288 with 1 Axes>"
      ]
     },
     "metadata": {
      "needs_background": "light"
     },
     "output_type": "display_data"
    }
   ],
   "source": [
    "plt.plot(X, y, label=r\"$f(x) = x \\sin(x)$\", linestyle=\"dotted\")\n",
    "plt.scatter(x=x_train.ravel(), y=y_train.ravel())\n",
    "plt.plot(X, mean_pred, label=\"Mean prediction\")\n",
    "plt.fill_between(\n",
    "    X.ravel(), \n",
    "    mean_pred.ravel() - 1.96*std_pred.ravel(), \n",
    "    mean_pred.ravel() + 1.96*std_pred.ravel(),\n",
    "    alpha=0.5)\n",
    "plt.legend()\n",
    "plt.xlabel(\"$x$\")\n",
    "plt.ylabel(\"$f(x)$\")\n",
    "_ = plt.title(\"Gaussian process regression on a noisy dataset\")"
   ]
  },
  {
   "cell_type": "code",
   "execution_count": 10,
   "metadata": {},
   "outputs": [],
   "source": [
    "laplace_kernel = Matern(\n",
    "    length_scale=1.0,\n",
    "    length_scale_bounds=(1e-5, 1e5),\n",
    "    nu=1/2\n",
    "    )\n",
    "\n"
   ]
  }
 ],
 "metadata": {
  "interpreter": {
   "hash": "68b02c908e2cdb95db1fe9ab6c7ce5e7b7519642826f3cbd5d028e2ea906a416"
  },
  "kernelspec": {
   "display_name": "Python 3.9.7 64-bit ('thesis': conda)",
   "language": "python",
   "name": "python3"
  },
  "language_info": {
   "codemirror_mode": {
    "name": "ipython",
    "version": 3
   },
   "file_extension": ".py",
   "mimetype": "text/x-python",
   "name": "python",
   "nbconvert_exporter": "python",
   "pygments_lexer": "ipython3",
   "version": "3.9.7"
  },
  "orig_nbformat": 4
 },
 "nbformat": 4,
 "nbformat_minor": 2
}
