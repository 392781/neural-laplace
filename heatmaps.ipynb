{
  "cells": [
    {
      "cell_type": "code",
      "execution_count": 1,
      "metadata": {},
      "outputs": [],
      "source": [
        "from utils import *\n",
        "from multiprocessing import Pool, cpu_count\n",
        "from tqdm import tqdm\n",
        "import matplotlib as mpl\n",
        "from sklearn.preprocessing import scale\n",
        "from scipy import optimize"
      ]
    },
    {
      "cell_type": "code",
      "execution_count": 3,
      "metadata": {},
      "outputs": [
        {
          "name": "stdout",
          "output_type": "stream",
          "text": [
            "Computing vars depth=100Computing vars depth=25Computing vars depth=3\n",
            "\n",
            "\n",
            "Finished vars depth=3\n",
            "Finished vars depth=25\n",
            "Finished vars depth=100\n"
          ]
        }
      ],
      "source": [
        "def run1(depth):\n",
        "    print(f\"Computing vars depth={depth}\")\n",
        "    k1 = Matern(nu=0.5)\n",
        "    k2 = NTK(depth=depth, c=2.0)\n",
        "\n",
        "    if depth < 10:\n",
        "        ellmax = 10\n",
        "    elif depth >= 10 and depth < 30:\n",
        "        ellmax = 5\n",
        "    elif depth >= 30:\n",
        "        ellmax = 1.5\n",
        "\n",
        "    bias = np.linspace(0, 5, 50)\n",
        "    lengthscale = np.linspace(0.0001, ellmax, 50)\n",
        "\n",
        "    candidates = []\n",
        "    for coor in range(0, 100):\n",
        "        data = {\n",
        "            'xy': [], \n",
        "            # 'params': [], \n",
        "            'var': [], \n",
        "            # 'vals': []\n",
        "        }\n",
        "        x1 = normalize(np.random.randint(0, 100, 3).reshape(1,-1))\n",
        "        y1 = normalize(np.random.randint(0, 100, 3).reshape(1,-1))\n",
        "\n",
        "        x2 = normalize(np.random.randint(0, 100, 3).reshape(1,-1))\n",
        "        y2 = normalize(np.random.randint(0, 100, 3).reshape(1,-1))\n",
        "\n",
        "        data['xy'].append(((x1, y1), (x2, y2)))\n",
        "\n",
        "        for b in bias:\n",
        "            k2.bias = b\n",
        "            ntk_val_1 = k2(x1,y1)\n",
        "            ntk_val_2 = k2(x2,y2)\n",
        "            for ell in lengthscale:\n",
        "                k1.length_scale = ell\n",
        "                # data['params'].append((k2.bias, k1.length_scale))\n",
        "                lpk_val_1 = k1(x1,y1)\n",
        "                lpk_val_2 = k1(x2,y2)\n",
        "                val1 = (lpk_val_1-ntk_val_1).squeeze()\n",
        "                val2 = (lpk_val_2-ntk_val_2).squeeze()\n",
        "                # data['vals'].append((val1, val2))\n",
        "                data['var'].append(\n",
        "                    np.var([val1, val2])\n",
        "                )\n",
        "\n",
        "        candidates.append(data)\n",
        "\n",
        "    candidates.sort(key=lambda item : np.min(item.get('var')))\n",
        "    print(f\"Finished vars depth={depth}\")\n",
        "\n",
        "    return candidates\n",
        "\n",
        "def run2(depth):\n",
        "    if depth < 10:\n",
        "        ellmax = 10\n",
        "    elif depth >= 10 and depth < 30:\n",
        "        ellmax = 5\n",
        "    elif depth >= 30:\n",
        "        ellmax = 1.5\n",
        "\n",
        "    bias = np.linspace(0, 5, 100)\n",
        "    lengthscale = np.linspace(0.0001, ellmax, 100)\n",
        "\n",
        "    print(f\"Computing rand depth={depth}\")\n",
        "    k1 = Matern(nu=0.5)\n",
        "    k2 = NTK(depth=depth, c=2.0)\n",
        "\n",
        "    x = normalize(np.random.randint(0, 100, 3).reshape(1,-1))\n",
        "    y = normalize(np.random.randint(0, 100, 3).reshape(1,-1))\n",
        "\n",
        "    vals = []\n",
        "    for b in bias:\n",
        "        k2.bias = b\n",
        "        ntk_val = k2(x,y)\n",
        "        for ell in lengthscale:\n",
        "            k1.length_scale = ell\n",
        "            lpk_val = k1(x,y)\n",
        "            vals.append((lpk_val-ntk_val).squeeze())\n",
        "\n",
        "    xy = np.array(vals).reshape(-1,500)\n",
        "    print(f\"Finished rand depth={depth}\")\n",
        "    return xy, x, y\n",
        "\n",
        "\n",
        "with Pool(3) as p:\n",
        "    # xvals_rand1 = p.map(run2, (3, 25, 100))\n",
        "    xvals = p.map(run1, (3, 25, 100))\n"
      ]
    },
    {
      "cell_type": "code",
      "execution_count": 43,
      "metadata": {},
      "outputs": [
        {
          "data": {
            "text/plain": [
              "1.931356694408289e-14"
            ]
          },
          "execution_count": 43,
          "metadata": {},
          "output_type": "execute_result"
        }
      ],
      "source": [
        "# Depth - candidate -:- KEYS\n",
        "# xy : empty : 1, 2\n",
        "np.min(xvals[2][0].get('var'))\n",
        "# xvals[3][0].get('xy')[0][1]"
      ]
    },
    {
      "cell_type": "code",
      "execution_count": 19,
      "metadata": {},
      "outputs": [
        {
          "data": {
            "text/plain": [
              "array([[0.00495049]])"
            ]
          },
          "execution_count": 19,
          "metadata": {},
          "output_type": "execute_result"
        }
      ],
      "source": [
        "NTK(depth=1)(np.array([1,0,0]).reshape(1,-1),np.array([-1,0,0]).reshape(1,-1))\n",
        "# NTK(depth=3)(normalize(np.random.randint(0, 100, 3).reshape(1,-1)), normalize(np.random.randint(0, 100, 3).reshape(1,-1)))"
      ]
    },
    {
      "cell_type": "code",
      "execution_count": 23,
      "metadata": {},
      "outputs": [
        {
          "name": "stdout",
          "output_type": "stream",
          "text": [
            "[[0.8009002  0.47266241 0.36762632]]\n",
            "[[0.70035337 0.08437992 0.70879136]]\n",
            "[[0.04318335 0.99321709 0.10795838]]\n",
            "[[0.50566869 0.20924222 0.83696886]]\n",
            "[[0.4166215  0.90899237 0.01262489]]\n",
            "[[0.61486267 0.67548293 0.40702176]]\n"
          ]
        }
      ],
      "source": [
        "np.random.seed(18935240) \n",
        "\n",
        "x1, y1 = normalize(np.random.randint(0, 100, 3).reshape(1,-1)), normalize(`|LPK(x2,y2) - NTK(x2,y2)`np.random.randint(0, 100, 3).reshape(1,-1))\n",
        "x2, y2 = normalize(np.random.randint(0, 100, 3).reshape(1,-1)), normalize(np.random.randint(0, 100, 3).reshape(1,-1))\n",
        "xr, yr = normalize(np.random.randint(0, 100, 3).reshape(1,-1)), normalize(np.random.randint(0, 100, 3).reshape(1,-1))\n",
        "print(x1)\n",
        "print(y1)\n",
        "print(x2)\n",
        "print(y2)\n",
        "print(xr)\n",
        "print(yr)"
      ]
    },
    {
      "cell_type": "code",
      "execution_count": 31,
      "metadata": {},
      "outputs": [
        {
          "data": {
            "text/plain": [
              "   direc: array([[ 1.00000000e+00,  0.00000000e+00],\n",
              "       [-1.71645978e-08,  5.94466475e-06]])\n",
              "     fun: 1.9410333202273428e-01\n",
              " message: 'Optimization terminated successfully.'\n",
              "    nfev: 143\n",
              "     nit: 2\n",
              "  status: 0\n",
              " success: True\n",
              "       x: array([4.03107937e-06, 5.69714630e-01])"
            ]
          },
          "execution_count": 31,
          "metadata": {},
          "output_type": "execute_result"
        }
      ],
      "source": [
        "def f(params, ntk, lpk):\n",
        "    # x1, y1 = np.array([1,0,0]).reshape(1,-1), np.array([0,1,0]).reshape(1,-1)\n",
        "    # x2, y2 = np.array([1,0,0]).reshape(1,-1), np.array([-1,0,0]).reshape(1,-1)\n",
        "\n",
        "    ntk.bias = params[0]\n",
        "    lpk.length_scale = params[1]\n",
        "\n",
        "    ntk_val_1 = ntk(x1,y1)\n",
        "    ntk_val_2 = ntk(x2,y2)\n",
        "\n",
        "    lpk_val_1 = lpk(x1,y1)\n",
        "    lpk_val_2 = lpk(x2,y2)\n",
        "\n",
        "    metric = (\n",
        "        np.var([np.abs(ntk_val_1 - lpk_val_1).squeeze(), np.abs(ntk_val_2 - lpk_val_2).squeeze()]) #+ \n",
        "        + np.abs(ntk_val_1 - lpk_val_1).squeeze()\n",
        "        + np.abs(ntk_val_2 - lpk_val_2).squeeze()\n",
        "    )\n",
        "\n",
        "    return metric\n",
        "\n",
        "ntk = NTK(depth=25, c=2.0)\n",
        "lpk = Matern(nu=0.5)\n",
        "\n",
        "# bias lengthscale\n",
        "# method = 'Nelder-Mead'\n",
        "# method = 'CG'\n",
        "method = 'Powell'\n",
        "# method = 'L-BFGS-B'\n",
        "optimization = optimize.minimize(f, x0=[0.005, 2.3], args=(ntk, lpk), method=method, bounds=((0, 0.01), (0.00001, 5)), tol=1e-5, options={'maxiter': 10000, 'disp': False})\n",
        "optimization"
      ]
    },
    {
      "cell_type": "code",
      "execution_count": 32,
      "metadata": {},
      "outputs": [
        {
          "data": {
            "text/plain": [
              "(NTK(depth=25, c=2.000, bias=0.000), Matern(length_scale=0.57, nu=0.5))"
            ]
          },
          "execution_count": 32,
          "metadata": {},
          "output_type": "execute_result"
        }
      ],
      "source": [
        "ntk, lpk"
      ]
    },
    {
      "cell_type": "code",
      "execution_count": 21,
      "metadata": {},
      "outputs": [
        {
          "data": {
            "text/plain": [
              "(array([[0.71632444]]), array([[0.08619541]]))"
            ]
          },
          "execution_count": 21,
          "metadata": {},
          "output_type": "execute_result"
        }
      ],
      "source": [
        "x, y = normalize(np.random.randint(0, 100, 3).reshape(1,-1)), normalize(np.random.randint(0, 100, 3).reshape(1,-1))\n",
        "lpk.length_scale = 0.3\n",
        "ntk(x, y), lpk(x, y)"
      ]
    },
    {
      "cell_type": "code",
      "execution_count": 22,
      "metadata": {},
      "outputs": [],
      "source": [
        "depth_3 = optimization"
      ]
    },
    {
      "cell_type": "code",
      "execution_count": 33,
      "metadata": {},
      "outputs": [],
      "source": [
        "depth_25 = optimization"
      ]
    },
    {
      "cell_type": "code",
      "execution_count": 9,
      "metadata": {},
      "outputs": [],
      "source": [
        "depth_100 = optimization"
      ]
    },
    {
      "cell_type": "code",
      "execution_count": 24,
      "metadata": {},
      "outputs": [
        {
          "name": "stderr",
          "output_type": "stream",
          "text": [
            "100%|█████████████████████████████████████████████████████████████| 500/500 [00:13<00:00, 37.24it/s]\n",
            "100%|█████████████████████████████████████████████████████████████| 500/500 [00:15<00:00, 31.59it/s]\n",
            "100%|█████████████████████████████████████████████████████████████| 500/500 [00:21<00:00, 23.42it/s]\n"
          ]
        }
      ],
      "source": [
        "# mesh = 2000\n",
        "\n",
        "\n",
        "# x1, y1 = normalize(np.random.randint(0, 100, 3).reshape(1,-1)), normalize(np.random.randint(0, 100, 3).reshape(1,-1))\n",
        "# x2, y2 = normalize(np.random.randint(0, 100, 3).reshape(1,-1)), normalize(np.random.randint(0, 100, 3).reshape(1,-1))\n",
        "\n",
        "def run3(depth):\n",
        "    mesh = 500\n",
        "\n",
        "    # x1, y1 = np.array([1,0,0]).reshape(1,-1), np.array([0,1,0]).reshape(1,-1)\n",
        "    # x2, y2 = np.array([1,0,0]).reshape(1,-1), np.array([-1,0,0]).reshape(1,-1)\n",
        "\n",
        "    k1 = Matern(nu=0.5)\n",
        "    k2 = NTK(depth=depth, c=2.0)\n",
        "\n",
        "    if depth < 10:\n",
        "        ellmax = 10\n",
        "        biasmax = 7\n",
        "    elif depth >= 10 and depth < 30:\n",
        "        ellmax = 5\n",
        "        biasmax = 0.01\n",
        "    elif depth >= 30:\n",
        "        ellmax = 2.5\n",
        "        biasmax = 0.001\n",
        "\n",
        "    bias = np.linspace(0, biasmax, mesh)\n",
        "    lengthscale = np.linspace(0.0001, ellmax, mesh)\n",
        "\n",
        "    vals_1 = []\n",
        "    vals_2 = []\n",
        "    vals_r = []\n",
        "    for b in tqdm(bias, ncols=100):\n",
        "        k2.bias = b\n",
        "        ntk_val_1 = k2(x1,y1)\n",
        "        ntk_val_2 = k2(x2,y2)\n",
        "        ntk_val_r = k2(xr,yr)\n",
        "        for ell in lengthscale:\n",
        "            k1.length_scale = ell\n",
        "            lpk_val_1 = k1(x1,y1)\n",
        "            lpk_val_2 = k1(x2,y2)\n",
        "            lpk_val_r = k1(xr,yr)\n",
        "            vals_1.append((lpk_val_1-ntk_val_1).squeeze())\n",
        "            vals_2.append((lpk_val_2-ntk_val_2).squeeze())\n",
        "            vals_r.append((lpk_val_r-ntk_val_r).squeeze())\n",
        "\n",
        "    return (\n",
        "            np.array(vals_1).reshape(-1, mesh), \n",
        "            np.array(vals_2).reshape(-1, mesh), \n",
        "            np.array(vals_r).reshape(-1, mesh),\n",
        "            depth\n",
        "        )\n",
        "\n",
        "out = []\n",
        "out.append(run3(3))\n",
        "out.append(run3(25))\n",
        "out.append(run3(100))\n",
        "\n",
        "# with Pool(3) as p:\n",
        "#     p.map(run3, [3, 25, 100])\n"
      ]
    },
    {
      "cell_type": "code",
      "execution_count": 47,
      "metadata": {},
      "outputs": [
        {
          "name": "stdout",
          "output_type": "stream",
          "text": [
            "minimizer at optimum  1.9410333202273428e-01\n",
            "minimizer var term    0.00860262781356494\n",
            "minimizer d1 term     1.0563272478947283e-11\n",
            "minimizer d2 term     0.18550070419860606\n",
            "value at optimum      1.0563272478947283e-11\n",
            "ell   0.5697146299158218\n",
            "bias  4.031079373694967e-06\n",
            "\n",
            "minimizer at plot min 1.942204831042777e-01\n",
            "minimizer var term    0.008448013714104441\n",
            "minimizer d1 term     0.0009731577467848584\n",
            "minimizer d2 term     0.1847993116433884\n",
            "value at plot min     0.0009731577467848584\n",
            "ell   0.571230861723447\n",
            "bias  0.01\n"
          ]
        },
        {
          "data": {
            "text/plain": [
              "<matplotlib.collections.PathCollection at 0x7faf00881130>"
            ]
          },
          "execution_count": 47,
          "metadata": {},
          "output_type": "execute_result"
        },
        {
          "data": {
            "image/png": "[encoded data removed]",
            "text/plain": [
              "<Figure size 792x720 with 9 Axes>"
            ]
          },
          "metadata": {
            "needs_background": "light"
          },
          "output_type": "display_data"
        }
      ],
      "source": [
        "fig, ax = plt.subplots(nrows=3, ncols=3, figsize=(11,10))\n",
        "ax = ax.ravel()\n",
        "ax[0].set_title('Depth = 3')\n",
        "ax[1].set_title('Depth = 25')\n",
        "ax[2].set_title('Depth = 100')\n",
        "fig.supxlabel(r'$\\beta$')\n",
        "fig.supylabel(r'$\\ell$')\n",
        "fig.tight_layout()\n",
        "\n",
        "cmap = 'pink'\n",
        "color = 'red'\n",
        "levels = 100\n",
        "alpha = 1\n",
        "mesh=500\n",
        "\n",
        "norm = plt.Normalize(0, 0.1)\n",
        "optimum = [depth_3.x, depth_25.x, depth_100.x]\n",
        "\n",
        "lpk = Matern(nu=0.5)\n",
        "\n",
        "bias = np.linspace(0, 0.01, mesh)\n",
        "lengthscale = np.linspace(0.0001, 5, mesh)\n",
        "lengthscale_grid, bias_grid = np.meshgrid(lengthscale, bias)\n",
        "\n",
        "ntk = NTK(depth=25, c=2.0)\n",
        "vals = []\n",
        "for b in bias:\n",
        "    ntk.bias = b \n",
        "    ntk_val = ntk(x1, y1)\n",
        "    for ell in lengthscale:\n",
        "        lpk.length_scale = ell\n",
        "        lpk_val = lpk(x1, y1)\n",
        "\n",
        "        vals.append(np.abs(lpk_val - ntk_val).squeeze())\n",
        "\n",
        "vals = np.array(vals).reshape(-1, mesh)\n",
        "\n",
        "\n",
        "\n",
        "ntk.bias = depth_25.x[0]\n",
        "lpk.length_scale = depth_25.x[1]\n",
        "\n",
        "ntk_val_1 = ntk(x1,y1)\n",
        "ntk_val_2 = ntk(x2,y2)\n",
        "\n",
        "lpk_val_1 = lpk(x1,y1)\n",
        "lpk_val_2 = lpk(x2,y2)\n",
        "\n",
        "print('minimizer at optimum ', \n",
        "    np.var([np.abs(ntk_val_1 - lpk_val_1).squeeze(), np.abs(ntk_val_2 - lpk_val_2).squeeze()]) #+ \n",
        "    + np.abs(ntk_val_1 - lpk_val_1).squeeze()\n",
        "    + np.abs(ntk_val_2 - lpk_val_2).squeeze()\n",
        ")\n",
        "print('minimizer var term   ', np.var([np.abs(ntk_val_1 - lpk_val_1).squeeze(), np.abs(ntk_val_2 - lpk_val_2).squeeze()]))\n",
        "print('minimizer d1 term    ', np.abs(ntk_val_1 - lpk_val_1).squeeze())\n",
        "print('minimizer d2 term    ', np.abs(ntk_val_2 - lpk_val_2).squeeze())\n",
        "print('value at optimum     ', np.abs(lpk_val_1 - ntk_val_1).squeeze())\n",
        "print('ell  ', depth_25.x[1])\n",
        "print('bias ', depth_25.x[0])\n",
        "\n",
        "\n",
        "print()\n",
        "\n",
        "\n",
        "i, j = np.where(vals == np.min(vals))\n",
        "ntk.bias = bias_grid[i, j]\n",
        "lpk.length_scale = lengthscale_grid[i, j]\n",
        "\n",
        "ntk_val_1 = ntk(x1,y1)\n",
        "ntk_val_2 = ntk(x2,y2)\n",
        "\n",
        "lpk_val_1 = lpk(x1,y1)\n",
        "lpk_val_2 = lpk(x2,y2)\n",
        "\n",
        "print('minimizer at plot min', \n",
        "    np.var([np.abs(ntk_val_1 - lpk_val_1).squeeze(), np.abs(ntk_val_2 - lpk_val_2).squeeze()]) #+ \n",
        "    + np.abs(ntk_val_1 - lpk_val_1).squeeze()\n",
        "    + np.abs(ntk_val_2 - lpk_val_2).squeeze()\n",
        ")\n",
        "print('minimizer var term   ', np.var([np.abs(ntk_val_1 - lpk_val_1).squeeze(), np.abs(ntk_val_2 - lpk_val_2).squeeze()]))\n",
        "print('minimizer d1 term    ', np.abs(ntk_val_1 - lpk_val_1).squeeze())\n",
        "print('minimizer d2 term    ', np.abs(ntk_val_2 - lpk_val_2).squeeze())\n",
        "print('value at plot min    ', np.abs(lpk_val_1 - ntk_val_1).squeeze())\n",
        "print('ell  ', lengthscale_grid[i, j].squeeze())\n",
        "print('bias ', bias_grid[i, j].squeeze())\n",
        "\n",
        "\n",
        "\n",
        "\n",
        "ax[4].contourf(bias_grid, lengthscale_grid, vals, levels, cmap=cmap, norm=norm)\n",
        "ax[4].scatter(depth_25.x[0], depth_25.x[1], marker='x', color=color)\n",
        "\n",
        "\n",
        "\n",
        "\n",
        "\n",
        "# for i in range(0,3):\n",
        "#     if out[i][3] < 10:\n",
        "#         ellmax = 10\n",
        "#         biasmax = 7\n",
        "#         # i=0\n",
        "#     elif out[i][3] >= 10 and out[i][3] < 30:\n",
        "#         ellmax = 5\n",
        "#         biasmax = 0.01\n",
        "#         # i=1\n",
        "#     elif out[i][3] >= 30:\n",
        "#         ellmax = 2.5\n",
        "#         biasmax = 0.001\n",
        "#         # i=2\n",
        "\n",
        "#     bias = np.linspace(0, biasmax, mesh)\n",
        "#     lengthscale = np.linspace(0.0001, ellmax, mesh)\n",
        "#     lengthscale_grid, bias_grid = np.meshgrid(lengthscale, bias)\n",
        "\n",
        "\n",
        "#     ax[i].contourf(bias_grid, lengthscale_grid, np.abs(out[i][0]), levels, cmap=cmap, norm=norm)\n",
        "#     ax[i].scatter(optimum[i][0], optimum[i][1], marker='x', color=color)\n",
        "\n",
        "#     ax[3 + i].contourf(bias_grid, lengthscale_grid, np.abs(out[i][1]), levels, cmap=cmap, norm=norm)\n",
        "#     ax[3 + i].scatter(optimum[i][0], optimum[i][1], marker='x', color=color)\n",
        "\n",
        "#     if i in (0,1,2):\n",
        "#         ax[6 + i].contourf(bias_grid, lengthscale_grid, np.abs(out[i][2]), levels, cmap=cmap, norm=norm)\n",
        "#         ax[6 + i].scatter(optimum[i][0], optimum[i][1], marker='x', color=color)\n",
        "\n",
        "# cbar = fig.colorbar(mpl.cm.ScalarMappable(norm=norm, cmap=cmap), ax=ax.ravel().tolist(), cmap=cmap, ticks=[0, 0.05, 0.1])#, ticks=['0', '0.25', '0.5'])\n",
        "# cbar.ax.set_yticklabels(['0.00', '0.05', r'$\\geq 0.10$']) "
      ]
    },
    {
      "cell_type": "code",
      "execution_count": null,
      "metadata": {},
      "outputs": [],
      "source": [
        "fig.savefig('heatmap1.svg')"
      ]
    },
    {
      "cell_type": "code",
      "execution_count": 36,
      "metadata": {},
      "outputs": [
        {
          "name": "stderr",
          "output_type": "stream",
          "text": [
            "100%|██████████████████████████████████████████████████████████████████████████████████████████████████████████████████████████████████████████████████████████████████████████████████████████████████████████████████████████████████████████████████████████████████████████████████████████████████████████████████████████████████████████████████████████████████████████████████████████████████████████████████████████████████████████████████████████████████████████████████████████████████████████████████████████████████████████████████████████████████████████████████████████████████████████████████████████████████████████████████████████████████████████████████████████████████████████████████████████████████████████████████████████████████████████████████████████████████████████████████████████████████████████████████████████████████████████████████████████████████████████████████████████████████████████████████████████████████████████████████████████████| 2000/2000 [01:04<00:00, 31.15it/s]\n",
            "100%|██████████████████████████████████████████████████████████████████████████████████████████████████████████████████████████████████████████████████████████████████████████████████████████████████████████████████████████████████████████████████████████████████████████████████████████████████████████████████████████████████████████████████████████████████████████████████████████████████████████████████████████████████████████████████████████████████████████████████████████████████████████████████████████████████████████████████████████████████████████████████████████████████████████████████████████████████████████████████████████████████████████████████████████████████████████████████████████████████████████████████████████████████████████████████████████████████████████████████████████████████████████████████████████████████████████████████████████████████████████████████████████████████████████████████████████████████████████████████████████████| 2000/2000 [01:03<00:00, 31.51it/s]\n",
            "100%|██████████████████████████████████████████████████████████████████████████████████████████████████████████████████████████████████████████████████████████████████████████████████████████████████████████████████████████████████████████████████████████████████████████████████████████████████████████████████████████████████████████████████████████████████████████████████████████████████████████████████████████████████████████████████████████████████████████████████████████████████████████████████████████████████████████████████████████████████████████████████████████████████████████████████████████████████████████████████████████████████████████████████████████████████████████████████████████████████████████████████████████████████████████████████████████████████████████████████████████████████████████████████████████████████████████████████████████████████████████████████████████████████████████████████████████████████████████████████████████████| 2000/2000 [01:03<00:00, 31.33it/s]\n",
            "100%|██████████████████████████████████████████████████████████████████████████████████████████████████████████████████████████████████████████████████████████████████████████████████████████████████████████████████████████████████████████████████████████████████████████████████████████████████████████████████████████████████████████████████████████████████████████████████████████████████████████████████████████████████████████████████████████████████████████████████████████████████████████████████████████████████████████████████████████████████████████████████████████████████████████████████████████████████████████████████████████████████████████████████████████████████████████████████████████████████████████████████████████████████████████████████████████████████████████████████████████████████████████████████████████████████████████████████████████████████████████████████████████████████████████████████████████████████████████████████████████████| 2000/2000 [01:03<00:00, 31.72it/s]\n",
            "100%|██████████████████████████████████████████████████████████████████████████████████████████████████████████████████████████████████████████████████████████████████████████████████████████████████████████████████████████████████████████████████████████████████████████████████████████████████████████████████████████████████████████████████████████████████████████████████████████████████████████████████████████████████████████████████████████████████████████████████████████████████████████████████████████████████████████████████████████████████████████████████████████████████████████████████████████████████████████████████████████████████████████████████████████████████████████████████████████████████████████████████████████████████████████████████████████████████████████████████████████████████████████████████████████████████████████████████████████████████████████████████████████████████████████████████████████████████████████████████████████████| 2000/2000 [01:11<00:00, 27.97it/s]\n",
            "100%|██████████████████████████████████████████████████████████████████████████████████████████████████████████████████████████████████████████████████████████████████████████████████████████████████████████████████████████████████████████████████████████████████████████████████████████████████████████████████████████████████████████████████████████████████████████████████████████████████████████████████████████████████████████████████████████████████████████████████████████████████████████████████████████████████████████████████████████████████████████████████████████████████████████████████████████████████████████████████████████████████████████████████████████████████████████████████████████████████████████████████████████████████████████████████████████████████████████████████████████████████████████████████████████████████████████████████████████████████████████████████████████████████████████████████████████████████████████████████████████████| 2000/2000 [01:12<00:00, 27.77it/s]\n",
            "100%|██████████████████████████████████████████████████████████████████████████████████████████████████████████████████████████████████████████████████████████████████████████████████████████████████████████████████████████████████████████████████████████████████████████████████████████████████████████████████████████████████████████████████████████████████████████████████████████████████████████████████████████████████████████████████████████████████████████████████████████████████████████████████████████████████████████████████████████████████████████████████████████████████████████████████████████████████████████████████████████████████████████████████████████████████████████████████████████████████████████████████████████████████████████████████████████████████████████████████████████████████████████████████████████████████████████████████████████████████████████████████████████████████████████████████████████████████████████████████████████████| 2000/2000 [01:14<00:00, 26.92it/s]\n",
            "100%|██████████████████████████████████████████████████████████████████████████████████████████████████████████████████████████████████████████████████████████████████████████████████████████████████████████████████████████████████████████████████████████████████████████████████████████████████████████████████████████████████████████████████████████████████████████████████████████████████████████████████████████████████████████████████████████████████████████████████████████████████████████████████████████████████████████████████████████████████████████████████████████████████████████████████████████████████████████████████████████████████████████████████████████████████████████████████████████████████████████████████████████████████████████████████████████████████████████████████████████████████████████████████████████████████████████████████████████████████████████████████████████████████████████████████████████████████████████████████████████████| 2000/2000 [01:12<00:00, 27.62it/s]\n"
          ]
        },
        {
          "data": {
            "image/png": "[encoded data removed]",
            "text/plain": [
              "<Figure size 1152x504 with 8 Axes>"
            ]
          },
          "metadata": {
            "needs_background": "light"
          },
          "output_type": "display_data"
        }
      ],
      "source": [
        "np.random.seed(18935240)\n",
        "\n",
        "fig, ax = plt.subplots(nrows=2, ncols=4, figsize=(16,7))\n",
        "ax = ax.ravel()\n",
        "ax[0].set_title('Depth = 3')\n",
        "ax[1].set_title('Depth = 3')\n",
        "ax[2].set_title('Depth = 100')\n",
        "ax[3].set_title('Depth = 100')\n",
        "fig.supxlabel(r'$\\beta$')\n",
        "fig.supylabel(r'$\\ell$')\n",
        "fig.tight_layout()\n",
        "\n",
        "out1 = []\n",
        "mesh = 2000\n",
        "\n",
        "colors = 'pink'\n",
        "levels = 100\n",
        "\n",
        "norm = plt.Normalize(0, 0.1)\n",
        "\n",
        "for depth in (3, 100):\n",
        "    k1 = Matern(nu=0.5)\n",
        "    k2 = NTK(depth=depth, c=2.0)\n",
        "\n",
        "    if depth < 10:\n",
        "        ellmax = 10\n",
        "        i=0\n",
        "    elif depth >= 10 and depth < 30:\n",
        "        ellmax = 5\n",
        "        i=1\n",
        "    elif depth >= 30:\n",
        "        ellmax = 1.5\n",
        "        i=2\n",
        "\n",
        "    bias = np.linspace(0, 5, mesh)\n",
        "    lengthscale = np.linspace(0.0001, ellmax, mesh)\n",
        "    lengthscale_grid, bias_grid = np.meshgrid(lengthscale, bias)\n",
        "\n",
        "    x1, y1 = xvals[i][0].get('xy')[0][0]\n",
        "    x2, y2 = xvals[i][0].get('xy')[0][1]\n",
        "    x3, y3 = xvals[i][1].get('xy')[0][0]\n",
        "    x4, y4 = xvals[i][1].get('xy')[0][1]\n",
        "    # print(xvals_vars[i][2][0][0][0])\n",
        "    # print(xr,yr)\n",
        "\n",
        "    vals = []\n",
        "    for b in tqdm(bias):\n",
        "        k2.bias = b\n",
        "        ntk_val = k2(x1,y1)\n",
        "        for ell in lengthscale:\n",
        "            k1.length_scale = ell\n",
        "            lpk_val = k1(x1,y1)\n",
        "\n",
        "            vals.append(np.abs((lpk_val-ntk_val).squeeze()))\n",
        "    \n",
        "    arr = np.array(vals).reshape(-1,mesh)\n",
        "    ax[0+i].contourf(bias_grid, lengthscale_grid, arr, levels, cmap=colors, norm=norm)\n",
        "\n",
        "    vals = []\n",
        "    for b in tqdm(bias):\n",
        "        k2.bias = b\n",
        "        ntk_val = k2(x2,y2)\n",
        "        for ell in lengthscale:\n",
        "            k1.length_scale = ell\n",
        "            lpk_val = k1(x2,y2)\n",
        "\n",
        "            vals.append(np.abs((lpk_val-ntk_val).squeeze()))\n",
        "    \n",
        "    arr = np.array(vals).reshape(-1,mesh)\n",
        "    ax[4+i].contourf(bias_grid, lengthscale_grid, arr, levels, cmap=colors, norm=norm)\n",
        "\n",
        "    vals = []\n",
        "    for b in tqdm(bias):\n",
        "        k2.bias = b\n",
        "        ntk_val = k2(x3,y3)\n",
        "        for ell in lengthscale:\n",
        "            k1.length_scale = ell\n",
        "            lpk_val = k1(x3,y3)\n",
        "\n",
        "            vals.append(np.abs((lpk_val-ntk_val).squeeze()))\n",
        "    \n",
        "    arr = np.array(vals).reshape(-1,mesh)\n",
        "    ax[1+i].contourf(bias_grid, lengthscale_grid, arr, levels, cmap=colors, norm=norm)\n",
        "\n",
        "    vals = []\n",
        "    for b in tqdm(bias):\n",
        "        k2.bias = b\n",
        "        ntk_val = k2(x4,y4)\n",
        "        for ell in lengthscale:\n",
        "            k1.length_scale = ell\n",
        "            lpk_val = k1(x4,y4)\n",
        "\n",
        "            vals.append(np.abs((lpk_val-ntk_val).squeeze()))\n",
        "    \n",
        "    arr = np.array(vals).reshape(-1,mesh)\n",
        "    ax[5+i].contourf(bias_grid, lengthscale_grid, arr, levels, cmap=colors, norm=norm)"
      ]
    },
    {
      "cell_type": "code",
      "execution_count": 37,
      "metadata": {},
      "outputs": [
        {
          "data": {
            "text/plain": [
              "[Text(1, 0.0, '0.00'), Text(1, 5e-02, '0.05'), Text(1, 0.1, '$\\\\geq 0.10$')]"
            ]
          },
          "execution_count": 37,
          "metadata": {},
          "output_type": "execute_result"
        }
      ],
      "source": [
        "cbar = fig.colorbar(mpl.cm.ScalarMappable(norm=norm, cmap=colors), ax=ax.ravel().tolist(), cmap=colors, ticks=[0, 0.05, 0.1])#, ticks=['0', '0.25', '0.5'])\n",
        "# cbar.ax.set_yticklabels(['0.0', '0.1', '0.2', '0.3', '0.4', r'$\\geq 0.5$'])  # vertically oriented colorbar\n",
        "cbar.ax.set_yticklabels(['0.00', '0.05', r'$\\geq 0.10$']) "
      ]
    },
    {
      "cell_type": "code",
      "execution_count": 40,
      "metadata": {},
      "outputs": [
        {
          "data": {
            "image/png": "[encoded data removed]",
            "text/plain": [
              "<Figure size 1152x504 with 9 Axes>"
            ]
          },
          "execution_count": 40,
          "metadata": {},
          "output_type": "execute_result"
        },
        {
          "name": "stderr",
          "output_type": "stream",
          "text": [
            "Bad pipe message: %s [b'\\x11\\xf3KS_BR\\xb4\\xb5\\x91\\xf6SJ\\x90\\xb9h\\x0c, \\xb0_\\x80\\x9e\\x05\\xf0T)U\\xecv\\xf4\\xb1\\x85\\x9e}P\\x8c\\xb1\\xde\\xc1k\\xdf0\\xe6\\xd3s\\x90\\xbeH\\xbe\\xe0\\x00\\x08\\x13\\x02\\x13\\x03\\x13\\x01\\x00\\xff\\x01\\x00\\x00\\x8f\\x00\\x00\\x00\\x0e\\x00\\x0c\\x00\\x00\\t127.0.0.1\\x00\\x0b\\x00\\x04\\x03\\x00\\x01\\x02\\x00\\n\\x00\\x0c\\x00\\n\\x00\\x1d\\x00\\x17\\x00\\x1e\\x00\\x19\\x00\\x18\\x00#\\x00\\x00\\x00\\x16\\x00\\x00\\x00\\x17\\x00\\x00\\x00\\r\\x00\\x1e\\x00\\x1c']\n",
            "Bad pipe message: %s [b'\\x05\\x03\\x06', b'\\x07\\x08']\n",
            "Bad pipe message: %s [b\"\\xc5\\xf4\\n\\x0cQ\\x02\\xb6kP*\\xd1e\\xa9\\x11\\xe6\\xf9\\xd2\\xb0 \\x83\\x8c\\xaa\\x9b\\xda5\\x124\\xe7\\xac\\x12\\xddx\\xd9\\xcb'\\xc9\\x06\\xe6'\\xec\\xd0\\xbcT\\xea\\xf5\\xcb{\\\\l10\\x00\\x08\\x13\\x02\\x13\\x03\\x13\\x01\\x00\\xff\\x01\\x00\\x00\\x8f\\x00\\x00\\x00\\x0e\\x00\\x0c\\x00\\x00\\t127.0.0.1\\x00\\x0b\\x00\\x04\\x03\\x00\\x01\\x02\\x00\\n\\x00\\x0c\\x00\\n\\x00\\x1d\\x00\\x17\\x00\\x1e\\x00\\x19\\x00\\x18\\x00#\\x00\\x00\\x00\\x16\\x00\\x00\\x00\\x17\\x00\\x00\\x00\\r\\x00\\x1e\\x00\\x1c\\x04\\x03\\x05\\x03\\x06\\x03\\x08\\x07\\x08\\x08\\x08\\t\\x08\\n\\x08\\x0b\\x08\\x04\\x08\\x05\\x08\\x06\\x04\\x01\\x05\\x01\\x06\\x01\\x00+\\x00\\x03\\x02\\x03\\x04\\x00-\\x00\\x02\\x01\\x01\\x003\\x00&\\x00$\\x00\\x1d\\x00 p\\x1fl\\x9d\\xbb9}\\x88\\xb6\\xa5\\x01\\x03\\xbc\\xb2;\\x1a\\x14\\xb8\\x03\\x8d\\xd6;\\xd0w\\xb0\\xcc\\xc3\\xc7\\xce)\"]\n",
            "Bad pipe message: %s [b\"}\\xb8\\x15\\xe8\\xa4D)P\\x03\\x12m\\x02U\\xd1V\\xaa\\xf9W\\x00\\x00|\\xc0,\\xc00\\x00\\xa3\\x00\\x9f\\xcc\\xa9\\xcc\\xa8\\xcc\\xaa\\xc0\\xaf\\xc0\\xad\\xc0\\xa3\\xc0\\x9f\\xc0]\\xc0a\\xc0W\\xc0S\\xc0+\\xc0/\\x00\\xa2\\x00\\x9e\\xc0\\xae\\xc0\\xac\\xc0\\xa2\\xc0\\x9e\\xc0\\\\\\xc0`\\xc0V\\xc0R\\xc0$\\xc0(\\x00k\\x00j\\xc0#\\xc0'\\x00g\\x00@\\xc0\\n\\xc0\\x14\\x009\\x008\\xc0\\t\\xc0\\x13\\x003\\x002\\x00\\x9d\\xc0\\xa1\\xc0\\x9d\\xc0Q\\x00\\x9c\\xc0\\xa0\\xc0\\x9c\\xc0P\\x00=\\x00<\\x005\\x00/\\x00\\x9a\\x00\\x99\\xc0\\x07\\xc0\\x11\\x00\\x96\\x00\\x05\\x00\\xff\\x01\\x00\\x00j\\x00\\x00\\x00\\x0e\\x00\\x0c\"]\n",
            "Bad pipe message: %s [b\"\\xa1/\\x1c\\xc5\\xbf(^\\x19\\x95L\\xd8=^#2{\\x00\\xf8\\x00\\x00\\xa6\\xc0,\\xc00\\x00\\xa3\\x00\\x9f\\xcc\\xa9\\xcc\\xa8\\xcc\\xaa\\xc0\\xaf\\xc0\\xad\\xc0\\xa3\\xc0\\x9f\\xc0]\\xc0a\\xc0W\\xc0S\\xc0+\\xc0/\\x00\\xa2\\x00\\x9e\\xc0\\xae\\xc0\\xac\\xc0\\xa2\\xc0\\x9e\\xc0\\\\\\xc0`\\xc0V\\xc0R\\xc0$\\xc0(\\x00k\\x00j\\xc0s\\xc0w\\x00\\xc4\\x00\\xc3\\xc0#\\xc0'\\x00g\\x00@\\xc0r\\xc0v\\x00\\xbe\\x00\\xbd\\xc0\\n\\xc0\\x14\\x009\\x008\\x00\\x88\\x00\\x87\\xc0\\t\\xc0\\x13\\x003\\x002\\x00\\x9a\\x00\\x99\\x00E\\x00D\\xc0\\x07\\xc0\\x11\\xc0\\x08\\xc0\\x12\\x00\\x16\\x00\\x13\\x00\\x9d\\xc0\\xa1\\xc0\\x9d\\xc0Q\\x00\\x9c\\xc0\\xa0\\xc0\\x9c\\xc0P\\x00=\\x00\\xc0\\x00<\\x00\\xba\\x005\\x00\\x84\\x00/\\x00\\x96\\x00A\\x00\\x05\\x00\\n\\x00\\xff\\x01\\x00\\x00j\\x00\\x00\\x00\\x0e\\x00\\x0c\\x00\\x00\\t127.0.0.1\\x00\\x0b\\x00\\x04\\x03\\x00\\x01\\x02\\x00\\n\\x00\\x0c\\x00\\n\\x00\\x1d\\x00\\x17\\x00\\x1e\\x00\\x19\\x00\\x18\\x00#\\x00\\x00\\x00\\x16\\x00\\x00\\x00\\x17\\x00\\x00\\x00\\r\\x000\\x00.\\x04\", b'\\x03\\x06', b'\\x07\\x08']\n",
            "Bad pipe message: %s [b'/\\x9d\\x92\\xe6\\x01[UT\\x1d\\x9c\\x10\\x97]R\\x82^\\xd9\\x84\\x00']\n",
            "Bad pipe message: %s [b'\\xa6\\xd6\\xbf\\x9e$~\\xb9H\\x04\\x8cw\\xa2\\xc2>\\x1ajn\\x00\\x00\\x00\\xa2\\xc0\\x14\\xc0\\n\\x009\\x008\\x007\\x006\\x00\\x88\\x00\\x87\\x00\\x86\\x00\\x85\\xc0\\x19\\x00:\\x00\\x89\\xc0\\x0f\\xc0\\x05\\x005\\x00\\x84\\xc0\\x13\\xc0\\t\\x003\\x002\\x001\\x000\\x00\\x9a\\x00\\x99\\x00\\x98\\x00\\x97\\x00E\\x00D\\x00C\\x00B\\xc0\\x18\\x004\\x00\\x9b\\x00F\\xc0\\x0e\\xc0\\x04\\x00/\\x00\\x96\\x00A\\x00\\x07\\xc0\\x11\\xc0\\x07\\xc0\\x16\\x00\\x18\\xc0\\x0c\\xc0\\x02\\x00\\x05\\x00\\x04\\xc0\\x12\\xc0\\x08\\x00\\x16\\x00\\x13\\x00\\x10\\x00\\r\\xc0\\x17\\x00\\x1b\\xc0\\r\\xc0\\x03\\x00\\n\\x00\\x15\\x00\\x12\\x00\\x0f\\x00\\x0c\\x00\\x1a\\x00\\t\\x00\\x14\\x00']\n",
            "Bad pipe message: %s [b'm\\xa7\\x94fg+RU\\xc4\\x13\\xf9\\xb9\\x1a\\xc3Uy\\x99\\xfd\\x00\\x00>\\xc0\\x14\\xc0\\n\\x009\\x008\\x007\\x006\\xc0\\x0f\\xc0\\x05\\x005\\xc0\\x13\\xc0\\t\\x003\\x002\\x001\\x000\\xc0\\x0e\\xc0\\x04\\x00/\\x00\\x9a\\x00\\x99\\x00\\x98\\x00\\x97\\x00\\x96\\x00\\x07\\xc0\\x11\\xc0\\x07\\xc0\\x0c\\xc0\\x02\\x00\\x05\\x00\\x04\\x00\\xff\\x02\\x01\\x00\\x00C\\x00\\x00\\x00\\x0e\\x00\\x0c\\x00\\x00\\t127.0.0.1\\x00\\x0b\\x00\\x04\\x03\\x00\\x01\\x02\\x00\\n']\n",
            "Bad pipe message: %s [b'I\\xba\\xe4uv6\\xafJ)\\xf5S|\\x14\\x81{%@\\x15\\x00\\x00\\xa2\\xc0\\x14\\xc0\\n\\x009\\x008\\x007\\x006\\x00\\x88']\n",
            "Bad pipe message: %s [b'@)\\xe4\\xde\\xd5\\x8a\\xe8\\xe9CVO\\xf7\\xb8\\x18<U\\xdd\\x02\\x00\\x00\\xf4\\xc00\\xc0,\\xc0(\\xc0$\\xc0\\x14\\xc0\\n\\x00\\xa5\\x00\\xa3\\x00\\xa1\\x00\\x9f\\x00k\\x00j\\x00i\\x00h\\x009\\x008\\x007\\x006\\x00\\x88\\x00\\x87\\x00\\x86\\x00\\x85\\xc0\\x19\\x00\\xa7\\x00m\\x00:\\x00\\x89\\xc02\\xc0.\\xc0*\\xc0&\\xc0\\x0f\\xc0']\n",
            "Bad pipe message: %s [b'\\xe9\\x97\\r\\xcd\\xd9V/\\xff\\xc28\\xc2\\x98&\\xee\\x8as\\xcc\\xee\\x00\\x00\\xa2\\xc0\\x14\\xc0\\n\\x009\\x008\\x007\\x006\\x00\\x88\\x00\\x87\\x00\\x86\\x00\\x85\\xc0\\x19\\x00:\\x00\\x89\\xc0\\x0f\\xc0\\x05\\x005\\x00\\x84\\xc0\\x13\\xc0\\t\\x003\\x002\\x001\\x000\\x00\\x9a\\x00\\x99\\x00\\x98\\x00\\x97\\x00E\\x00D\\x00C\\x00B\\xc0\\x18\\x004\\x00\\x9b\\x00F\\xc0\\x0e\\xc0\\x04\\x00/\\x00\\x96\\x00A\\x00\\x07\\xc0\\x11\\xc0\\x07\\xc0\\x16\\x00\\x18\\xc0\\x0c\\xc0']\n",
            "Bad pipe message: %s [b'\\xe0\\xcaoQ\"S/\\xae:\\x00\\x87\\xcb\\x08\\xf0j}f\\x11\\x00\\x00\\x86\\xc00\\xc0,\\xc0(\\xc0$\\xc0\\x14\\xc0\\n\\x00\\xa5\\x00\\xa3\\x00\\xa1']\n",
            "Bad pipe message: %s [b'\\t\\x08\\n\\x08\\x0b\\x08\\x04']\n",
            "Bad pipe message: %s [b'\\x05']\n",
            "Bad pipe message: %s [b'\\x9d\\x00=\\x00']\n",
            "Bad pipe message: %s [b'\\t\\x08\\n\\x08\\x0b\\x08\\x04']\n",
            "Bad pipe message: %s [b'\\x19\\x00\\x08\\x00\\x06\\x00\\x17\\x00\\x03\\xc0\\x10\\xc0\\x06\\xc0\\x15\\xc0']\n",
            "Bad pipe message: %s [b'\\x08\\x06\\x04\\x01\\x05\\x01\\x06', b'']\n",
            "Bad pipe message: %s [b'\\x01\\x00\\x02\\x00\\x01\\x00\\xff\\x02\\x01\\x00']\n",
            "Bad pipe message: %s [b\"\\x84\\xc0/\\xc0+\\xc0'\\xc0#\\xc0\\x13\\xc0\\t\\x00\\xa4\\x00\\xa2\\x00\\xa0\\x00\\x9e\\x00g\\x00@\\x00?\\x00>\\x003\\x002\\x001\\x000\\x00\\x9a\\x00\\x99\\x00\\x98\\x00\\x97\\x00E\\x00D\\x00C\\x00\"]\n",
            "Bad pipe message: %s [b'\\x08\\x06\\x04\\x01\\x05\\x01\\x06', b'', b'\\x03\\x03']\n",
            "Bad pipe message: %s [b'\\x03\\x02\\x03\\x04\\x00-\\x00\\x02\\x01\\x01\\x003\\x00&\\x00$\\x00\\x1d\\x00 \\x87c\\xf8\\x80P\\x18\\x12l\\xcaE\\xf3,\\x9b\\x1ch\\x8b}\\xb8\\xb0\\xb2\\xba\\x8c']\n",
            "Bad pipe message: %s [b'']\n",
            "Bad pipe message: %s [b'\\x18\\x00\\xa6\\x00l\\x004\\x00\\x9b\\x00F\\xc01\\xc0-\\xc0)\\xc0%\\xc0\\x0e\\xc0\\x04\\x00\\x9c\\x00<\\x00/\\x00\\x96\\x00A\\x00\\x07\\xc0\\x11\\xc0\\x07\\xc0\\x16\\x00\\x18\\xc0\\x0c\\xc0\\x02\\x00\\x05\\x00\\x04\\xc0\\x12\\xc0\\x08\\x00\\x16\\x00\\x13\\x00\\x10\\x00\\r\\xc0\\x17']\n",
            "Bad pipe message: %s [b'', b'\\x02']\n",
            "Bad pipe message: %s [b'\\x05\\x02\\x06']\n"
          ]
        }
      ],
      "source": [
        "fig.savefig('heatmap2x2x2.svg')\n",
        "fig"
      ]
    }
  ],
  "metadata": {
    "interpreter": {
      "hash": "8dbd7d567f93f70199c703272456b4cf95669ac4b69cfdbc6e59ff6d42f5cd47"
    },
    "kernel_info": {
      "name": "python3"
    },
    "kernelspec": {
      "display_name": "Python 3",
      "language": "python",
      "name": "python3"
    },
    "language_info": {
      "codemirror_mode": {
        "name": "ipython",
        "version": 3
      },
      "file_extension": ".py",
      "mimetype": "text/x-python",
      "name": "python",
      "nbconvert_exporter": "python",
      "pygments_lexer": "ipython3",
      "version": "3.9.7"
    },
    "nteract": {
      "version": "nteract-front-end@1.0.0"
    },
    "orig_nbformat": 4
  },
  "nbformat": 4,
  "nbformat_minor": 2
}
