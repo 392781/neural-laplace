{
 "cells": [
  {
   "cell_type": "code",
   "execution_count": null,
   "metadata": {},
   "outputs": [],
   "source": [
    "from utils import *\n",
    "from scipy import optimize\n",
    "import matplotlib"
   ]
  },
  {
   "cell_type": "code",
   "execution_count": null,
   "metadata": {},
   "outputs": [],
   "source": [
    "x = np.array([0.2672612, 0.5345225, 0.8017837]).reshape(1,-1)\n",
    "y = np.array([0.4558423, 0.5698029, 0.6837635]).reshape(1,-1)\n",
    "for i in range(0, 3):\n",
    "    kernel = NTK(depth = 3+i, bias=3)\n",
    "    # kernel = Matern(nu=0.5)\n",
    "    \n",
    "    print(f'Depth: {3+i} Value: ', kernel(x, y))"
   ]
  },
  {
   "cell_type": "code",
   "execution_count": null,
   "metadata": {},
   "outputs": [],
   "source": [
    "z = np.linspace(-2, 2, 100)\n",
    "x = (z**2 + 1) * np.sin(np.linspace(-np.pi, np.pi, 100))\n",
    "y = (z**2 + 1) * np.cos(np.linspace(-np.pi, np.pi, 100))\n",
    "\n",
    "datasets = processing(x, y, z, noise = 0.15)\n",
    "X, y = datasets['orig']\n",
    "X_norm, _ = datasets['norm']\n",
    "X_train, y_train, y_train_noisy = datasets['orig train']\n",
    "X_norm_train, _, _ = datasets['norm train']\n",
    "\n",
    "data = (X_train, y_train, X, y)"
   ]
  },
  {
   "cell_type": "code",
   "execution_count": null,
   "metadata": {},
   "outputs": [],
   "source": [
    "ntk_1 = (\n",
    "    ConstantKernel(constant_value=1.0, constant_value_bounds=(1e-9, 1e5)) * \n",
    "    NTK(depth=3, c=2, bias=np.random.randn(50,50).ravel(), \n",
    "        bias_bounds=(1e-9, 1e2))\n",
    ")\n",
    "\n",
    "gp_ntk_1 = GPR(kernel=ntk_1, normalize_y=True, alpha=1e-5, n_restarts_optimizer=1, random_state=3480795)\n",
    "gp_ntk_1.fit(X_train, y_train)"
   ]
  },
  {
   "cell_type": "code",
   "execution_count": null,
   "metadata": {},
   "outputs": [],
   "source": [
    "fig, ax = plot((X, X_train), (y.ravel(), y_train_noisy), typ='data', title=r\"$z = f(x, y)$\", figsize=(8, 2.5))\n",
    "fig.savefig('./illustrative/dataset.svg')"
   ]
  },
  {
   "cell_type": "code",
   "execution_count": 4,
   "metadata": {},
   "outputs": [],
   "source": [
    "def g(ell, gp, data, residual, mean_ntk = None):\n",
    "    try:\n",
    "        gp.set_params(**{'kernel__k2__length_scale': ell})\n",
    "    except:\n",
    "        gp.set_params(**{'kernel__k1__k2__length_scale': ell})\n",
    "\n",
    "    gp.fit(data[0], data[1])\n",
    "    mean = gp.predict(data[2])\n",
    "\n",
    "    if type(mean_ntk) == np.ndarray:\n",
    "        return -np.sum((mean_ntk - mean)**2)\n",
    "    else:\n",
    "        return -np.corrcoef((residual)[:, 0], (data[3]-mean)[:, 0])[0, 1]        "
   ]
  },
  {
   "cell_type": "code",
   "execution_count": null,
   "metadata": {},
   "outputs": [],
   "source": [
    "ntk_1 = (\n",
    "    ConstantKernel(constant_value=1.0, constant_value_bounds=(1e-9, 1e5)) * \n",
    "    NTK(depth=3, c=2, bias=1e-9, \n",
    "        bias_bounds=(1e-9, 1e2))\n",
    ")\n",
    "\n",
    "gp_ntk_1 = GPR(kernel=ntk_1, normalize_y=True, alpha=1e-5, n_restarts_optimizer=9, random_state=3480795)\n",
    "gp_ntk_1.fit(X_train, y_train)\n",
    "mean_ntk_1 = gp_ntk_1.predict(X)\n",
    "\n",
    "lpk_1 = (\n",
    "    ConstantKernel(constant_value=gp_ntk_1.kernel_.get_params()['k1__constant_value'], constant_value_bounds='fixed') *#(1e-9, 1e5)) * \n",
    "    Matern(length_scale=1,\n",
    "        length_scale_bounds='fixed',#(1e-9, 1e3), \n",
    "        nu=1/2)\n",
    ")\n",
    "\n",
    "gp_lpk_1 = GPR(kernel=lpk_1, normalize_y=True, alpha=1e-5, n_restarts_optimizer=9, random_state=3480795)\n",
    "ell_lpk = optimize.minimize_scalar(g, args=(gp_lpk_1, data, y-mean_ntk_1), method='bounded', bounds=[0.0001, 1000], options={'disp': 3, 'maxiter': 10000})\n",
    "gp_lpk_1.set_params(**{'kernel__k2__length_scale': ell_lpk.x})\n",
    "gp_lpk_1.fit(X_train, y_train)\n",
    "mean_lpk_1 = gp_lpk_1.predict(X)\n",
    "\n",
    "# np.linalg.norm(xn-yn)/np.log(1/ntk_val_n)\n",
    "\n",
    "# lpk_1 = (\n",
    "#     ConstantKernel(constant_value=1.0, constant_value_bounds=(1e-9, 1e5)) * \n",
    "#     Matern(length_scale=np.linalg.norm(xn-yn)/np.log(1/ntk_val_n),\n",
    "#         length_scale_bounds='fixed',#(1e-9, 1e3), \n",
    "#         nu=1/2)\n",
    "# )\n",
    "\n"
   ]
  },
  {
   "cell_type": "code",
   "execution_count": null,
   "metadata": {},
   "outputs": [],
   "source": [
    "plot(X, mean_ntk_1.ravel(), typ='data')"
   ]
  },
  {
   "cell_type": "code",
   "execution_count": null,
   "metadata": {},
   "outputs": [],
   "source": [
    "plot(X, mean_lpk_1.ravel(), typ='data')"
   ]
  },
  {
   "cell_type": "code",
   "execution_count": 22,
   "metadata": {},
   "outputs": [
    {
     "name": "stderr",
     "output_type": "stream",
     "text": [
      "/anaconda/envs/thesis/lib/python3.9/site-packages/sklearn/gaussian_process/kernels.py:420: ConvergenceWarning: The optimal value found for dimension 0 of parameter k2__bias is close to the specified lower bound 1e-09. Decreasing the bound and calling fit again may find a better value.\n",
      "  warnings.warn(\n"
     ]
    },
    {
     "data": {
      "text/plain": [
       "1.05**2 * NTK(depth=3, c=2.000, bias=0.000)"
      ]
     },
     "execution_count": 22,
     "metadata": {},
     "output_type": "execute_result"
    }
   ],
   "source": [
    "ntk_1 = (\n",
    "    ConstantKernel(constant_value=1.0, constant_value_bounds=(1e-9, 1e5)) * \n",
    "    NTK(depth=3, c=2, bias=1e-9, \n",
    "        bias_bounds=(1e-9, 1e2))\n",
    ")\n",
    "\n",
    "gp_ntk_1 = GPR(kernel=ntk_1, normalize_y=True, alpha=1e-5, n_restarts_optimizer=9, random_state=3480795)\n",
    "gp_ntk_1.fit(X_norm_train, y_train)\n",
    "mean_ntk_1 = gp_ntk_1.predict(X_norm)\n",
    "gp_ntk_1.kernel_"
   ]
  },
  {
   "cell_type": "code",
   "execution_count": 58,
   "metadata": {},
   "outputs": [
    {
     "data": {
      "text/plain": [
       "(100, 1)"
      ]
     },
     "execution_count": 58,
     "metadata": {},
     "output_type": "execute_result"
    }
   ],
   "source": [
    "X_norm.reshape(2,-1)[0].reshape(-1,1).shape"
   ]
  },
  {
   "cell_type": "code",
   "execution_count": 62,
   "metadata": {},
   "outputs": [
    {
     "name": "stdout",
     "output_type": "stream",
     "text": [
      "[[-6.3226097]]\n"
     ]
    }
   ],
   "source": [
    "# ntk = NTK(depth=3,c=2, bias=0.0)\n",
    "# for i in range(0,100):\n",
    "ele1 = 0 \n",
    "ele2 = 4\n",
    "x = normalize(np.random.randint(0, 10000000, 10).reshape(1,-1))\n",
    "y = \n",
    "print(np.linalg.norm(X_norm_train.reshape(2,-1)[0].reshape(1,-1) - X_norm_train.reshape(2,-1)[1].reshape(1,-1))/np.log(1/gp_ntk_1.kernel_(X_norm_train.reshape(2,-1)[0].reshape(1,-1), X_norm_train.reshape(2,-1)[1].reshape(1,-1))))"
   ]
  },
  {
   "cell_type": "code",
   "execution_count": 63,
   "metadata": {},
   "outputs": [
    {
     "name": "stdout",
     "output_type": "stream",
     "text": [
      " \n",
      " Func-count     x          f(x)          Procedure\n",
      "    1        381.966    -0.999563        initial\n",
      "    2        618.034    -0.999228        golden\n",
      "    3        236.068    -0.999704        golden\n",
      "    4        145.898    -0.999763        golden\n",
      "    5          90.17    -0.999787        golden\n",
      "    6        55.7282    -0.999799        golden\n",
      "    7         34.442    -0.999806        golden\n",
      "    8        21.2863    -0.999812        golden\n",
      "    9        13.1557     -0.99982        golden\n",
      "   10        8.13072     -0.99983        golden\n",
      "   11         5.0251    -0.999844        golden\n",
      "   12        3.10572    -0.999858        golden\n",
      "   13        1.91948     -0.99985        golden\n",
      "   14        3.25184    -0.999857        parabolic\n",
      "   15        2.84092    -0.999859        parabolic\n",
      "   16        2.48896    -0.999859        golden\n",
      "   17        2.55605     -0.99986        parabolic\n",
      "   18        2.59536     -0.99986        parabolic\n",
      "   19        2.58238     -0.99986        parabolic\n",
      "   20        2.58295     -0.99986        parabolic\n",
      "   21         2.5828     -0.99986        parabolic\n",
      "   22        2.58285     -0.99986        parabolic\n",
      "   23        2.58287     -0.99986        parabolic\n",
      "   24        2.58284     -0.99986        parabolic\n",
      "   25        2.58285     -0.99986        parabolic\n",
      "   26        2.58285     -0.99986        golden\n",
      "\n",
      "Optimization terminated successfully;\n",
      "The returned value satisfies the termination criteria\n",
      "(using xtol =  1e-05 )\n"
     ]
    },
    {
     "data": {
      "text/plain": [
       "1.05**2 * Matern(length_scale=2.58, nu=0.5)"
      ]
     },
     "execution_count": 63,
     "metadata": {},
     "output_type": "execute_result"
    }
   ],
   "source": [
    "data = (X_norm_train, y_train, X_norm, y)\n",
    "lpk_1 = (\n",
    "    ConstantKernel(constant_value=gp_ntk_1.kernel_.get_params()['k1__constant_value'], constant_value_bounds='fixed') *#(1e-9, 1e5)) * \n",
    "    Matern(length_scale=1,\n",
    "        length_scale_bounds='fixed',#(1e-9, 1e3), \n",
    "        nu=1/2)\n",
    ")\n",
    "\n",
    "gp_lpk_1 = GPR(kernel=lpk_1, normalize_y=True, alpha=1e-5, n_restarts_optimizer=9, random_state=3480795)\n",
    "ell_lpk = optimize.minimize_scalar(g, args=(gp_lpk_1, data, y-mean_ntk_1), method='bounded', bounds=[0.0001, 1000], options={'disp': 3, 'maxiter': 10000})\n",
    "gp_lpk_1.set_params(**{'kernel__k2__length_scale': ell_lpk.x})\n",
    "gp_lpk_1.fit(X_train, y_train)\n",
    "mean_lpk_1 = gp_lpk_1.predict(X)\n",
    "\n",
    "gp_lpk_1.kernel_\n",
    "# np.linalg.norm(xn-yn)/np.log(1/ntk_val_n)\n",
    "\n",
    "# lpk_1 = (\n",
    "#     ConstantKernel(constant_value=1.0, constant_value_bounds=(1e-9, 1e5)) * \n",
    "#     Matern(length_scale=np.linalg.norm(xn-yn)/np.log(1/ntk_val_n),\n",
    "#         length_scale_bounds='fixed',#(1e-9, 1e3), \n",
    "#         nu=1/2)\n",
    "# )\n"
   ]
  },
  {
   "cell_type": "code",
   "execution_count": 64,
   "metadata": {},
   "outputs": [
    {
     "data": {
      "text/plain": [
       "array([[17.10302687, 16.25170859, 16.74975671, ...,  9.52836302,\n",
       "         6.22665586, 17.06257648],\n",
       "       [16.25170859, 27.42264833, 24.01036965, ..., 17.67434745,\n",
       "         5.14003575, 20.72893125],\n",
       "       [16.74975671, 24.01036965, 24.05874126, ..., 14.977716  ,\n",
       "         5.44969887, 21.03142776],\n",
       "       ...,\n",
       "       [ 9.52836302, 17.67434745, 14.977716  , ..., 18.3408313 ,\n",
       "         2.95433661, 12.57242169],\n",
       "       [ 6.22665586,  5.14003575,  5.44969887, ...,  2.95433661,\n",
       "         6.95816731,  5.76644405],\n",
       "       [17.06257648, 20.72893125, 21.03142776, ..., 12.57242169,\n",
       "         5.76644405, 21.04016856]])"
      ]
     },
     "execution_count": 64,
     "metadata": {},
     "output_type": "execute_result"
    }
   ],
   "source": [
    "gp_ntk_1.kernel_(X_train)"
   ]
  },
  {
   "cell_type": "code",
   "execution_count": 65,
   "metadata": {},
   "outputs": [
    {
     "data": {
      "text/plain": [
       "array([[1.09690593, 0.46398951, 0.60314694, ..., 0.31468488, 0.37883852,\n",
       "        0.77404307],\n",
       "       [0.46398951, 1.09690593, 0.83951726, ..., 0.51781188, 0.17585816,\n",
       "        0.6535764 ],\n",
       "       [0.60314694, 0.83951726, 1.09690593, ..., 0.45425645, 0.2208676 ,\n",
       "        0.85292237],\n",
       "       ...,\n",
       "       [0.31468488, 0.51781188, 0.45425645, ..., 1.09690593, 0.16863618,\n",
       "        0.39212303],\n",
       "       [0.37883852, 0.17585816, 0.2208676 , ..., 0.16863618, 1.09690593,\n",
       "        0.27560615],\n",
       "       [0.77404307, 0.6535764 , 0.85292237, ..., 0.39212303, 0.27560615,\n",
       "        1.09690593]])"
      ]
     },
     "execution_count": 65,
     "metadata": {},
     "output_type": "execute_result"
    }
   ],
   "source": [
    "gp_lpk_1.kernel_(X_train)"
   ]
  }
 ],
 "metadata": {
  "interpreter": {
   "hash": "8dbd7d567f93f70199c703272456b4cf95669ac4b69cfdbc6e59ff6d42f5cd47"
  },
  "kernelspec": {
   "display_name": "Python 3.9.7 ('thesis')",
   "language": "python",
   "name": "python3"
  },
  "language_info": {
   "codemirror_mode": {
    "name": "ipython",
    "version": 3
   },
   "file_extension": ".py",
   "mimetype": "text/x-python",
   "name": "python",
   "nbconvert_exporter": "python",
   "pygments_lexer": "ipython3",
   "version": "3.9.7"
  },
  "orig_nbformat": 4
 },
 "nbformat": 4,
 "nbformat_minor": 2
}
