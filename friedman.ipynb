{
 "cells": [
  {
   "cell_type": "code",
   "execution_count": 1,
   "metadata": {},
   "outputs": [],
   "source": [
    "from utils import *"
   ]
  },
  {
   "cell_type": "markdown",
   "metadata": {},
   "source": [
    "# Friedman Data"
   ]
  },
  {
   "cell_type": "markdown",
   "metadata": {},
   "source": [
    "## Dataset"
   ]
  },
  {
   "cell_type": "code",
   "execution_count": 2,
   "metadata": {},
   "outputs": [],
   "source": [
    "X, y = make_friedman1()\n",
    "datasets = processing(X, y)\n",
    "\n",
    "X, y = datasets['orig']\n",
    "X_norm, y_norm = datasets['norm']\n",
    "X_train, y_train, y_train_noisy = datasets['orig train']\n",
    "X_train_norm, y_train_norm, y_train_norm_noisy = datasets['norm train']"
   ]
  },
  {
   "cell_type": "markdown",
   "metadata": {},
   "source": [
    "## $\\mathbb{R}^d$"
   ]
  },
  {
   "cell_type": "code",
   "execution_count": 3,
   "metadata": {},
   "outputs": [
    {
     "name": "stderr",
     "output_type": "stream",
     "text": [
      "<>:20: SyntaxWarning: 'str' object is not callable; perhaps you missed a comma?\n",
      "<>:20: SyntaxWarning: 'str' object is not callable; perhaps you missed a comma?\n",
      "/tmp/ipykernel_1439292/1548458269.py:20: SyntaxWarning: 'str' object is not callable; perhaps you missed a comma?\n",
      "  length_scale_bounds='fixed'(1e-1, 1e3),\n"
     ]
    },
    {
     "ename": "TypeError",
     "evalue": "'str' object is not callable",
     "output_type": "error",
     "traceback": [
      "\u001b[0;31m---------------------------------------------------------------------------\u001b[0m",
      "\u001b[0;31mTypeError\u001b[0m                                 Traceback (most recent call last)",
      "\u001b[0;32m/tmp/ipykernel_1439292/1548458269.py\u001b[0m in \u001b[0;36m<module>\u001b[0;34m\u001b[0m\n\u001b[1;32m     18\u001b[0m         \u001b[0mnu\u001b[0m\u001b[0;34m=\u001b[0m\u001b[0;36m1\u001b[0m\u001b[0;34m/\u001b[0m\u001b[0;36m2\u001b[0m\u001b[0;34m,\u001b[0m\u001b[0;34m\u001b[0m\u001b[0;34m\u001b[0m\u001b[0m\n\u001b[1;32m     19\u001b[0m         \u001b[0mlength_scale\u001b[0m\u001b[0;34m=\u001b[0m\u001b[0;36m1\u001b[0m\u001b[0;34m,\u001b[0m\u001b[0;34m\u001b[0m\u001b[0;34m\u001b[0m\u001b[0m\n\u001b[0;32m---> 20\u001b[0;31m         \u001b[0mlength_scale_bounds\u001b[0m\u001b[0;34m=\u001b[0m\u001b[0;34m'fixed'\u001b[0m\u001b[0;34m(\u001b[0m\u001b[0;36m1e-1\u001b[0m\u001b[0;34m,\u001b[0m \u001b[0;36m1e3\u001b[0m\u001b[0;34m)\u001b[0m\u001b[0;34m,\u001b[0m\u001b[0;34m\u001b[0m\u001b[0;34m\u001b[0m\u001b[0m\n\u001b[0m\u001b[1;32m     21\u001b[0m     ) \n\u001b[1;32m     22\u001b[0m )\n",
      "\u001b[0;31mTypeError\u001b[0m: 'str' object is not callable"
     ]
    }
   ],
   "source": [
    "ntk = (\n",
    "    ConstantKernel(\n",
    "        constant_value=1, \n",
    "        constant_value_bounds=(1e-9, 1e2)\n",
    "    ) * \n",
    "    NTK(depth=3, c=2, \n",
    "        bias=1e-1, \n",
    "        bias_bounds=(1e-9, 1e0)\n",
    "    ) \n",
    ")\n",
    "\n",
    "lpk = (\n",
    "    ConstantKernel(\n",
    "        constant_value=0.05, \n",
    "        constant_value_bounds=(1e-9, 1e5) \n",
    "    ) * \n",
    "    Matern(\n",
    "        nu=1/2,\n",
    "        length_scale=1,\n",
    "        length_scale_bounds='fixed',#(1e-1, 1e3), \n",
    "    ) \n",
    ")\n",
    "\n",
    "gp_ntk = GPR(kernel=ntk, alpha=1e-5, n_restarts_optimizer=9)\n",
    "gp_ntk.fit(X_train, y_train)\n",
    "print('NTK     : ', gp_ntk.kernel_)\n",
    "mean_ntk = gp_ntk.predict(X)\n",
    "\n",
    "gp_lpk = GPR(kernel=lpk, alpha=1e-5, n_restarts_optimizer=9)\n",
    "gp_lpk.fit(X_train, y_train)\n",
    "print('Laplace : ', gp_lpk.kernel_)\n",
    "mean_lpk = gp_lpk.predict(X)"
   ]
  },
  {
   "cell_type": "code",
   "execution_count": null,
   "metadata": {},
   "outputs": [
    {
     "data": {
      "text/plain": [
       "<matplotlib.collections.PathCollection at 0x7f5b5a16eac0>"
      ]
     },
     "execution_count": 4,
     "metadata": {},
     "output_type": "execute_result"
    },
    {
     "data": {
      "image/png": "[encoded data removed]",
      "text/plain": [
       "<Figure size 432x288 with 1 Axes>"
      ]
     },
     "metadata": {
      "needs_background": "light"
     },
     "output_type": "display_data"
    }
   ],
   "source": [
    "# NTK vs LPK residuals\n",
    "plt.scatter(y - mean_ntk, y - mean_lpk)"
   ]
  },
  {
   "cell_type": "markdown",
   "metadata": {},
   "source": [
    "## $\\mathbb{S}^{d-1}$"
   ]
  },
  {
   "cell_type": "code",
   "execution_count": null,
   "metadata": {},
   "outputs": [
    {
     "name": "stderr",
     "output_type": "stream",
     "text": [
      "/home/rona1das/Tools/anaconda3/envs/thesis/lib/python3.9/site-packages/sklearn/gaussian_process/_gpr.py:610: ConvergenceWarning: lbfgs failed to converge (status=2):\n",
      "ABNORMAL_TERMINATION_IN_LNSRCH.\n",
      "\n",
      "Increase the number of iterations (max_iter) or scale the data as shown in:\n",
      "    https://scikit-learn.org/stable/modules/preprocessing.html\n",
      "  _check_optimize_result(\"lbfgs\", opt_res)\n"
     ]
    },
    {
     "name": "stdout",
     "output_type": "stream",
     "text": [
      "NTK     :  3.11**2 * NTK(depth=3, c=2.000, bias=0.898)\n",
      "Laplace :  12.9**2 * Matern(length_scale=4.87, nu=0.5)\n"
     ]
    }
   ],
   "source": [
    "gp_ntk = GPR(kernel=ntk, alpha=1e-5, n_restarts_optimizer=9)\n",
    "gp_ntk.fit(X_train_norm, y_train_norm)\n",
    "print('NTK     : ', gp_ntk.kernel_)\n",
    "mean_ntk = gp_ntk.predict(X_norm)\n",
    "\n",
    "gp_lpk = GPR(kernel=lpk, alpha=1e-5, n_restarts_optimizer=9)\n",
    "gp_lpk.fit(X_train_norm, y_train_norm)\n",
    "print('Laplace : ', gp_lpk.kernel_)\n",
    "mean_lpk = gp_lpk.predict(X_norm)"
   ]
  },
  {
   "cell_type": "code",
   "execution_count": null,
   "metadata": {},
   "outputs": [
    {
     "data": {
      "text/plain": [
       "<matplotlib.collections.PathCollection at 0x7f5b5a012ac0>"
      ]
     },
     "execution_count": 6,
     "metadata": {},
     "output_type": "execute_result"
    },
    {
     "data": {
      "image/png": "[encoded data removed]",
      "text/plain": [
       "<Figure size 432x288 with 1 Axes>"
      ]
     },
     "metadata": {
      "needs_background": "light"
     },
     "output_type": "display_data"
    }
   ],
   "source": [
    "# NTK vs LPK residuals\n",
    "plt.scatter(y - mean_ntk, y - mean_lpk)"
   ]
  }
 ],
 "metadata": {
  "interpreter": {
   "hash": "68b02c908e2cdb95db1fe9ab6c7ce5e7b7519642826f3cbd5d028e2ea906a416"
  },
  "kernelspec": {
   "display_name": "Python 3.9.7 ('thesis')",
   "language": "python",
   "name": "python3"
  },
  "language_info": {
   "codemirror_mode": {
    "name": "ipython",
    "version": 3
   },
   "file_extension": ".py",
   "mimetype": "text/x-python",
   "name": "python",
   "nbconvert_exporter": "python",
   "pygments_lexer": "ipython3",
   "version": "3.9.7"
  },
  "orig_nbformat": 4
 },
 "nbformat": 4,
 "nbformat_minor": 2
}
