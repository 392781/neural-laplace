{
 "cells": [
  {
   "cell_type": "code",
   "execution_count": 7,
   "metadata": {},
   "outputs": [],
   "source": [
    "from utils import *"
   ]
  },
  {
   "cell_type": "markdown",
   "metadata": {},
   "source": [
    "# Friedman Data"
   ]
  },
  {
   "cell_type": "markdown",
   "metadata": {},
   "source": [
    "## Dataset"
   ]
  },
  {
   "cell_type": "code",
   "execution_count": 8,
   "metadata": {},
   "outputs": [],
   "source": [
    "X, y = make_friedman1()\n",
    "datasets = processing(X, y)\n",
    "\n",
    "X, y = datasets['orig']\n",
    "X_norm, y_norm = datasets['norm']\n",
    "X_train, y_train, y_train_noisy = datasets['orig train']\n",
    "X_train_norm, y_train_norm, y_train_norm_noisy = datasets['norm train']"
   ]
  },
  {
   "cell_type": "markdown",
   "metadata": {},
   "source": [
    "## $\\mathbb{R}^d$"
   ]
  },
  {
   "cell_type": "code",
   "execution_count": 9,
   "metadata": {},
   "outputs": [
    {
     "name": "stderr",
     "output_type": "stream",
     "text": [
      "/home/rona1das/Tools/anaconda3/envs/thesis/lib/python3.9/site-packages/sklearn/gaussian_process/_gpr.py:610: ConvergenceWarning: lbfgs failed to converge (status=2):\n",
      "ABNORMAL_TERMINATION_IN_LNSRCH.\n",
      "\n",
      "Increase the number of iterations (max_iter) or scale the data as shown in:\n",
      "    https://scikit-learn.org/stable/modules/preprocessing.html\n",
      "  _check_optimize_result(\"lbfgs\", opt_res)\n"
     ]
    },
    {
     "name": "stdout",
     "output_type": "stream",
     "text": [
      "NTK     :  1.65**2 * NTK(depth=3, c=2.000, bias=0.001)\n",
      "Laplace :  6.12**2 * Matern(length_scale=1, nu=0.5)\n"
     ]
    }
   ],
   "source": [
    "ntk = (\n",
    "    ConstantKernel(\n",
    "        constant_value=1, \n",
    "        constant_value_bounds=(1e-9, 1e2)\n",
    "    ) * \n",
    "    NTK(depth=3, c=2, \n",
    "        bias=1e-1, \n",
    "        bias_bounds=(1e-9, 1e0)\n",
    "    ) \n",
    ")\n",
    "\n",
    "lpk = (\n",
    "    ConstantKernel(\n",
    "        constant_value=0.05, \n",
    "        constant_value_bounds=(1e-9, 1e5) \n",
    "    ) * \n",
    "    Matern(\n",
    "        nu=1/2,\n",
    "        length_scale=1,\n",
    "        length_scale_bounds='fixed',#(1e-1, 1e3), \n",
    "    ) \n",
    ")\n",
    "\n",
    "gp_ntk = GPR(kernel=ntk, alpha=1e-5, n_restarts_optimizer=9)\n",
    "gp_ntk.fit(X_train, y_train)\n",
    "print('NTK     : ', gp_ntk.kernel_)\n",
    "mean_ntk = gp_ntk.predict(X)\n",
    "\n",
    "gp_lpk = GPR(kernel=lpk, alpha=1e-5, n_restarts_optimizer=9)\n",
    "gp_lpk.fit(X_train, y_train)\n",
    "print('Laplace : ', gp_lpk.kernel_)\n",
    "mean_lpk = gp_lpk.predict(X)"
   ]
  },
  {
   "cell_type": "code",
   "execution_count": 10,
   "metadata": {},
   "outputs": [
    {
     "data": {
      "text/plain": [
       "(-10.0, 10.0)"
      ]
     },
     "execution_count": 10,
     "metadata": {},
     "output_type": "execute_result"
    },
    {
     "data": {
      "image/png": "[encoded data removed]",
      "text/plain": [
       "<Figure size 360x360 with 1 Axes>"
      ]
     },
     "metadata": {
      "needs_background": "light"
     },
     "output_type": "display_data"
    }
   ],
   "source": [
    "# NTK vs LPK residuals\n",
    "plt.figure(figsize=(5,5))\n",
    "plt.scatter(y - mean_ntk, y - mean_lpk)\n",
    "plt.xlim(-10,10)\n",
    "plt.ylim(-10,10)"
   ]
  },
  {
   "cell_type": "markdown",
   "metadata": {},
   "source": [
    "## $\\mathbb{S}^{d-1}$"
   ]
  },
  {
   "cell_type": "code",
   "execution_count": 11,
   "metadata": {},
   "outputs": [
    {
     "name": "stderr",
     "output_type": "stream",
     "text": [
      "/home/rona1das/Tools/anaconda3/envs/thesis/lib/python3.9/site-packages/sklearn/gaussian_process/_gpr.py:610: ConvergenceWarning: lbfgs failed to converge (status=2):\n",
      "ABNORMAL_TERMINATION_IN_LNSRCH.\n",
      "\n",
      "Increase the number of iterations (max_iter) or scale the data as shown in:\n",
      "    https://scikit-learn.org/stable/modules/preprocessing.html\n",
      "  _check_optimize_result(\"lbfgs\", opt_res)\n"
     ]
    },
    {
     "name": "stdout",
     "output_type": "stream",
     "text": [
      "NTK     :  3.54**2 * NTK(depth=3, c=2.000, bias=0.667)\n",
      "Laplace :  6.9**2 * Matern(length_scale=1, nu=0.5)\n"
     ]
    }
   ],
   "source": [
    "gp_ntk = GPR(kernel=ntk, alpha=1e-5, n_restarts_optimizer=9)\n",
    "gp_ntk.fit(X_train_norm, y_train_norm)\n",
    "print('NTK     : ', gp_ntk.kernel_)\n",
    "mean_ntk = gp_ntk.predict(X_norm)\n",
    "\n",
    "gp_lpk = GPR(kernel=lpk, alpha=1e-5, n_restarts_optimizer=9)\n",
    "gp_lpk.fit(X_train_norm, y_train_norm)\n",
    "print('Laplace : ', gp_lpk.kernel_)\n",
    "mean_lpk = gp_lpk.predict(X_norm)"
   ]
  },
  {
   "cell_type": "code",
   "execution_count": 12,
   "metadata": {},
   "outputs": [
    {
     "data": {
      "text/plain": [
       "(-10.0, 10.0)"
      ]
     },
     "execution_count": 12,
     "metadata": {},
     "output_type": "execute_result"
    },
    {
     "data": {
      "image/png": "[encoded data removed]",
      "text/plain": [
       "<Figure size 360x360 with 1 Axes>"
      ]
     },
     "metadata": {
      "needs_background": "light"
     },
     "output_type": "display_data"
    }
   ],
   "source": [
    "# NTK vs LPK residuals\n",
    "plt.figure(figsize=(5,5))\n",
    "plt.scatter(y - mean_ntk, y - mean_lpk)\n",
    "plt.xlim(-10,10)\n",
    "plt.ylim(-10,10)"
   ]
  },
  {
   "cell_type": "code",
   "execution_count": null,
   "metadata": {},
   "outputs": [],
   "source": []
  }
 ],
 "metadata": {
  "interpreter": {
   "hash": "68b02c908e2cdb95db1fe9ab6c7ce5e7b7519642826f3cbd5d028e2ea906a416"
  },
  "kernelspec": {
   "display_name": "Python 3.9.7 ('thesis')",
   "language": "python",
   "name": "python3"
  },
  "language_info": {
   "codemirror_mode": {
    "name": "ipython",
    "version": 3
   },
   "file_extension": ".py",
   "mimetype": "text/x-python",
   "name": "python",
   "nbconvert_exporter": "python",
   "pygments_lexer": "ipython3",
   "version": "3.9.7"
  },
  "orig_nbformat": 4
 },
 "nbformat": 4,
 "nbformat_minor": 2
}
