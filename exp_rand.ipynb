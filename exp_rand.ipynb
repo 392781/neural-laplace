{
 "cells": [
  {
   "cell_type": "code",
   "execution_count": null,
   "metadata": {},
   "outputs": [],
   "source": [
    "from utils import *\n",
    "import pandas as pd"
   ]
  },
  {
   "cell_type": "code",
   "execution_count": null,
   "metadata": {},
   "outputs": [],
   "source": [
    "depth = 3"
   ]
  },
  {
   "cell_type": "code",
   "execution_count": null,
   "metadata": {},
   "outputs": [],
   "source": [
    "def g(ell, gp, mean_ntk, data):\n",
    "    try:\n",
    "        # gp.set_params(**{'kernel__k2__length_scale': ell})\n",
    "        gp.kernel.k2.length_scale = ell\n",
    "    except:\n",
    "    #     gp.set_params(**{'kernel__k1__k2__length_scale': ell})\n",
    "        gp.kernel.k1.k2.length_scale = ell\n",
    "\n",
    "    X_train, y_train, X_test = data\n",
    " \n",
    "    gp.fit(X_train, y_train)\n",
    "    mean = gp.predict(X_test)\n",
    "    \n",
    "    return np.sum(mean_ntk - mean)**2\n",
    "\n",
    "# args = (kernel, mean_ntk, data)\n",
    "def optimizer(obj_func, initial_theta, bounds, args):\n",
    "    # save_bounds = bounds\n",
    "    kernel = args[0]\n",
    "    mean_ntk = args[1]\n",
    "    data = args[2]\n",
    "\n",
    "    print(\"START\", kernel)\n",
    "    print(\"INIT\", initial_theta)\n",
    "    gp = GPR(kernel=kernel, alpha=1e-5, normalize_y=True, n_restarts_optimizer=0, random_state=3480795)\n",
    "    try:\n",
    "        # gp.set_params(**{'kernel__k2__length_scale': ell})\n",
    "        gp.kernel.k2.length_scale = initial_theta[0]\n",
    "        gp.kernel.k2.length_scale_bounds = 'fixed'\n",
    "    except:\n",
    "    #     gp.set_params(**{'kernel__k1__k2__length_scale': ell})\n",
    "        gp.kernel.k1.k2.length_scale = initial_theta[0]\n",
    "        gp.kernel.k1.k2.length_scale_bounds = 'fixed'\n",
    "    # try:\n",
    "        # gp.set_params(**{'kernel__k2__length_scale': initial_theta})\n",
    "        # gp.set_params(**{'kernel__k2__length_scale_bounds': 'fixed'})\n",
    "    # except:\n",
    "        # gp.set_params(**{'kernel__k1__k2__length_scale': initial_theta})\n",
    "        # gp.set_params(**{'kernel__k1__k2__length_scale_bounds': 'fixed'})\n",
    "\n",
    "    result = optimize.minimize_scalar(g, args=(\n",
    "    gp, mean_ntk, data), \n",
    "    method='bounded', bounds=(bounds[:,0], bounds[:,1]), options={'maxiter': 10000})\n",
    "\n",
    "    # try:\n",
    "    #     gp.set_params(**{'kernel__k2__length_scale_bounds': (save_bounds[:,0], save_bounds[:,1])})\n",
    "    # except:\n",
    "    #     gp.set_params(**{'kernel__k1__k2__length_scale_bounds': (save_bounds[:,0], save_bounds[:,1])})\n",
    "\n",
    "    print(\"END\", kernel)\n",
    "\n",
    "    theta_opt = result.x\n",
    "    func_min = result.fun\n",
    "\n",
    "    return theta_opt, func_min"
   ]
  },
  {
   "cell_type": "code",
   "execution_count": null,
   "metadata": {},
   "outputs": [],
   "source": [
    "np.random.seed(2083)\n",
    "n=5\n",
    "\n",
    "x1 = np.random.uniform(0, 10, n)\n",
    "x2 = np.random.uniform(0, 10, n)\n",
    "y = np.random.uniform(0, 50, n)\n",
    "\n",
    "fig, ax = plt.subplots(ncols=1, nrows=1, figsize=(10,10), subplot_kw={'projection': '3d'})\n",
    "ax.scatter(x1, x2, y)"
   ]
  },
  {
   "cell_type": "code",
   "execution_count": null,
   "metadata": {},
   "outputs": [],
   "source": [
    "X_train = np.stack((x1,x2), axis=-1)\n",
    "y_train = y.reshape(-1,1)"
   ]
  },
  {
   "cell_type": "code",
   "execution_count": null,
   "metadata": {},
   "outputs": [],
   "source": [
    "n=500\n",
    "\n",
    "x1 = np.random.uniform(0, 10, n)\n",
    "x2 = np.random.uniform(0, 10, n)\n",
    "y = np.random.uniform(0, 50, n)\n",
    "\n",
    "X_test = np.stack((x1,x2), axis=-1)\n",
    "y_test = y.reshape(-1,1)"
   ]
  },
  {
   "cell_type": "code",
   "execution_count": null,
   "metadata": {},
   "outputs": [],
   "source": [
    "X_norm_train = normalize(X_train, axis=1)\n",
    "X_norm_test = normalize(X_test, axis=1)\n",
    "data = [X_norm_train, y_train, X_norm_test]"
   ]
  },
  {
   "cell_type": "code",
   "execution_count": null,
   "metadata": {},
   "outputs": [],
   "source": [
    "ntk = (\n",
    "    ConstantKernel(constant_value=1.0, constant_value_bounds=(1e-9, 1e5)) * \n",
    "    NTK(depth=depth, c=2, bias=0.1, \n",
    "        bias_bounds=(1e-9, 1e5))\n",
    ")\n",
    "gp_ntk = GPR(kernel=ntk, alpha=1e-5, normalize_y=True,  n_restarts_optimizer=9, random_state=3480795)\n",
    "gp_ntk.fit(data[0], data[1])\n",
    "mean_ntk = gp_ntk.predict(data[2])\n",
    "\n",
    "const_val = gp_ntk.kernel_.get_params()['k1__constant_value']\n",
    "print(gp_ntk.kernel_)"
   ]
  },
  {
   "cell_type": "code",
   "execution_count": null,
   "metadata": {},
   "outputs": [],
   "source": [
    "gp_ntk.kernel_"
   ]
  },
  {
   "cell_type": "code",
   "execution_count": null,
   "metadata": {},
   "outputs": [],
   "source": [
    "lpk = (\n",
    "    ConstantKernel(\n",
    "        constant_value=const_val,\n",
    "        constant_value_bounds='fixed'\n",
    "    ) *\n",
    "    Matern(\n",
    "        nu=1/2,\n",
    "        length_scale=1,\n",
    "        length_scale_bounds=(1e-4, 1e6)\n",
    "    ) \n",
    ")\n",
    "print(lpk.k2.length_scale_bounds)\n",
    "\n",
    "gp_lpk = GPR(kernel=lpk, alpha=1e-5, normalize_y=True, optimizer=partial(optimizer, args=(lpk, mean_ntk, data)), n_restarts_optimizer=9, random_state=3480795)\n",
    "gp_lpk.fit(X_train, y_train)\n",
    "# print(gp_lpk.kernel_)\n",
    "\n",
    "ell_lpk = optimize.minimize_scalar(g, args=(\n",
    "    gp_lpk, mean_ntk, data), \n",
    "    method='bounded', bounds=[1e-4, 1e-3], options={'maxiter': 10000})\n",
    "for i in range(-2, 6):\n",
    "    tmp = optimize.minimize_scalar(g, args=(\n",
    "        gp_lpk, mean_ntk, data),\n",
    "        method='bounded', bounds=[1e-4, 10**i], options={'maxiter': 10000})\n",
    "    if tmp.fun < ell_lpk.fun:\n",
    "        ell_lpk = tmp\n",
    "\n",
    "# try:\n",
    "#     gp_lpk.set_params(**{'kernel__k2__length_scale': ell_lpk.x})\n",
    "# except:\n",
    "#     gp_lpk.set_params(**{'kernel__k1__k2__length_scale': ell_lpk.x})\n",
    "# gp_lpk.fit(data[0], data[1])\n",
    "# mean_lpk_opt = gp_lpk.predict(data[2])"
   ]
  },
  {
   "cell_type": "code",
   "execution_count": null,
   "metadata": {},
   "outputs": [],
   "source": [
    "gp_lpk.kernel_, gp_lpk.kernel"
   ]
  },
  {
   "cell_type": "code",
   "execution_count": null,
   "metadata": {},
   "outputs": [],
   "source": [
    "gaus = (\n",
    "    ConstantKernel(\n",
    "        constant_value=const_val,\n",
    "        constant_value_bounds='fixed'\n",
    "    ) *\n",
    "    Matern(\n",
    "        nu=np.inf,\n",
    "        length_scale=1,\n",
    "        length_scale_bounds='fixed'\n",
    "    ) \n",
    ")\n",
    "\n",
    "gp_gaus = GPR(kernel=gaus, alpha=1e-5, normalize_y=True, n_restarts_optimizer=0, random_state=3480795)\n",
    "\n",
    "ell_gaus = optimize.minimize_scalar(g, args=(\n",
    "    gp_gaus, mean_ntk, data), \n",
    "    method='bounded', bounds=[1e-4, 1e-3], options={'maxiter': 10000})\n",
    "for i in range(-2, 6):\n",
    "    tmp = optimize.minimize_scalar(g, args=(\n",
    "        gp_gaus, mean_ntk, data),\n",
    "        method='bounded', bounds=[1e-4, 10**i], options={'maxiter': 10000})\n",
    "    if tmp.fun < ell_gaus.fun:\n",
    "        ell_gaus = tmp\n",
    "\n",
    "try:\n",
    "    gp_gaus.set_params(**{'kernel__k2__length_scale': ell_gaus.x})\n",
    "except:\n",
    "    gp_gaus.set_params(**{'kernel__k1__k2__length_scale': ell_gaus.x})\n",
    "gp_gaus.fit(data[0], data[1])\n",
    "mean_gaus_opt = gp_gaus.predict(data[2])"
   ]
  },
  {
   "cell_type": "code",
   "execution_count": null,
   "metadata": {},
   "outputs": [],
   "source": [
    "ell_lpk"
   ]
  },
  {
   "cell_type": "code",
   "execution_count": null,
   "metadata": {},
   "outputs": [],
   "source": [
    "ell_gaus"
   ]
  },
  {
   "cell_type": "code",
   "execution_count": null,
   "metadata": {},
   "outputs": [],
   "source": [
    "gp_ntk.kernel_.k2.bias = 0.1"
   ]
  },
  {
   "cell_type": "code",
   "execution_count": null,
   "metadata": {},
   "outputs": [],
   "source": [
    "mean_ntk = gp_ntk.predict(data[2])"
   ]
  },
  {
   "cell_type": "code",
   "execution_count": null,
   "metadata": {},
   "outputs": [],
   "source": [
    "fig, ax = plt.subplots(nrows=1, ncols=1, figsize=(10,10))\n",
    "# ax.scatter(x1, y)\n",
    "ax.scatter(x1, mean_ntk)\n",
    "ax.scatter(x1, mean_lpk_opt)\n",
    "# ax.scatter(x1, mean_gaus_opt)"
   ]
  },
  {
   "cell_type": "code",
   "execution_count": null,
   "metadata": {},
   "outputs": [],
   "source": [
    "fig, ax = plt.subplots(nrows=1, ncols=1, figsize=(10,10))\n",
    "# ax.scatter(x1, y)\n",
    "ax.scatter(x2, mean_ntk)\n",
    "ax.scatter(x2, mean_lpk_opt)"
   ]
  },
  {
   "cell_type": "code",
   "execution_count": null,
   "metadata": {},
   "outputs": [],
   "source": [
    "x = np.random.randn(5).reshape(-1,1)\n",
    "y = np.random.randn(5).reshape(-1,1)\n",
    "x = normalize(x)\n",
    "y = normalize(y)"
   ]
  },
  {
   "cell_type": "code",
   "execution_count": null,
   "metadata": {},
   "outputs": [],
   "source": [
    "x.shape"
   ]
  },
  {
   "cell_type": "code",
   "execution_count": null,
   "metadata": {},
   "outputs": [],
   "source": [
    "ntk(x.T,y.T)"
   ]
  },
  {
   "cell_type": "code",
   "execution_count": null,
   "metadata": {},
   "outputs": [],
   "source": [
    "lpk(x.T, y.T)"
   ]
  }
 ],
 "metadata": {
  "interpreter": {
   "hash": "68b02c908e2cdb95db1fe9ab6c7ce5e7b7519642826f3cbd5d028e2ea906a416"
  },
  "kernelspec": {
   "display_name": "Python 3.9.7 ('thesis')",
   "language": "python",
   "name": "python3"
  },
  "language_info": {
   "codemirror_mode": {
    "name": "ipython",
    "version": 3
   },
   "file_extension": ".py",
   "mimetype": "text/x-python",
   "name": "python",
   "nbconvert_exporter": "python",
   "pygments_lexer": "ipython3",
   "version": "3.9.7"
  },
  "orig_nbformat": 4,
  "vscode": {
   "interpreter": {
    "hash": "68b02c908e2cdb95db1fe9ab6c7ce5e7b7519642826f3cbd5d028e2ea906a416"
   }
  }
 },
 "nbformat": 4,
 "nbformat_minor": 2
}
