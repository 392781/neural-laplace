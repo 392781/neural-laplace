{
 "cells": [
  {
   "cell_type": "code",
   "execution_count": 1,
   "metadata": {
    "collapsed": true,
    "pycharm": {
     "name": "#%%\n"
    }
   },
   "outputs": [],
   "source": [
    "from utils import *\n",
    "\n",
    "import pandas as pd\n"
   ]
  },
  {
   "cell_type": "code",
   "execution_count": 2,
   "metadata": {
    "collapsed": false,
    "pycharm": {
     "name": "#%%\n"
    }
   },
   "outputs": [
    {
     "name": "stderr",
     "output_type": "stream",
     "text": [
      "C:\\Users\\Mark Risk\\AppData\\Local\\Temp\\ipykernel_20796\\500828526.py:1: DeprecationWarning: This function is deprecated. Please call randint(0, 100 + 1) instead\n",
      "  x = np.random.random_integers(0,100,3).reshape(1,-1)\n",
      "C:\\Users\\Mark Risk\\AppData\\Local\\Temp\\ipykernel_20796\\500828526.py:2: DeprecationWarning: This function is deprecated. Please call randint(0, 100 + 1) instead\n",
      "  y = np.random.random_integers(0,100,3).reshape(1,-1)\n",
      "C:\\Users\\Mark Risk\\AppData\\Local\\Temp\\ipykernel_20796\\500828526.py:3: DeprecationWarning: This function is deprecated. Please call randint(0, 100 + 1) instead\n",
      "  z = np.random.random_integers(0,100,3).reshape(1,-1)\n"
     ]
    }
   ],
   "source": [
    "x = np.random.random_integers(0,100,3).reshape(1,-1)\n",
    "y = np.random.random_integers(0,100,3).reshape(1,-1)\n",
    "z = np.random.random_integers(0,100,3).reshape(1,-1)\n",
    "\n",
    "x = normalize(x)\n",
    "y = normalize(y)\n",
    "z = normalize(z)\n"
   ]
  },
  {
   "cell_type": "code",
   "execution_count": 3,
   "metadata": {
    "collapsed": false,
    "pycharm": {
     "name": "#%%\n"
    }
   },
   "outputs": [
    {
     "name": "stdout",
     "output_type": "stream",
     "text": [
      "[[0.1169676  0.67674109 0.72687006]]\n",
      "[[0.96435326 0.24468665 0.10075333]]\n"
     ]
    }
   ],
   "source": [
    "print(x)\n",
    "print(y)"
   ]
  },
  {
   "cell_type": "code",
   "execution_count": 4,
   "metadata": {
    "collapsed": false,
    "pycharm": {
     "name": "#%%\n"
    }
   },
   "outputs": [
    {
     "name": "stdout",
     "output_type": "stream",
     "text": [
      "[[0.43905079]]\n",
      "[[0.31618445]]\n"
     ]
    }
   ],
   "source": [
    "l = 1.3834239\n",
    "k1 = Matern(length_scale=l, nu = 0.5)\n",
    "k2 = NTK(depth = 25, c = 2.0, bias = 0)\n",
    "print(k1(x,y))\n",
    "print(k2(x,y))"
   ]
  },
  {
   "cell_type": "code",
   "execution_count": 48,
   "metadata": {
    "collapsed": false,
    "pycharm": {
     "name": "#%%\n"
    }
   },
   "outputs": [
    {
     "ename": "ImportError",
     "evalue": "cannot import name 'float128' from 'numpy' (C:\\anaconda3\\envs\\thesis\\lib\\site-packages\\numpy\\__init__.py)",
     "output_type": "error",
     "traceback": [
      "\u001b[1;31m---------------------------------------------------------------------------\u001b[0m",
      "\u001b[1;31mImportError\u001b[0m                               Traceback (most recent call last)",
      "Input \u001b[1;32mIn [48]\u001b[0m, in \u001b[0;36m<cell line: 1>\u001b[1;34m()\u001b[0m\n\u001b[1;32m----> 1\u001b[0m \u001b[38;5;28;01mfrom\u001b[39;00m \u001b[38;5;21;01mnumpy\u001b[39;00m \u001b[38;5;28;01mimport\u001b[39;00m float128\n",
      "\u001b[1;31mImportError\u001b[0m: cannot import name 'float128' from 'numpy' (C:\\anaconda3\\envs\\thesis\\lib\\site-packages\\numpy\\__init__.py)"
     ]
    }
   ],
   "source": [
    "from numpy import float128"
   ]
  },
  {
   "cell_type": "markdown",
   "metadata": {
    "collapsed": false,
    "pycharm": {
     "name": "#%% md\n"
    }
   },
   "source": [
    "# Important"
   ]
  },
  {
   "cell_type": "code",
   "execution_count": 113,
   "metadata": {
    "collapsed": false,
    "pycharm": {
     "name": "#%%\n"
    }
   },
   "outputs": [
    {
     "data": {
      "text/plain": [
       "<AxesSubplot:xlabel='log_bias'>"
      ]
     },
     "execution_count": 113,
     "metadata": {},
     "output_type": "execute_result"
    },
    {
     "data": {
      "image/png": "[encoded data removed]",
      "text/plain": [
       "<Figure size 432x288 with 1 Axes>"
      ]
     },
     "metadata": {
      "needs_background": "light"
     },
     "output_type": "display_data"
    },
    {
     "data": {
      "image/png": "[encoded data removed]",
      "text/plain": [
       "<Figure size 432x288 with 1 Axes>"
      ]
     },
     "metadata": {
      "needs_background": "light"
     },
     "output_type": "display_data"
    }
   ],
   "source": [
    "D = 6\n",
    "nn = 3\n",
    "d = 100\n",
    "\n",
    "biases = []\n",
    "means = []\n",
    "vars = []\n",
    "\n",
    "for b in np.linspace(-10,-3,1000):\n",
    "    bias = 10.0**b\n",
    "    #bias = b\n",
    "    biases.append(bias)\n",
    "    k2 = NTK(depth = D, c = 2.0, bias = bias)\n",
    "    # print(f\"bias = {bias}\")\n",
    "\n",
    "    lengthscales = np.zeros([nn])\n",
    "    np.random.seed(2)\n",
    "    for i in range(0,nn):\n",
    "        x2 = np.random.randint(0,100,d).reshape(1,-1)\n",
    "        y2 = np.random.randint(0,100,d).reshape(1,-1)\n",
    "\n",
    "        x2 = normalize(x2)\n",
    "        y2 = normalize(y2)\n",
    "\n",
    "        K = k2(x2,y2)\n",
    "        lengthscales[i] = - np.linalg.norm(x2-y2) / np.log(k2(x2,y2))\n",
    "    mean = np.mean(lengthscales)\n",
    "    var = np.var(lengthscales)\n",
    "    # print(f\"mean(lengthscales) = {mean}\")\n",
    "    # print(f\"var(lengthscales) = {var}\")\n",
    "    means.append(mean)\n",
    "    vars.append(var)\n",
    "\n",
    "\n",
    "d = {'bias': biases,\n",
    "        'mean_l': means,\n",
    "        'var_l': vars}\n",
    "\n",
    "df = pd.DataFrame(data=d)\n",
    "\n",
    "df['log_bias'] = np.log(df.bias)\n",
    "\n",
    "df.plot(x='log_bias',y='mean_l')\n",
    "df.plot(x='log_bias',y='var_l')\n",
    "\n",
    "#df.plot(x='bias',y='mean_l')\n",
    "#df.plot(x='bias',y='var_l')\n"
   ]
  },
  {
   "cell_type": "markdown",
   "metadata": {
    "collapsed": false,
    "pycharm": {
     "name": "#%% md\n"
    }
   },
   "source": [
    "## Sorts by variances"
   ]
  },
  {
   "cell_type": "code",
   "execution_count": null,
   "metadata": {
    "collapsed": false,
    "pycharm": {
     "name": "#%%\n"
    }
   },
   "outputs": [],
   "source": [
    "df.sort_values('var_l')"
   ]
  },
  {
   "cell_type": "markdown",
   "metadata": {
    "collapsed": false,
    "pycharm": {
     "name": "#%% md\n"
    }
   },
   "source": [
    "# Old"
   ]
  },
  {
   "cell_type": "code",
   "execution_count": 22,
   "metadata": {
    "collapsed": false,
    "pycharm": {
     "name": "#%%\n"
    }
   },
   "outputs": [
    {
     "name": "stdout",
     "output_type": "stream",
     "text": [
      "[[0.70552415]]\n",
      "[[0.7046552]]\n"
     ]
    }
   ],
   "source": [
    "# \"d\" doesn't matter (here is S^{49})\n",
    "\n",
    "k1 = Matern(length_scale=2.07, nu=0.5)\n",
    "k2 = NTK(depth = 3, c = 2.0, bias = 2.3)\n",
    "\n",
    "\n",
    "x2 = np.random.randint(0,100,50).reshape(1,-1)\n",
    "y2 = np.random.randint(0,100,50).reshape(1,-1)\n",
    "\n",
    "x2 = normalize(x2)\n",
    "y2 = normalize(y2)\n",
    "\n",
    "print(k1(x2,y2))\n",
    "print(k2(x2,y2))"
   ]
  },
  {
   "cell_type": "code",
   "execution_count": 11,
   "metadata": {
    "collapsed": false,
    "pycharm": {
     "name": "#%%\n"
    }
   },
   "outputs": [
    {
     "data": {
      "text/plain": [
       "array([[0.99999998]])"
      ]
     },
     "execution_count": 11,
     "metadata": {},
     "output_type": "execute_result"
    }
   ],
   "source": [
    "k2 = NTK(depth = 3, c = 2.0, bias = 0.0)\n",
    "\n",
    "x = np.array([1,0,0]).reshape(1,-1)\n",
    "y = np.array([0,1,0]).reshape(1,-1)\n",
    "\n",
    "k2(x,x)"
   ]
  }
 ],
 "metadata": {
  "kernelspec": {
   "display_name": "Python 3.9.7 ('thesis')",
   "language": "python",
   "name": "python3"
  },
  "language_info": {
   "codemirror_mode": {
    "name": "ipython",
    "version": 2
   },
   "file_extension": ".py",
   "mimetype": "text/x-python",
   "name": "python",
   "nbconvert_exporter": "python",
   "pygments_lexer": "ipython2",
   "version": "3.9.7"
  },
  "vscode": {
   "interpreter": {
    "hash": "8dbd7d567f93f70199c703272456b4cf95669ac4b69cfdbc6e59ff6d42f5cd47"
   }
  }
 },
 "nbformat": 4,
 "nbformat_minor": 0
}
