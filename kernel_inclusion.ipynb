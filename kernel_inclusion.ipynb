{
 "cells": [
  {
   "cell_type": "markdown",
   "metadata": {
    "collapsed": true,
    "pycharm": {
     "name": "#%% md\n"
    }
   },
   "source": [
    "Idea: For $H_{K_1} \\subset H_{K_2}$, there needs to exist $\\gamma$ such that $\\gamma K_1 - K_2$ is positive definite.\n",
    "\n",
    "* Generate a random $n$, $c = [c_1, \\ldots, c_n]^\\top$ and $x = [x_1, \\ldots, x_n]^\\top$ and check if $c^\\top [\\gamma K_1(x,x) - K_2(x,x)] c \\geq 0$ (slight abuse of notation, here we mean the Gram matrix).\n",
    "* Try multiple times for a given $\\gamma$, calculate number of proportions it's positive definite.  If $H_{K_1} \\subset H_{K_2}$, we should be able to find $\\gamma$ so that the proportion is always 1."
   ]
  },
  {
   "cell_type": "code",
   "execution_count": 66,
   "outputs": [],
   "source": [
    "from utils import *\n",
    "import numpy as np\n",
    "import matplotlib.pyplot as plt\n",
    "from sklearn.gaussian_process.kernels import RBF, Matern\n",
    "import pandas as pd\n",
    "from copy import deepcopy\n",
    "\n",
    "import sklearn"
   ],
   "metadata": {
    "collapsed": false,
    "pycharm": {
     "name": "#%%\n"
    }
   }
  },
  {
   "cell_type": "code",
   "execution_count": 137,
   "outputs": [],
   "source": [
    "l1 = 1.0\n",
    "l2 = 2.0\n",
    "\n",
    "k1 = RBF(length_scale=l1)\n",
    "k2 = RBF(length_scale=l2)\n",
    "#k2 = Matern(length_scale=l1, nu=0.5)"
   ],
   "metadata": {
    "collapsed": false,
    "pycharm": {
     "name": "#%%\n"
    }
   }
  },
  {
   "cell_type": "code",
   "execution_count": 137,
   "outputs": [],
   "source": [],
   "metadata": {
    "collapsed": false,
    "pycharm": {
     "name": "#%%\n"
    }
   }
  },
  {
   "cell_type": "code",
   "execution_count": 138,
   "outputs": [],
   "source": [
    "def is_pd(K):\n",
    "    try:\n",
    "        np.linalg.cholesky(K)\n",
    "        return 1\n",
    "    except np.linalg.linalg.LinAlgError as err:\n",
    "        return 0\n",
    "        # if 'Matrix is not positive definite' in err.message:\n",
    "        #     return err.message\n",
    "        # else:\n",
    "        #     raise\n"
   ],
   "metadata": {
    "collapsed": false,
    "pycharm": {
     "name": "#%%\n"
    }
   }
  },
  {
   "cell_type": "code",
   "execution_count": 138,
   "outputs": [],
   "source": [
    "\n"
   ],
   "metadata": {
    "collapsed": false,
    "pycharm": {
     "name": "#%%\n"
    }
   }
  },
  {
   "cell_type": "code",
   "execution_count": 147,
   "outputs": [],
   "source": [
    "gamma_list = np.linspace(1.5,1.75,num=100)\n",
    "\n",
    "p_list = []\n",
    "\n",
    "N = len(gamma_list)\n",
    "i = 0\n",
    "\n",
    "J = 100\n",
    "\n",
    "n_max = 100\n",
    "\n",
    "for gamma in gamma_list:\n",
    "    pos = 0.0\n",
    "    for j in range(J):\n",
    "        D = 10\n",
    "        n = np.random.randint(50,n_max,size=1)[0]\n",
    "\n",
    "        x = np.random.randint(0,100,(n,D))\n",
    "\n",
    "        x_norm = sklearn.preprocessing.normalize(x)\n",
    "\n",
    "        K1 = k1(x_norm)\n",
    "        K2 = k2(x_norm)\n",
    "\n",
    "        inside = gamma*K1 - K2\n",
    "\n",
    "\n",
    "\n",
    "        pos += is_pd(inside)\n",
    "\n",
    "    p_list.append(pos/J)"
   ],
   "metadata": {
    "collapsed": false,
    "pycharm": {
     "name": "#%%\n"
    }
   }
  },
  {
   "cell_type": "code",
   "execution_count": 148,
   "outputs": [
    {
     "data": {
      "text/plain": "[<matplotlib.lines.Line2D at 0x1ba01a79730>]"
     },
     "execution_count": 148,
     "metadata": {},
     "output_type": "execute_result"
    },
    {
     "data": {
      "text/plain": "<Figure size 432x288 with 1 Axes>",
      "image/png": "[encoded data removed]"
     },
     "metadata": {
      "needs_background": "light"
     },
     "output_type": "display_data"
    }
   ],
   "source": [
    "plt.plot(gamma_list, p_list)"
   ],
   "metadata": {
    "collapsed": false,
    "pycharm": {
     "name": "#%%\n"
    }
   }
  },
  {
   "cell_type": "code",
   "execution_count": null,
   "outputs": [],
   "source": [],
   "metadata": {
    "collapsed": false,
    "pycharm": {
     "name": "#%%\n"
    }
   }
  }
 ],
 "metadata": {
  "kernelspec": {
   "name": "pycharm-5dfefaf0",
   "language": "python",
   "display_name": "PyCharm (ron-thesis)"
  },
  "language_info": {
   "codemirror_mode": {
    "name": "ipython",
    "version": 2
   },
   "file_extension": ".py",
   "mimetype": "text/x-python",
   "name": "python",
   "nbconvert_exporter": "python",
   "pygments_lexer": "ipython2",
   "version": "2.7.6"
  }
 },
 "nbformat": 4,
 "nbformat_minor": 0
}