{
 "cells": [
  {
   "cell_type": "code",
   "execution_count": 1,
   "metadata": {},
   "outputs": [],
   "source": [
    "from utils import *\n",
    "from sklearn.datasets import make_friedman3\n",
    "from multiprocessing import Pool\n",
    "from scipy import optimize"
   ]
  },
  {
   "cell_type": "markdown",
   "metadata": {},
   "source": [
    "# Friedman 3 Data"
   ]
  },
  {
   "cell_type": "markdown",
   "metadata": {},
   "source": [
    "## Dataset"
   ]
  },
  {
   "cell_type": "code",
   "execution_count": 2,
   "metadata": {},
   "outputs": [],
   "source": [
    "# add noise\n",
    "# redo with scipy.minimize\n",
    "X, y = make_friedman3(random_state=18397425)\n",
    "datasets = processing(X, y)\n",
    "\n",
    "X, y = datasets['orig']\n",
    "X_norm, y_norm = datasets['norm']\n",
    "X_train, y_train, y_train_noisy = datasets['orig train']\n",
    "X_train_norm, y_train_norm, y_train_norm_noisy = datasets['norm train']"
   ]
  },
  {
   "cell_type": "markdown",
   "metadata": {},
   "source": [
    "## Noiseless"
   ]
  },
  {
   "cell_type": "markdown",
   "metadata": {},
   "source": [
    "### $\\mathbb{R}^d$"
   ]
  },
  {
   "cell_type": "code",
   "execution_count": 3,
   "metadata": {},
   "outputs": [
    {
     "name": "stdout",
     "output_type": "stream",
     "text": [
      "NTK     :  0.0065**2 * NTK(depth=3, c=2.000, bias=0.000)\n",
      "NTK     :  0.000422**2 * NTK(depth=100, c=2.000, bias=0.002)\n",
      "Laplace :  1**2 * Matern(length_scale=1, nu=0.5)\n"
     ]
    }
   ],
   "source": [
    "ntk_1 = (\n",
    "    ConstantKernel(\n",
    "        constant_value=1, \n",
    "        constant_value_bounds=(1e-9, 1e2)\n",
    "    ) * \n",
    "    NTK(depth=3, c=2, \n",
    "        bias=1e-1, \n",
    "        bias_bounds=(1e-9, 1e0)\n",
    "    ) \n",
    ")\n",
    "\n",
    "ntk_2 = (\n",
    "    ConstantKernel(\n",
    "        constant_value=1, \n",
    "        constant_value_bounds=(1e-9, 1e2)\n",
    "    ) * \n",
    "    NTK(depth=100, c=2, \n",
    "        bias=1e-1, \n",
    "        bias_bounds=(1e-9, 1e0)\n",
    "    ) \n",
    ")\n",
    "\n",
    "\n",
    "lpk = (\n",
    "    ConstantKernel(\n",
    "        constant_value=0.224**2, \n",
    "        constant_value_bounds=(1e-9, 1e5) \n",
    "    ) * \n",
    "    Matern(\n",
    "        nu=1/2,\n",
    "        length_scale=1,\n",
    "        length_scale_bounds='fixed'#(1e-1, 1e3), \n",
    "    ) \n",
    ")\n",
    "\n",
    "gp_ntk_1 = GPR(kernel=ntk_1, alpha=1e-9, normalize_y=True, n_restarts_optimizer=9, random_state=3480795)\n",
    "gp_ntk_1.fit(X_train, y_train)\n",
    "print('NTK     : ', gp_ntk_1.kernel_)\n",
    "mean_ntk_1 = gp_ntk_1.predict(X)\n",
    "\n",
    "gp_ntk_2 = GPR(kernel=ntk_2, alpha=1e-9, normalize_y=True, n_restarts_optimizer=9, random_state=3480795)\n",
    "gp_ntk_2.fit(X_train, y_train)\n",
    "print('NTK     : ', gp_ntk_2.kernel_)\n",
    "mean_ntk_2 = gp_ntk_2.predict(X)\n",
    "\n",
    "gp_lpk = GPR(kernel=lpk, alpha=1e-9, normalize_y=True, n_restarts_optimizer=0, random_state=3480795)\n",
    "gp_lpk.fit(X_train, y_train)\n",
    "print('Laplace : ', gp_lpk.kernel_)\n",
    "mean_lpk = gp_lpk.predict(X)"
   ]
  },
  {
   "cell_type": "code",
   "execution_count": 4,
   "metadata": {},
   "outputs": [],
   "source": [
    "# def f(args):\n",
    "#     ell, gp, X, X_train, y_train, residual_target, out = args\n",
    "#     gp.set_params(**{'kernel__k2__length_scale': ell})\n",
    "#     gp.fit(X_train, y_train)\n",
    "\n",
    "#     if out:\n",
    "#         print(gp)\n",
    "        \n",
    "#     mean = gp.predict(X)\n",
    "#     return np.corrcoef((residual_target)[:,0], (y-mean)[:,0])[0, 1]"
   ]
  },
  {
   "cell_type": "code",
   "execution_count": 5,
   "metadata": {},
   "outputs": [],
   "source": [
    "# arg_list = (gp_lpk, X, X_train, y_train, y-mean_ntk_1, False)\n",
    "# N = 10000\n",
    "# ell_search = np.linspace(0.001, 30, N)\n",
    "\n",
    "# args = [(ell, *arg_list) for ell in ell_search]\n",
    "\n",
    "# with Pool(4) as p:\n",
    "#     result_1 = p.map(f, args)\n",
    "#     i = np.argmax(result_1)\n",
    "#     print(f\"NTK depth 3, LPK lengthscale {ell_search[i]} at {i} with {max(result_1)}\")"
   ]
  },
  {
   "cell_type": "code",
   "execution_count": 6,
   "metadata": {},
   "outputs": [],
   "source": [
    "# arg_list = (gp_lpk, X, X_train, y_train, y-mean_ntk_2, False)\n",
    "# N = 10000\n",
    "# ell_search = np.linspace(0.001, 30, N)\n",
    "\n",
    "# args = [(ell, *arg_list) for ell in ell_search]\n",
    "\n",
    "# with Pool(4) as p:\n",
    "#     result_2 = p.map(f, args)\n",
    "#     i = np.argmax(result_2)\n",
    "#     print(f\"NTK depth 100, LPK lengthscale {ell_search[i]} at {i} with {max(result_2)}\")"
   ]
  },
  {
   "cell_type": "code",
   "execution_count": 7,
   "metadata": {},
   "outputs": [],
   "source": [
    "def g(ell, residual):\n",
    "    gp_lpk.set_params(**{'kernel__k2__length_scale': ell})\n",
    "    gp_lpk.fit(X_train, y_train)\n",
    "    mean = gp_lpk.predict(X)\n",
    "    return -np.corrcoef((residual)[:,0], (y-mean)[:,0])[0, 1]"
   ]
  },
  {
   "cell_type": "code",
   "execution_count": 8,
   "metadata": {},
   "outputs": [
    {
     "name": "stdout",
     "output_type": "stream",
     "text": [
      " \n",
      " Func-count     x          f(x)          Procedure\n",
      "    1         381966    -0.839021        initial\n",
      "    2         618034    -0.839026        golden\n",
      "    3         763932    -0.839027        golden\n",
      "    4         882034    -0.839028        parabolic\n",
      "    5         836923    -0.839028        golden\n",
      "    6         927093    -0.839028        golden\n",
      "    7         954941    -0.839029        golden\n",
      "    8         972152    -0.839029        golden\n",
      "    9         982789    -0.839029        golden\n",
      "   10         989363    -0.839029        golden\n",
      "   11         993426    -0.839029        golden\n",
      "   12         995937    -0.839029        golden\n",
      "   13         997489    -0.839029        golden\n",
      "   14         998448    -0.839029        golden\n",
      "   15         999041    -0.839029        golden\n",
      "   16         999407    -0.839029        golden\n",
      "   17         999634    -0.839029        golden\n",
      "   18         999774    -0.839029        golden\n",
      "   19         999860    -0.839029        golden\n",
      "   20         999914    -0.839029        golden\n",
      "   21         999947    -0.839029        golden\n",
      "   22         999967    -0.839029        golden\n",
      "   23         999980    -0.839029        golden\n",
      "   24         999987    -0.839029        golden\n",
      "   25         999992    -0.839029        golden\n",
      "   26         999995    -0.839029        golden\n",
      "   27         999997    -0.839029        golden\n",
      "   28         999998    -0.839029        golden\n",
      "   29         999998    -0.839029        parabolic\n",
      "   30         999999    -0.839029        golden\n",
      "   31         999999    -0.839029        golden\n",
      "   32         999999    -0.839029        parabolic\n",
      "   33         999999    -0.839029        parabolic\n",
      "   34         999999    -0.839029        parabolic\n",
      "   35         999999    -0.839029        golden\n",
      "   36         999999    -0.839029        golden\n",
      "\n",
      "Optimization terminated successfully;\n",
      "The returned value satisfies the termination criteria\n",
      "(using xtol =  1e-05 )\n"
     ]
    },
    {
     "data": {
      "text/plain": [
       "     fun: -0.839028847653523\n",
       " message: 'Solution found.'\n",
       "    nfev: 36\n",
       "     nit: 36\n",
       "  status: 0\n",
       " success: True\n",
       "       x: 999999.3247611022"
      ]
     },
     "execution_count": 8,
     "metadata": {},
     "output_type": "execute_result"
    }
   ],
   "source": [
    "ell_3 = optimize.minimize_scalar(g, args=(y-mean_ntk_1), method='bounded', bounds=[0.0001, 1000000], options={'disp':3})\n",
    "ell_3"
   ]
  },
  {
   "cell_type": "code",
   "execution_count": 9,
   "metadata": {},
   "outputs": [
    {
     "name": "stdout",
     "output_type": "stream",
     "text": [
      " \n",
      " Func-count     x          f(x)          Procedure\n",
      "    1         381966    -0.830706        initial\n",
      "    2         618034    -0.830711        golden\n",
      "    3         763932    -0.830712        golden\n",
      "    4         882046    -0.830713        parabolic\n",
      "    5         836931    -0.830713        golden\n",
      "    6         927101    -0.830713        golden\n",
      "    7         954946    -0.830713        golden\n",
      "    8         972155    -0.830713        golden\n",
      "    9         982791    -0.830713        golden\n",
      "   10         989364    -0.830713        golden\n",
      "   11         993427    -0.830713        golden\n",
      "   12         995937    -0.830713        golden\n",
      "   13         997489    -0.830713        golden\n",
      "   14         998448    -0.830713        golden\n",
      "   15         999041    -0.830713        golden\n",
      "   16         999407    -0.830713        golden\n",
      "   17         999634    -0.830713        golden\n",
      "   18         999774    -0.830713        golden\n",
      "   19         999860    -0.830713        golden\n",
      "   20         999914    -0.830713        golden\n",
      "   21         999947    -0.830713        golden\n",
      "   22         999967    -0.830713        golden\n",
      "   23         999980    -0.830713        golden\n",
      "   24         999987    -0.830713        golden\n",
      "   25         999992    -0.830713        golden\n",
      "   26         999995    -0.830713        golden\n",
      "   27         999997    -0.830713        golden\n",
      "   28         999998    -0.830713        golden\n",
      "   29         999999    -0.830713        parabolic\n",
      "   30         999999    -0.830713        golden\n",
      "   31          1e+06    -0.830713        golden\n",
      "   32         999999    -0.830713        parabolic\n",
      "   33         999999    -0.830713        golden\n",
      "   34         999999    -0.830713        golden\n",
      "   35         999999    -0.830713        golden\n",
      "\n",
      "Optimization terminated successfully;\n",
      "The returned value satisfies the termination criteria\n",
      "(using xtol =  1e-05 )\n"
     ]
    },
    {
     "data": {
      "text/plain": [
       "     fun: -0.8307134709954231\n",
       " message: 'Solution found.'\n",
       "    nfev: 35\n",
       "     nit: 35\n",
       "  status: 0\n",
       " success: True\n",
       "       x: 999999.2722983421"
      ]
     },
     "execution_count": 9,
     "metadata": {},
     "output_type": "execute_result"
    }
   ],
   "source": [
    "ell_100 = optimize.minimize_scalar(g, args=(y-mean_ntk_2), method='bounded', bounds=[0.0001, 1000000], options={'disp':3})\n",
    "ell_100"
   ]
  },
  {
   "cell_type": "code",
   "execution_count": 10,
   "metadata": {},
   "outputs": [],
   "source": [
    "# D=3\n",
    "gp_lpk.set_params(**{'kernel__k2__length_scale': ell_3.x})\n",
    "gp_lpk.fit(X_train, y_train)\n",
    "mean_opt_1 = gp_lpk.predict(X)\n",
    "\n",
    "# D=100\n",
    "gp_lpk.set_params(**{'kernel__k2__length_scale': ell_100.x})\n",
    "gp_lpk.fit(X_train, y_train)\n",
    "mean_opt_2 = gp_lpk.predict(X)"
   ]
  },
  {
   "cell_type": "code",
   "execution_count": 11,
   "metadata": {},
   "outputs": [
    {
     "data": {
      "image/png": "[encoded data removed]",
      "text/plain": [
       "<Figure size 720x720 with 4 Axes>"
      ]
     },
     "metadata": {
      "needs_background": "light"
     },
     "output_type": "display_data"
    }
   ],
   "source": [
    "fig1, ax1 = plt.subplots(nrows=2, ncols=2, sharex=True, sharey=True, figsize=(10,10))\n",
    "ax1 = ax1.ravel()\n",
    "ax1[0].scatter(y - mean_ntk_1, y - mean_lpk)\n",
    "ax1[0].set_title('Depth=3, Lengthscale=1')\n",
    "ax1[1].scatter(y - mean_ntk_2, y - mean_lpk)\n",
    "ax1[1].set_title('Depth=100, Lengthscale=1')\n",
    "ax1[2].scatter(y - mean_ntk_1, y - mean_opt_1)\n",
    "# USE LENGTHSCALE NOT PARAMETERIZATION C = 1/ELL\n",
    "ax1[2].set_title(f'Depth=3, Optimal Lengthscale (1/c)={round(ell_3.x, 4)}')\n",
    "ax1[3].scatter(y - mean_ntk_2, y - mean_opt_2)\n",
    "ax1[3].set_title(f'Depth=100, Optimal Lengthscale (1/c)={round(ell_100.x, 4)}')\n",
    "fig1.suptitle(r'Noiseless Friedman 3 $\\mathbb{R}^d$ NTK vs LPK')\n",
    "fig1.supxlabel('NTK residuals')\n",
    "fig1.supylabel('LaPlace residuals')\n",
    "fig1.tight_layout()"
   ]
  },
  {
   "cell_type": "markdown",
   "metadata": {},
   "source": [
    "### $\\mathbb{S}^{d-1}$"
   ]
  },
  {
   "cell_type": "code",
   "execution_count": 12,
   "metadata": {},
   "outputs": [
    {
     "name": "stderr",
     "output_type": "stream",
     "text": [
      "/home/rona1das/Tools/anaconda3/envs/thesis/lib/python3.9/site-packages/sklearn/gaussian_process/_gpr.py:610: ConvergenceWarning: lbfgs failed to converge (status=2):\n",
      "ABNORMAL_TERMINATION_IN_LNSRCH.\n",
      "\n",
      "Increase the number of iterations (max_iter) or scale the data as shown in:\n",
      "    https://scikit-learn.org/stable/modules/preprocessing.html\n",
      "  _check_optimize_result(\"lbfgs\", opt_res)\n"
     ]
    },
    {
     "name": "stdout",
     "output_type": "stream",
     "text": [
      "NTK     :  3.1**2 * NTK(depth=3, c=2.000, bias=0.676)\n",
      "NTK     :  0.148**2 * NTK(depth=100, c=2.000, bias=0.000)\n",
      "Laplace :  5.17**2 * Matern(length_scale=1, nu=0.5)\n"
     ]
    }
   ],
   "source": [
    "ntk_1 = (\n",
    "    ConstantKernel(\n",
    "        constant_value=1, \n",
    "        constant_value_bounds=(1e-9, 1e2)\n",
    "    ) * \n",
    "    NTK(depth=3, c=2, \n",
    "        bias=1e-1, \n",
    "        bias_bounds=(1e-9, 1e0)\n",
    "    ) \n",
    ")\n",
    "\n",
    "ntk_2 = (\n",
    "    ConstantKernel(\n",
    "        constant_value=1, \n",
    "        constant_value_bounds=(1e-9, 1e2)\n",
    "    ) * \n",
    "    NTK(depth=100, c=2, \n",
    "        bias=1e-1, \n",
    "        bias_bounds=(1e-9, 1e0)\n",
    "    ) \n",
    ")\n",
    "\n",
    "lpk = (\n",
    "    ConstantKernel(\n",
    "        constant_value=0.224**2, \n",
    "        constant_value_bounds=(1e-9, 1e5) \n",
    "    ) * \n",
    "    Matern(\n",
    "        nu=1/2,\n",
    "        length_scale=1,\n",
    "        length_scale_bounds='fixed'#(1e-1, 1e3), \n",
    "    ) \n",
    ")\n",
    "\n",
    "gp_ntk_1 = GPR(kernel=ntk_1, alpha=1e-9, normalize_y=True, n_restarts_optimizer=9, random_state=3480795)\n",
    "gp_ntk_1.fit(X_train_norm, y_train)\n",
    "print('NTK     : ', gp_ntk_1.kernel_)\n",
    "mean_ntk_1 = gp_ntk_1.predict(X_norm)\n",
    "\n",
    "gp_ntk_2 = GPR(kernel=ntk_2, alpha=1e-9, normalize_y=True, n_restarts_optimizer=9, random_state=3480795)\n",
    "gp_ntk_2.fit(X_train_norm, y_train)\n",
    "print('NTK     : ', gp_ntk_2.kernel_)\n",
    "mean_ntk_2 = gp_ntk_2.predict(X_norm)\n",
    "\n",
    "gp_lpk = GPR(kernel=lpk, alpha=1e-9, normalize_y=True, n_restarts_optimizer=0, random_state=3480795)\n",
    "gp_lpk.fit(X_train_norm, y_train)\n",
    "print('Laplace : ', gp_lpk.kernel_)\n",
    "mean_lpk = gp_lpk.predict(X_norm)"
   ]
  },
  {
   "cell_type": "code",
   "execution_count": 13,
   "metadata": {},
   "outputs": [],
   "source": [
    "# arg_list = (gp_lpk, X_norm, X_train_norm, y_train, y-mean_ntk_1, False)\n",
    "# N = 10000\n",
    "# ell_search = np.linspace(0.01, 100, N)\n",
    "\n",
    "# args = [(ell, *arg_list) for ell in ell_search]\n",
    "\n",
    "# with Pool(4) as p:\n",
    "#     result_1 = p.map(f, args)\n",
    "#     i = np.argmax(result_1)\n",
    "#     print(f\"NTK depth 3, LPK lengthscale {ell_search[i]} at {i} with {max(result_1)}\")"
   ]
  },
  {
   "cell_type": "code",
   "execution_count": 14,
   "metadata": {},
   "outputs": [],
   "source": [
    "# arg_list = (gp_lpk, X_norm, X_train_norm, y_train, y-mean_ntk_2, False)\n",
    "# N = 10000\n",
    "# ell_search = np.linspace(0.01, 100, N)\n",
    "\n",
    "# args = [(ell, *arg_list) for ell in ell_search]\n",
    "\n",
    "# with Pool(4) as p:\n",
    "#     result_1 = p.map(f, args)\n",
    "#     i = np.argmax(result_1)\n",
    "#     print(f\"NTK depth 3, LPK lengthscale {ell_search[i]} at {i} with {max(result_1)}\")"
   ]
  },
  {
   "cell_type": "code",
   "execution_count": 15,
   "metadata": {},
   "outputs": [],
   "source": [
    "def g(ell, residual):\n",
    "    gp_lpk.set_params(**{'kernel__k2__length_scale': ell})\n",
    "    gp_lpk.fit(X_train_norm, y_train)\n",
    "    mean = gp_lpk.predict(X_norm)\n",
    "    return -np.corrcoef((residual)[:,0], (y-mean)[:,0])[0, 1]"
   ]
  },
  {
   "cell_type": "code",
   "execution_count": 16,
   "metadata": {},
   "outputs": [
    {
     "name": "stdout",
     "output_type": "stream",
     "text": [
      " \n",
      " Func-count     x          f(x)          Procedure\n",
      "    1        381.967    -0.999999        initial\n",
      "    2        618.034    -0.999999        golden\n",
      "    3        763.932    -0.999999        golden\n",
      "    4        881.401    -0.999999        parabolic\n",
      "    5        926.702    -0.999999        golden\n",
      "    6        954.699    -0.999999        golden\n",
      "    7        972.003    -0.999999        golden\n",
      "    8        982.697    -0.999999        golden\n",
      "    9        989.306    -0.999999        golden\n",
      "   10        993.391    -0.999999        golden\n",
      "   11        995.915    -0.999999        golden\n",
      "   12        997.475    -0.999999        golden\n",
      "   13         998.44    -0.999999        golden\n",
      "   14        999.036    -0.999999        golden\n",
      "   15        999.404    -0.999999        golden\n",
      "   16        999.632    -0.999999        golden\n",
      "   17        999.772    -0.999999        golden\n",
      "   18        999.859    -0.999999        golden\n",
      "   19        999.913    -0.999999        golden\n",
      "   20        999.946    -0.999999        golden\n",
      "   21        999.967    -0.999999        golden\n",
      "   22        999.978    -0.999999        parabolic\n",
      "   23        999.966    -0.999999        parabolic\n",
      "   24        999.972    -0.999999        parabolic\n",
      "   25        999.969    -0.999999        golden\n",
      "   26        999.968    -0.999999        golden\n",
      "   27        999.967    -0.999999        golden\n",
      "   28        999.967    -0.999999        golden\n",
      "   29        999.967    -0.999999        golden\n",
      "   30        999.967    -0.999999        golden\n",
      "   31        999.967    -0.999999        golden\n",
      "   32        999.967    -0.999999        golden\n",
      "   33        999.967    -0.999999        golden\n",
      "\n",
      "Optimization terminated successfully;\n",
      "The returned value satisfies the termination criteria\n",
      "(using xtol =  1e-05 )\n"
     ]
    },
    {
     "data": {
      "text/plain": [
       "     fun: -0.9999986633687185\n",
       " message: 'Solution found.'\n",
       "    nfev: 33\n",
       "     nit: 33\n",
       "  status: 0\n",
       " success: True\n",
       "       x: 999.9668328363706"
      ]
     },
     "execution_count": 16,
     "metadata": {},
     "output_type": "execute_result"
    }
   ],
   "source": [
    "ell_3 = optimize.minimize_scalar(g, args=(y-mean_ntk_1), method='bounded', bounds=[0.001, 1000], options={'disp':3})\n",
    "ell_3"
   ]
  },
  {
   "cell_type": "code",
   "execution_count": 17,
   "metadata": {},
   "outputs": [
    {
     "name": "stdout",
     "output_type": "stream",
     "text": [
      " \n",
      " Func-count     x          f(x)          Procedure\n",
      "    1        381.967    -0.995769        initial\n",
      "    2        618.034    -0.995769        golden\n",
      "    3        236.069    -0.995769        golden\n",
      "    4        145.899    -0.995769        golden\n",
      "    5        90.1709    -0.995769        golden\n",
      "    6         55.729     -0.99577        golden\n",
      "    7        34.4428    -0.995771        golden\n",
      "    8        21.2872    -0.995772        golden\n",
      "    9        13.1566    -0.995775        golden\n",
      "   10        8.13161     -0.99578        golden\n",
      "   11        5.02599    -0.995787        golden\n",
      "   12        3.10662    -0.995802        golden\n",
      "   13        1.92038    -0.995828        golden\n",
      "   14        1.18724    -0.995881        golden\n",
      "   15       0.734137    -0.995991        golden\n",
      "   16       0.454103    -0.996225        golden\n",
      "   17       0.281033    -0.996717        golden\n",
      "   18        0.17407    -0.997663        golden\n",
      "   19       0.107963    -0.998997        golden\n",
      "   20      0.0671069    -0.999269        golden\n",
      "   21      0.0611527    -0.998917        parabolic\n",
      "   22      0.0851597    -0.999448        parabolic\n",
      "   23      0.0829551    -0.999468        parabolic\n",
      "   24      0.0802556    -0.999482        parabolic\n",
      "   25      0.0752332    -0.999465        golden\n",
      "   26      0.0792614    -0.999483        parabolic\n",
      "   27      0.0790039    -0.999483        parabolic\n",
      "   28      0.0790733    -0.999483        parabolic\n",
      "   29      0.0790766    -0.999483        parabolic\n",
      "   30        0.07907    -0.999483        parabolic\n",
      "\n",
      "Optimization terminated successfully;\n",
      "The returned value satisfies the termination criteria\n",
      "(using xtol =  1e-05 )\n"
     ]
    },
    {
     "data": {
      "text/plain": [
       "     fun: -0.9994833344114356\n",
       " message: 'Solution found.'\n",
       "    nfev: 30\n",
       "     nit: 30\n",
       "  status: 0\n",
       " success: True\n",
       "       x: 0.07907329300829524"
      ]
     },
     "execution_count": 17,
     "metadata": {},
     "output_type": "execute_result"
    }
   ],
   "source": [
    "ell_100 = optimize.minimize_scalar(g, args=(y-mean_ntk_2), method='bounded', bounds=[0.001, 1000], options={'disp':3})\n",
    "ell_100"
   ]
  },
  {
   "cell_type": "code",
   "execution_count": 18,
   "metadata": {},
   "outputs": [],
   "source": [
    "# D=3\n",
    "gp_lpk.set_params(**{'kernel__k2__length_scale': ell_3.x})\n",
    "gp_lpk.fit(X_train_norm, y_train)\n",
    "mean_opt_1 = gp_lpk.predict(X_norm)\n",
    "\n",
    "# D=100\n",
    "gp_lpk.set_params(**{'kernel__k2__length_scale': ell_100.x})\n",
    "gp_lpk.fit(X_train_norm, y_train)\n",
    "mean_opt_2 = gp_lpk.predict(X_norm)"
   ]
  },
  {
   "cell_type": "code",
   "execution_count": 19,
   "metadata": {},
   "outputs": [
    {
     "data": {
      "image/png": "[encoded data removed]",
      "text/plain": [
       "<Figure size 720x720 with 4 Axes>"
      ]
     },
     "metadata": {
      "needs_background": "light"
     },
     "output_type": "display_data"
    }
   ],
   "source": [
    "fig2, ax2 = plt.subplots(nrows=2, ncols=2, sharex=True, sharey=True, figsize=(10,10))\n",
    "ax2 = ax2.ravel()\n",
    "ax2[0].scatter(y - mean_ntk_1, y - mean_lpk)\n",
    "ax2[0].set_title('Depth=3, Lengthscale=1')\n",
    "ax2[1].scatter(y - mean_ntk_2, y - mean_lpk)\n",
    "ax2[1].set_title('Depth=100, Lengthscale=1')\n",
    "ax2[2].scatter(y - mean_ntk_1, y - mean_opt_1)\n",
    "ax2[2].set_title(f'Depth=3, Optimal Lengthscale (1/c)={round(ell_3.x, 4)}')\n",
    "ax2[3].scatter(y - mean_ntk_2, y - mean_opt_2)\n",
    "ax2[3].set_title(f'Depth=100, Optimal Lengthscale (1/c)={round(ell_100.x, 4)}')\n",
    "fig2.suptitle(r'Noiseless Friedman 3 $\\mathbb{S}^{d-1}$ NTK vs LPK')\n",
    "fig2.supxlabel('NTK residuals')\n",
    "fig2.supylabel('LaPlace residuals')\n",
    "fig2.tight_layout()"
   ]
  },
  {
   "cell_type": "markdown",
   "metadata": {},
   "source": [
    "### RBF"
   ]
  },
  {
   "cell_type": "code",
   "execution_count": 20,
   "metadata": {},
   "outputs": [
    {
     "name": "stderr",
     "output_type": "stream",
     "text": [
      "/home/rona1das/Tools/anaconda3/envs/thesis/lib/python3.9/site-packages/sklearn/gaussian_process/kernels.py:430: ConvergenceWarning: The optimal value found for dimension 0 of parameter k1__constant_value is close to the specified upper bound 100000.0. Increasing the bound and calling fit again may find a better value.\n",
      "  warnings.warn(\n"
     ]
    }
   ],
   "source": [
    "rbf = (\n",
    "        ConstantKernel(\n",
    "            constant_value=0.224**2, \n",
    "            constant_value_bounds=(1e-9, 1e5) \n",
    "        ) * \n",
    "        Matern(\n",
    "            nu=np.inf,\n",
    "            length_scale=1,\n",
    "            length_scale_bounds='fixed',#(1e-1, 1e3), \n",
    "        ) \n",
    "    )\n",
    "\n",
    "gp_rbf = GPR(kernel=rbf, alpha=1e-9, normalize_y=True, n_restarts_optimizer=0, random_state=3480795)\n",
    "gp_rbf.fit(X_train_norm, y_train)\n",
    "mean_rbf = gp_rbf.predict(X_norm)"
   ]
  },
  {
   "cell_type": "code",
   "execution_count": 21,
   "metadata": {},
   "outputs": [],
   "source": [
    "def h(ell, residual):\n",
    "    gp_rbf.set_params(**{'kernel__k2__length_scale': ell})\n",
    "    gp_rbf.fit(X_train_norm, y_train)\n",
    "    mean = gp_rbf.predict(X_norm)\n",
    "    return -np.corrcoef((residual)[:,0], (y-mean)[:,0])[0, 1]"
   ]
  },
  {
   "cell_type": "code",
   "execution_count": 22,
   "metadata": {},
   "outputs": [
    {
     "name": "stderr",
     "output_type": "stream",
     "text": [
      "/home/rona1das/Tools/anaconda3/envs/thesis/lib/python3.9/site-packages/sklearn/gaussian_process/_gpr.py:610: ConvergenceWarning: lbfgs failed to converge (status=2):\n",
      "ABNORMAL_TERMINATION_IN_LNSRCH.\n",
      "\n",
      "Increase the number of iterations (max_iter) or scale the data as shown in:\n",
      "    https://scikit-learn.org/stable/modules/preprocessing.html\n",
      "  _check_optimize_result(\"lbfgs\", opt_res)\n",
      "/home/rona1das/Tools/anaconda3/envs/thesis/lib/python3.9/site-packages/sklearn/gaussian_process/kernels.py:430: ConvergenceWarning: The optimal value found for dimension 0 of parameter k1__constant_value is close to the specified upper bound 100000.0. Increasing the bound and calling fit again may find a better value.\n",
      "  warnings.warn(\n",
      "/home/rona1das/Tools/anaconda3/envs/thesis/lib/python3.9/site-packages/sklearn/gaussian_process/kernels.py:430: ConvergenceWarning: The optimal value found for dimension 0 of parameter k1__constant_value is close to the specified upper bound 100000.0. Increasing the bound and calling fit again may find a better value.\n",
      "  warnings.warn(\n",
      "/home/rona1das/Tools/anaconda3/envs/thesis/lib/python3.9/site-packages/sklearn/gaussian_process/kernels.py:430: ConvergenceWarning: The optimal value found for dimension 0 of parameter k1__constant_value is close to the specified upper bound 100000.0. Increasing the bound and calling fit again may find a better value.\n",
      "  warnings.warn(\n",
      "/home/rona1das/Tools/anaconda3/envs/thesis/lib/python3.9/site-packages/sklearn/gaussian_process/kernels.py:430: ConvergenceWarning: The optimal value found for dimension 0 of parameter k1__constant_value is close to the specified upper bound 100000.0. Increasing the bound and calling fit again may find a better value.\n",
      "  warnings.warn(\n"
     ]
    },
    {
     "name": "stdout",
     "output_type": "stream",
     "text": [
      " \n",
      " Func-count     x          f(x)          Procedure\n",
      "    1        3819.66    -0.779671        initial\n",
      "    2        6180.34     -0.78203        golden\n",
      "    3        7639.32    -0.781891        golden\n",
      "    4        6743.56    -0.774675        parabolic\n",
      "    5        5278.64    -0.778813        golden\n",
      "    6        5835.92    -0.783645        golden\n"
     ]
    },
    {
     "name": "stderr",
     "output_type": "stream",
     "text": [
      "/home/rona1das/Tools/anaconda3/envs/thesis/lib/python3.9/site-packages/sklearn/gaussian_process/kernels.py:430: ConvergenceWarning: The optimal value found for dimension 0 of parameter k1__constant_value is close to the specified upper bound 100000.0. Increasing the bound and calling fit again may find a better value.\n",
      "  warnings.warn(\n",
      "/home/rona1das/Tools/anaconda3/envs/thesis/lib/python3.9/site-packages/sklearn/gaussian_process/kernels.py:430: ConvergenceWarning: The optimal value found for dimension 0 of parameter k1__constant_value is close to the specified upper bound 100000.0. Increasing the bound and calling fit again may find a better value.\n",
      "  warnings.warn(\n",
      "/home/rona1das/Tools/anaconda3/envs/thesis/lib/python3.9/site-packages/sklearn/gaussian_process/kernels.py:430: ConvergenceWarning: The optimal value found for dimension 0 of parameter k1__constant_value is close to the specified upper bound 100000.0. Increasing the bound and calling fit again may find a better value.\n",
      "  warnings.warn(\n",
      "/home/rona1das/Tools/anaconda3/envs/thesis/lib/python3.9/site-packages/sklearn/gaussian_process/kernels.py:430: ConvergenceWarning: The optimal value found for dimension 0 of parameter k1__constant_value is close to the specified upper bound 100000.0. Increasing the bound and calling fit again may find a better value.\n",
      "  warnings.warn(\n"
     ]
    },
    {
     "name": "stdout",
     "output_type": "stream",
     "text": [
      "    7        5623.06     -0.78296        golden\n",
      "    8        5842.86    -0.777246        parabolic\n",
      "    9        5754.62    -0.779241        golden\n",
      "   10        5804.87    -0.780907        golden\n",
      "   11        5824.06     -0.77404        golden\n"
     ]
    },
    {
     "name": "stderr",
     "output_type": "stream",
     "text": [
      "/home/rona1das/Tools/anaconda3/envs/thesis/lib/python3.9/site-packages/sklearn/gaussian_process/_gpr.py:610: ConvergenceWarning: lbfgs failed to converge (status=2):\n",
      "ABNORMAL_TERMINATION_IN_LNSRCH.\n",
      "\n",
      "Increase the number of iterations (max_iter) or scale the data as shown in:\n",
      "    https://scikit-learn.org/stable/modules/preprocessing.html\n",
      "  _check_optimize_result(\"lbfgs\", opt_res)\n",
      "/home/rona1das/Tools/anaconda3/envs/thesis/lib/python3.9/site-packages/sklearn/gaussian_process/kernels.py:430: ConvergenceWarning: The optimal value found for dimension 0 of parameter k1__constant_value is close to the specified upper bound 100000.0. Increasing the bound and calling fit again may find a better value.\n",
      "  warnings.warn(\n",
      "/home/rona1das/Tools/anaconda3/envs/thesis/lib/python3.9/site-packages/sklearn/gaussian_process/_gpr.py:610: ConvergenceWarning: lbfgs failed to converge (status=2):\n",
      "ABNORMAL_TERMINATION_IN_LNSRCH.\n",
      "\n",
      "Increase the number of iterations (max_iter) or scale the data as shown in:\n",
      "    https://scikit-learn.org/stable/modules/preprocessing.html\n",
      "  _check_optimize_result(\"lbfgs\", opt_res)\n",
      "/home/rona1das/Tools/anaconda3/envs/thesis/lib/python3.9/site-packages/sklearn/gaussian_process/kernels.py:430: ConvergenceWarning: The optimal value found for dimension 0 of parameter k1__constant_value is close to the specified upper bound 100000.0. Increasing the bound and calling fit again may find a better value.\n",
      "  warnings.warn(\n",
      "/home/rona1das/Tools/anaconda3/envs/thesis/lib/python3.9/site-packages/sklearn/gaussian_process/kernels.py:430: ConvergenceWarning: The optimal value found for dimension 0 of parameter k1__constant_value is close to the specified upper bound 100000.0. Increasing the bound and calling fit again may find a better value.\n",
      "  warnings.warn(\n",
      "/home/rona1das/Tools/anaconda3/envs/thesis/lib/python3.9/site-packages/sklearn/gaussian_process/kernels.py:430: ConvergenceWarning: The optimal value found for dimension 0 of parameter k1__constant_value is close to the specified upper bound 100000.0. Increasing the bound and calling fit again may find a better value.\n",
      "  warnings.warn(\n",
      "/home/rona1das/Tools/anaconda3/envs/thesis/lib/python3.9/site-packages/sklearn/gaussian_process/kernels.py:430: ConvergenceWarning: The optimal value found for dimension 0 of parameter k1__constant_value is close to the specified upper bound 100000.0. Increasing the bound and calling fit again may find a better value.\n",
      "  warnings.warn(\n",
      "/home/rona1das/Tools/anaconda3/envs/thesis/lib/python3.9/site-packages/sklearn/gaussian_process/kernels.py:430: ConvergenceWarning: The optimal value found for dimension 0 of parameter k1__constant_value is close to the specified upper bound 100000.0. Increasing the bound and calling fit again may find a better value.\n",
      "  warnings.warn(\n",
      "/home/rona1das/Tools/anaconda3/envs/thesis/lib/python3.9/site-packages/sklearn/gaussian_process/kernels.py:430: ConvergenceWarning: The optimal value found for dimension 0 of parameter k1__constant_value is close to the specified upper bound 100000.0. Increasing the bound and calling fit again may find a better value.\n",
      "  warnings.warn(\n",
      "/home/rona1das/Tools/anaconda3/envs/thesis/lib/python3.9/site-packages/sklearn/gaussian_process/kernels.py:430: ConvergenceWarning: The optimal value found for dimension 0 of parameter k1__constant_value is close to the specified upper bound 100000.0. Increasing the bound and calling fit again may find a better value.\n",
      "  warnings.warn(\n"
     ]
    },
    {
     "name": "stdout",
     "output_type": "stream",
     "text": [
      "   12        5831.39     -0.77274        golden\n",
      "   13        5838.57    -0.772919        golden\n",
      "   14        5834.19    -0.782684        golden\n",
      "   15        5836.93    -0.776076        golden\n",
      "   16        5835.26    -0.778898        golden\n",
      "   17        5836.31    -0.774901        golden\n",
      "   18        5835.67    -0.776637        golden\n",
      "   19        5836.07    -0.780489        golden\n",
      "   20        5835.83    -0.782795        golden\n",
      "   21        5835.98    -0.775517        golden\n"
     ]
    },
    {
     "name": "stderr",
     "output_type": "stream",
     "text": [
      "/home/rona1das/Tools/anaconda3/envs/thesis/lib/python3.9/site-packages/sklearn/gaussian_process/kernels.py:430: ConvergenceWarning: The optimal value found for dimension 0 of parameter k1__constant_value is close to the specified upper bound 100000.0. Increasing the bound and calling fit again may find a better value.\n",
      "  warnings.warn(\n",
      "/home/rona1das/Tools/anaconda3/envs/thesis/lib/python3.9/site-packages/sklearn/gaussian_process/kernels.py:430: ConvergenceWarning: The optimal value found for dimension 0 of parameter k1__constant_value is close to the specified upper bound 100000.0. Increasing the bound and calling fit again may find a better value.\n",
      "  warnings.warn(\n",
      "/home/rona1das/Tools/anaconda3/envs/thesis/lib/python3.9/site-packages/sklearn/gaussian_process/_gpr.py:610: ConvergenceWarning: lbfgs failed to converge (status=2):\n",
      "ABNORMAL_TERMINATION_IN_LNSRCH.\n",
      "\n",
      "Increase the number of iterations (max_iter) or scale the data as shown in:\n",
      "    https://scikit-learn.org/stable/modules/preprocessing.html\n",
      "  _check_optimize_result(\"lbfgs\", opt_res)\n"
     ]
    },
    {
     "name": "stdout",
     "output_type": "stream",
     "text": [
      "   22        5835.88    -0.775961        golden\n",
      "   23        5835.94    -0.778011        golden\n",
      "   24        5835.91    -0.781942        golden\n",
      "   25        5835.93    -0.775142        golden\n",
      "   26        5835.92    -0.776966        golden\n",
      "   27        5835.92    -0.786635        golden\n",
      "   28        5835.93    -0.785759        golden\n",
      "   29        5835.93    -0.784903        parabolic\n",
      "   30        5835.92    -0.770458        golden\n",
      "   31        5835.92    -0.780832        golden\n",
      "   32        5835.92    -0.782117        golden\n",
      "\n",
      "Optimization terminated successfully;\n",
      "The returned value satisfies the termination criteria\n",
      "(using xtol =  1e-05 )\n"
     ]
    },
    {
     "name": "stderr",
     "output_type": "stream",
     "text": [
      "/home/rona1das/Tools/anaconda3/envs/thesis/lib/python3.9/site-packages/sklearn/gaussian_process/kernels.py:430: ConvergenceWarning: The optimal value found for dimension 0 of parameter k1__constant_value is close to the specified upper bound 100000.0. Increasing the bound and calling fit again may find a better value.\n",
      "  warnings.warn(\n",
      "/home/rona1das/Tools/anaconda3/envs/thesis/lib/python3.9/site-packages/sklearn/gaussian_process/kernels.py:430: ConvergenceWarning: The optimal value found for dimension 0 of parameter k1__constant_value is close to the specified upper bound 100000.0. Increasing the bound and calling fit again may find a better value.\n",
      "  warnings.warn(\n",
      "/home/rona1das/Tools/anaconda3/envs/thesis/lib/python3.9/site-packages/sklearn/gaussian_process/_gpr.py:610: ConvergenceWarning: lbfgs failed to converge (status=2):\n",
      "ABNORMAL_TERMINATION_IN_LNSRCH.\n",
      "\n",
      "Increase the number of iterations (max_iter) or scale the data as shown in:\n",
      "    https://scikit-learn.org/stable/modules/preprocessing.html\n",
      "  _check_optimize_result(\"lbfgs\", opt_res)\n",
      "/home/rona1das/Tools/anaconda3/envs/thesis/lib/python3.9/site-packages/sklearn/gaussian_process/kernels.py:430: ConvergenceWarning: The optimal value found for dimension 0 of parameter k1__constant_value is close to the specified upper bound 100000.0. Increasing the bound and calling fit again may find a better value.\n",
      "  warnings.warn(\n",
      "/home/rona1das/Tools/anaconda3/envs/thesis/lib/python3.9/site-packages/sklearn/gaussian_process/kernels.py:430: ConvergenceWarning: The optimal value found for dimension 0 of parameter k1__constant_value is close to the specified upper bound 100000.0. Increasing the bound and calling fit again may find a better value.\n",
      "  warnings.warn(\n",
      "/home/rona1das/Tools/anaconda3/envs/thesis/lib/python3.9/site-packages/sklearn/gaussian_process/kernels.py:430: ConvergenceWarning: The optimal value found for dimension 0 of parameter k1__constant_value is close to the specified upper bound 100000.0. Increasing the bound and calling fit again may find a better value.\n",
      "  warnings.warn(\n"
     ]
    },
    {
     "data": {
      "text/plain": [
       "     fun: -0.7866345752976021\n",
       " message: 'Solution found.'\n",
       "    nfev: 32\n",
       "     nit: 32\n",
       "  status: 0\n",
       " success: True\n",
       "       x: 5835.924911806144"
      ]
     },
     "execution_count": 22,
     "metadata": {},
     "output_type": "execute_result"
    }
   ],
   "source": [
    "ell_3 = optimize.minimize_scalar(h, args=(y-mean_ntk_1), method='bounded', bounds=[0.001, 10000], options={'disp':3})\n",
    "ell_3"
   ]
  },
  {
   "cell_type": "code",
   "execution_count": 23,
   "metadata": {},
   "outputs": [
    {
     "name": "stdout",
     "output_type": "stream",
     "text": [
      " \n",
      " Func-count     x          f(x)          Procedure\n",
      "    1        38196.6     -0.81114        initial\n",
      "    2        61803.4    -0.817649        golden\n",
      "    3        76393.2    -0.818986        golden\n",
      "    4        78605.9    -0.815166        parabolic\n",
      "    5        69521.8     -0.81144        parabolic\n",
      "    6        73768.6    -0.819486        golden\n",
      "    7          71040    -0.820794        parabolic\n",
      "    8        72082.2    -0.826209        golden\n",
      "    9        72333.1    -0.809105        parabolic\n",
      "   10        72082.2    -0.826209        parabolic\n",
      "   11        72082.2    -0.821403        parabolic\n",
      "\n",
      "Optimization terminated successfully;\n",
      "The returned value satisfies the termination criteria\n",
      "(using xtol =  1e-05 )\n"
     ]
    },
    {
     "name": "stderr",
     "output_type": "stream",
     "text": [
      "/home/rona1das/Tools/anaconda3/envs/thesis/lib/python3.9/site-packages/sklearn/gaussian_process/kernels.py:430: ConvergenceWarning: The optimal value found for dimension 0 of parameter k1__constant_value is close to the specified upper bound 100000.0. Increasing the bound and calling fit again may find a better value.\n",
      "  warnings.warn(\n",
      "/home/rona1das/Tools/anaconda3/envs/thesis/lib/python3.9/site-packages/sklearn/gaussian_process/kernels.py:430: ConvergenceWarning: The optimal value found for dimension 0 of parameter k1__constant_value is close to the specified upper bound 100000.0. Increasing the bound and calling fit again may find a better value.\n",
      "  warnings.warn(\n",
      "/home/rona1das/Tools/anaconda3/envs/thesis/lib/python3.9/site-packages/sklearn/gaussian_process/kernels.py:430: ConvergenceWarning: The optimal value found for dimension 0 of parameter k1__constant_value is close to the specified upper bound 100000.0. Increasing the bound and calling fit again may find a better value.\n",
      "  warnings.warn(\n",
      "/home/rona1das/Tools/anaconda3/envs/thesis/lib/python3.9/site-packages/sklearn/gaussian_process/kernels.py:430: ConvergenceWarning: The optimal value found for dimension 0 of parameter k1__constant_value is close to the specified upper bound 100000.0. Increasing the bound and calling fit again may find a better value.\n",
      "  warnings.warn(\n",
      "/home/rona1das/Tools/anaconda3/envs/thesis/lib/python3.9/site-packages/sklearn/gaussian_process/kernels.py:430: ConvergenceWarning: The optimal value found for dimension 0 of parameter k1__constant_value is close to the specified upper bound 100000.0. Increasing the bound and calling fit again may find a better value.\n",
      "  warnings.warn(\n",
      "/home/rona1das/Tools/anaconda3/envs/thesis/lib/python3.9/site-packages/sklearn/gaussian_process/kernels.py:430: ConvergenceWarning: The optimal value found for dimension 0 of parameter k1__constant_value is close to the specified upper bound 100000.0. Increasing the bound and calling fit again may find a better value.\n",
      "  warnings.warn(\n",
      "/home/rona1das/Tools/anaconda3/envs/thesis/lib/python3.9/site-packages/sklearn/gaussian_process/kernels.py:430: ConvergenceWarning: The optimal value found for dimension 0 of parameter k1__constant_value is close to the specified upper bound 100000.0. Increasing the bound and calling fit again may find a better value.\n",
      "  warnings.warn(\n",
      "/home/rona1das/Tools/anaconda3/envs/thesis/lib/python3.9/site-packages/sklearn/gaussian_process/kernels.py:430: ConvergenceWarning: The optimal value found for dimension 0 of parameter k1__constant_value is close to the specified upper bound 100000.0. Increasing the bound and calling fit again may find a better value.\n",
      "  warnings.warn(\n",
      "/home/rona1das/Tools/anaconda3/envs/thesis/lib/python3.9/site-packages/sklearn/gaussian_process/kernels.py:430: ConvergenceWarning: The optimal value found for dimension 0 of parameter k1__constant_value is close to the specified upper bound 100000.0. Increasing the bound and calling fit again may find a better value.\n",
      "  warnings.warn(\n",
      "/home/rona1das/Tools/anaconda3/envs/thesis/lib/python3.9/site-packages/sklearn/gaussian_process/kernels.py:430: ConvergenceWarning: The optimal value found for dimension 0 of parameter k1__constant_value is close to the specified upper bound 100000.0. Increasing the bound and calling fit again may find a better value.\n",
      "  warnings.warn(\n",
      "/home/rona1das/Tools/anaconda3/envs/thesis/lib/python3.9/site-packages/sklearn/gaussian_process/kernels.py:430: ConvergenceWarning: The optimal value found for dimension 0 of parameter k1__constant_value is close to the specified upper bound 100000.0. Increasing the bound and calling fit again may find a better value.\n",
      "  warnings.warn(\n"
     ]
    },
    {
     "data": {
      "text/plain": [
       "     fun: -0.8262089647344375\n",
       " message: 'Solution found.'\n",
       "    nfev: 11\n",
       "     nit: 11\n",
       "  status: 0\n",
       " success: True\n",
       "       x: 72082.2242059426"
      ]
     },
     "execution_count": 23,
     "metadata": {},
     "output_type": "execute_result"
    }
   ],
   "source": [
    "ell_100 = optimize.minimize_scalar(h, args=(y-mean_ntk_2), method='bounded', bounds=[0.001, 100000], options={'disp':3})\n",
    "ell_100"
   ]
  },
  {
   "cell_type": "code",
   "execution_count": 24,
   "metadata": {},
   "outputs": [
    {
     "name": "stderr",
     "output_type": "stream",
     "text": [
      "/home/rona1das/Tools/anaconda3/envs/thesis/lib/python3.9/site-packages/sklearn/gaussian_process/kernels.py:430: ConvergenceWarning: The optimal value found for dimension 0 of parameter k1__constant_value is close to the specified upper bound 100000.0. Increasing the bound and calling fit again may find a better value.\n",
      "  warnings.warn(\n",
      "/home/rona1das/Tools/anaconda3/envs/thesis/lib/python3.9/site-packages/sklearn/gaussian_process/kernels.py:430: ConvergenceWarning: The optimal value found for dimension 0 of parameter k1__constant_value is close to the specified upper bound 100000.0. Increasing the bound and calling fit again may find a better value.\n",
      "  warnings.warn(\n"
     ]
    }
   ],
   "source": [
    "# D=3\n",
    "gp_rbf.set_params(**{'kernel__k2__length_scale': ell_3.x})\n",
    "gp_rbf.fit(X_train_norm, y_train)\n",
    "mean_opt_1 = gp_rbf.predict(X_norm)\n",
    "\n",
    "# D=100\n",
    "gp_rbf.set_params(**{'kernel__k2__length_scale': ell_100.x})\n",
    "gp_rbf.fit(X_train_norm, y_train)\n",
    "mean_opt_2 = gp_rbf.predict(X_norm)"
   ]
  },
  {
   "cell_type": "code",
   "execution_count": 25,
   "metadata": {},
   "outputs": [
    {
     "data": {
      "image/png": "[encoded data removed]",
      "text/plain": [
       "<Figure size 720x720 with 4 Axes>"
      ]
     },
     "metadata": {
      "needs_background": "light"
     },
     "output_type": "display_data"
    }
   ],
   "source": [
    "fig2, ax2 = plt.subplots(nrows=2, ncols=2, sharex=True, sharey=True, figsize=(10,10))\n",
    "ax2 = ax2.ravel()\n",
    "ax2[0].scatter(y - mean_ntk_1, y - mean_rbf)\n",
    "ax2[0].set_title('Depth=3, Lengthscale=1')\n",
    "ax2[1].scatter(y - mean_ntk_2, y - mean_rbf)\n",
    "ax2[1].set_title('Depth=100, Lengthscale=1')\n",
    "ax2[2].scatter(y - mean_ntk_1, y - mean_opt_1)\n",
    "ax2[2].set_title(f'Depth=3, Optimal Lengthscale (1/c)={round(ell_3.x, 4)}')\n",
    "ax2[3].scatter(y - mean_ntk_2, y - mean_opt_2)\n",
    "ax2[3].set_title(f'Depth=100, Optimal Lengthscale (1/c)={round(ell_100.x, 4)}')\n",
    "fig2.suptitle(r'Noiseless Friedman 3 $\\mathbb{S}^{d-1}$ NTK vs RBF')\n",
    "fig2.supxlabel('NTK residuals')\n",
    "fig2.supylabel('RBF residuals')\n",
    "fig2.tight_layout()"
   ]
  },
  {
   "cell_type": "code",
   "execution_count": 26,
   "metadata": {},
   "outputs": [],
   "source": [
    "# lengthscale = np.linspace(0.1, 5, 50)\n",
    "\n",
    "# fig, ax = plt.subplots(nrows=10, ncols=5, sharex=True, sharey=True, figsize=(15, 30))\n",
    "# ax=ax.ravel()\n",
    "\n",
    "# for x, ax in zip(lengthscale, ax):\n",
    "#     rbf = (\n",
    "#         ConstantKernel(\n",
    "#             constant_value=0.05, \n",
    "#             constant_value_bounds=(1e-9, 1e5) \n",
    "#         ) * \n",
    "#         Matern(\n",
    "#             nu=np.inf,\n",
    "#             length_scale=x,\n",
    "#             length_scale_bounds='fixed',#(1e-1, 1e3), \n",
    "#         ) \n",
    "#     )\n",
    "\n",
    "#     gp = GPR(kernel=rbf, alpha=1e-10, normalize_y=True, n_restarts_optimizer=9, random_state=3480795)\n",
    "#     gp.fit(X_train_norm, y_train)\n",
    "#     mean_rbf = gp.predict(X_norm)\n",
    "\n",
    "#     ax.set_title(f'RBF Lengthscale={x.round(2)}')\n",
    "#     ax.scatter(y-mean_ntk_1, y-mean_rbf)\n",
    "\n",
    "# fig.suptitle(r\"NTK vs RBF Kernel in $\\mathbb{S}^{d-1}$\")\n",
    "# fig.supxlabel('NTK residuals')\n",
    "# fig.supylabel('RBF residuals')\n",
    "# fig.tight_layout()"
   ]
  },
  {
   "cell_type": "code",
   "execution_count": 27,
   "metadata": {},
   "outputs": [],
   "source": [
    "# rbf = (\n",
    "#     ConstantKernel(\n",
    "#         constant_value=0.05, \n",
    "#         constant_value_bounds=(1e-9, 1e5) \n",
    "#     ) * \n",
    "#     Matern(\n",
    "#         nu=np.inf,\n",
    "#         length_scale=0.35,\n",
    "#         length_scale_bounds=(1e-1, 1e3), \n",
    "#     ) \n",
    "# )\n",
    "\n",
    "# gp = GPR(kernel=rbf, alpha=1e-10, normalize_y=True, n_restarts_optimizer=9, random_state=3480795)\n",
    "# gp.fit(X_train_norm, y_train)\n",
    "# mean_rbf = gp.predict(X_norm)\n",
    "# print(rbf)\n",
    "# fig, ax = plt.subplots(1,1, figsize=(5,5))\n",
    "# ax.set_title(f'RBF Lengthscale={0.35}')\n",
    "# ax.scatter(y-mean_ntk_1, y-mean_rbf)"
   ]
  },
  {
   "cell_type": "code",
   "execution_count": 28,
   "metadata": {},
   "outputs": [
    {
     "data": {
      "text/plain": [
       "array([[1.        , 0.10717036],\n",
       "       [0.10717036, 1.        ]])"
      ]
     },
     "execution_count": 28,
     "metadata": {},
     "output_type": "execute_result"
    }
   ],
   "source": [
    "np.corrcoef((y-mean_ntk_1)[:,0], (y-mean_rbf)[:,0])"
   ]
  },
  {
   "cell_type": "code",
   "execution_count": 29,
   "metadata": {},
   "outputs": [
    {
     "data": {
      "text/plain": [
       "array([[1.       , 0.9999944],\n",
       "       [0.9999944, 1.       ]])"
      ]
     },
     "execution_count": 29,
     "metadata": {},
     "output_type": "execute_result"
    }
   ],
   "source": [
    "np.corrcoef((y-mean_ntk_1)[:,0], (y-mean_lpk)[:,0])"
   ]
  },
  {
   "cell_type": "markdown",
   "metadata": {},
   "source": [
    "## Dataset"
   ]
  },
  {
   "cell_type": "code",
   "execution_count": 30,
   "metadata": {},
   "outputs": [],
   "source": [
    "X, y = make_friedman3(noise=0.2, random_state=18397425)\n",
    "datasets = processing(X, y)\n",
    "\n",
    "X, y = datasets['orig']\n",
    "X_norm, y_norm = datasets['norm']\n",
    "X_train, y_train, y_train_noisy = datasets['orig train']\n",
    "X_train_norm, y_train_norm, y_train_norm_noisy = datasets['norm train']"
   ]
  },
  {
   "cell_type": "markdown",
   "metadata": {},
   "source": [
    "## Noisy"
   ]
  },
  {
   "cell_type": "markdown",
   "metadata": {},
   "source": [
    "### $\\mathbb{R}^d$"
   ]
  },
  {
   "cell_type": "code",
   "execution_count": 31,
   "metadata": {},
   "outputs": [
    {
     "name": "stdout",
     "output_type": "stream",
     "text": [
      "NTK     :  0.00906**2 * NTK(depth=3, c=2.000, bias=0.000)\n",
      "NTK     :  0.000486**2 * NTK(depth=100, c=2.000, bias=0.004)\n",
      "Laplace :  1**2 * Matern(length_scale=1, nu=0.5)\n"
     ]
    }
   ],
   "source": [
    "ntk_1 = (\n",
    "    ConstantKernel(\n",
    "        constant_value=1, \n",
    "        constant_value_bounds=(1e-9, 1e2)\n",
    "    ) * \n",
    "    NTK(depth=3, c=2, \n",
    "        bias=1e-1, \n",
    "        bias_bounds=(1e-9, 1e0)\n",
    "    ) \n",
    ")\n",
    "\n",
    "ntk_2 = (\n",
    "    ConstantKernel(\n",
    "        constant_value=1, \n",
    "        constant_value_bounds=(1e-9, 1e2)\n",
    "    ) * \n",
    "    NTK(depth=100, c=2, \n",
    "        bias=1e-1, \n",
    "        bias_bounds=(1e-9, 1e0)\n",
    "    ) \n",
    ")\n",
    "\n",
    "lpk = (\n",
    "    ConstantKernel(\n",
    "        constant_value=0.224**2, \n",
    "        constant_value_bounds=(1e-9, 1e5) \n",
    "    ) * \n",
    "    Matern(\n",
    "        nu=1/2,\n",
    "        length_scale=1,\n",
    "        length_scale_bounds='fixed'#(1e-1, 1e3), \n",
    "    ) \n",
    ")\n",
    "\n",
    "gp_ntk_1 = GPR(kernel=ntk_1, alpha=1e-9, normalize_y=True, n_restarts_optimizer=9, random_state=3480795)\n",
    "gp_ntk_1.fit(X_train, y_train)\n",
    "print('NTK     : ', gp_ntk_1.kernel_)\n",
    "mean_ntk_1 = gp_ntk_1.predict(X)\n",
    "\n",
    "gp_ntk_2 = GPR(kernel=ntk_2, alpha=1e-9, normalize_y=True, n_restarts_optimizer=9, random_state=3480795)\n",
    "gp_ntk_2.fit(X_train, y_train)\n",
    "print('NTK     : ', gp_ntk_2.kernel_)\n",
    "mean_ntk_2 = gp_ntk_2.predict(X)\n",
    "\n",
    "gp_lpk = GPR(kernel=lpk, alpha=1e-9, normalize_y=True, n_restarts_optimizer=0, random_state=3480795)\n",
    "gp_lpk.fit(X_train, y_train)\n",
    "print('Laplace : ', gp_lpk.kernel_)\n",
    "mean_lpk = gp_lpk.predict(X)"
   ]
  },
  {
   "cell_type": "code",
   "execution_count": 32,
   "metadata": {},
   "outputs": [],
   "source": [
    "# def f(args):\n",
    "#     ell, gp, X, X_train, y_train, residual_target, out = args\n",
    "#     gp.set_params(**{'kernel__k2__length_scale': ell})\n",
    "#     gp.fit(X_train, y_train)\n",
    "\n",
    "#     if out:\n",
    "#         print(gp)\n",
    "        \n",
    "#     mean = gp.predict(X)\n",
    "#     return np.corrcoef((residual_target)[:,0], (y-mean)[:,0])[0, 1]"
   ]
  },
  {
   "cell_type": "code",
   "execution_count": 33,
   "metadata": {},
   "outputs": [],
   "source": [
    "# arg_list = (gp_lpk, X, X_train, y_train, y-mean_ntk_1, False)\n",
    "# N = 10000\n",
    "# ell_search = np.linspace(0.001, 30, N)\n",
    "\n",
    "# args = [(ell, *arg_list) for ell in ell_search]\n",
    "\n",
    "# with Pool(4) as p:\n",
    "#     result_1 = p.map(f, args)\n",
    "#     i = np.argmax(result_1)\n",
    "#     print(f\"NTK depth 3, LPK lengthscale {ell_search[i]} at {i} with {max(result_1)}\")"
   ]
  },
  {
   "cell_type": "code",
   "execution_count": 34,
   "metadata": {},
   "outputs": [],
   "source": [
    "# arg_list = (gp_lpk, X, X_train, y_train, y-mean_ntk_2, False)\n",
    "# N = 10000\n",
    "# ell_search = np.linspace(0.001, 30, N)\n",
    "\n",
    "# args = [(ell, *arg_list) for ell in ell_search]\n",
    "\n",
    "# with Pool(4) as p:\n",
    "#     result_2 = p.map(f, args)\n",
    "#     i = np.argmax(result_2)\n",
    "#     print(f\"NTK depth 100, LPK lengthscale {ell_search[i]} at {i} with {max(result_2)}\")"
   ]
  },
  {
   "cell_type": "code",
   "execution_count": 35,
   "metadata": {},
   "outputs": [],
   "source": [
    "def g(ell, residual):\n",
    "    gp_lpk.set_params(**{'kernel__k2__length_scale': ell})\n",
    "    gp_lpk.fit(X_train, y_train)\n",
    "    mean = gp_lpk.predict(X)\n",
    "    return -np.corrcoef((residual)[:,0], (y-mean)[:,0])[0, 1]"
   ]
  },
  {
   "cell_type": "code",
   "execution_count": 36,
   "metadata": {},
   "outputs": [
    {
     "name": "stdout",
     "output_type": "stream",
     "text": [
      " \n",
      " Func-count     x          f(x)          Procedure\n",
      "    1        3819.66    -0.811553        initial\n",
      "    2        6180.34    -0.811667        golden\n",
      "    3        7639.32    -0.811705        golden\n",
      "    4        9072.15     -0.81173        parabolic\n",
      "    5        8524.86    -0.811722        golden\n",
      "    6        9426.56    -0.811736        golden\n",
      "    7        9645.59    -0.811739        golden\n",
      "    8        9780.97     -0.81174        golden\n",
      "    9        9864.63    -0.811742        golden\n",
      "   10        9916.34    -0.811742        golden\n",
      "   11        9948.29    -0.811743        golden\n",
      "   12        9968.04    -0.811743        golden\n",
      "   13        9980.25    -0.811743        golden\n",
      "   14        9987.79    -0.811743        golden\n",
      "   15        9992.46    -0.811743        golden\n",
      "   16        9995.34    -0.811743        golden\n",
      "   17        9997.12    -0.811743        golden\n",
      "   18        9998.22    -0.811743        golden\n",
      "   19         9998.9    -0.811743        golden\n",
      "   20        9999.32    -0.811743        golden\n",
      "   21        9999.58    -0.811743        golden\n",
      "   22        9999.74    -0.811743        golden\n",
      "   23        9999.84    -0.811743        golden\n",
      "   24         9999.9    -0.811743        golden\n",
      "   25        9999.94    -0.811743        golden\n",
      "   26        9999.96    -0.811743        golden\n",
      "   27        9999.98    -0.811743        golden\n",
      "   28        9999.99    -0.811743        golden\n",
      "   29        9999.99    -0.811743        golden\n",
      "   30        9999.99    -0.811743        golden\n",
      "   31          10000    -0.811743        golden\n",
      "   32          10000    -0.811743        golden\n",
      "   33          10000    -0.811743        golden\n",
      "   34          10000    -0.811743        golden\n",
      "   35          10000    -0.811743        golden\n",
      "   36          10000    -0.811743        golden\n",
      "   37          10000    -0.811743        golden\n",
      "\n",
      "Optimization terminated successfully;\n",
      "The returned value satisfies the termination criteria\n",
      "(using xtol =  1e-05 )\n"
     ]
    },
    {
     "data": {
      "text/plain": [
       "     fun: -0.8117433098046424\n",
       " message: 'Solution found.'\n",
       "    nfev: 37\n",
       "     nit: 37\n",
       "  status: 0\n",
       " success: True\n",
       "       x: 9999.99984343824"
      ]
     },
     "execution_count": 36,
     "metadata": {},
     "output_type": "execute_result"
    }
   ],
   "source": [
    "ell_3 = optimize.minimize_scalar(g, args=(y-mean_ntk_1), method='bounded', bounds=[0.001, 10000], options={'disp':3})\n",
    "ell_3"
   ]
  },
  {
   "cell_type": "code",
   "execution_count": 37,
   "metadata": {},
   "outputs": [
    {
     "name": "stdout",
     "output_type": "stream",
     "text": [
      " \n",
      " Func-count     x          f(x)          Procedure\n",
      "    1        3819.66    -0.810222        initial\n",
      "    2        6180.34    -0.810357        golden\n",
      "    3        7639.32    -0.810402        golden\n",
      "    4        9091.63    -0.810433        parabolic\n",
      "    5         8536.9    -0.810422        golden\n",
      "    6         9438.6    -0.810439        golden\n",
      "    7        9653.03    -0.810442        golden\n",
      "    8        9785.56    -0.810444        golden\n",
      "    9        9867.47    -0.810446        golden\n",
      "   10        9918.09    -0.810446        golden\n",
      "   11        9949.38    -0.810447        golden\n",
      "   12        9968.71    -0.810447        golden\n",
      "   13        9980.66    -0.810447        golden\n",
      "   14        9988.05    -0.810447        golden\n",
      "   15        9992.61    -0.810448        golden\n",
      "   16        9995.44    -0.810448        golden\n",
      "   17        9997.18    -0.810448        golden\n",
      "   18        9998.26    -0.810448        golden\n",
      "   19        9998.92    -0.810448        golden\n",
      "   20        9999.33    -0.810448        golden\n",
      "   21        9999.59    -0.810448        golden\n",
      "   22        9999.75    -0.810448        golden\n",
      "   23        9999.84    -0.810448        golden\n",
      "   24         9999.9    -0.810448        golden\n",
      "   25        9999.94    -0.810448        golden\n",
      "   26        9999.96    -0.810448        golden\n",
      "   27        9999.98    -0.810448        golden\n",
      "   28        9999.99    -0.810448        golden\n",
      "   29        9999.99    -0.810448        golden\n",
      "   30        9999.99    -0.810448        golden\n",
      "   31          10000    -0.810448        golden\n",
      "   32          10000    -0.810448        golden\n",
      "   33          10000    -0.810448        golden\n",
      "   34          10000    -0.810448        golden\n",
      "   35          10000    -0.810448        golden\n",
      "   36          10000    -0.810448        golden\n",
      "\n",
      "Optimization terminated successfully;\n",
      "The returned value satisfies the termination criteria\n",
      "(using xtol =  1e-05 )\n"
     ]
    },
    {
     "data": {
      "text/plain": [
       "     fun: -0.8104476156258655\n",
       " message: 'Solution found.'\n",
       "    nfev: 36\n",
       "     nit: 36\n",
       "  status: 0\n",
       " success: True\n",
       "       x: 9999.999698251486"
      ]
     },
     "execution_count": 37,
     "metadata": {},
     "output_type": "execute_result"
    }
   ],
   "source": [
    "ell_100 = optimize.minimize_scalar(g, args=(y-mean_ntk_2), method='bounded', bounds=[0.001, 10000], options={'disp':3})\n",
    "ell_100"
   ]
  },
  {
   "cell_type": "code",
   "execution_count": 38,
   "metadata": {},
   "outputs": [],
   "source": [
    "# D=3\n",
    "gp_lpk.set_params(**{'kernel__k2__length_scale': ell_3.x})\n",
    "gp_lpk.fit(X_train, y_train)\n",
    "mean_opt_1 = gp_lpk.predict(X)\n",
    "\n",
    "# D=100\n",
    "gp_lpk.set_params(**{'kernel__k2__length_scale': ell_100.x})\n",
    "gp_lpk.fit(X_train, y_train)\n",
    "mean_opt_2 = gp_lpk.predict(X)"
   ]
  },
  {
   "cell_type": "code",
   "execution_count": 39,
   "metadata": {},
   "outputs": [
    {
     "data": {
      "image/png": "[encoded data removed]",
      "text/plain": [
       "<Figure size 720x720 with 4 Axes>"
      ]
     },
     "metadata": {
      "needs_background": "light"
     },
     "output_type": "display_data"
    }
   ],
   "source": [
    "fig1, ax1 = plt.subplots(nrows=2, ncols=2, sharex=True, sharey=True, figsize=(10,10))\n",
    "ax1 = ax1.ravel()\n",
    "ax1[0].scatter(y - mean_ntk_1, y - mean_lpk)\n",
    "ax1[0].set_title('Depth=3, Lengthscale=1')\n",
    "ax1[1].scatter(y - mean_ntk_2, y - mean_lpk)\n",
    "ax1[1].set_title('Depth=100, Lengthscale=1')\n",
    "ax1[2].scatter(y - mean_ntk_1, y - mean_opt_1)\n",
    "ax1[2].set_title(f'Depth=3, Optimal Lengthscale (1/c)={round(ell_3.x, 4)}')\n",
    "ax1[3].scatter(y - mean_ntk_2, y - mean_opt_2)\n",
    "ax1[3].set_title(f'Depth=100, Optimal Lengthscale (1/c)={round(ell_100.x, 4)}')\n",
    "fig1.suptitle(r'Noisy Friedman 3 $\\mathbb{R}^d$ NTK vs LPK')\n",
    "fig1.supxlabel('NTK residuals')\n",
    "fig1.supylabel('LaPlace residuals')\n",
    "fig1.tight_layout()"
   ]
  },
  {
   "cell_type": "markdown",
   "metadata": {},
   "source": [
    "### $\\mathbb{S}^{d-1}$"
   ]
  },
  {
   "cell_type": "code",
   "execution_count": 40,
   "metadata": {},
   "outputs": [
    {
     "name": "stderr",
     "output_type": "stream",
     "text": [
      "/home/rona1das/Tools/anaconda3/envs/thesis/lib/python3.9/site-packages/sklearn/gaussian_process/_gpr.py:610: ConvergenceWarning: lbfgs failed to converge (status=2):\n",
      "ABNORMAL_TERMINATION_IN_LNSRCH.\n",
      "\n",
      "Increase the number of iterations (max_iter) or scale the data as shown in:\n",
      "    https://scikit-learn.org/stable/modules/preprocessing.html\n",
      "  _check_optimize_result(\"lbfgs\", opt_res)\n"
     ]
    },
    {
     "name": "stdout",
     "output_type": "stream",
     "text": [
      "NTK     :  0.239**2 * NTK(depth=3, c=2.000, bias=21.837)\n",
      "NTK     :  0.023**2 * NTK(depth=100, c=2.000, bias=8.420)\n",
      "Laplace :  7.19**2 * Matern(length_scale=1, nu=0.5)\n"
     ]
    }
   ],
   "source": [
    "ntk_1 = (\n",
    "    ConstantKernel(\n",
    "        constant_value=1, \n",
    "        constant_value_bounds=(1e-9, 1e2)\n",
    "    ) * \n",
    "    NTK(depth=3, c=2, \n",
    "        bias=1e-1, \n",
    "        bias_bounds=(1e-9, 1e2)\n",
    "    ) \n",
    ")\n",
    "\n",
    "ntk_2 = (\n",
    "    ConstantKernel(\n",
    "        constant_value=1, \n",
    "        constant_value_bounds=(1e-9, 1e2)\n",
    "    ) * \n",
    "    NTK(depth=100, c=2, \n",
    "        bias=1e-1, \n",
    "        bias_bounds=(1e-9, 1e2)\n",
    "    ) \n",
    ")\n",
    "\n",
    "lpk = (\n",
    "    ConstantKernel(\n",
    "        constant_value=0.224**2, \n",
    "        constant_value_bounds=(1e-9, 1e5) \n",
    "    ) * \n",
    "    Matern(\n",
    "        nu=1/2,\n",
    "        length_scale=1,\n",
    "        length_scale_bounds='fixed'#(1e-1, 1e3), \n",
    "    ) \n",
    ")\n",
    "\n",
    "gp_ntk_1 = GPR(kernel=ntk_1, alpha=1e-9, normalize_y=True, n_restarts_optimizer=9, random_state=3480795)\n",
    "gp_ntk_1.fit(X_train_norm, y_train)\n",
    "print('NTK     : ', gp_ntk_1.kernel_)\n",
    "mean_ntk_1 = gp_ntk_1.predict(X_norm)\n",
    "\n",
    "gp_ntk_2 = GPR(kernel=ntk_2, alpha=1e-9, normalize_y=True, n_restarts_optimizer=9, random_state=3480795)\n",
    "gp_ntk_2.fit(X_train_norm, y_train)\n",
    "print('NTK     : ', gp_ntk_2.kernel_)\n",
    "mean_ntk_2 = gp_ntk_2.predict(X_norm)\n",
    "\n",
    "gp_lpk = GPR(kernel=lpk, alpha=1e-9, normalize_y=True, n_restarts_optimizer=0, random_state=3480795)\n",
    "gp_lpk.fit(X_train_norm, y_train)\n",
    "print('Laplace : ', gp_lpk.kernel_)\n",
    "mean_lpk = gp_lpk.predict(X_norm)"
   ]
  },
  {
   "cell_type": "code",
   "execution_count": 41,
   "metadata": {},
   "outputs": [],
   "source": [
    "# arg_list = (gp_lpk, X_norm, X_train_norm, y_train, y-mean_ntk_1, False)\n",
    "# N = 10000\n",
    "# ell_search = np.linspace(0.01, 100, N)\n",
    "\n",
    "# args = [(ell, *arg_list) for ell in ell_search]\n",
    "\n",
    "# with Pool(4) as p:\n",
    "#     result_1 = p.map(f, args)\n",
    "#     i = np.argmax(result_1)\n",
    "#     print(f\"NTK depth 3, LPK lengthscale {ell_search[i]} at {i} with {max(result_1)}\")"
   ]
  },
  {
   "cell_type": "code",
   "execution_count": 42,
   "metadata": {},
   "outputs": [],
   "source": [
    "# arg_list = (gp_lpk, X_norm, X_train_norm, y_train, y-mean_ntk_2, False)\n",
    "# N = 10000\n",
    "# ell_search = np.linspace(0.01, 100, N)\n",
    "\n",
    "# args = [(ell, *arg_list) for ell in ell_search]\n",
    "\n",
    "# with Pool(4) as p:\n",
    "#     result_1 = p.map(f, args)\n",
    "#     i = np.argmax(result_1)\n",
    "#     print(f\"NTK depth 3, LPK lengthscale {ell_search[i]} at {i} with {max(result_1)}\")"
   ]
  },
  {
   "cell_type": "code",
   "execution_count": 43,
   "metadata": {},
   "outputs": [],
   "source": [
    "def g(ell, residual):\n",
    "    gp_lpk.set_params(**{'kernel__k2__length_scale': ell})\n",
    "    gp_lpk.fit(X_train_norm, y_train)\n",
    "    mean = gp_lpk.predict(X_norm)\n",
    "    return -np.corrcoef((residual)[:,0], (y-mean)[:,0])[0, 1]"
   ]
  },
  {
   "cell_type": "code",
   "execution_count": 44,
   "metadata": {},
   "outputs": [
    {
     "name": "stderr",
     "output_type": "stream",
     "text": [
      "/home/rona1das/Tools/anaconda3/envs/thesis/lib/python3.9/site-packages/sklearn/gaussian_process/kernels.py:430: ConvergenceWarning: The optimal value found for dimension 0 of parameter k1__constant_value is close to the specified upper bound 100000.0. Increasing the bound and calling fit again may find a better value.\n",
      "  warnings.warn(\n",
      "/home/rona1das/Tools/anaconda3/envs/thesis/lib/python3.9/site-packages/sklearn/gaussian_process/kernels.py:430: ConvergenceWarning: The optimal value found for dimension 0 of parameter k1__constant_value is close to the specified upper bound 100000.0. Increasing the bound and calling fit again may find a better value.\n",
      "  warnings.warn(\n",
      "/home/rona1das/Tools/anaconda3/envs/thesis/lib/python3.9/site-packages/sklearn/gaussian_process/kernels.py:430: ConvergenceWarning: The optimal value found for dimension 0 of parameter k1__constant_value is close to the specified upper bound 100000.0. Increasing the bound and calling fit again may find a better value.\n",
      "  warnings.warn(\n",
      "/home/rona1das/Tools/anaconda3/envs/thesis/lib/python3.9/site-packages/sklearn/gaussian_process/kernels.py:430: ConvergenceWarning: The optimal value found for dimension 0 of parameter k1__constant_value is close to the specified upper bound 100000.0. Increasing the bound and calling fit again may find a better value.\n",
      "  warnings.warn(\n",
      "/home/rona1das/Tools/anaconda3/envs/thesis/lib/python3.9/site-packages/sklearn/gaussian_process/kernels.py:430: ConvergenceWarning: The optimal value found for dimension 0 of parameter k1__constant_value is close to the specified upper bound 100000.0. Increasing the bound and calling fit again may find a better value.\n",
      "  warnings.warn(\n",
      "/home/rona1das/Tools/anaconda3/envs/thesis/lib/python3.9/site-packages/sklearn/gaussian_process/kernels.py:430: ConvergenceWarning: The optimal value found for dimension 0 of parameter k1__constant_value is close to the specified upper bound 100000.0. Increasing the bound and calling fit again may find a better value.\n",
      "  warnings.warn(\n",
      "/home/rona1das/Tools/anaconda3/envs/thesis/lib/python3.9/site-packages/sklearn/gaussian_process/kernels.py:430: ConvergenceWarning: The optimal value found for dimension 0 of parameter k1__constant_value is close to the specified upper bound 100000.0. Increasing the bound and calling fit again may find a better value.\n",
      "  warnings.warn(\n",
      "/home/rona1das/Tools/anaconda3/envs/thesis/lib/python3.9/site-packages/sklearn/gaussian_process/kernels.py:430: ConvergenceWarning: The optimal value found for dimension 0 of parameter k1__constant_value is close to the specified upper bound 100000.0. Increasing the bound and calling fit again may find a better value.\n",
      "  warnings.warn(\n"
     ]
    },
    {
     "name": "stdout",
     "output_type": "stream",
     "text": [
      " \n",
      " Func-count     x          f(x)          Procedure\n",
      "    1        38196.6    -0.999999        initial\n",
      "    2        61803.4    -0.999999        golden\n",
      "    3        23606.8    -0.999999        golden\n",
      "    4        14589.8    -0.999999        golden\n",
      "    5           9017    -0.999999        golden\n",
      "    6        5572.81    -0.999999        golden\n",
      "    7        3444.19    -0.999999        golden\n",
      "    8        2128.62    -0.999999        golden\n",
      "    9        1315.56    -0.999999        golden\n",
      "   10        813.063    -0.999999        golden\n",
      "   11        502.501    -0.999999        golden\n",
      "   12        310.563    -0.999999        golden\n",
      "   13        191.939    -0.999999        golden\n",
      "   14        118.625    -0.999999        golden\n",
      "   15        73.3147    -0.999999        golden\n",
      "   16        45.3114    -0.999999        golden\n",
      "   17        28.0044    -0.999999        golden\n",
      "   18         17.308    -0.999999        golden\n",
      "   19        10.6973    -0.999999        golden\n",
      "   20         6.6117    -0.999999        golden\n",
      "   21        4.08663    -0.999999        golden\n",
      "   22        2.52606    -0.999999        golden\n",
      "   23        1.56157    -0.999999        golden\n",
      "   24       0.965488    -0.999999        golden\n",
      "   25        1.92998    -0.999999        golden\n",
      "   26        1.31051    -0.999999        parabolic\n",
      "   27        1.70136    -0.999999        parabolic\n",
      "   28        1.63508    -0.999999        parabolic\n",
      "   29        1.63365    -0.999999        parabolic\n",
      "   30        1.62813    -0.999999        parabolic\n",
      "   31        1.60271    -0.999999        golden\n",
      "   32        1.62893    -0.999999        parabolic\n",
      "   33        1.62896    -0.999999        parabolic\n",
      "   34        1.62884    -0.999999        parabolic\n",
      "   35         1.6289    -0.999999        golden\n",
      "   36        1.62893    -0.999999        parabolic\n",
      "   37        1.62891    -0.999999        golden\n",
      "   38        1.62891    -0.999999        parabolic\n",
      "   39        1.62892    -0.999999        golden\n",
      "\n",
      "Optimization terminated successfully;\n",
      "The returned value satisfies the termination criteria\n",
      "(using xtol =  1e-05 )\n"
     ]
    },
    {
     "data": {
      "text/plain": [
       "     fun: -0.9999994179978913\n",
       " message: 'Solution found.'\n",
       "    nfev: 39\n",
       "     nit: 39\n",
       "  status: 0\n",
       " success: True\n",
       "       x: 1.6289141666650535"
      ]
     },
     "execution_count": 44,
     "metadata": {},
     "output_type": "execute_result"
    }
   ],
   "source": [
    "ell_3 = optimize.minimize_scalar(g, args=(y-mean_ntk_1), method='bounded', bounds=[0.001, 100000], options={'disp':3})\n",
    "ell_3"
   ]
  },
  {
   "cell_type": "code",
   "execution_count": 45,
   "metadata": {},
   "outputs": [
    {
     "name": "stdout",
     "output_type": "stream",
     "text": [
      " \n",
      " Func-count     x          f(x)          Procedure\n",
      "    1        38196.6    -0.995429        initial\n",
      "    2        61803.4    -0.995429        golden\n",
      "    3        76393.2    -0.995429        golden\n"
     ]
    },
    {
     "name": "stderr",
     "output_type": "stream",
     "text": [
      "/home/rona1das/Tools/anaconda3/envs/thesis/lib/python3.9/site-packages/sklearn/gaussian_process/kernels.py:430: ConvergenceWarning: The optimal value found for dimension 0 of parameter k1__constant_value is close to the specified upper bound 100000.0. Increasing the bound and calling fit again may find a better value.\n",
      "  warnings.warn(\n",
      "/home/rona1das/Tools/anaconda3/envs/thesis/lib/python3.9/site-packages/sklearn/gaussian_process/kernels.py:430: ConvergenceWarning: The optimal value found for dimension 0 of parameter k1__constant_value is close to the specified upper bound 100000.0. Increasing the bound and calling fit again may find a better value.\n",
      "  warnings.warn(\n",
      "/home/rona1das/Tools/anaconda3/envs/thesis/lib/python3.9/site-packages/sklearn/gaussian_process/kernels.py:430: ConvergenceWarning: The optimal value found for dimension 0 of parameter k1__constant_value is close to the specified upper bound 100000.0. Increasing the bound and calling fit again may find a better value.\n",
      "  warnings.warn(\n",
      "/home/rona1das/Tools/anaconda3/envs/thesis/lib/python3.9/site-packages/sklearn/gaussian_process/kernels.py:430: ConvergenceWarning: The optimal value found for dimension 0 of parameter k1__constant_value is close to the specified upper bound 100000.0. Increasing the bound and calling fit again may find a better value.\n",
      "  warnings.warn(\n",
      "/home/rona1das/Tools/anaconda3/envs/thesis/lib/python3.9/site-packages/sklearn/gaussian_process/kernels.py:430: ConvergenceWarning: The optimal value found for dimension 0 of parameter k1__constant_value is close to the specified upper bound 100000.0. Increasing the bound and calling fit again may find a better value.\n",
      "  warnings.warn(\n",
      "/home/rona1das/Tools/anaconda3/envs/thesis/lib/python3.9/site-packages/sklearn/gaussian_process/kernels.py:430: ConvergenceWarning: The optimal value found for dimension 0 of parameter k1__constant_value is close to the specified upper bound 100000.0. Increasing the bound and calling fit again may find a better value.\n",
      "  warnings.warn(\n",
      "/home/rona1das/Tools/anaconda3/envs/thesis/lib/python3.9/site-packages/sklearn/gaussian_process/kernels.py:430: ConvergenceWarning: The optimal value found for dimension 0 of parameter k1__constant_value is close to the specified upper bound 100000.0. Increasing the bound and calling fit again may find a better value.\n",
      "  warnings.warn(\n",
      "/home/rona1das/Tools/anaconda3/envs/thesis/lib/python3.9/site-packages/sklearn/gaussian_process/kernels.py:430: ConvergenceWarning: The optimal value found for dimension 0 of parameter k1__constant_value is close to the specified upper bound 100000.0. Increasing the bound and calling fit again may find a better value.\n",
      "  warnings.warn(\n",
      "/home/rona1das/Tools/anaconda3/envs/thesis/lib/python3.9/site-packages/sklearn/gaussian_process/kernels.py:430: ConvergenceWarning: The optimal value found for dimension 0 of parameter k1__constant_value is close to the specified upper bound 100000.0. Increasing the bound and calling fit again may find a better value.\n",
      "  warnings.warn(\n",
      "/home/rona1das/Tools/anaconda3/envs/thesis/lib/python3.9/site-packages/sklearn/gaussian_process/kernels.py:430: ConvergenceWarning: The optimal value found for dimension 0 of parameter k1__constant_value is close to the specified upper bound 100000.0. Increasing the bound and calling fit again may find a better value.\n",
      "  warnings.warn(\n",
      "/home/rona1das/Tools/anaconda3/envs/thesis/lib/python3.9/site-packages/sklearn/gaussian_process/kernels.py:430: ConvergenceWarning: The optimal value found for dimension 0 of parameter k1__constant_value is close to the specified upper bound 100000.0. Increasing the bound and calling fit again may find a better value.\n",
      "  warnings.warn(\n",
      "/home/rona1das/Tools/anaconda3/envs/thesis/lib/python3.9/site-packages/sklearn/gaussian_process/kernels.py:430: ConvergenceWarning: The optimal value found for dimension 0 of parameter k1__constant_value is close to the specified upper bound 100000.0. Increasing the bound and calling fit again may find a better value.\n",
      "  warnings.warn(\n",
      "/home/rona1das/Tools/anaconda3/envs/thesis/lib/python3.9/site-packages/sklearn/gaussian_process/kernels.py:430: ConvergenceWarning: The optimal value found for dimension 0 of parameter k1__constant_value is close to the specified upper bound 100000.0. Increasing the bound and calling fit again may find a better value.\n",
      "  warnings.warn(\n",
      "/home/rona1das/Tools/anaconda3/envs/thesis/lib/python3.9/site-packages/sklearn/gaussian_process/kernels.py:430: ConvergenceWarning: The optimal value found for dimension 0 of parameter k1__constant_value is close to the specified upper bound 100000.0. Increasing the bound and calling fit again may find a better value.\n",
      "  warnings.warn(\n",
      "/home/rona1das/Tools/anaconda3/envs/thesis/lib/python3.9/site-packages/sklearn/gaussian_process/kernels.py:430: ConvergenceWarning: The optimal value found for dimension 0 of parameter k1__constant_value is close to the specified upper bound 100000.0. Increasing the bound and calling fit again may find a better value.\n",
      "  warnings.warn(\n",
      "/home/rona1das/Tools/anaconda3/envs/thesis/lib/python3.9/site-packages/sklearn/gaussian_process/kernels.py:430: ConvergenceWarning: The optimal value found for dimension 0 of parameter k1__constant_value is close to the specified upper bound 100000.0. Increasing the bound and calling fit again may find a better value.\n",
      "  warnings.warn(\n",
      "/home/rona1das/Tools/anaconda3/envs/thesis/lib/python3.9/site-packages/sklearn/gaussian_process/kernels.py:430: ConvergenceWarning: The optimal value found for dimension 0 of parameter k1__constant_value is close to the specified upper bound 100000.0. Increasing the bound and calling fit again may find a better value.\n",
      "  warnings.warn(\n",
      "/home/rona1das/Tools/anaconda3/envs/thesis/lib/python3.9/site-packages/sklearn/gaussian_process/kernels.py:430: ConvergenceWarning: The optimal value found for dimension 0 of parameter k1__constant_value is close to the specified upper bound 100000.0. Increasing the bound and calling fit again may find a better value.\n",
      "  warnings.warn(\n",
      "/home/rona1das/Tools/anaconda3/envs/thesis/lib/python3.9/site-packages/sklearn/gaussian_process/kernels.py:430: ConvergenceWarning: The optimal value found for dimension 0 of parameter k1__constant_value is close to the specified upper bound 100000.0. Increasing the bound and calling fit again may find a better value.\n",
      "  warnings.warn(\n",
      "/home/rona1das/Tools/anaconda3/envs/thesis/lib/python3.9/site-packages/sklearn/gaussian_process/kernels.py:430: ConvergenceWarning: The optimal value found for dimension 0 of parameter k1__constant_value is close to the specified upper bound 100000.0. Increasing the bound and calling fit again may find a better value.\n",
      "  warnings.warn(\n"
     ]
    },
    {
     "name": "stdout",
     "output_type": "stream",
     "text": [
      "    4        85410.2    -0.995429        golden\n",
      "    5          90983    -0.995429        golden\n",
      "    6        83952.1    -0.995429        parabolic\n",
      "    7        87371.9    -0.995429        parabolic\n",
      "    8        86159.5    -0.995429        golden\n",
      "    9        84853.3    -0.995429        golden\n",
      "   10        85696.4    -0.995429        golden\n",
      "   11        85197.5    -0.995429        golden\n",
      "   12        85519.5    -0.995429        golden\n",
      "   13        85328.9    -0.995429        golden\n",
      "   14          85452    -0.995429        golden\n",
      "   15        85379.2    -0.995429        golden\n",
      "   16        85426.1    -0.995429        golden\n",
      "   17        85398.3    -0.995429        golden\n",
      "   18        85416.3    -0.995429        golden\n",
      "   19        85405.7    -0.995429        golden\n",
      "   20        85414.4    -0.995429        parabolic\n",
      "   21        85408.5    -0.995429        golden\n",
      "   22        85411.8    -0.995429        golden\n",
      "   23        85409.5    -0.995429        golden\n",
      "   24        85410.8    -0.995429        golden\n",
      "   25        85409.9    -0.995429        golden\n",
      "   26        85410.4    -0.995429        golden\n",
      "   27        85410.1    -0.995429        golden\n",
      "   28        85410.3    -0.995429        golden\n",
      "   29        85410.2    -0.995429        golden\n",
      "   30        85410.2    -0.995429        golden\n",
      "   31        85410.2    -0.995429        golden\n",
      "   32        85410.2    -0.995429        golden\n",
      "   33        85410.2    -0.995429        golden\n",
      "   34        85410.2    -0.995429        golden\n",
      "   35        85410.2    -0.995429        golden\n",
      "   36        85410.2    -0.995429        golden\n",
      "\n",
      "Optimization terminated successfully;\n",
      "The returned value satisfies the termination criteria\n",
      "(using xtol =  1e-05 )\n"
     ]
    },
    {
     "name": "stderr",
     "output_type": "stream",
     "text": [
      "/home/rona1das/Tools/anaconda3/envs/thesis/lib/python3.9/site-packages/sklearn/gaussian_process/kernels.py:430: ConvergenceWarning: The optimal value found for dimension 0 of parameter k1__constant_value is close to the specified upper bound 100000.0. Increasing the bound and calling fit again may find a better value.\n",
      "  warnings.warn(\n",
      "/home/rona1das/Tools/anaconda3/envs/thesis/lib/python3.9/site-packages/sklearn/gaussian_process/kernels.py:430: ConvergenceWarning: The optimal value found for dimension 0 of parameter k1__constant_value is close to the specified upper bound 100000.0. Increasing the bound and calling fit again may find a better value.\n",
      "  warnings.warn(\n",
      "/home/rona1das/Tools/anaconda3/envs/thesis/lib/python3.9/site-packages/sklearn/gaussian_process/kernels.py:430: ConvergenceWarning: The optimal value found for dimension 0 of parameter k1__constant_value is close to the specified upper bound 100000.0. Increasing the bound and calling fit again may find a better value.\n",
      "  warnings.warn(\n",
      "/home/rona1das/Tools/anaconda3/envs/thesis/lib/python3.9/site-packages/sklearn/gaussian_process/kernels.py:430: ConvergenceWarning: The optimal value found for dimension 0 of parameter k1__constant_value is close to the specified upper bound 100000.0. Increasing the bound and calling fit again may find a better value.\n",
      "  warnings.warn(\n",
      "/home/rona1das/Tools/anaconda3/envs/thesis/lib/python3.9/site-packages/sklearn/gaussian_process/kernels.py:430: ConvergenceWarning: The optimal value found for dimension 0 of parameter k1__constant_value is close to the specified upper bound 100000.0. Increasing the bound and calling fit again may find a better value.\n",
      "  warnings.warn(\n",
      "/home/rona1das/Tools/anaconda3/envs/thesis/lib/python3.9/site-packages/sklearn/gaussian_process/kernels.py:430: ConvergenceWarning: The optimal value found for dimension 0 of parameter k1__constant_value is close to the specified upper bound 100000.0. Increasing the bound and calling fit again may find a better value.\n",
      "  warnings.warn(\n",
      "/home/rona1das/Tools/anaconda3/envs/thesis/lib/python3.9/site-packages/sklearn/gaussian_process/kernels.py:430: ConvergenceWarning: The optimal value found for dimension 0 of parameter k1__constant_value is close to the specified upper bound 100000.0. Increasing the bound and calling fit again may find a better value.\n",
      "  warnings.warn(\n",
      "/home/rona1das/Tools/anaconda3/envs/thesis/lib/python3.9/site-packages/sklearn/gaussian_process/kernels.py:430: ConvergenceWarning: The optimal value found for dimension 0 of parameter k1__constant_value is close to the specified upper bound 100000.0. Increasing the bound and calling fit again may find a better value.\n",
      "  warnings.warn(\n",
      "/home/rona1das/Tools/anaconda3/envs/thesis/lib/python3.9/site-packages/sklearn/gaussian_process/kernels.py:430: ConvergenceWarning: The optimal value found for dimension 0 of parameter k1__constant_value is close to the specified upper bound 100000.0. Increasing the bound and calling fit again may find a better value.\n",
      "  warnings.warn(\n",
      "/home/rona1das/Tools/anaconda3/envs/thesis/lib/python3.9/site-packages/sklearn/gaussian_process/kernels.py:430: ConvergenceWarning: The optimal value found for dimension 0 of parameter k1__constant_value is close to the specified upper bound 100000.0. Increasing the bound and calling fit again may find a better value.\n",
      "  warnings.warn(\n",
      "/home/rona1das/Tools/anaconda3/envs/thesis/lib/python3.9/site-packages/sklearn/gaussian_process/kernels.py:430: ConvergenceWarning: The optimal value found for dimension 0 of parameter k1__constant_value is close to the specified upper bound 100000.0. Increasing the bound and calling fit again may find a better value.\n",
      "  warnings.warn(\n",
      "/home/rona1das/Tools/anaconda3/envs/thesis/lib/python3.9/site-packages/sklearn/gaussian_process/kernels.py:430: ConvergenceWarning: The optimal value found for dimension 0 of parameter k1__constant_value is close to the specified upper bound 100000.0. Increasing the bound and calling fit again may find a better value.\n",
      "  warnings.warn(\n",
      "/home/rona1das/Tools/anaconda3/envs/thesis/lib/python3.9/site-packages/sklearn/gaussian_process/kernels.py:430: ConvergenceWarning: The optimal value found for dimension 0 of parameter k1__constant_value is close to the specified upper bound 100000.0. Increasing the bound and calling fit again may find a better value.\n",
      "  warnings.warn(\n",
      "/home/rona1das/Tools/anaconda3/envs/thesis/lib/python3.9/site-packages/sklearn/gaussian_process/kernels.py:430: ConvergenceWarning: The optimal value found for dimension 0 of parameter k1__constant_value is close to the specified upper bound 100000.0. Increasing the bound and calling fit again may find a better value.\n",
      "  warnings.warn(\n",
      "/home/rona1das/Tools/anaconda3/envs/thesis/lib/python3.9/site-packages/sklearn/gaussian_process/kernels.py:430: ConvergenceWarning: The optimal value found for dimension 0 of parameter k1__constant_value is close to the specified upper bound 100000.0. Increasing the bound and calling fit again may find a better value.\n",
      "  warnings.warn(\n",
      "/home/rona1das/Tools/anaconda3/envs/thesis/lib/python3.9/site-packages/sklearn/gaussian_process/kernels.py:430: ConvergenceWarning: The optimal value found for dimension 0 of parameter k1__constant_value is close to the specified upper bound 100000.0. Increasing the bound and calling fit again may find a better value.\n",
      "  warnings.warn(\n"
     ]
    },
    {
     "data": {
      "text/plain": [
       "     fun: -0.9954293474166064\n",
       " message: 'Solution found.'\n",
       "    nfev: 36\n",
       "     nit: 36\n",
       "  status: 0\n",
       " success: True\n",
       "       x: 85410.19677086647"
      ]
     },
     "execution_count": 45,
     "metadata": {},
     "output_type": "execute_result"
    }
   ],
   "source": [
    "ell_100 = optimize.minimize_scalar(g, args=(y-mean_ntk_2), method='bounded', bounds=[0.001, 100000], options={'disp':3})\n",
    "ell_100"
   ]
  },
  {
   "cell_type": "code",
   "execution_count": 46,
   "metadata": {},
   "outputs": [
    {
     "name": "stderr",
     "output_type": "stream",
     "text": [
      "/home/rona1das/Tools/anaconda3/envs/thesis/lib/python3.9/site-packages/sklearn/gaussian_process/kernels.py:430: ConvergenceWarning: The optimal value found for dimension 0 of parameter k1__constant_value is close to the specified upper bound 100000.0. Increasing the bound and calling fit again may find a better value.\n",
      "  warnings.warn(\n"
     ]
    }
   ],
   "source": [
    "# D=3\n",
    "gp_lpk.set_params(**{'kernel__k2__length_scale': ell_3.x})\n",
    "gp_lpk.fit(X_train_norm, y_train)\n",
    "mean_opt_1 = gp_lpk.predict(X_norm)\n",
    "\n",
    "# D=100\n",
    "gp_lpk.set_params(**{'kernel__k2__length_scale': ell_100.x})\n",
    "gp_lpk.fit(X_train_norm, y_train)\n",
    "mean_opt_2 = gp_lpk.predict(X_norm)"
   ]
  },
  {
   "cell_type": "code",
   "execution_count": 47,
   "metadata": {},
   "outputs": [
    {
     "data": {
      "image/png": "[encoded data removed]",
      "text/plain": [
       "<Figure size 720x720 with 4 Axes>"
      ]
     },
     "metadata": {
      "needs_background": "light"
     },
     "output_type": "display_data"
    }
   ],
   "source": [
    "fig2, ax2 = plt.subplots(nrows=2, ncols=2, sharex=True, sharey=True, figsize=(10,10))\n",
    "ax2 = ax2.ravel()\n",
    "ax2[0].scatter(y - mean_ntk_1, y - mean_lpk)\n",
    "ax2[0].set_title('Depth=3, Lengthscale=1')\n",
    "ax2[1].scatter(y - mean_ntk_2, y - mean_lpk)\n",
    "ax2[1].set_title('Depth=100, Lengthscale=1')\n",
    "ax2[2].scatter(y - mean_ntk_1, y - mean_opt_1)\n",
    "ax2[2].set_title(f'Depth=3, Optimal Lengthscale (1/c)={round(ell_3.x, 4)}')\n",
    "ax2[3].scatter(y - mean_ntk_2, y - mean_opt_2)\n",
    "ax2[3].set_title(f'Depth=100, Optimal Lengthscale (1/c)={round(ell_100.x, 4)}')\n",
    "fig2.suptitle(r'Noisy Friedman 3 $\\mathbb{S}^{d-1}$ NTK vs LPK')\n",
    "fig2.supxlabel('NTK residuals')\n",
    "fig2.supylabel('LaPlace residuals')\n",
    "fig2.tight_layout()"
   ]
  },
  {
   "cell_type": "markdown",
   "metadata": {},
   "source": [
    "### RBF"
   ]
  },
  {
   "cell_type": "code",
   "execution_count": 48,
   "metadata": {},
   "outputs": [
    {
     "name": "stderr",
     "output_type": "stream",
     "text": [
      "/home/rona1das/Tools/anaconda3/envs/thesis/lib/python3.9/site-packages/sklearn/gaussian_process/kernels.py:430: ConvergenceWarning: The optimal value found for dimension 0 of parameter k1__constant_value is close to the specified upper bound 100000.0. Increasing the bound and calling fit again may find a better value.\n",
      "  warnings.warn(\n"
     ]
    }
   ],
   "source": [
    "rbf = (\n",
    "        ConstantKernel(\n",
    "            constant_value=0.224**2, \n",
    "            constant_value_bounds=(1e-9, 1e5) \n",
    "        ) * \n",
    "        Matern(\n",
    "            nu=np.inf,\n",
    "            length_scale=1,\n",
    "            length_scale_bounds='fixed',#(1e-1, 1e3), \n",
    "        ) \n",
    "    )\n",
    "\n",
    "gp_rbf = GPR(kernel=rbf, alpha=1e-10, normalize_y=True, n_restarts_optimizer=0, random_state=3480795)\n",
    "gp_rbf.fit(X_train_norm, y_train)\n",
    "mean_rbf = gp_rbf.predict(X_norm)"
   ]
  },
  {
   "cell_type": "code",
   "execution_count": 49,
   "metadata": {},
   "outputs": [],
   "source": [
    "def h(ell, residual):\n",
    "    gp_rbf.set_params(**{'kernel__k2__length_scale': ell})\n",
    "    gp_rbf.fit(X_train_norm, y_train)\n",
    "    mean = gp_rbf.predict(X_norm)\n",
    "    return -np.corrcoef((residual)[:,0], (y-mean)[:,0])[0, 1]"
   ]
  },
  {
   "cell_type": "code",
   "execution_count": 50,
   "metadata": {},
   "outputs": [
    {
     "name": "stdout",
     "output_type": "stream",
     "text": [
      " \n",
      " Func-count     x          f(x)          Procedure\n",
      "    1        38196.6    -0.480974        initial\n",
      "    2        61803.4    -0.457993        golden\n",
      "    3        23606.8    -0.523339        golden\n",
      "    4        14589.8    -0.574369        golden\n",
      "    5           9017    -0.607417        golden\n",
      "    6        5572.81    -0.619705        golden\n",
      "    7        3444.19    -0.623296        golden\n",
      "    8        2008.43    -0.624205        parabolic\n"
     ]
    },
    {
     "name": "stderr",
     "output_type": "stream",
     "text": [
      "/home/rona1das/Tools/anaconda3/envs/thesis/lib/python3.9/site-packages/sklearn/gaussian_process/_gpr.py:610: ConvergenceWarning: lbfgs failed to converge (status=2):\n",
      "ABNORMAL_TERMINATION_IN_LNSRCH.\n",
      "\n",
      "Increase the number of iterations (max_iter) or scale the data as shown in:\n",
      "    https://scikit-learn.org/stable/modules/preprocessing.html\n",
      "  _check_optimize_result(\"lbfgs\", opt_res)\n",
      "/home/rona1das/Tools/anaconda3/envs/thesis/lib/python3.9/site-packages/sklearn/gaussian_process/kernels.py:430: ConvergenceWarning: The optimal value found for dimension 0 of parameter k1__constant_value is close to the specified upper bound 100000.0. Increasing the bound and calling fit again may find a better value.\n",
      "  warnings.warn(\n",
      "/home/rona1das/Tools/anaconda3/envs/thesis/lib/python3.9/site-packages/sklearn/gaussian_process/kernels.py:430: ConvergenceWarning: The optimal value found for dimension 0 of parameter k1__constant_value is close to the specified upper bound 100000.0. Increasing the bound and calling fit again may find a better value.\n",
      "  warnings.warn(\n"
     ]
    },
    {
     "name": "stdout",
     "output_type": "stream",
     "text": [
      "    9        1656.16    -0.491776        parabolic\n",
      "   10        2556.84    -0.624034        golden\n",
      "   11         1852.1     -0.62419        parabolic\n",
      "   12         2015.1    -0.624205        parabolic\n",
      "   13        1995.72    -0.624205        parabolic\n",
      "   14        1940.86    -0.311047        golden\n",
      "   15        2001.29    -0.624205        parabolic\n",
      "   16        1974.76    -0.624205        golden\n",
      "   17        1987.71    -0.624205        golden\n",
      "   18        1982.77    -0.624205        golden\n",
      "   19        1990.77    -0.624205        golden\n",
      "   20        1985.82    -0.624205        golden\n",
      "   21        1988.88    -0.624205        golden\n",
      "   22        1986.99    -0.624205        golden\n",
      "   23         1987.8    -0.624205        parabolic\n",
      "   24        1987.71    -0.624205        parabolic\n",
      "   25        1987.74    -0.624205        golden\n",
      "   26        1987.72    -0.181652        golden\n",
      "   27        1987.72    -0.501199        golden\n",
      "   28        1987.71    -0.624205        golden\n",
      "   29        1987.71    -0.624205        golden\n",
      "   30        1987.71    -0.624205        golden\n",
      "   31        1987.71    -0.483019        golden\n",
      "   32        1987.71    -0.624205        golden\n",
      "\n",
      "Optimization terminated successfully;\n",
      "The returned value satisfies the termination criteria\n",
      "(using xtol =  1e-05 )\n"
     ]
    },
    {
     "name": "stderr",
     "output_type": "stream",
     "text": [
      "/home/rona1das/Tools/anaconda3/envs/thesis/lib/python3.9/site-packages/sklearn/gaussian_process/_gpr.py:610: ConvergenceWarning: lbfgs failed to converge (status=2):\n",
      "ABNORMAL_TERMINATION_IN_LNSRCH.\n",
      "\n",
      "Increase the number of iterations (max_iter) or scale the data as shown in:\n",
      "    https://scikit-learn.org/stable/modules/preprocessing.html\n",
      "  _check_optimize_result(\"lbfgs\", opt_res)\n",
      "/home/rona1das/Tools/anaconda3/envs/thesis/lib/python3.9/site-packages/sklearn/gaussian_process/_gpr.py:610: ConvergenceWarning: lbfgs failed to converge (status=2):\n",
      "ABNORMAL_TERMINATION_IN_LNSRCH.\n",
      "\n",
      "Increase the number of iterations (max_iter) or scale the data as shown in:\n",
      "    https://scikit-learn.org/stable/modules/preprocessing.html\n",
      "  _check_optimize_result(\"lbfgs\", opt_res)\n"
     ]
    },
    {
     "data": {
      "text/plain": [
       "     fun: -0.6242051772091762\n",
       " message: 'Solution found.'\n",
       "    nfev: 32\n",
       "     nit: 32\n",
       "  status: 0\n",
       " success: True\n",
       "       x: 1987.7127761140023"
      ]
     },
     "execution_count": 50,
     "metadata": {},
     "output_type": "execute_result"
    }
   ],
   "source": [
    "ell_3 = optimize.minimize_scalar(h, args=(y-mean_ntk_1), method='bounded', bounds=[0.001, 100000], options={'disp':3})\n",
    "ell_3"
   ]
  },
  {
   "cell_type": "code",
   "execution_count": 59,
   "metadata": {},
   "outputs": [
    {
     "name": "stdout",
     "output_type": "stream",
     "text": [
      " \n",
      " Func-count     x          f(x)          Procedure\n",
      "    1        38196.6    -0.507304        initial\n",
      "    2        61803.4    -0.485649        golden\n",
      "    3        23606.8    -0.546705        golden\n",
      "    4        14589.8    -0.592704        golden\n",
      "    5           9017    -0.620452        golden\n",
      "    6        5572.81    -0.629359        golden\n",
      "    7        2422.09    -0.632112        parabolic\n",
      "    8        2315.06    -0.632162        parabolic\n",
      "    9        1430.79    -0.632347        golden\n",
      "   10        1475.88    -0.632356        parabolic\n",
      "   11        1665.79    -0.632364        parabolic\n",
      "   12        1913.79    -0.632316        golden\n",
      "   13        1598.96    -0.632367        parabolic\n",
      "   14        1602.37    -0.632367        parabolic\n",
      "   15        1610.28    -0.632367        parabolic\n",
      "   16        1603.12    -0.632367        parabolic\n",
      "   17        1600.84    -0.632367        parabolic\n",
      "   18        1601.79    -0.632367        golden\n",
      "   19        1602.66    -0.632367        golden\n",
      "   20        1602.15    -0.632367        golden\n",
      "   21        1602.48    -0.632367        golden\n",
      "   22        1602.29    -0.632367        golden\n",
      "   23        1602.41    -0.632367        golden\n"
     ]
    },
    {
     "name": "stderr",
     "output_type": "stream",
     "text": [
      "/home/rona1das/Tools/anaconda3/envs/thesis/lib/python3.9/site-packages/sklearn/gaussian_process/_gpr.py:610: ConvergenceWarning: lbfgs failed to converge (status=2):\n",
      "ABNORMAL_TERMINATION_IN_LNSRCH.\n",
      "\n",
      "Increase the number of iterations (max_iter) or scale the data as shown in:\n",
      "    https://scikit-learn.org/stable/modules/preprocessing.html\n",
      "  _check_optimize_result(\"lbfgs\", opt_res)\n"
     ]
    },
    {
     "name": "stdout",
     "output_type": "stream",
     "text": [
      "   24        1602.34    -0.515118        golden\n",
      "   25        1602.39    -0.632367        golden\n",
      "   26        1602.38    -0.632367        parabolic\n",
      "   27         1602.4    -0.632367        golden\n",
      "   28        1602.39    -0.632367        golden\n",
      "   29        1602.39    -0.632367        golden\n",
      "   30        1602.39    -0.632367        golden\n",
      "   31        1602.39    -0.632367        golden\n",
      "   32        1602.39    -0.632367        golden\n",
      "   33        1602.39    -0.632367        golden\n",
      "   34        1602.39    -0.632367        golden\n",
      "   35        1602.39    -0.632367        golden\n",
      "   36        1602.39    -0.632367        golden\n",
      "   37        1602.39    -0.632367        golden\n",
      "   38        1602.39    -0.632367        golden\n",
      "\n",
      "Optimization terminated successfully;\n",
      "The returned value satisfies the termination criteria\n",
      "(using xtol =  1e-05 )\n"
     ]
    },
    {
     "data": {
      "text/plain": [
       "     fun: -0.6323667298015792\n",
       " message: 'Solution found.'\n",
       "    nfev: 38\n",
       "     nit: 38\n",
       "  status: 0\n",
       " success: True\n",
       "       x: 1602.3886132835962"
      ]
     },
     "execution_count": 59,
     "metadata": {},
     "output_type": "execute_result"
    }
   ],
   "source": [
    "ell_100 = optimize.minimize_scalar(h, args=(y-mean_ntk_2), method='bounded', bounds=[0.001, 100000], options={'disp':3})\n",
    "ell_100"
   ]
  },
  {
   "cell_type": "code",
   "execution_count": 52,
   "metadata": {},
   "outputs": [],
   "source": [
    "# D=3\n",
    "gp_rbf.set_params(**{'kernel__k2__length_scale': ell_3.x})\n",
    "gp_rbf.fit(X_train_norm, y_train)\n",
    "mean_opt_1 = gp_rbf.predict(X_norm)\n",
    "\n",
    "# D=100\n",
    "gp_rbf.set_params(**{'kernel__k2__length_scale': ell_100.x})\n",
    "gp_rbf.fit(X_train_norm, y_train)\n",
    "mean_opt_2 = gp_rbf.predict(X_norm)"
   ]
  },
  {
   "cell_type": "code",
   "execution_count": 53,
   "metadata": {},
   "outputs": [
    {
     "data": {
      "image/png": "[encoded data removed]",
      "text/plain": [
       "<Figure size 720x720 with 4 Axes>"
      ]
     },
     "metadata": {
      "needs_background": "light"
     },
     "output_type": "display_data"
    }
   ],
   "source": [
    "fig2, ax2 = plt.subplots(nrows=2, ncols=2, sharex=True, sharey=True, figsize=(10,10))\n",
    "ax2 = ax2.ravel()\n",
    "ax2[0].scatter(y - mean_ntk_1, y - mean_rbf)\n",
    "ax2[0].set_title('Depth=3, Lengthscale=1')\n",
    "ax2[1].scatter(y - mean_ntk_2, y - mean_rbf)\n",
    "ax2[1].set_title('Depth=100, Lengthscale=1')\n",
    "ax2[2].scatter(y - mean_ntk_1, y - mean_opt_1)\n",
    "ax2[2].set_title(f'Depth=3, Optimal Lengthscale (1/c)={round(ell_3.x, 4)}')\n",
    "ax2[3].scatter(y - mean_ntk_2, y - mean_opt_2)\n",
    "ax2[3].set_title(f'Depth=100, Optimal Lengthscale (1/c)={round(ell_100.x, 4)}')\n",
    "fig2.suptitle(r'Noisy Friedman 3 $\\mathbb{S}^{d-1}$ NTK vs RBF')\n",
    "fig2.supxlabel('NTK residuals')\n",
    "fig2.supylabel('RBF residuals')\n",
    "fig2.tight_layout()"
   ]
  },
  {
   "cell_type": "code",
   "execution_count": 54,
   "metadata": {},
   "outputs": [],
   "source": [
    "# lengthscale = np.linspace(0.1, 5, 50)\n",
    "\n",
    "# fig, ax = plt.subplots(nrows=10, ncols=5, sharex=True, sharey=True, figsize=(15, 30))\n",
    "# ax=ax.ravel()\n",
    "\n",
    "# for x, ax in zip(lengthscale, ax):\n",
    "#     rbf = (\n",
    "#         ConstantKernel(\n",
    "#             constant_value=0.05, \n",
    "#             constant_value_bounds=(1e-9, 1e5) \n",
    "#         ) * \n",
    "#         Matern(\n",
    "#             nu=np.inf,\n",
    "#             length_scale=x,\n",
    "#             length_scale_bounds='fixed',#(1e-1, 1e3), \n",
    "#         ) \n",
    "#     )\n",
    "\n",
    "#     gp = GPR(kernel=rbf, alpha=1e-10, normalize_y=True, n_restarts_optimizer=9, random_state=3480795)\n",
    "#     gp.fit(X_train_norm, y_train)\n",
    "#     mean_rbf = gp.predict(X_norm)\n",
    "\n",
    "#     ax.set_title(f'RBF Lengthscale={x.round(2)}')\n",
    "#     ax.scatter(y-mean_ntk_1, y-mean_rbf)\n",
    "\n",
    "# fig.suptitle(r\"NTK vs RBF Kernel in $\\mathbb{S}^{d-1}$\")\n",
    "# fig.supxlabel('NTK residuals')\n",
    "# fig.supylabel('RBF residuals')\n",
    "# fig.tight_layout()"
   ]
  },
  {
   "cell_type": "code",
   "execution_count": 55,
   "metadata": {},
   "outputs": [],
   "source": [
    "# rbf = (\n",
    "#     ConstantKernel(\n",
    "#         constant_value=0.05, \n",
    "#         constant_value_bounds=(1e-9, 1e5) \n",
    "#     ) * \n",
    "#     Matern(\n",
    "#         nu=np.inf,\n",
    "#         length_scale=0.35,\n",
    "#         length_scale_bounds=(1e-1, 1e3), \n",
    "#     ) \n",
    "# )\n",
    "\n",
    "# gp = GPR(kernel=rbf, alpha=1e-10, normalize_y=True, n_restarts_optimizer=9, random_state=3480795)\n",
    "# gp.fit(X_train_norm, y_train)\n",
    "# mean_rbf = gp.predict(X_norm)\n",
    "# print(rbf)\n",
    "# fig, ax = plt.subplots(1,1, figsize=(5,5))\n",
    "# ax.set_title(f'RBF Lengthscale={0.35}')\n",
    "# ax.scatter(y-mean_ntk_1, y-mean_rbf)"
   ]
  },
  {
   "cell_type": "code",
   "execution_count": 56,
   "metadata": {},
   "outputs": [
    {
     "data": {
      "text/plain": [
       "array([[ 1.        , -0.03053917],\n",
       "       [-0.03053917,  1.        ]])"
      ]
     },
     "execution_count": 56,
     "metadata": {},
     "output_type": "execute_result"
    }
   ],
   "source": [
    "np.corrcoef((y-mean_ntk_1)[:,0], (y-mean_rbf)[:,0])"
   ]
  },
  {
   "cell_type": "code",
   "execution_count": 57,
   "metadata": {},
   "outputs": [
    {
     "data": {
      "text/plain": [
       "array([[1.        , 0.99999934],\n",
       "       [0.99999934, 1.        ]])"
      ]
     },
     "execution_count": 57,
     "metadata": {},
     "output_type": "execute_result"
    }
   ],
   "source": [
    "np.corrcoef((y-mean_ntk_1)[:,0], (y-mean_lpk)[:,0])"
   ]
  }
 ],
 "metadata": {
  "interpreter": {
   "hash": "68b02c908e2cdb95db1fe9ab6c7ce5e7b7519642826f3cbd5d028e2ea906a416"
  },
  "kernelspec": {
   "display_name": "Python 3.9.7 ('thesis')",
   "language": "python",
   "name": "python3"
  },
  "language_info": {
   "codemirror_mode": {
    "name": "ipython",
    "version": 3
   },
   "file_extension": ".py",
   "mimetype": "text/x-python",
   "name": "python",
   "nbconvert_exporter": "python",
   "pygments_lexer": "ipython3",
   "version": "3.9.7"
  },
  "orig_nbformat": 4
 },
 "nbformat": 4,
 "nbformat_minor": 2
}
