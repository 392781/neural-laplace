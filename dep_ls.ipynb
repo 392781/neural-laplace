{
 "cells": [
  {
   "cell_type": "code",
   "execution_count": 1,
   "metadata": {},
   "outputs": [],
   "source": [
    "from utils import *\n",
    "from scipy.optimize import minimize_scalar, minimize\n",
    "from tqdm import tqdm"
   ]
  },
  {
   "cell_type": "code",
   "execution_count": 2,
   "metadata": {},
   "outputs": [
    {
     "data": {
      "text/plain": [
       "array([[1.]])"
      ]
     },
     "execution_count": 2,
     "metadata": {},
     "output_type": "execute_result"
    }
   ],
   "source": [
    "x = normalize(np.array((2,2,2,2,2,2)).reshape(1,-1))\n",
    "y = normalize(np.array((1,1,1,1,1,1)).reshape(1,-1))\n",
    "NTK(depth=2, c=2, bias=10, bias_bounds='fixed')(x,y)\n",
    "Matern(nu=0.5, length_scale=1)(x,y)"
   ]
  },
  {
   "cell_type": "code",
   "execution_count": 6,
   "metadata": {},
   "outputs": [
    {
     "name": "stderr",
     "output_type": "stream",
     "text": [
      "/home/rona1das/Documents/code/python/thesis/kernel.py:46: RuntimeWarning: invalid value encountered in true_divide\n",
      "  div = Σ_mat / denominator\n"
     ]
    },
    {
     "data": {
      "text/plain": [
       "array([[0.36787944]])"
      ]
     },
     "execution_count": 6,
     "metadata": {},
     "output_type": "execute_result"
    }
   ],
   "source": [
    "x = normalize(np.array((2,2,2,2,2,2)).reshape(1,-1))\n",
    "y = normalize(np.array((0,0,0,0,0,0)).reshape(1,-1))\n",
    "NTK(depth=2, c=2, bias=0, bias_bounds='fixed')(x,y)\n",
    "Matern(nu=0.5, length_scale=1)(x,y)"
   ]
  },
  {
   "cell_type": "code",
   "execution_count": 13,
   "metadata": {},
   "outputs": [
    {
     "name": "stdout",
     "output_type": "stream",
     "text": [
      "ell     1.475328855596736\n",
      "[[0.86486604 0.26426629 0.42681385]], [[0.81756736 0.57550842 0.01933056]]\n",
      "ntk     0.7053745645190552\n",
      "lpk     0.7053745645190553\n",
      "\n",
      "ell     1.2923326993413413\n",
      "[[0.29503967 0.31305681 0.90274416]], [[0.88200679 0.31191775 0.35322986]]\n",
      "ntk new 0.536778302077492\n",
      "lpk new 0.579843136181775\n"
     ]
    }
   ],
   "source": [
    "ntk = NTK(depth=3, c=2, bias=0.0)\n",
    "lpk = Matern(nu=0.5)\n",
    "x, y = normalize(np.random.randint(0,100000000, 3).reshape(1,-1)), normalize(np.random.randint(0,100000000, 3).reshape(1,-1))\n",
    "\n",
    "ell = np.linalg.norm(x-y)/np.log(1/ntk(x,y)).squeeze()\n",
    "lpk.length_scale = ell\n",
    "\n",
    "print('ell    ', ell)\n",
    "print(f'{x}, {y}')\n",
    "print('ntk    ', ntk(x,y).squeeze())\n",
    "print('lpk    ', lpk(x,y).squeeze())\n",
    "\n",
    "x, y = normalize(np.random.randint(0,100000000, 3).reshape(1,-1)), normalize(np.random.randint(0,100000000, 3).reshape(1,-1))\n",
    "ell = np.linalg.norm(x-y)/np.log(1/ntk(x,y)).squeeze()\n",
    "\n",
    "print()\n",
    "print('ell    ', ell)\n",
    "print(f'{x}, {y}')\n",
    "print('ntk new', ntk(x,y).squeeze())\n",
    "print('lpk new', lpk(x,y).squeeze())\n"
   ]
  },
  {
   "cell_type": "code",
   "execution_count": null,
   "metadata": {},
   "outputs": [
    {
     "ename": "",
     "evalue": "",
     "output_type": "error",
     "traceback": [
      "\u001b[1;31mFailed to interrupt the Kernel. \n",
      "debug session not found. \n",
      "View Jupyter <a href='command:jupyter.viewOutput'>log</a> for further details."
     ]
    }
   ],
   "source": [
    "for depth in (3, 3):\n",
    "    for bias in (0, 0, 0.1, 0.1, 2, 2, 25, 25, 100, 100):\n",
    "        x = normalize(np.random.randint(0,100000000, 6).reshape(1,-1))\n",
    "        y = normalize(np.random.randint(0,100000000, 6).reshape(1,-1))\n",
    "        minimum = 100000000000\n",
    "        ntk = NTK(depth=depth, c=2, bias=bias)\n",
    "        lpk = Matern(nu=0.5)\n",
    "        for l in tqdm(np.linspace(0.001, 5, 10000)):\n",
    "            lpk.length_scale = l\n",
    "            val = np.abs(ntk(x,y) - lpk(x,y)).squeeze()\n",
    "            if val < minimum:\n",
    "                minimum = val\n",
    "                opt = l\n",
    "\n",
    "        lpk.length_scale = opt\n",
    "        print(f'~~~ DEPTH {depth} BIAS {bias} ~~~')\n",
    "        print('ell_search :', opt)\n",
    "        print('ell_truth  :', np.linalg.norm(x-y)/np.log(1/ntk(x,y)).squeeze())\n",
    "        print('srch-tru   :', np.abs(opt-np.linalg.norm(x-y)/np.log(1/ntk(x,y)).squeeze()))\n",
    "        print('ntk        :', ntk(x,y).squeeze())\n",
    "        print('lpk        :', lpk(x,y).squeeze())\n",
    "        print('ntk-lpk    :', minimum)"
   ]
  },
  {
   "cell_type": "code",
   "execution_count": 3,
   "metadata": {},
   "outputs": [],
   "source": [
    "def f(ell_b, ntk, lpk):\n",
    "    np.random.seed(15874)\n",
    "    lpk.length_scale = ell_b[0]\n",
    "    ntk.bias = ell_b[1]\n",
    "\n",
    "    vals = []\n",
    "    for i in range(0,100):\n",
    "        x = normalize(np.random.randint(0,100000000, 6).reshape(1,-1))\n",
    "        y = normalize(np.random.randint(0,100000000, 6).reshape(1,-1))\n",
    "\n",
    "        vals.append(np.abs((ntk(x,y) - lpk(x,y)).squeeze()))\n",
    "        \n",
    "    return np.sqrt(np.sum(np.array(vals)**2)/100)\n"
   ]
  },
  {
   "cell_type": "code",
   "execution_count": 13,
   "metadata": {},
   "outputs": [],
   "source": [
    "ntk = NTK(depth=3, c=2)\n",
    "lpk = Matern(nu=0.5)\n",
    "\n",
    "opt_out = minimize(f, x0=[0.1,0.1], args=(ntk, lpk), tol=1e-7)"
   ]
  },
  {
   "cell_type": "code",
   "execution_count": 14,
   "metadata": {},
   "outputs": [
    {
     "data": {
      "text/plain": [
       "      fun: 0.000737538832116348\n",
       " hess_inv: array([[ 1.69558445, -8.80578761],\n",
       "       [-8.80578761, 47.14559567]])\n",
       "      jac: array([6.47560228e-10, 1.45519152e-11])\n",
       "  message: 'Optimization terminated successfully.'\n",
       "     nfev: 96\n",
       "      nit: 21\n",
       "     njev: 32\n",
       "   status: 0\n",
       "  success: True\n",
       "        x: array([ 2.02527968, -2.03746644])"
      ]
     },
     "execution_count": 14,
     "metadata": {},
     "output_type": "execute_result"
    }
   ],
   "source": [
    "opt_out"
   ]
  },
  {
   "cell_type": "code",
   "execution_count": 22,
   "metadata": {},
   "outputs": [
    {
     "data": {
      "text/plain": [
       "-1.2504547800551435e-06"
      ]
     },
     "execution_count": 22,
     "metadata": {},
     "output_type": "execute_result"
    }
   ],
   "source": [
    "lpk.length_scale, ntk.bias = opt_out.x\n",
    "\n",
    "x = normalize(np.random.randint(0,100000000, 6).reshape(1,-1))\n",
    "y = normalize(np.random.randint(0,100000000, 6).reshape(1,-1))\n",
    "\n",
    "ntk(x,y).squeeze()-lpk(x,y).squeeze()"
   ]
  },
  {
   "cell_type": "code",
   "execution_count": 25,
   "metadata": {},
   "outputs": [],
   "source": [
    "def f(ell_b, ntk, lpk):\n",
    "    np.random.seed(15874)\n",
    "    ntk.bias = ell_b\n",
    "\n",
    "    vals = []\n",
    "    n=5\n",
    "    for i in range(0,n):\n",
    "        x2 = np.random.randint(0,100,100).reshape(1,-1)\n",
    "        y2 = np.random.randint(0,100,100).reshape(1,-1)\n",
    "\n",
    "        x2 = normalize(x2)\n",
    "        y2 = normalize(y2)\n",
    "\n",
    "        K = ntk(x2,y2)\n",
    "        vals.append(- np.linalg.norm(x2-y2) / np.log(K))\n",
    "    return np.var(vals)\n",
    "    # for i in range(0,n):\n",
    "    #     x = normalize(np.random.randint(0,100000000, 6).reshape(1,-1))\n",
    "    #     y = normalize(np.random.randint(0,100000000, 6).reshape(1,-1))\n",
    "    #     lpk.length_scale = np.linalg.norm(x-y)/np.log(1/ntk(x,y)).squeeze()\n",
    "    #     x = normalize(np.random.randint(0,100000000, 6).reshape(1,-1))\n",
    "    #     y = normalize(np.random.randint(0,100000000, 6).reshape(1,-1))\n",
    "    #     vals.append(np.abs((ntk(x,y) - lpk(x,y)).squeeze()))\n",
    "        \n",
    "    # return np.sqrt(np.sum(np.array(vals)**2)/n)\n",
    "\n",
    "\n"
   ]
  },
  {
   "cell_type": "code",
   "execution_count": 427,
   "metadata": {},
   "outputs": [],
   "source": [
    "ntk = ConstantKernel() + NTK(depth=100, c=2)\n",
    "ntk.k2."
   ]
  },
  {
   "cell_type": "code",
   "execution_count": 31,
   "metadata": {},
   "outputs": [
    {
     "data": {
      "text/plain": [
       "      fun: 3.751618767925716e-08\n",
       " hess_inv: array([[10399.22470062]])\n",
       "      jac: array([4.24872715e-09])\n",
       "  message: 'Optimization terminated successfully.'\n",
       "     nfev: 46\n",
       "      nit: 3\n",
       "     njev: 23\n",
       "   status: 0\n",
       "  success: True\n",
       "        x: array([2.13459588])"
      ]
     },
     "execution_count": 31,
     "metadata": {},
     "output_type": "execute_result"
    }
   ],
   "source": [
    "ntk = NTK(depth=3, c=2)\n",
    "lpk = Matern(nu=0.5)\n",
    "\n",
    "opt_out = minimize(f, x0=9, args=(ntk, lpk), tol=1e-7)\n",
    "opt_out"
   ]
  },
  {
   "cell_type": "code",
   "execution_count": 32,
   "metadata": {},
   "outputs": [],
   "source": [
    "x = normalize(np.random.randint(0,100000000, 6).reshape(1,-1))\n",
    "y = normalize(np.random.randint(0,100000000, 6).reshape(1,-1))\n",
    "\n",
    "ntk.bias = opt_out.x\n",
    "lpk.length_scale = np.linalg.norm(x-y)/np.log(1/ntk(x,y)).squeeze()"
   ]
  },
  {
   "cell_type": "code",
   "execution_count": 39,
   "metadata": {},
   "outputs": [
    {
     "name": "stdout",
     "output_type": "stream",
     "text": [
      "0.0007264685853629604\n"
     ]
    }
   ],
   "source": [
    "x = normalize(np.array([0.8027, 0.2299, 0.5503]).reshape(1,-1))\n",
    "y = normalize(np.array([0.7982, 0.3818, 0.4658]).reshape(1,-1))\n",
    "print(ntk(x,y).squeeze() - lpk(x,y).squeeze())"
   ]
  },
  {
   "cell_type": "code",
   "execution_count": 40,
   "metadata": {},
   "outputs": [
    {
     "name": "stdout",
     "output_type": "stream",
     "text": [
      "-0.0016642430631274019\n"
     ]
    }
   ],
   "source": [
    "x = normalize(np.array([0.0389, 0.9663, 0.2545]).reshape(1,-1))\n",
    "y = normalize(np.array([0.6941, 0.5958, 0.4040]).reshape(1,-1))\n",
    "print(ntk(x,y).squeeze() - lpk(x,y).squeeze())"
   ]
  },
  {
   "cell_type": "code",
   "execution_count": 38,
   "metadata": {},
   "outputs": [
    {
     "name": "stdout",
     "output_type": "stream",
     "text": [
      "2.0512443887420524\n",
      "0.0005887858147411995\n"
     ]
    }
   ],
   "source": [
    "x = normalize(np.random.randint(0,100000000, 6).reshape(1,-1))\n",
    "y = normalize(np.random.randint(0,100000000, 6).reshape(1,-1))\n",
    "\n",
    "print(lpk.length_scale)\n",
    "print(ntk(x,y).squeeze() - lpk(x,y).squeeze())"
   ]
  },
  {
   "cell_type": "code",
   "execution_count": null,
   "metadata": {},
   "outputs": [],
   "source": [
    "np.linalg.norm(x-y)/np.log(1/ntk(x,y))"
   ]
  },
  {
   "cell_type": "code",
   "execution_count": null,
   "metadata": {},
   "outputs": [],
   "source": [
    "x = normalize(np.array((2,2,2,2,2,2)).reshape(1,-1))\n",
    "y = normalize(np.array((1,1,1,1,1,1)).reshape(1,-1))\n",
    "# y = np.array((0,0,0,0,0,0,0)).reshape(1,-1)\n",
    "# cdist(x, y, 'euclidean')\n",
    "# dep = range(1, 100)\n",
    "\n",
    "# lengthscale = []\n",
    "# for depth in dep:\n",
    "#     ntk_val = NTK(depth=depth, c=2, bias=0, bias_bounds='fixed')(x,y)\n",
    "#     c = np.linalg.norm(x-y)/np.log(1/ntk_val)\n",
    "#     lengthscale.append(c[0,0])\n",
    "\n",
    "# plt.scatter(dep, lengthscale)\n"
   ]
  },
  {
   "cell_type": "code",
   "execution_count": null,
   "metadata": {},
   "outputs": [],
   "source": [
    "x = np.array((2,2,2,2,2,2)).reshape(1,-1)\n",
    "# y = np.array((1,1,1,1,1,1)).reshape(1,-1)\n",
    "y = np.array((0,0,0,0,0,0)).reshape(1,-1)\n",
    "# cdist(x, y, 'euclidean')\n",
    "dep = range(1, 100)\n",
    "\n",
    "lengthscale = []\n",
    "for depth in dep:\n",
    "    ntk_val = NTK(depth=depth, c=2, bias=0, bias_bounds='fixed')(x,y)\n",
    "    c = np.linalg.norm(x-y)/np.log(1/ntk_val)\n",
    "    lengthscale.append(c[0,0])\n",
    "\n",
    "plt.scatter(dep, lengthscale)"
   ]
  },
  {
   "cell_type": "markdown",
   "metadata": {},
   "source": [
    "$$\n",
    "    e^{-\\frac{\\|x-y\\|}{c}} = U_{NTK}\\\\\n",
    "    -\\frac{\\|x-y\\|}{c} = \\log(U_{NTK})\\\\\n",
    "    \\frac{\\|x-y\\|}{c} = -\\log(U_{NTK})\\\\\n",
    "    \\frac{1}{c} = \\frac{\\log(U_{NTK}^{-1})}{\\|x-y\\|} \\\\\n",
    "    c = \\frac{\\|x-y\\|}{\\log\\left(\\frac{1}{U_{NTK}}\\right)}\n",
    "$$"
   ]
  },
  {
   "cell_type": "markdown",
   "metadata": {},
   "source": [
    "$$\n",
    "        e^{-c\\sqrt{2(1-x^Ty)}} = U_{NTK}\\\\\n",
    "        -c\\sqrt{2(1-x^Ty)} = \\log(U_{NTK})\\\\\n",
    "        c\\sqrt{2(1-x^Ty)} = -\\log(U_{NTK})\\\\\n",
    "        c = \\frac{-\\log(U_{NTK})}{\\sqrt{2(1-x^Ty)}}\n",
    "$$"
   ]
  },
  {
   "cell_type": "code",
   "execution_count": 27,
   "metadata": {},
   "outputs": [
    {
     "name": "stdout",
     "output_type": "stream",
     "text": [
      "[[1.]] [[1.]]\n",
      "[[nan]]\n",
      "[[nan]]\n"
     ]
    },
    {
     "name": "stderr",
     "output_type": "stream",
     "text": [
      "/tmp/ipykernel_19129/2572052158.py:18: RuntimeWarning: invalid value encountered in true_divide\n",
      "  c1 = np.linalg.norm(x1-x1)/-np.log(ntk_val_1)\n",
      "/tmp/ipykernel_19129/2572052158.py:19: RuntimeWarning: invalid value encountered in true_divide\n",
      "  c2 = np.linalg.norm(x2-x2)/-np.log(ntk_val_2)\n"
     ]
    }
   ],
   "source": [
    "x1 = normalize(np.array([1,2,3]).reshape(1,-1))\n",
    "y1 = normalize(np.array([4,5,6]).reshape(1,-1))\n",
    "x2 = normalize(np.array([7,8,9]).reshape(1,-1))\n",
    "y2 = normalize(np.array([10,11,12]).reshape(1,-1))\n",
    "\n",
    "ntk = NTK(\n",
    "    depth=100, \n",
    "    c=2, \n",
    "    bias=0, \n",
    "    bias_bounds='fixed'\n",
    ")\n",
    "\n",
    "ntk_val_1 = ntk(x1,x1)\n",
    "ntk_val_2 = ntk(x2,x2)\n",
    "\n",
    "print(ntk_val_1, ntk_val_2)\n",
    "\n",
    "c1 = np.linalg.norm(x1-x1)/-np.log(ntk_val_1)\n",
    "c2 = np.linalg.norm(x2-x2)/-np.log(ntk_val_2)\n",
    "\n",
    "# c1 = -np.log(ntk_val_1)/np.sqrt(2*(1 - (x1 @ x1.T)))\n",
    "# c2 = -np.log(ntk_val_2)/np.sqrt(2*(1 - (x2 @ x2.T)))\n",
    "\n",
    "print(c1)\n",
    "print(c2)"
   ]
  },
  {
   "cell_type": "code",
   "execution_count": 28,
   "metadata": {},
   "outputs": [
    {
     "data": {
      "text/plain": [
       "array([[0., 0., 0.]])"
      ]
     },
     "execution_count": 28,
     "metadata": {},
     "output_type": "execute_result"
    }
   ],
   "source": [
    "x1-x1"
   ]
  },
  {
   "cell_type": "code",
   "execution_count": null,
   "metadata": {},
   "outputs": [],
   "source": [
    "np.diff()"
   ]
  },
  {
   "cell_type": "code",
   "execution_count": null,
   "metadata": {},
   "outputs": [],
   "source": [
    "# Find lengthscale and bias to match depth\n",
    "D = range(1, 2)\n",
    "\n",
    "dim = 3\n",
    "x1,y1 = normalize(np.random.randint(0, 100, dim).reshape(1,-1)), normalize(np.random.randint(0, 100, dim).reshape(1,-1))\n",
    "x2,y2 = normalize(np.random.randint(0, 100, dim).reshape(1,-1)), normalize(np.random.randint(0, 100, dim).reshape(1,-1))\n",
    "\n",
    "def B(bias, D, point1, point2):\n",
    "    K = NTK(D,bias)\n",
    "    l1 = -np.linalg.norm(x1-y1) / np.log(K(x1,y1).squeeze())\n",
    "    l2 = -np.linalg.norm(x2-y2) / np.log(K(x2,y2).squeeze())\n",
    "    lengthscales = np.array([l1,l2])\n",
    "    return np.var(lengthscales)\n",
    "\n",
    "\n",
    "lengthscales = []\n",
    "for depth in D:\n",
    "    bias_min = minimize_scalar(B, args=(depth), method='bounded', bounds=(0, 10), options={'maxiter': 10000})\n",
    "    print(bias_min)\n",
    "\n",
    "    # # get lengthscale\n",
    "    # K = NTK(depth,bias_min.x)\n",
    "    # x,y = normalize(np.random.randint(0, 100, 5).reshape(1,-1)), normalize(np.random.randint(0, 100, 5).reshape(1,-1))\n",
    "    # lengthscales.append(-np.linalg.norm(x-y) / np.log(K(x,y).squeeze()))"
   ]
  },
  {
   "cell_type": "code",
   "execution_count": null,
   "metadata": {},
   "outputs": [],
   "source": []
  },
  {
   "cell_type": "code",
   "execution_count": null,
   "metadata": {},
   "outputs": [],
   "source": [
    "# https://numpy.org/doc/stable/reference/random/generated/numpy.random.Generator.random.html\n",
    "rng = np.random.default_rng()\n",
    "# seed 235689047\n",
    "# [0, 5)\n",
    "\n",
    "n_tests = 10\n",
    "vector_size = 6\n",
    "dep = range(1, 100)\n",
    "fig, ax = plt.subplots(nrows=n_tests, ncols=2, figsize=(8, n_tests*2), sharex=True)\n",
    "fig.suptitle(r\"$\\mathbb{R}^6$ vs. $\\mathbb{S}^5$\")\n",
    "\n",
    "for test_num in range(0, n_tests):\n",
    "    x = (10 - (0)) * rng.random((vector_size,)) + (0)\n",
    "    y = (10 - (0)) * rng.random((vector_size,)) + (0)\n",
    "    xn = normalize(x.reshape(1,-1))[0]\n",
    "    yn = normalize(y.reshape(1,-1))[0]\n",
    "    x=x.reshape(-1,1)\n",
    "    y=y.reshape(-1,1)\n",
    "    xn=xn.reshape(-1,1)\n",
    "    yn=yn.reshape(-1,1)\n",
    "\n",
    "    lengthscale = []\n",
    "    lengthscale_n = []\n",
    "    for depth in dep:\n",
    "        ntk_val = NTK(\n",
    "            depth=depth, \n",
    "            c=2, \n",
    "            bias=0, \n",
    "            bias_bounds='fixed'\n",
    "        )(x,y)\n",
    "        ntk_val_n = NTK(\n",
    "            depth=depth, \n",
    "            c=2, \n",
    "            bias=0, \n",
    "            bias_bounds='fixed'\n",
    "        )(xn,yn)\n",
    "        c = np.linalg.norm(x-y)/np.log(1/ntk_val)\n",
    "        cn = np.linalg.norm(xn-yn)/np.log(1/ntk_val_n)\n",
    "        lengthscale.append(c[0,0])\n",
    "        lengthscale_n.append(cn[0,0])\n",
    "\n",
    "    ax[test_num][0].scatter(dep, lengthscale)\n",
    "    ax[test_num][0].set_title(f'x={x.reshape(-1).round(2)}\\ny={y.reshape(-1).round(2)}')\n",
    "    ax[test_num][1].scatter(dep, lengthscale_n)\n",
    "    ax[test_num][1].set_title(f'xn={xn.reshape(-1).round(2)}\\nyn={yn.reshape(-1).round(2)}')\n",
    "fig.tight_layout()\n",
    "\n"
   ]
  },
  {
   "cell_type": "code",
   "execution_count": null,
   "metadata": {},
   "outputs": [],
   "source": []
  }
 ],
 "metadata": {
  "interpreter": {
   "hash": "eef93422fe577f499451111ea83847b022108ef9fe4d5c0cd14ce42aab1d5767"
  },
  "kernelspec": {
   "display_name": "Python 3.8.12 ('base')",
   "language": "python",
   "name": "python3"
  },
  "language_info": {
   "codemirror_mode": {
    "name": "ipython",
    "version": 3
   },
   "file_extension": ".py",
   "mimetype": "text/x-python",
   "name": "python",
   "nbconvert_exporter": "python",
   "pygments_lexer": "ipython3",
   "version": "3.9.7"
  },
  "orig_nbformat": 4
 },
 "nbformat": 4,
 "nbformat_minor": 2
}
