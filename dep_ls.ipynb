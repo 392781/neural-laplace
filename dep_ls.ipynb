{
 "cells": [
  {
   "cell_type": "code",
   "execution_count": 48,
   "metadata": {},
   "outputs": [],
   "source": [
    "from sympy.solvers import solve\n",
    "from sympy import Symbol\n",
    "from sympy.matrices import Matrix\n",
    "from sympy.functions import exp\n",
    "from scipy.optimize import minimize\n",
    "from scipy.spatial.distance import cdist\n",
    "from utils import *\n",
    "from tqdm import tqdm\n",
    "import matplotlib.pyplot as plt"
   ]
  },
  {
   "cell_type": "code",
   "execution_count": 66,
   "metadata": {},
   "outputs": [
    {
     "name": "stderr",
     "output_type": "stream",
     "text": [
      "100%|██████████| 99/99 [00:00<00:00, 274.85it/s]\n"
     ]
    }
   ],
   "source": [
    "x = np.array([2,2,2,2]).reshape(-1,1)\n",
    "y = np.array([0,0,0,0]).reshape(-1,1)\n",
    "cdist(x, y, 'euclidean')\n",
    "# def f(c, ntk_val):\n",
    "#     return (ntk_val - Matern(length_scale=c, nu=1.5)(x,y))[0,0]\n",
    "\n",
    "lengthscale = []\n",
    "for depth in tqdm(range(1, 100)):\n",
    "    ntk_val = NTK(depth=depth, c=2, bias=0, bias_bounds='fixed')(x,y)\n",
    "    c = -np.log(ntk_val)/cdist(x,y)\n",
    "    lengthscale.append(c[0,0])\n",
    "\n",
    "# ntk_mat = Matrix(ntk_val)\n",
    "# np.linalg.norm(x - y)\n",
    "# lpk_mat = Matrix(np.linalg.norm(x - y))\n",
    "# c = Symbol('c')\n",
    "# solve(ntk_mat - exp(c*lpk_mat))"
   ]
  },
  {
   "cell_type": "code",
   "execution_count": 67,
   "metadata": {},
   "outputs": [
    {
     "data": {
      "text/plain": [
       "<matplotlib.collections.PathCollection at 0x7f95f8562c40>"
      ]
     },
     "execution_count": 67,
     "metadata": {},
     "output_type": "execute_result"
    },
    {
     "data": {
      "image/png": "[encoded data removed]",
      "text/plain": [
       "<Figure size 432x288 with 1 Axes>"
      ]
     },
     "metadata": {
      "needs_background": "light"
     },
     "output_type": "display_data"
    }
   ],
   "source": [
    "plt.scatter(range(1,100), lengthscale)"
   ]
  }
 ],
 "metadata": {
  "interpreter": {
   "hash": "eef93422fe577f499451111ea83847b022108ef9fe4d5c0cd14ce42aab1d5767"
  },
  "kernelspec": {
   "display_name": "Python 3.8.12 ('base')",
   "language": "python",
   "name": "python3"
  },
  "language_info": {
   "codemirror_mode": {
    "name": "ipython",
    "version": 3
   },
   "file_extension": ".py",
   "mimetype": "text/x-python",
   "name": "python",
   "nbconvert_exporter": "python",
   "pygments_lexer": "ipython3",
   "version": "3.8.12"
  },
  "orig_nbformat": 4
 },
 "nbformat": 4,
 "nbformat_minor": 2
}
