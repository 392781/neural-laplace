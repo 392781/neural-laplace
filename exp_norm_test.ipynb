{
 "cells": [
  {
   "cell_type": "code",
   "execution_count": null,
   "metadata": {},
   "outputs": [],
   "source": [
    "from utils import *\n",
    "from sklearn import metrics\n",
    "from sklearn.datasets import make_friedman2, make_friedman3\n",
    "import pandas as pd"
   ]
  },
  {
   "cell_type": "code",
   "execution_count": null,
   "metadata": {},
   "outputs": [],
   "source": [
    "datasets = []\n",
    "datasets_std = []"
   ]
  },
  {
   "cell_type": "code",
   "execution_count": null,
   "metadata": {},
   "outputs": [],
   "source": [
    "name = 'Friedman 2'\n",
    "noise = 5\n",
    "\n",
    "X_train, y_train = make_friedman2(noise=0.0, random_state=18397425)\n",
    "_, y_train_noisy = make_friedman2(noise=noise, random_state=18397425)\n",
    "X_norm_train= normalize(X_train, axis=1)\n",
    "\n",
    "X_test, y_test = make_friedman2(noise=0.0, random_state=30189745)\n",
    "_, y_test_noisy = make_friedman2(noise=noise, random_state=30189745)\n",
    "X_norm_test= normalize(X_test, axis=1)\n",
    "\n",
    "# [X_train, y_train, X_test, y_test, X_draw, norm, noise, name]\n",
    "datasets.append([X_norm_train, y_train, X_norm_test, y_test, X_test, True, 0.0, name])\n",
    "datasets.append([X_norm_train, y_train_noisy, X_norm_test, y_test_noisy, X_test, True, 0.15, name])\n",
    "\n",
    "for i in range(0, X_train.shape[1]):\n",
    "    X_train[:,i] = (X_train[:,i] - np.mean(X_train[:,i])) / np.std(X_train[:,i])\n",
    "    X_test[:,i] = (X_test[:,i] - np.mean(X_train[:,i])) / np.std(X_train[:,i])\n",
    "\n",
    "X_norm_train = normalize(X_train, axis=1)\n",
    "X_norm_test = normalize(X_test, axis=1)\n",
    "\n",
    "datasets_std.append([X_norm_train, y_train, X_norm_test, y_test, X_test, True, 0.0, name + ' Std'])\n",
    "datasets_std.append([X_norm_train, y_train_noisy, X_norm_test, y_test_noisy, X_test, True, 0.15, name + ' Std'])"
   ]
  },
  {
   "cell_type": "code",
   "execution_count": null,
   "metadata": {},
   "outputs": [],
   "source": [
    "depths = (3, 25, 100)\n",
    "experiment_output = []\n",
    "for dataset in datasets:\n",
    "    for depth in depths:\n",
    "        experiment_output.append(experiment(dataset, depth=depth))"
   ]
  },
  {
   "cell_type": "code",
   "execution_count": null,
   "metadata": {},
   "outputs": [],
   "source": [
    "depths = (3, 25, 100)\n",
    "experiment_output_std = []\n",
    "for dataset in datasets_std:\n",
    "    for depth in depths:\n",
    "        experiment_output_std.append(experiment(dataset, depth=depth))"
   ]
  },
  {
   "cell_type": "code",
   "execution_count": null,
   "metadata": {},
   "outputs": [],
   "source": [
    "depths=(3,25,100)\n",
    "arrays = [\n",
    "    ['Friedman 2', 'Friedman 2 Std'],\n",
    "    [False, True],  # Noise\n",
    "]\n",
    "\n",
    "index = pd.MultiIndex.from_product(\n",
    "    arrays, names=[\"Dataset\", \"Noise\"])\n",
    "\n",
    "\n",
    "df_gaus_sd = pd.DataFrame(\n",
    "    index=index,\n",
    "    columns=['D3rmse', 'D25rmse',  'D100rmse', 'D3corr', 'D25corr', 'D100corr'])\n",
    "\n",
    "df_lap_sd = pd.DataFrame(\n",
    "    index=index,\n",
    "    columns=['D3rmse', 'D25rmse',  'D100rmse', 'D3corr', 'D25corr', 'D100corr'])\n",
    "\n",
    "df_gaus_sd"
   ]
  },
  {
   "cell_type": "code",
   "execution_count": null,
   "metadata": {},
   "outputs": [],
   "source": [
    "for exp in experiment_output:\n",
    "    depth = exp['kernel']['depth']\n",
    "    name = exp['dataset']['name']\n",
    "    noise = exp['dataset']['noise']\n",
    "\n",
    "    if noise==0.0: \n",
    "        noisy = False \n",
    "    else: \n",
    "        noisy = True\n",
    "\n",
    "    if name == 'Nonpolynomial':\n",
    "        name = 'Nonpoly'\n",
    "\n",
    "    if exp['dataset']['norm']:\n",
    "        df_lap_sd[f'D{depth}rmse'][name, noisy]  = exp['lap']['pred_rmse']\n",
    "        df_lap_sd[f'D{depth}corr'][name, noisy]  = exp['lap']['pred_corr']\n",
    "        df_gaus_sd[f'D{depth}rmse'][name, noisy] = exp['gaus']['pred_rmse']\n",
    "        df_gaus_sd[f'D{depth}corr'][name, noisy] = exp['gaus']['pred_corr']\n",
    "\n",
    "for exp in experiment_output_std:\n",
    "    depth = exp['kernel']['depth']\n",
    "    name = exp['dataset']['name']\n",
    "    noise = exp['dataset']['noise']\n",
    "\n",
    "    if noise==0.0: \n",
    "        noisy = False \n",
    "    else: \n",
    "        noisy = True\n",
    "\n",
    "    if name == 'Nonpolynomial':\n",
    "        name = 'Nonpoly'\n",
    "\n",
    "    if exp['dataset']['norm']:\n",
    "        df_lap_sd[f'D{depth}rmse'][name, noisy]  = exp['lap']['pred_rmse']\n",
    "        df_lap_sd[f'D{depth}corr'][name, noisy]  = exp['lap']['pred_corr']\n",
    "        df_gaus_sd[f'D{depth}rmse'][name, noisy] = exp['gaus']['pred_rmse']\n",
    "        df_gaus_sd[f'D{depth}corr'][name, noisy] = exp['gaus']['pred_corr']"
   ]
  },
  {
   "cell_type": "code",
   "execution_count": null,
   "metadata": {},
   "outputs": [],
   "source": [
    "df_lap_sd"
   ]
  },
  {
   "cell_type": "code",
   "execution_count": null,
   "metadata": {},
   "outputs": [],
   "source": [
    "df_gaus_sd"
   ]
  },
  {
   "cell_type": "code",
   "execution_count": null,
   "metadata": {},
   "outputs": [],
   "source": []
  }
 ],
 "metadata": {
  "interpreter": {
   "hash": "68b02c908e2cdb95db1fe9ab6c7ce5e7b7519642826f3cbd5d028e2ea906a416"
  },
  "kernelspec": {
   "display_name": "Python 3.9.7 ('thesis')",
   "language": "python",
   "name": "python3"
  },
  "language_info": {
   "codemirror_mode": {
    "name": "ipython",
    "version": 3
   },
   "file_extension": ".py",
   "mimetype": "text/x-python",
   "name": "python",
   "nbconvert_exporter": "python",
   "pygments_lexer": "ipython3",
   "version": "3.9.7"
  },
  "orig_nbformat": 4
 },
 "nbformat": 4,
 "nbformat_minor": 2
}
