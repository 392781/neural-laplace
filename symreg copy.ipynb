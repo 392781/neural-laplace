{
 "cells": [
  {
   "cell_type": "code",
   "execution_count": 2,
   "metadata": {},
   "outputs": [],
   "source": [
    "from utils import *\n",
    "from scipy.stats import qmc"
   ]
  },
  {
   "cell_type": "markdown",
   "metadata": {},
   "source": [
    "# Dataset"
   ]
  },
  {
   "cell_type": "code",
   "execution_count": 11,
   "metadata": {},
   "outputs": [
    {
     "data": {
      "text/plain": [
       "<matplotlib.contour.QuadContourSet at 0x7fefad8dd6a0>"
      ]
     },
     "execution_count": 11,
     "metadata": {},
     "output_type": "execute_result"
    },
    {
     "data": {
      "image/png": "[encoded data removed]",
      "text/plain": [
       "<Figure size 432x288 with 1 Axes>"
      ]
     },
     "metadata": {
      "needs_background": "light"
     },
     "output_type": "display_data"
    }
   ],
   "source": [
    "arrsize=65\n",
    "tmp = np.linspace(0.000001, 1, arrsize, dtype=np.float16)\n",
    "X, Y = np.meshgrid(tmp, tmp)\n",
    "Z = 1/6 * ((30 + 5*X*np.sin(5*X)) * (4 + np.exp(-5*Y)) - 100)\n",
    "Z_noisy = np.random.normal(Z, 0.15)\n",
    "\n",
    "bigX = np.stack((X, Y), axis=2).reshape(-1,2)\n",
    "smolY = Z.reshape(-1,1)\n",
    "smolY_noisy = Z_noisy.reshape(-1,1)\n",
    "\n",
    "bigX_norm = normalize(bigX)\n",
    "\n",
    "plt.contourf(X, Y, Z)"
   ]
  },
  {
   "cell_type": "code",
   "execution_count": 12,
   "metadata": {},
   "outputs": [
    {
     "name": "stderr",
     "output_type": "stream",
     "text": [
      "/home/rona1das/Documents/code/python/thesis/kernel.py:48: RuntimeWarning: divide by zero encountered in true_divide\n",
      "  λ = np.clip(Σ_mat / denominator, a_min=-1, a_max=1)\n",
      "/home/rona1das/Documents/code/python/thesis/kernel.py:48: RuntimeWarning: invalid value encountered in true_divide\n",
      "  λ = np.clip(Σ_mat / denominator, a_min=-1, a_max=1)\n"
     ]
    },
    {
     "ename": "LinAlgError",
     "evalue": "(\"The kernel, 1**2 * NTK(depth=3, c=2.000, bias=0.100), is not returning a positive definite matrix. Try gradually increasing the 'alpha' parameter of your GaussianProcessRegressor estimator.\", '1-th leading minor of the array is not positive definite')",
     "output_type": "error",
     "traceback": [
      "\u001b[0;31m---------------------------------------------------------------------------\u001b[0m",
      "\u001b[0;31mLinAlgError\u001b[0m                               Traceback (most recent call last)",
      "\u001b[0;32m/tmp/ipykernel_1247011/1332494483.py\u001b[0m in \u001b[0;36m<module>\u001b[0;34m\u001b[0m\n\u001b[1;32m     11\u001b[0m \u001b[0;34m\u001b[0m\u001b[0m\n\u001b[1;32m     12\u001b[0m \u001b[0mgp\u001b[0m \u001b[0;34m=\u001b[0m \u001b[0mGPR\u001b[0m\u001b[0;34m(\u001b[0m\u001b[0mkernel\u001b[0m\u001b[0;34m=\u001b[0m\u001b[0mntk\u001b[0m\u001b[0;34m,\u001b[0m \u001b[0malpha\u001b[0m\u001b[0;34m=\u001b[0m\u001b[0;36m1e-3\u001b[0m\u001b[0;34m,\u001b[0m \u001b[0mn_restarts_optimizer\u001b[0m\u001b[0;34m=\u001b[0m\u001b[0;36m0\u001b[0m\u001b[0;34m,\u001b[0m \u001b[0mnormalize_y\u001b[0m\u001b[0;34m=\u001b[0m\u001b[0;32mTrue\u001b[0m\u001b[0;34m)\u001b[0m\u001b[0;34m\u001b[0m\u001b[0;34m\u001b[0m\u001b[0m\n\u001b[0;32m---> 13\u001b[0;31m \u001b[0mgp\u001b[0m\u001b[0;34m.\u001b[0m\u001b[0mfit\u001b[0m\u001b[0;34m(\u001b[0m\u001b[0mbigX\u001b[0m\u001b[0;34m,\u001b[0m \u001b[0msmolY\u001b[0m\u001b[0;34m)\u001b[0m\u001b[0;34m\u001b[0m\u001b[0;34m\u001b[0m\u001b[0m\n\u001b[0m\u001b[1;32m     14\u001b[0m \u001b[0mmean_ntk\u001b[0m \u001b[0;34m=\u001b[0m \u001b[0mgp\u001b[0m\u001b[0;34m.\u001b[0m\u001b[0mpredict\u001b[0m\u001b[0;34m(\u001b[0m\u001b[0mbigX\u001b[0m\u001b[0;34m)\u001b[0m\u001b[0;34m\u001b[0m\u001b[0;34m\u001b[0m\u001b[0m\n\u001b[1;32m     15\u001b[0m \u001b[0;34m\u001b[0m\u001b[0m\n",
      "\u001b[0;32m~/Tools/anaconda3/envs/thesis/lib/python3.9/site-packages/sklearn/gaussian_process/_gpr.py\u001b[0m in \u001b[0;36mfit\u001b[0;34m(self, X, y)\u001b[0m\n\u001b[1;32m    308\u001b[0m         \u001b[0mK\u001b[0m\u001b[0;34m[\u001b[0m\u001b[0mnp\u001b[0m\u001b[0;34m.\u001b[0m\u001b[0mdiag_indices_from\u001b[0m\u001b[0;34m(\u001b[0m\u001b[0mK\u001b[0m\u001b[0;34m)\u001b[0m\u001b[0;34m]\u001b[0m \u001b[0;34m+=\u001b[0m \u001b[0mself\u001b[0m\u001b[0;34m.\u001b[0m\u001b[0malpha\u001b[0m\u001b[0;34m\u001b[0m\u001b[0;34m\u001b[0m\u001b[0m\n\u001b[1;32m    309\u001b[0m         \u001b[0;32mtry\u001b[0m\u001b[0;34m:\u001b[0m\u001b[0;34m\u001b[0m\u001b[0;34m\u001b[0m\u001b[0m\n\u001b[0;32m--> 310\u001b[0;31m             \u001b[0mself\u001b[0m\u001b[0;34m.\u001b[0m\u001b[0mL_\u001b[0m \u001b[0;34m=\u001b[0m \u001b[0mcholesky\u001b[0m\u001b[0;34m(\u001b[0m\u001b[0mK\u001b[0m\u001b[0;34m,\u001b[0m \u001b[0mlower\u001b[0m\u001b[0;34m=\u001b[0m\u001b[0mGPR_CHOLESKY_LOWER\u001b[0m\u001b[0;34m,\u001b[0m \u001b[0mcheck_finite\u001b[0m\u001b[0;34m=\u001b[0m\u001b[0;32mFalse\u001b[0m\u001b[0;34m)\u001b[0m\u001b[0;34m\u001b[0m\u001b[0;34m\u001b[0m\u001b[0m\n\u001b[0m\u001b[1;32m    311\u001b[0m         \u001b[0;32mexcept\u001b[0m \u001b[0mnp\u001b[0m\u001b[0;34m.\u001b[0m\u001b[0mlinalg\u001b[0m\u001b[0;34m.\u001b[0m\u001b[0mLinAlgError\u001b[0m \u001b[0;32mas\u001b[0m \u001b[0mexc\u001b[0m\u001b[0;34m:\u001b[0m\u001b[0;34m\u001b[0m\u001b[0;34m\u001b[0m\u001b[0m\n\u001b[1;32m    312\u001b[0m             exc.args = (\n",
      "\u001b[0;32m~/Tools/anaconda3/envs/thesis/lib/python3.9/site-packages/scipy/linalg/_decomp_cholesky.py\u001b[0m in \u001b[0;36mcholesky\u001b[0;34m(a, lower, overwrite_a, check_finite)\u001b[0m\n\u001b[1;32m     86\u001b[0m \u001b[0;34m\u001b[0m\u001b[0m\n\u001b[1;32m     87\u001b[0m     \"\"\"\n\u001b[0;32m---> 88\u001b[0;31m     c, lower = _cholesky(a, lower=lower, overwrite_a=overwrite_a, clean=True,\n\u001b[0m\u001b[1;32m     89\u001b[0m                          check_finite=check_finite)\n\u001b[1;32m     90\u001b[0m     \u001b[0;32mreturn\u001b[0m \u001b[0mc\u001b[0m\u001b[0;34m\u001b[0m\u001b[0;34m\u001b[0m\u001b[0m\n",
      "\u001b[0;32m~/Tools/anaconda3/envs/thesis/lib/python3.9/site-packages/scipy/linalg/_decomp_cholesky.py\u001b[0m in \u001b[0;36m_cholesky\u001b[0;34m(a, lower, overwrite_a, clean, check_finite)\u001b[0m\n\u001b[1;32m     35\u001b[0m     \u001b[0mc\u001b[0m\u001b[0;34m,\u001b[0m \u001b[0minfo\u001b[0m \u001b[0;34m=\u001b[0m \u001b[0mpotrf\u001b[0m\u001b[0;34m(\u001b[0m\u001b[0ma1\u001b[0m\u001b[0;34m,\u001b[0m \u001b[0mlower\u001b[0m\u001b[0;34m=\u001b[0m\u001b[0mlower\u001b[0m\u001b[0;34m,\u001b[0m \u001b[0moverwrite_a\u001b[0m\u001b[0;34m=\u001b[0m\u001b[0moverwrite_a\u001b[0m\u001b[0;34m,\u001b[0m \u001b[0mclean\u001b[0m\u001b[0;34m=\u001b[0m\u001b[0mclean\u001b[0m\u001b[0;34m)\u001b[0m\u001b[0;34m\u001b[0m\u001b[0;34m\u001b[0m\u001b[0m\n\u001b[1;32m     36\u001b[0m     \u001b[0;32mif\u001b[0m \u001b[0minfo\u001b[0m \u001b[0;34m>\u001b[0m \u001b[0;36m0\u001b[0m\u001b[0;34m:\u001b[0m\u001b[0;34m\u001b[0m\u001b[0;34m\u001b[0m\u001b[0m\n\u001b[0;32m---> 37\u001b[0;31m         raise LinAlgError(\"%d-th leading minor of the array is not positive \"\n\u001b[0m\u001b[1;32m     38\u001b[0m                           \"definite\" % info)\n\u001b[1;32m     39\u001b[0m     \u001b[0;32mif\u001b[0m \u001b[0minfo\u001b[0m \u001b[0;34m<\u001b[0m \u001b[0;36m0\u001b[0m\u001b[0;34m:\u001b[0m\u001b[0;34m\u001b[0m\u001b[0;34m\u001b[0m\u001b[0m\n",
      "\u001b[0;31mLinAlgError\u001b[0m: (\"The kernel, 1**2 * NTK(depth=3, c=2.000, bias=0.100), is not returning a positive definite matrix. Try gradually increasing the 'alpha' parameter of your GaussianProcessRegressor estimator.\", '1-th leading minor of the array is not positive definite')"
     ]
    }
   ],
   "source": [
    "ntk = (\n",
    "    ConstantKernel(\n",
    "        constant_value=1, \n",
    "        constant_value_bounds=(1e-9, 1e5)\n",
    "    ) * \n",
    "    NTK(depth=3, c=2, \n",
    "        bias=1e-1, \n",
    "        bias_bounds=(1e-9, 1e3)\n",
    "    ) \n",
    ")\n",
    "\n",
    "gp = GPR(kernel=ntk, alpha=1e-3, n_restarts_optimizer=0, normalize_y=True)\n",
    "gp.fit(bigX, smolY)\n",
    "mean_ntk = gp.predict(bigX)\n",
    "\n",
    "print(gp)\n",
    "plt.contourf(X, Y, mean_ntk.reshape(-1, arrsize))"
   ]
  },
  {
   "cell_type": "code",
   "execution_count": 13,
   "metadata": {},
   "outputs": [
    {
     "name": "stdout",
     "output_type": "stream",
     "text": [
      "GaussianProcessRegressor(alpha=1e-05,\n",
      "                         kernel=1**2 * Matern(length_scale=1, nu=0.5),\n",
      "                         normalize_y=True)\n"
     ]
    },
    {
     "data": {
      "text/plain": [
       "<matplotlib.contour.QuadContourSet at 0x7fefad8d26d0>"
      ]
     },
     "execution_count": 13,
     "metadata": {},
     "output_type": "execute_result"
    },
    {
     "data": {
      "image/png": "[encoded data removed]",
      "text/plain": [
       "<Figure size 432x288 with 1 Axes>"
      ]
     },
     "metadata": {
      "needs_background": "light"
     },
     "output_type": "display_data"
    }
   ],
   "source": [
    "lpk = (\n",
    "    ConstantKernel(\n",
    "        constant_value=1, \n",
    "        constant_value_bounds=(1e-9, 1e5)\n",
    "    ) * \n",
    "    Matern(\n",
    "        nu=1/2,\n",
    "        length_scale=1,\n",
    "        length_scale_bounds=(1e-1, 1e3), \n",
    "    ) \n",
    ")\n",
    "\n",
    "gp = GPR(kernel=lpk, alpha=1e-5, n_restarts_optimizer=0, normalize_y=True)\n",
    "gp.fit(bigX, smolY)\n",
    "mean_lpk = gp.predict(bigX)\n",
    "\n",
    "print(gp)\n",
    "plt.contourf(X, Y, mean_lpk.reshape(-1, arrsize))"
   ]
  },
  {
   "cell_type": "code",
   "execution_count": 16,
   "metadata": {},
   "outputs": [
    {
     "data": {
      "text/plain": [
       "<matplotlib.collections.PathCollection at 0x7fc9828dbd90>"
      ]
     },
     "execution_count": 16,
     "metadata": {},
     "output_type": "execute_result"
    },
    {
     "data": {
      "image/png": "[encoded data removed]",
      "text/plain": [
       "<Figure size 432x288 with 1 Axes>"
      ]
     },
     "metadata": {
      "needs_background": "light"
     },
     "output_type": "display_data"
    }
   ],
   "source": [
    "plt.scatter(smolY - mean_ntk, smolY - mean_lpk)"
   ]
  },
  {
   "cell_type": "code",
   "execution_count": 3,
   "metadata": {},
   "outputs": [
    {
     "data": {
      "text/plain": [
       "<matplotlib.contour.QuadContourSet at 0x7fc9829d5250>"
      ]
     },
     "execution_count": 3,
     "metadata": {},
     "output_type": "execute_result"
    },
    {
     "data": {
      "image/png": "[encoded data removed]",
      "text/plain": [
       "<Figure size 432x288 with 1 Axes>"
      ]
     },
     "metadata": {
      "needs_background": "light"
     },
     "output_type": "display_data"
    }
   ],
   "source": [
    "lhs = qmc.LatinHypercube(d=1, seed=234089567)\n",
    "\n",
    "arrsize=65\n",
    "tmp = lhs.random(arrsize)\n",
    "X_lhs, Y_lhs = np.meshgrid(tmp, tmp)\n",
    "Z_noisy = np.random.normal(np.exp(-X_lhs)*X_lhs**3*np.cos(X_lhs)*np.sin(X_lhs)*(np.cos(X_lhs)*np.sin(X_lhs)**2-1)*(Y_lhs-5), 0.15)\n",
    "\n",
    "bigX_lhs = np.stack((X_lhs, Y_lhs), axis=2).reshape(-1,2)\n",
    "smolY_noisy = Z_noisy.reshape(-1,1)\n",
    "\n",
    "ntk = (\n",
    "    ConstantKernel(\n",
    "        constant_value=1, \n",
    "        constant_value_bounds=(1e-9, 1e5)\n",
    "    ) * \n",
    "    NTK(depth=3, c=2, \n",
    "        bias=1e-1, \n",
    "        bias_bounds=(1e-9, 1e3)\n",
    "    ) \n",
    ")\n",
    "\n",
    "gp = GPR(kernel=ntk, alpha=1e-9, n_restarts_optimizer=0, normalize_y=True)\n",
    "gp.fit(bigX_lhs, smolY_noisy)\n",
    "mean = gp.predict(bigX)\n",
    "\n",
    "plt.contourf(X, Y, mean.reshape(-1, arrsize))"
   ]
  },
  {
   "cell_type": "code",
   "execution_count": 5,
   "metadata": {},
   "outputs": [
    {
     "name": "stderr",
     "output_type": "stream",
     "text": [
      "/home/rona1das/Tools/anaconda3/envs/thesis/lib/python3.9/site-packages/sklearn/gaussian_process/kernels.py:420: ConvergenceWarning: The optimal value found for dimension 0 of parameter k2__length_scale is close to the specified lower bound 0.1. Decreasing the bound and calling fit again may find a better value.\n",
      "  warnings.warn(\n"
     ]
    },
    {
     "data": {
      "text/plain": [
       "<matplotlib.contour.QuadContourSet at 0x7fc979fb1550>"
      ]
     },
     "execution_count": 5,
     "metadata": {},
     "output_type": "execute_result"
    },
    {
     "data": {
      "image/png": "[encoded data removed]",
      "text/plain": [
       "<Figure size 432x288 with 1 Axes>"
      ]
     },
     "metadata": {
      "needs_background": "light"
     },
     "output_type": "display_data"
    }
   ],
   "source": [
    "lpk = (\n",
    "    ConstantKernel(\n",
    "        constant_value=1, \n",
    "        constant_value_bounds=(1e-9, 1e5)\n",
    "    ) * \n",
    "    Matern(\n",
    "        nu=1/2,\n",
    "        length_scale=1,\n",
    "        length_scale_bounds=(1e-1, 1e3), \n",
    "    ) \n",
    ")\n",
    "\n",
    "gp = GPR(kernel=lpk, alpha=1e-9, n_restarts_optimizer=0, normalize_y=True)\n",
    "gp.fit(bigX_lhs, smolY_noisy)\n",
    "mean = gp.predict(bigX)\n",
    "\n",
    "plt.contourf(X, Y, mean.reshape(-1, arrsize))"
   ]
  },
  {
   "cell_type": "code",
   "execution_count": null,
   "metadata": {},
   "outputs": [],
   "source": [
    "arrsize=50\n",
    "tmp = np.linspace(0, 7, arrsize)\n",
    "X, Y = np.meshgrid(tmp, tmp)\n",
    "Z = np.exp(-X)*X**3*np.cos(X)*np.sin(X)*(np.cos(X)*np.sin(X)**2-1)*(Y-5)\n",
    "\n",
    "bigX = np.stack((X, Y), axis=2).reshape(-1,2)\n",
    "smolY = Z.reshape(-1,1)\n",
    "\n",
    "ntk = (\n",
    "    ConstantKernel(\n",
    "        constant_value=1, \n",
    "        constant_value_bounds=(1e-9, 1e5)\n",
    "    ) * \n",
    "    NTK(depth=1, c=2, \n",
    "        bias=1e-1, \n",
    "        bias_bounds=(1e-9, 1e3)\n",
    "    ) \n",
    ")\n",
    "\n",
    "bigX = normalize(bigX)\n",
    "\n",
    "gp = GPR(kernel=ntk, alpha=1e-9, n_restarts_optimizer=9, normalize_y=True)\n",
    "gp.fit(bigX, smolY)\n",
    "mean = gp.predict(normalize(bigX))\n",
    "\n",
    "bigX = bigX.reshape(arrsize, arrsize, 2)\n",
    "plt.contourf(X, Y, mean.reshape(-1, arrsize))"
   ]
  }
 ],
 "metadata": {
  "interpreter": {
   "hash": "68b02c908e2cdb95db1fe9ab6c7ce5e7b7519642826f3cbd5d028e2ea906a416"
  },
  "kernelspec": {
   "display_name": "Python 3.9.7 ('thesis')",
   "language": "python",
   "name": "python3"
  },
  "language_info": {
   "codemirror_mode": {
    "name": "ipython",
    "version": 3
   },
   "file_extension": ".py",
   "mimetype": "text/x-python",
   "name": "python",
   "nbconvert_exporter": "python",
   "pygments_lexer": "ipython3",
   "version": "3.9.7"
  },
  "orig_nbformat": 4
 },
 "nbformat": 4,
 "nbformat_minor": 2
}
