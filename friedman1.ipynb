{
 "cells": [
  {
   "cell_type": "code",
   "execution_count": 58,
   "metadata": {},
   "outputs": [],
   "source": [
    "from utils import *\n",
    "from sklearn.datasets import make_friedman1\n",
    "from scipy import optimize\n",
    "from scipy.stats import spearmanr\n",
    "corrcoef_type = 'p'\n",
    "c_val_bounds = 'fixed' #(1e-9, 1e5) "
   ]
  },
  {
   "cell_type": "markdown",
   "metadata": {},
   "source": [
    "# Friedman 1 Data"
   ]
  },
  {
   "cell_type": "markdown",
   "metadata": {},
   "source": [
    "## Dataset"
   ]
  },
  {
   "cell_type": "code",
   "execution_count": 59,
   "metadata": {},
   "outputs": [],
   "source": [
    "# add noise\n",
    "# redo with scipy.minimize\n",
    "X, y = make_friedman1(random_state=18397425)\n",
    "datasets = processing(X, y)\n",
    "\n",
    "X, y = datasets['orig']\n",
    "X_norm, y_norm = datasets['norm']\n",
    "X_train, y_train, y_train_noisy = datasets['orig train']\n",
    "X_train_norm, y_train_norm, y_train_norm_noisy = datasets['norm train']"
   ]
  },
  {
   "cell_type": "markdown",
   "metadata": {},
   "source": [
    "## Noiseless"
   ]
  },
  {
   "cell_type": "markdown",
   "metadata": {},
   "source": [
    "### $\\mathbb{R}^d$"
   ]
  },
  {
   "cell_type": "code",
   "execution_count": 60,
   "metadata": {},
   "outputs": [
    {
     "name": "stderr",
     "output_type": "stream",
     "text": [
      "/home/rona1das/Tools/anaconda3/envs/thesis/lib/python3.9/site-packages/sklearn/gaussian_process/_gpr.py:610: ConvergenceWarning: lbfgs failed to converge (status=2):\n",
      "ABNORMAL_TERMINATION_IN_LNSRCH.\n",
      "\n",
      "Increase the number of iterations (max_iter) or scale the data as shown in:\n",
      "    https://scikit-learn.org/stable/modules/preprocessing.html\n",
      "  _check_optimize_result(\"lbfgs\", opt_res)\n"
     ]
    },
    {
     "name": "stdout",
     "output_type": "stream",
     "text": [
      "NTK     :  0.441**2 * NTK(depth=3, c=2.000, bias=0.353)\n",
      "NTK     :  0.0718**2 * NTK(depth=100, c=2.000, bias=0.193)\n",
      "Laplace :  0.224**2 * Matern(length_scale=1, nu=0.5)\n"
     ]
    }
   ],
   "source": [
    "ntk_1 = (\n",
    "    ConstantKernel(\n",
    "        constant_value=1, \n",
    "        constant_value_bounds=(1e-9, 1e2)\n",
    "    ) * \n",
    "    NTK(depth=3, c=2, \n",
    "        bias=1e-1, \n",
    "        bias_bounds=(1e-9, 1e0)\n",
    "    ) \n",
    ")\n",
    "\n",
    "ntk_2 = (\n",
    "    ConstantKernel(\n",
    "        constant_value=1, \n",
    "        constant_value_bounds=(1e-9, 1e2)\n",
    "    ) * \n",
    "    NTK(depth=100, c=2, \n",
    "        bias=1e-1, \n",
    "        bias_bounds=(1e-9, 1e0)\n",
    "    ) \n",
    ")\n",
    "\n",
    "lpk = (\n",
    "    ConstantKernel(\n",
    "        constant_value=0.224**2, \n",
    "        constant_value_bounds=c_val_bounds\n",
    "    ) * \n",
    "    Matern(\n",
    "        nu=1/2,\n",
    "        length_scale=1,\n",
    "        length_scale_bounds='fixed'#(1e-1, 1e3), \n",
    "    ) \n",
    ")\n",
    "\n",
    "gp_ntk_1 = GPR(kernel=ntk_1, alpha=1e-9, normalize_y=True, n_restarts_optimizer=9, random_state=3480795)\n",
    "gp_ntk_1.fit(X_train, y_train)\n",
    "print('NTK     : ', gp_ntk_1.kernel_)\n",
    "mean_ntk_1 = gp_ntk_1.predict(X)\n",
    "\n",
    "gp_ntk_2 = GPR(kernel=ntk_2, alpha=1e-9, normalize_y=True, n_restarts_optimizer=9, random_state=3480795)\n",
    "gp_ntk_2.fit(X_train, y_train)\n",
    "print('NTK     : ', gp_ntk_2.kernel_)\n",
    "mean_ntk_2 = gp_ntk_2.predict(X)\n",
    "\n",
    "gp_lpk = GPR(kernel=lpk, alpha=1e-9, normalize_y=True, n_restarts_optimizer=0, random_state=3480795)\n",
    "gp_lpk.fit(X_train, y_train)\n",
    "print('Laplace : ', gp_lpk.kernel_)\n",
    "mean_lpk = gp_lpk.predict(X)"
   ]
  },
  {
   "cell_type": "code",
   "execution_count": 4,
   "metadata": {},
   "outputs": [
    {
     "data": {
      "text/plain": [
       "0.8369756975697569"
      ]
     },
     "execution_count": 4,
     "metadata": {},
     "output_type": "execute_result"
    }
   ],
   "source": [
    "#np.corrcoef((y-mean_ntk_1)[:,0],\n",
    "#     (y-mean_lpk)[:,0]\n",
    "#     )\n",
    "spearmanr((y-mean_ntk_1), (y-mean_lpk))[0]"
   ]
  },
  {
   "cell_type": "code",
   "execution_count": 5,
   "metadata": {},
   "outputs": [],
   "source": [
    "# def f(args):\n",
    "#     ell, gp, X, X_train, y_train, residual_target, out = args\n",
    "#     gp.set_params(**{'kernel__k2__length_scale': ell})\n",
    "#     gp.fit(X_train, y_train)\n",
    "\n",
    "#     if out:\n",
    "#         print(gp)\n",
    "        \n",
    "#     mean = gp.predict(X)\n",
    "#     return np.corrcoef((residual_target)[:,0], (y-mean)[:,0])[0, 1]"
   ]
  },
  {
   "cell_type": "code",
   "execution_count": 6,
   "metadata": {},
   "outputs": [],
   "source": [
    "# arg_list = (gp_lpk, X, X_train, y_train, y-mean_ntk_1, False)\n",
    "# N = 10000\n",
    "# ell_search = np.linspace(0.001, 30, N)\n",
    "\n",
    "# args = [(ell, *arg_list) for ell in ell_search]\n",
    "\n",
    "# with Pool(4) as p:\n",
    "#     result_1 = p.map(f, args)\n",
    "#     i = np.argmax(result_1)\n",
    "#     print(f\"NTK depth 3, LPK lengthscale {ell_search[i]} at {i} with {max(result_1)}\")"
   ]
  },
  {
   "cell_type": "code",
   "execution_count": 7,
   "metadata": {},
   "outputs": [],
   "source": [
    "# arg_list = (gp_lpk, X, X_train, y_train, y-mean_ntk_2, False)\n",
    "# N = 10000\n",
    "# ell_search = np.linspace(0.001, 30, N)\n",
    "\n",
    "# args = [(ell, *arg_list) for ell in ell_search]\n",
    "\n",
    "# with Pool(4) as p:\n",
    "#     result_2 = p.map(f, args)\n",
    "#     i = np.argmax(result_2)\n",
    "#     print(f\"NTK depth 100, LPK lengthscale {ell_search[i]} at {i} with {max(result_2)}\")"
   ]
  },
  {
   "cell_type": "code",
   "execution_count": 66,
   "metadata": {},
   "outputs": [],
   "source": [
    "def g(ell, gp, residual, p_or_s = 'p'):\n",
    "    gp.set_params(**{'kernel__k2__length_scale': ell})\n",
    "    gp.fit(X_train, y_train)\n",
    "    mean = gp.predict(X)\n",
    "    if p_or_s == 's':\n",
    "        return -spearmanr(residual, y-mean)[0]\n",
    "    else:\n",
    "        return -np.corrcoef((residual)[:,0], (y-mean)[:,0])[0, 1]"
   ]
  },
  {
   "cell_type": "code",
   "execution_count": 67,
   "metadata": {},
   "outputs": [
    {
     "name": "stdout",
     "output_type": "stream",
     "text": [
      "\n",
      "Optimization terminated successfully;\n",
      "The returned value satisfies the termination criteria\n",
      "(using xtol =  1e-05 )\n"
     ]
    },
    {
     "data": {
      "text/plain": [
       "     fun: -0.8827383662218652\n",
       " message: 'Solution found.'\n",
       "    nfev: 26\n",
       "     nit: 26\n",
       "  status: 0\n",
       " success: True\n",
       "       x: 1441197.1182902863"
      ]
     },
     "execution_count": 67,
     "metadata": {},
     "output_type": "execute_result"
    }
   ],
   "source": [
    "ell_3 = optimize.minimize_scalar(g, args=(gp_lpk, y-mean_ntk_1, corrcoef_type), method='bounded', bounds=[0.001, 10000000], options={'disp':2})\n",
    "ell_3"
   ]
  },
  {
   "cell_type": "code",
   "execution_count": 65,
   "metadata": {},
   "outputs": [
    {
     "data": {
      "text/plain": [
       "(-0.8827383662218652, 1441197.1182902863)"
      ]
     },
     "execution_count": 65,
     "metadata": {},
     "output_type": "execute_result"
    }
   ],
   "source": [
    "ell_3.fun, ell_3.x"
   ]
  },
  {
   "cell_type": "code",
   "execution_count": 10,
   "metadata": {},
   "outputs": [
    {
     "name": "stdout",
     "output_type": "stream",
     "text": [
      " \n",
      " Func-count     x          f(x)          Procedure\n",
      "    1    3.81966e+06    -0.796907        initial\n",
      "    2    6.18034e+06    -0.802861        golden\n",
      "    3    7.63932e+06    -0.805574        golden\n",
      "    4    8.54102e+06    -0.806964        golden\n",
      "    5     9.0983e+06    -0.807728        golden\n",
      "    6    9.44272e+06    -0.808168        golden\n",
      "    7    9.65558e+06    -0.808427        golden\n",
      "    8    9.78714e+06    -0.808583        golden\n",
      "    9    9.86844e+06    -0.808678        golden\n",
      "   10    9.91869e+06    -0.808736        golden\n",
      "   11    9.94975e+06    -0.808772        golden\n",
      "   12    9.96894e+06    -0.808794        golden\n",
      "   13    9.98081e+06    -0.808807        golden\n",
      "   14    9.98814e+06    -0.808816        golden\n",
      "   15    9.99267e+06    -0.808821        golden\n",
      "   16    9.99547e+06    -0.808824        golden\n",
      "   17     9.9972e+06    -0.808826        golden\n",
      "   18    9.99827e+06    -0.808827        golden\n",
      "   19    9.99893e+06    -0.808828        golden\n",
      "   20    9.99934e+06    -0.808828        golden\n",
      "   21    9.99959e+06    -0.808829        golden\n",
      "   22    9.99975e+06    -0.808829        golden\n",
      "   23    9.99984e+06    -0.808829        golden\n",
      "   24     9.9999e+06    -0.808829        golden\n",
      "   25    9.99994e+06    -0.808829        golden\n",
      "   26    9.99996e+06    -0.808829        golden\n",
      "   27    9.99998e+06    -0.808829        golden\n",
      "   28    9.99999e+06    -0.808829        golden\n",
      "   29    9.99999e+06    -0.808829        golden\n",
      "   30    9.99999e+06    -0.808829        golden\n",
      "   31          1e+07    -0.808829        parabolic\n",
      "   32          1e+07    -0.808829        golden\n",
      "   33          1e+07    -0.808829        parabolic\n",
      "   34          1e+07    -0.808829        golden\n",
      "   35          1e+07    -0.808829        parabolic\n",
      "   36          1e+07    -0.808829        golden\n",
      "\n",
      "Optimization terminated successfully;\n",
      "The returned value satisfies the termination criteria\n",
      "(using xtol =  1e-05 )\n"
     ]
    },
    {
     "data": {
      "text/plain": [
       "     fun: -0.8088291633380169\n",
       " message: 'Solution found.'\n",
       "    nfev: 36\n",
       "     nit: 36\n",
       "  status: 0\n",
       " success: True\n",
       "       x: 9999998.228909653"
      ]
     },
     "execution_count": 10,
     "metadata": {},
     "output_type": "execute_result"
    }
   ],
   "source": [
    "ell_100 = optimize.minimize_scalar(g, args=(y-mean_ntk_2, corrcoef_type), method='bounded', bounds=[0.001, 10000000], options={'disp':3})\n",
    "ell_100"
   ]
  },
  {
   "cell_type": "code",
   "execution_count": 11,
   "metadata": {},
   "outputs": [],
   "source": [
    "# D=3\n",
    "gp_lpk.set_params(**{'kernel__k2__length_scale': ell_3.x})\n",
    "gp_lpk.fit(X_train, y_train)\n",
    "mean_opt_1 = gp_lpk.predict(X)\n",
    "\n",
    "# D=100\n",
    "gp_lpk.set_params(**{'kernel__k2__length_scale': ell_100.x})\n",
    "gp_lpk.fit(X_train, y_train)\n",
    "mean_opt_2 = gp_lpk.predict(X)"
   ]
  },
  {
   "cell_type": "code",
   "execution_count": 12,
   "metadata": {},
   "outputs": [
    {
     "data": {
      "image/png": "[encoded data removed]",
      "text/plain": [
       "<Figure size 720x720 with 4 Axes>"
      ]
     },
     "metadata": {
      "needs_background": "light"
     },
     "output_type": "display_data"
    }
   ],
   "source": [
    "fig1, ax1 = plt.subplots(nrows=2, ncols=2, sharex=True, sharey=True, figsize=(10,10))\n",
    "ax1 = ax1.ravel()\n",
    "ax1[0].scatter(y - mean_ntk_1, y - mean_lpk)\n",
    "ax1[0].set_title('Depth=3, Lengthscale=1')\n",
    "ax1[1].scatter(y - mean_ntk_2, y - mean_lpk)\n",
    "ax1[1].set_title('Depth=100, Lengthscale=1')\n",
    "ax1[2].scatter(y - mean_ntk_1, y - mean_opt_1)\n",
    "ax1[2].set_title(f'Depth=3, Optimal Lengthscale (1/c)={round(ell_3.x, 4)}')\n",
    "ax1[3].scatter(y - mean_ntk_2, y - mean_opt_2)\n",
    "ax1[3].set_title(f'Depth=100, Optimal Lengthscale (1/c)={round(ell_100.x, 4)}')\n",
    "fig1.suptitle(r'Noiseless Friedman 1 $\\mathbb{R}^d$ NTK vs LPK')\n",
    "fig1.supxlabel('NTK residuals')\n",
    "fig1.supylabel('LaPlace residuals')\n",
    "fig1.tight_layout()"
   ]
  },
  {
   "cell_type": "markdown",
   "metadata": {},
   "source": [
    "Data Table - $\\mathbb{R}^{d}$\n",
    "| NTK Depth=3      | Fixed     | Unfixed    |\n",
    "|------------------|-----------|------------|\n",
    "| Pearson - $x$    | 1441197.1 |            |\n",
    "| Pearson - $f(x)$ | 0.8827    |            |\n",
    "| Spearman - $x$   |           |            |\n",
    "| Spearman - $f(x)$|           |            |\n",
    "\n",
    "| NTK Depth=100    | Fixed     | Unfixed    |\n",
    "|------------------|-----------|------------|\n",
    "| Pearson - $x$    | 9999998.2 |            |\n",
    "| Pearson - $f(x)$ | 0.8088    |            |\n",
    "| Spearman - $x$   |           |            |\n",
    "| Spearman - $f(x)$|           |            |"
   ]
  },
  {
   "cell_type": "markdown",
   "metadata": {},
   "source": [
    "### $\\mathbb{S}^{d-1}$"
   ]
  },
  {
   "cell_type": "code",
   "execution_count": 13,
   "metadata": {},
   "outputs": [
    {
     "name": "stdout",
     "output_type": "stream",
     "text": [
      "NTK     :  0.725**2 * NTK(depth=3, c=2.000, bias=0.417)\n",
      "NTK     :  0.114**2 * NTK(depth=100, c=2.000, bias=0.000)\n",
      "Laplace :  0.224**2 * Matern(length_scale=1, nu=0.5)\n"
     ]
    }
   ],
   "source": [
    "ntk_1 = (\n",
    "    ConstantKernel(\n",
    "        constant_value=1, \n",
    "        constant_value_bounds=(1e-9, 1e2)\n",
    "    ) * \n",
    "    NTK(depth=3, c=2, \n",
    "        bias=1e-1, \n",
    "        bias_bounds=(1e-9, 1e0)\n",
    "    ) \n",
    ")\n",
    "\n",
    "ntk_2 = (\n",
    "    ConstantKernel(\n",
    "        constant_value=1, \n",
    "        constant_value_bounds=(1e-9, 1e2)\n",
    "    ) * \n",
    "    NTK(depth=100, c=2, \n",
    "        bias=1e-1, \n",
    "        bias_bounds=(1e-9, 1e0)\n",
    "    ) \n",
    ")\n",
    "\n",
    "lpk = (\n",
    "    ConstantKernel(\n",
    "        constant_value=0.224**2, \n",
    "        constant_value_bounds=c_val_bounds\n",
    "    ) * \n",
    "    Matern(\n",
    "        nu=1/2,\n",
    "        length_scale=1,\n",
    "        length_scale_bounds='fixed'#(1e-1, 1e3), \n",
    "    ) \n",
    ")\n",
    "\n",
    "gp_ntk_1 = GPR(kernel=ntk_1, alpha=1e-9, normalize_y=True, n_restarts_optimizer=9, random_state=3480795)\n",
    "gp_ntk_1.fit(X_train_norm, y_train)\n",
    "print('NTK     : ', gp_ntk_1.kernel_)\n",
    "mean_ntk_1 = gp_ntk_1.predict(X_norm)\n",
    "\n",
    "gp_ntk_2 = GPR(kernel=ntk_2, alpha=1e-9, normalize_y=True, n_restarts_optimizer=9, random_state=3480795)\n",
    "gp_ntk_2.fit(X_train_norm, y_train)\n",
    "print('NTK     : ', gp_ntk_2.kernel_)\n",
    "mean_ntk_2 = gp_ntk_2.predict(X_norm)\n",
    "\n",
    "gp_lpk = GPR(kernel=lpk, alpha=1e-9, normalize_y=True, n_restarts_optimizer=0, random_state=3480795)\n",
    "gp_lpk.fit(X_train_norm, y_train)\n",
    "print('Laplace : ', gp_lpk.kernel_)\n",
    "mean_lpk = gp_lpk.predict(X_norm)"
   ]
  },
  {
   "cell_type": "code",
   "execution_count": 14,
   "metadata": {},
   "outputs": [],
   "source": [
    "# nn = MLPR(\n",
    "#     hidden_layer_sizes=(20000, 3),\n",
    "#     solver='sgd',\n",
    "#     max_iter=10000,\n",
    "#     alpha=0,\n",
    "#     learning_rate='constant',\n",
    "#     learning_rate_init=0.00099,\n",
    "#     momentum = 0.95,\n",
    "#     nesterovs_momentum=True,\n",
    "#     tol=0.000001,\n",
    "#     n_iter_no_change = 20,\n",
    "#     random_state = 123457908,\n",
    "#     shuffle=True,\n",
    "#     verbose=True)\n",
    "# nn.fit(X_train_norm, y_train_norm.ravel())\n",
    "# mean_nn = nn.predict(X_norm).reshape(-1,1)"
   ]
  },
  {
   "cell_type": "code",
   "execution_count": 15,
   "metadata": {},
   "outputs": [],
   "source": [
    "# arg_list = (gp_lpk, X_norm, X_train_norm, y_train, y-mean_ntk_1, False)\n",
    "# N = 10000\n",
    "# ell_search = np.linspace(0.01, 100, N)\n",
    "\n",
    "# args = [(ell, *arg_list) for ell in ell_search]\n",
    "\n",
    "# with Pool(4) as p:\n",
    "#     result_1 = p.map(f, args)\n",
    "#     i = np.argmax(result_1)\n",
    "#     print(f\"NTK depth 3, LPK lengthscale {ell_search[i]} at {i} with {max(result_1)}\")"
   ]
  },
  {
   "cell_type": "code",
   "execution_count": 16,
   "metadata": {},
   "outputs": [],
   "source": [
    "# arg_list = (gp_lpk, X_norm, X_train_norm, y_train, y-mean_ntk_2, False)\n",
    "# N = 10000\n",
    "# ell_search = np.linspace(0.01, 100, N)\n",
    "\n",
    "# args = [(ell, *arg_list) for ell in ell_search]\n",
    "\n",
    "# with Pool(4) as p:\n",
    "#     result_1 = p.map(f, args)\n",
    "#     i = np.argmax(result_1)\n",
    "#     print(f\"NTK depth 3, LPK lengthscale {ell_search[i]} at {i} with {max(result_1)}\")"
   ]
  },
  {
   "cell_type": "code",
   "execution_count": 17,
   "metadata": {},
   "outputs": [],
   "source": [
    "def g(ell, residual, p_or_s = 'p'):\n",
    "    gp_lpk.set_params(**{'kernel__k2__length_scale': ell})\n",
    "    gp_lpk.fit(X_train, y_train)\n",
    "    mean = gp_lpk.predict(X)\n",
    "    if p_or_s == 's':\n",
    "        return -spearmanr(residual, y-mean)[0]\n",
    "    else:\n",
    "        return -np.corrcoef((residual)[:,0], (y-mean)[:,0])[0, 1]"
   ]
  },
  {
   "cell_type": "code",
   "execution_count": 18,
   "metadata": {},
   "outputs": [
    {
     "name": "stdout",
     "output_type": "stream",
     "text": [
      " \n",
      " Func-count     x          f(x)          Procedure\n",
      "    1        38.1972    -0.860593        initial\n",
      "    2        61.8038    -0.859964        golden\n",
      "    3        23.6076    -0.861595        golden\n",
      "    4        14.5907    -0.863179        golden\n",
      "    5         9.0179    -0.865637        golden\n",
      "    6        5.57375    -0.869336        golden\n",
      "    7        3.44515    -0.874582        golden\n",
      "    8         2.1296    -0.881119        golden\n",
      "    9        1.31655     -0.88682        golden\n",
      "   10       0.814054    -0.885419        golden\n",
      "   11        1.25242    -0.887162        parabolic\n",
      "   12        1.14061    -0.887572        parabolic\n",
      "   13        1.01588    -0.887567        golden\n",
      "   14        1.07952    -0.887649        parabolic\n",
      "   15        1.07923    -0.887649        parabolic\n",
      "   16        1.07576    -0.887649        parabolic\n",
      "   17        1.05289    -0.887637        golden\n",
      "   18        1.07611    -0.887649        parabolic\n",
      "   19        1.07612    -0.887649        parabolic\n",
      "   20        1.07613    -0.887649        parabolic\n",
      "   21        1.07612    -0.887649        parabolic\n",
      "\n",
      "Optimization terminated successfully;\n",
      "The returned value satisfies the termination criteria\n",
      "(using xtol =  1e-05 )\n"
     ]
    },
    {
     "data": {
      "text/plain": [
       "     fun: -0.8876488423652513\n",
       " message: 'Solution found.'\n",
       "    nfev: 21\n",
       "     nit: 21\n",
       "  status: 0\n",
       " success: True\n",
       "       x: 1.0761219116473002"
      ]
     },
     "execution_count": 18,
     "metadata": {},
     "output_type": "execute_result"
    }
   ],
   "source": [
    "ell_3 = optimize.minimize_scalar(g, args=(y-mean_ntk_1, corrcoef_type), method='bounded', bounds=[0.001, 100], options={'disp':3})\n",
    "ell_3"
   ]
  },
  {
   "cell_type": "code",
   "execution_count": 19,
   "metadata": {},
   "outputs": [
    {
     "name": "stdout",
     "output_type": "stream",
     "text": [
      " \n",
      " Func-count     x          f(x)          Procedure\n",
      "    1        38.1972    -0.779061        initial\n",
      "    2        61.8038    -0.777439        golden\n",
      "    3        23.6076    -0.781681        golden\n",
      "    4        14.5907     -0.78591        golden\n",
      "    5         9.0179    -0.792715        golden\n",
      "    6        5.57375    -0.803591        golden\n",
      "    7        3.44515    -0.820722        golden\n",
      "    8         2.1296    -0.846849        golden\n",
      "    9        1.31655    -0.884052        golden\n",
      "   10       0.814054    -0.930093        golden\n",
      "   11       0.503495    -0.973227        golden\n",
      "   12       0.311559    -0.995971        golden\n",
      "   13       0.192936    -0.998416        golden\n",
      "   14        0.21955    -0.998704        parabolic\n",
      "   15       0.222071    -0.998713        parabolic\n",
      "   16       0.228157    -0.998719        parabolic\n",
      "   17       0.260014     -0.99833        golden\n",
      "   18       0.226814     -0.99872        parabolic\n",
      "   19        0.22676     -0.99872        parabolic\n",
      "   20       0.226774     -0.99872        parabolic\n",
      "   21       0.226771     -0.99872        parabolic\n",
      "   22       0.226777     -0.99872        parabolic\n",
      "\n",
      "Optimization terminated successfully;\n",
      "The returned value satisfies the termination criteria\n",
      "(using xtol =  1e-05 )\n"
     ]
    },
    {
     "data": {
      "text/plain": [
       "     fun: -0.9987196324553811\n",
       " message: 'Solution found.'\n",
       "    nfev: 22\n",
       "     nit: 22\n",
       "  status: 0\n",
       " success: True\n",
       "       x: 0.2267738683140398"
      ]
     },
     "execution_count": 19,
     "metadata": {},
     "output_type": "execute_result"
    }
   ],
   "source": [
    "ell_100 = optimize.minimize_scalar(g, args=(y-mean_ntk_2, corrcoef_type), method='bounded', bounds=[0.001, 100], options={'disp':3})\n",
    "ell_100"
   ]
  },
  {
   "cell_type": "code",
   "execution_count": 20,
   "metadata": {},
   "outputs": [],
   "source": [
    "# D=3\n",
    "gp_lpk.set_params(**{'kernel__k2__length_scale': ell_3.x})\n",
    "gp_lpk.fit(X_train_norm, y_train)\n",
    "mean_opt_1 = gp_lpk.predict(X_norm)\n",
    "\n",
    "# D=100\n",
    "gp_lpk.set_params(**{'kernel__k2__length_scale': ell_100.x})\n",
    "gp_lpk.fit(X_train_norm, y_train)\n",
    "mean_opt_2 = gp_lpk.predict(X_norm)"
   ]
  },
  {
   "cell_type": "code",
   "execution_count": 21,
   "metadata": {},
   "outputs": [
    {
     "data": {
      "image/png": "[encoded data removed]",
      "text/plain": [
       "<Figure size 720x720 with 4 Axes>"
      ]
     },
     "metadata": {
      "needs_background": "light"
     },
     "output_type": "display_data"
    }
   ],
   "source": [
    "fig2, ax2 = plt.subplots(nrows=2, ncols=2, sharex=True, sharey=True, figsize=(10,10))\n",
    "ax2 = ax2.ravel()\n",
    "ax2[0].scatter(y - mean_ntk_1, y - mean_lpk)\n",
    "ax2[0].set_title('Depth=3, Lengthscale=1')\n",
    "ax2[1].scatter(y - mean_ntk_2, y - mean_lpk)\n",
    "ax2[1].set_title('Depth=100, Lengthscale=1')\n",
    "ax2[2].scatter(y - mean_ntk_1, y - mean_opt_1)\n",
    "ax2[2].set_title(f'Depth=3, Optimal Lengthscale (1/c)={round(ell_3.x, 4)}')\n",
    "ax2[3].scatter(y - mean_ntk_2, y - mean_opt_2)\n",
    "ax2[3].set_title(f'Depth=100, Optimal Lengthscale (1/c)={round(ell_100.x, 4)}')\n",
    "fig2.suptitle(r'Noiseless Friedman 1 $\\mathbb{S}^{d-1}$ NTK vs LPK')\n",
    "fig2.supxlabel('NTK residuals')\n",
    "fig2.supylabel('LaPlace residuals')\n",
    "fig2.tight_layout()"
   ]
  },
  {
   "cell_type": "markdown",
   "metadata": {},
   "source": [
    "Data Table - $\\mathbb{S}^{d-1}$ LPK\n",
    "| NTK Depth=3      | Fixed     | Unfixed    |\n",
    "|------------------|-----------|------------|\n",
    "| Pearson - $x$    | 1.0761219 |            |\n",
    "| Pearson - $f(x)$ | 0.8876    |            |\n",
    "| Spearman - $x$   |           |            |\n",
    "| Spearman - $f(x)$|           |            |\n",
    "\n",
    "| NTK Depth=100    | Fixed     | Unfixed    |\n",
    "|------------------|-----------|------------|\n",
    "| Pearson - $x$    | 0.2267738 |            |\n",
    "| Pearson - $f(x)$ | 0.9987    |            |\n",
    "| Spearman - $x$   |           |            |\n",
    "| Spearman - $f(x)$|           |            |"
   ]
  },
  {
   "cell_type": "markdown",
   "metadata": {},
   "source": [
    "### RBF"
   ]
  },
  {
   "cell_type": "code",
   "execution_count": 22,
   "metadata": {},
   "outputs": [],
   "source": [
    "rbf = (\n",
    "        ConstantKernel(\n",
    "            constant_value=0.224**2, \n",
    "            constant_value_bounds=c_val_bounds\n",
    "        ) * \n",
    "        Matern(\n",
    "            nu=np.inf,\n",
    "            length_scale=1,\n",
    "            length_scale_bounds='fixed',#(1e-1, 1e3), \n",
    "        ) \n",
    "    )\n",
    "\n",
    "gp_rbf = GPR(kernel=rbf, alpha=1e-9, normalize_y=True, n_restarts_optimizer=0, random_state=3480795)\n",
    "gp_rbf.fit(X_train_norm, y_train)\n",
    "mean_rbf = gp_rbf.predict(X_norm)\n",
    "\n"
   ]
  },
  {
   "cell_type": "code",
   "execution_count": 23,
   "metadata": {},
   "outputs": [],
   "source": [
    "def h(ell, residual, p_or_s = 'p'):\n",
    "    gp_rbf.set_params(**{'kernel__k2__length_scale': ell})\n",
    "    gp_rbf.fit(X_train, y_train)\n",
    "    mean = gp_rbf.predict(X)\n",
    "    if p_or_s == 's':\n",
    "        return -spearmanr(residual, y-mean)[0]\n",
    "    else:\n",
    "        return -np.corrcoef((residual)[:,0], (y-mean)[:,0])[0, 1]"
   ]
  },
  {
   "cell_type": "code",
   "execution_count": 24,
   "metadata": {},
   "outputs": [
    {
     "name": "stdout",
     "output_type": "stream",
     "text": [
      " \n",
      " Func-count     x          f(x)          Procedure\n",
      "    1    3.81966e+06    -0.565982        initial\n",
      "    2    6.18034e+06     -0.56598        golden\n",
      "    3    2.36068e+06    -0.565986        golden\n",
      "    4    1.45898e+06    -0.565999        golden\n",
      "    5         901699     -0.56603        golden\n",
      "    6         557281    -0.566114        golden\n",
      "    7         344419    -0.566332        golden\n",
      "    8         212862    -0.566901        golden\n",
      "    9         131556    -0.568374        golden\n",
      "   10        81306.2    -0.572129        golden\n",
      "   11          50250    -0.581313        golden\n",
      "   12        31056.2    -0.601628        golden\n",
      "   13        19193.8    -0.637108        golden\n",
      "   14        11862.4    -0.671375        golden\n",
      "   15        7331.38    -0.667589        golden\n",
      "   16        10496.4    -0.674898        parabolic\n",
      "   17        9984.12    -0.675429        parabolic\n",
      "   18        9609.92     -0.67547        parabolic\n",
      "   19        9744.13    -0.675491        parabolic\n",
      "   20        9747.76    -0.675491        parabolic\n",
      "   21        9746.09    -0.675491        parabolic\n",
      "   22        9838.04    -0.675482        golden\n",
      "   23        9782.25     -0.67549        golden\n",
      "   24        9760.93    -0.675491        golden\n",
      "   25        9752.79    -0.675491        golden\n",
      "   26        9749.68    -0.675491        golden\n",
      "   27         9748.5    -0.675491        golden\n",
      "   28        9747.12    -0.675491        golden\n",
      "   29        9746.73    -0.675491        golden\n",
      "   30        9747.37    -0.675491        golden\n",
      "   31        9746.97    -0.675491        golden\n",
      "   32        9747.22    -0.675491        golden\n",
      "   33        9747.07    -0.675491        golden\n",
      "   34        9747.03    -0.675491        golden\n",
      "   35        9747.09    -0.675491        golden\n",
      "   36        9747.05    -0.675491        golden\n",
      "   37        9747.07    -0.675491        parabolic\n",
      "   38        9747.06    -0.675491        golden\n",
      "   39        9747.07    -0.675491        golden\n",
      "   40        9747.07    -0.675491        golden\n",
      "   41        9747.07    -0.675491        golden\n",
      "   42        9747.07    -0.675491        golden\n",
      "   43        9747.07    -0.675491        golden\n",
      "   44        9747.07    -0.675491        golden\n",
      "   45        9747.07    -0.675491        golden\n",
      "\n",
      "Optimization terminated successfully;\n",
      "The returned value satisfies the termination criteria\n",
      "(using xtol =  1e-05 )\n"
     ]
    },
    {
     "data": {
      "text/plain": [
       "     fun: -0.6754912935745343\n",
       " message: 'Solution found.'\n",
       "    nfev: 45\n",
       "     nit: 45\n",
       "  status: 0\n",
       " success: True\n",
       "       x: 9747.0671173726"
      ]
     },
     "execution_count": 24,
     "metadata": {},
     "output_type": "execute_result"
    }
   ],
   "source": [
    "ell_3 = optimize.minimize_scalar(h, args=(y-mean_ntk_1, corrcoef_type), method='bounded', bounds=[0.001, 10000000], options={'disp':3})\n",
    "ell_3"
   ]
  },
  {
   "cell_type": "code",
   "execution_count": 25,
   "metadata": {},
   "outputs": [
    {
     "name": "stdout",
     "output_type": "stream",
     "text": [
      " \n",
      " Func-count     x          f(x)          Procedure\n",
      "    1    3.81966e+06     -0.72366        initial\n",
      "    2    6.18034e+06    -0.723659        golden\n",
      "    3    2.36068e+06    -0.723663        golden\n",
      "    4    1.45898e+06    -0.723669        golden\n",
      "    5         901699    -0.723686        golden\n",
      "    6         557281     -0.72373        golden\n",
      "    7         344419    -0.723845        golden\n",
      "    8         212862    -0.724143        golden\n",
      "    9         131556     -0.72491        golden\n",
      "   10        81306.2    -0.726814        golden\n",
      "   11          50250    -0.731161        golden\n",
      "   12        31056.2    -0.739061        golden\n",
      "   13        19193.8     -0.74508        golden\n",
      "   14        11862.4    -0.723961        golden\n",
      "   15        23724.8    -0.743702        golden\n",
      "   16        15977.3    -0.742281        parabolic\n",
      "   17        20456.2    -0.745049        parabolic\n",
      "   18        19682.9    -0.745117        parabolic\n",
      "   19        19731.2    -0.745117        parabolic\n",
      "   20        19709.8    -0.745117        parabolic\n",
      "   21        19709.6    -0.745117        parabolic\n",
      "   22        19719.7    -0.745117        parabolic\n",
      "   23        19713.6    -0.745117        golden\n",
      "   24        19711.6    -0.745117        parabolic\n",
      "   25        19709.8    -0.745117        parabolic\n",
      "   26        19709.7    -0.745117        golden\n",
      "   27        19709.8    -0.745117        golden\n",
      "   28        19709.8    -0.745117        golden\n",
      "   29        19709.8    -0.745117        golden\n",
      "   30        19709.8    -0.745117        golden\n",
      "   31        19709.8    -0.745117        golden\n",
      "\n",
      "Optimization terminated successfully;\n",
      "The returned value satisfies the termination criteria\n",
      "(using xtol =  1e-05 )\n"
     ]
    },
    {
     "data": {
      "text/plain": [
       "     fun: -0.745117172683013\n",
       " message: 'Solution found.'\n",
       "    nfev: 31\n",
       "     nit: 31\n",
       "  status: 0\n",
       " success: True\n",
       "       x: 19709.814077837993"
      ]
     },
     "execution_count": 25,
     "metadata": {},
     "output_type": "execute_result"
    }
   ],
   "source": [
    "ell_100 = optimize.minimize_scalar(h, args=(y-mean_ntk_2, corrcoef_type), method='bounded', bounds=[0.001, 10000000], options={'disp':3})\n",
    "ell_100"
   ]
  },
  {
   "cell_type": "code",
   "execution_count": 26,
   "metadata": {},
   "outputs": [],
   "source": [
    "# D=3\n",
    "gp_rbf.set_params(**{'kernel__k2__length_scale': ell_3.x})\n",
    "gp_rbf.fit(X_train_norm, y_train)\n",
    "mean_opt_1 = gp_rbf.predict(X_norm)\n",
    "\n",
    "# D=100\n",
    "gp_rbf.set_params(**{'kernel__k2__length_scale': ell_100.x})\n",
    "gp_rbf.fit(X_train_norm, y_train)\n",
    "mean_opt_2 = gp_rbf.predict(X_norm)"
   ]
  },
  {
   "cell_type": "code",
   "execution_count": 27,
   "metadata": {},
   "outputs": [
    {
     "data": {
      "image/png": "[encoded data removed]",
      "text/plain": [
       "<Figure size 720x720 with 4 Axes>"
      ]
     },
     "metadata": {
      "needs_background": "light"
     },
     "output_type": "display_data"
    }
   ],
   "source": [
    "fig2, ax2 = plt.subplots(nrows=2, ncols=2, sharex=True, sharey=True, figsize=(10,10))\n",
    "ax2 = ax2.ravel()\n",
    "ax2[0].scatter(y - mean_ntk_1, y - mean_rbf)\n",
    "ax2[0].set_title('Depth=3, Lengthscale=1')\n",
    "ax2[1].scatter(y - mean_ntk_2, y - mean_rbf)\n",
    "ax2[1].set_title('Depth=100, Lengthscale=1')\n",
    "ax2[2].scatter(y - mean_ntk_1, y - mean_opt_1)\n",
    "ax2[2].set_title(f'Depth=3, Optimal Lengthscale (1/c)={round(ell_3.x, 4)}')\n",
    "ax2[3].scatter(y - mean_ntk_2, y - mean_opt_2)\n",
    "ax2[3].set_title(f'Depth=100, Optimal Lengthscale (1/c)={round(ell_100.x, 4)}')\n",
    "fig2.suptitle(r'Noiseless Friedman 1 $\\mathbb{S}^{d-1}$ NTK vs RBF')\n",
    "fig2.supxlabel('NTK residuals')\n",
    "fig2.supylabel('RBF residuals')\n",
    "fig2.tight_layout()"
   ]
  },
  {
   "cell_type": "markdown",
   "metadata": {},
   "source": [
    "Data Table - $\\mathbb{S}^{d-1}$ - RBF\n",
    "| NTK Depth=3      | Fixed     | Unfixed    |\n",
    "|------------------|-----------|------------|\n",
    "| Pearson - $x$    | 9747.0671 |            |\n",
    "| Pearson - $f(x)$ | 0.6754    |            |\n",
    "| Spearman - $x$   |           |            |\n",
    "| Spearman - $f(x)$|           |            |\n",
    "\n",
    "| NTK Depth=100    | Fixed     | Unfixed    |\n",
    "|------------------|-----------|------------|\n",
    "| Pearson - $x$    | 19709.814 |            |\n",
    "| Pearson - $f(x)$ | 0.7451    |            |\n",
    "| Spearman - $x$   |           |            |\n",
    "| Spearman - $f(x)$|           |            |"
   ]
  },
  {
   "cell_type": "code",
   "execution_count": 28,
   "metadata": {},
   "outputs": [],
   "source": [
    "# lengthscale = np.linspace(0.1, 5, 50)\n",
    "\n",
    "# fig, ax = plt.subplots(nrows=10, ncols=5, sharex=True, sharey=True, figsize=(15, 30))\n",
    "# ax=ax.ravel()\n",
    "\n",
    "# for x, ax in zip(lengthscale, ax):\n",
    "#     rbf = (\n",
    "#         ConstantKernel(\n",
    "#             constant_value=0.05, \n",
    "#             constant_value_bounds=(1e-9, 1e5) \n",
    "#         ) * \n",
    "#         Matern(\n",
    "#             nu=np.inf,\n",
    "#             length_scale=x,\n",
    "#             length_scale_bounds='fixed',#(1e-1, 1e3), \n",
    "#         ) \n",
    "#     )\n",
    "\n",
    "#     gp = GPR(kernel=rbf, alpha=1e-10, normalize_y=True, n_restarts_optimizer=9, random_state=3480795)\n",
    "#     gp.fit(X_train_norm, y_train)\n",
    "#     mean_rbf = gp.predict(X_norm)\n",
    "\n",
    "#     ax.set_title(f'RBF Lengthscale={x.round(2)}')\n",
    "#     ax.scatter(y-mean_ntk_1, y-mean_rbf)\n",
    "\n",
    "# fig.suptitle(r\"NTK vs RBF Kernel in $\\mathbb{S}^{d-1}$\")\n",
    "# fig.supxlabel('NTK residuals')\n",
    "# fig.supylabel('RBF residuals')\n",
    "# fig.tight_layout()"
   ]
  },
  {
   "cell_type": "code",
   "execution_count": 29,
   "metadata": {},
   "outputs": [],
   "source": [
    "# rbf = (\n",
    "#     ConstantKernel(\n",
    "#         constant_value=0.05, \n",
    "#         constant_value_bounds=(1e-9, 1e5) \n",
    "#     ) * \n",
    "#     Matern(\n",
    "#         nu=np.inf,\n",
    "#         length_scale=0.35,\n",
    "#         length_scale_bounds=(1e-1, 1e3), \n",
    "#     ) \n",
    "# )\n",
    "\n",
    "# gp = GPR(kernel=rbf, alpha=1e-10, normalize_y=True, n_restarts_optimizer=9, random_state=3480795)\n",
    "# gp.fit(X_train_norm, y_train)\n",
    "# mean_rbf = gp.predict(X_norm)\n",
    "# print(rbf)\n",
    "# fig, ax = plt.subplots(1,1, figsize=(5,5))\n",
    "# ax.set_title(f'RBF Lengthscale={0.35}')\n",
    "# ax.scatter(y-mean_ntk_1, y-mean_rbf)"
   ]
  },
  {
   "cell_type": "markdown",
   "metadata": {},
   "source": [
    "## Dataset"
   ]
  },
  {
   "cell_type": "code",
   "execution_count": 30,
   "metadata": {},
   "outputs": [],
   "source": [
    "X, y = make_friedman1(noise=0.2, random_state=18397425)\n",
    "datasets = processing(X, y)\n",
    "\n",
    "X, y = datasets['orig']\n",
    "X_norm, y_norm = datasets['norm']\n",
    "X_train, y_train, y_train_noisy = datasets['orig train']\n",
    "X_train_norm, y_train_norm, y_train_norm_noisy = datasets['norm train']"
   ]
  },
  {
   "cell_type": "markdown",
   "metadata": {},
   "source": [
    "## Noisy"
   ]
  },
  {
   "cell_type": "markdown",
   "metadata": {},
   "source": [
    "### $\\mathbb{R}^d$"
   ]
  },
  {
   "cell_type": "code",
   "execution_count": 31,
   "metadata": {},
   "outputs": [
    {
     "name": "stdout",
     "output_type": "stream",
     "text": [
      "NTK     :  0.442**2 * NTK(depth=3, c=2.000, bias=0.354)\n"
     ]
    },
    {
     "name": "stderr",
     "output_type": "stream",
     "text": [
      "/home/rona1das/Tools/anaconda3/envs/thesis/lib/python3.9/site-packages/sklearn/gaussian_process/_gpr.py:610: ConvergenceWarning: lbfgs failed to converge (status=2):\n",
      "ABNORMAL_TERMINATION_IN_LNSRCH.\n",
      "\n",
      "Increase the number of iterations (max_iter) or scale the data as shown in:\n",
      "    https://scikit-learn.org/stable/modules/preprocessing.html\n",
      "  _check_optimize_result(\"lbfgs\", opt_res)\n"
     ]
    },
    {
     "name": "stdout",
     "output_type": "stream",
     "text": [
      "NTK     :  0.0718**2 * NTK(depth=100, c=2.000, bias=0.193)\n",
      "Laplace :  0.224**2 * Matern(length_scale=1, nu=0.5)\n"
     ]
    }
   ],
   "source": [
    "ntk_1 = (\n",
    "    ConstantKernel(\n",
    "        constant_value=1, \n",
    "        constant_value_bounds=(1e-9, 1e2)\n",
    "    ) * \n",
    "    NTK(depth=3, c=2, \n",
    "        bias=1e-1, \n",
    "        bias_bounds=(1e-9, 1e0)\n",
    "    ) \n",
    ")\n",
    "\n",
    "ntk_2 = (\n",
    "    ConstantKernel(\n",
    "        constant_value=1, \n",
    "        constant_value_bounds=(1e-9, 1e2)\n",
    "    ) * \n",
    "    NTK(depth=100, c=2, \n",
    "        bias=1e-1, \n",
    "        bias_bounds=(1e-9, 1e0)\n",
    "    ) \n",
    ")\n",
    "\n",
    "lpk = (\n",
    "    ConstantKernel(\n",
    "        constant_value=0.224**2, \n",
    "        constant_value_bounds=c_val_bounds\n",
    "    ) * \n",
    "    Matern(\n",
    "        nu=1/2,\n",
    "        length_scale=1,\n",
    "        length_scale_bounds='fixed'#(1e-1, 1e3), \n",
    "    ) \n",
    ")\n",
    "\n",
    "gp_ntk_1 = GPR(kernel=ntk_1, alpha=1e-9, normalize_y=True, n_restarts_optimizer=9, random_state=3480795)\n",
    "gp_ntk_1.fit(X_train, y_train)\n",
    "print('NTK     : ', gp_ntk_1.kernel_)\n",
    "mean_ntk_1 = gp_ntk_1.predict(X)\n",
    "\n",
    "gp_ntk_2 = GPR(kernel=ntk_2, alpha=1e-9, normalize_y=True, n_restarts_optimizer=9, random_state=3480795)\n",
    "gp_ntk_2.fit(X_train, y_train)\n",
    "print('NTK     : ', gp_ntk_2.kernel_)\n",
    "mean_ntk_2 = gp_ntk_2.predict(X)\n",
    "\n",
    "gp_lpk = GPR(kernel=lpk, alpha=1e-9, normalize_y=True, n_restarts_optimizer=0, random_state=3480795)\n",
    "gp_lpk.fit(X_train, y_train)\n",
    "print('Laplace : ', gp_lpk.kernel_)\n",
    "mean_lpk = gp_lpk.predict(X)"
   ]
  },
  {
   "cell_type": "code",
   "execution_count": 32,
   "metadata": {},
   "outputs": [],
   "source": [
    "# def f(args):\n",
    "#     ell, gp, X, X_train, y_train, residual_target, out = args\n",
    "#     gp.set_params(**{'kernel__k2__length_scale': ell})\n",
    "#     gp.fit(X_train, y_train)\n",
    "\n",
    "#     if out:\n",
    "#         print(gp)\n",
    "        \n",
    "#     mean = gp.predict(X)\n",
    "#     return np.corrcoef((residual_target)[:,0], (y-mean)[:,0])[0, 1]"
   ]
  },
  {
   "cell_type": "code",
   "execution_count": 33,
   "metadata": {},
   "outputs": [],
   "source": [
    "# arg_list = (gp_lpk, X, X_train, y_train, y-mean_ntk_1, False)\n",
    "# N = 10000\n",
    "# ell_search = np.linspace(0.001, 30, N)\n",
    "\n",
    "# args = [(ell, *arg_list) for ell in ell_search]\n",
    "\n",
    "# with Pool(4) as p:\n",
    "#     result_1 = p.map(f, args)\n",
    "#     i = np.argmax(result_1)\n",
    "#     print(f\"NTK depth 3, LPK lengthscale {ell_search[i]} at {i} with {max(result_1)}\")"
   ]
  },
  {
   "cell_type": "code",
   "execution_count": 34,
   "metadata": {},
   "outputs": [],
   "source": [
    "# arg_list = (gp_lpk, X, X_train, y_train, y-mean_ntk_2, False)\n",
    "# N = 10000\n",
    "# ell_search = np.linspace(0.001, 30, N)\n",
    "\n",
    "# args = [(ell, *arg_list) for ell in ell_search]\n",
    "\n",
    "# with Pool(4) as p:\n",
    "#     result_2 = p.map(f, args)\n",
    "#     i = np.argmax(result_2)\n",
    "#     print(f\"NTK depth 100, LPK lengthscale {ell_search[i]} at {i} with {max(result_2)}\")"
   ]
  },
  {
   "cell_type": "code",
   "execution_count": 35,
   "metadata": {},
   "outputs": [],
   "source": [
    "def g(ell, residual, p_or_s = 'p'):\n",
    "    gp_lpk.set_params(**{'kernel__k2__length_scale': ell})\n",
    "    gp_lpk.fit(X_train, y_train)\n",
    "    mean = gp_lpk.predict(X)\n",
    "    if p_or_s == 's':\n",
    "        return -spearmanr(residual, y-mean)[0]\n",
    "    else:\n",
    "        return -np.corrcoef((residual)[:,0], (y-mean)[:,0])[0, 1]"
   ]
  },
  {
   "cell_type": "code",
   "execution_count": 36,
   "metadata": {},
   "outputs": [
    {
     "name": "stdout",
     "output_type": "stream",
     "text": [
      " \n",
      " Func-count     x          f(x)          Procedure\n",
      "    1    3.81966e+06    -0.877629        initial\n",
      "    2    6.18034e+06     -0.87403        golden\n",
      "    3    2.36068e+06    -0.878839        golden\n",
      "    4         815131    -0.878889        parabolic\n",
      "    5    1.52661e+06    -0.879049        parabolic\n",
      "    6     1.5353e+06    -0.879049        parabolic\n",
      "    7    1.51579e+06    -0.879049        parabolic\n",
      "    8    1.51484e+06    -0.879049        parabolic\n",
      "    9    1.51579e+06    -0.879049        parabolic\n",
      "   10    1.51531e+06    -0.879049        parabolic\n",
      "   11     1.5156e+06    -0.879049        golden\n",
      "   12    1.51572e+06    -0.879049        golden\n",
      "   13    1.51576e+06    -0.879049        golden\n",
      "   14    1.51578e+06    -0.879049        golden\n",
      "   15    1.51578e+06    -0.879049        golden\n",
      "   16    1.51578e+06    -0.879049        golden\n",
      "   17    1.51579e+06    -0.879049        golden\n",
      "   18    1.51579e+06    -0.879049        golden\n",
      "   19    1.51579e+06    -0.879049        golden\n",
      "   20    1.51579e+06    -0.879049        golden\n",
      "   21    1.51579e+06    -0.879049        golden\n",
      "   22    1.51579e+06    -0.879049        golden\n",
      "   23    1.51579e+06    -0.879049        golden\n",
      "   24    1.51579e+06    -0.879049        golden\n",
      "\n",
      "Optimization terminated successfully;\n",
      "The returned value satisfies the termination criteria\n",
      "(using xtol =  1e-05 )\n"
     ]
    },
    {
     "data": {
      "text/plain": [
       "     fun: -0.8790490054309269\n",
       " message: 'Solution found.'\n",
       "    nfev: 24\n",
       "     nit: 24\n",
       "  status: 0\n",
       " success: True\n",
       "       x: 1515785.8175147185"
      ]
     },
     "execution_count": 36,
     "metadata": {},
     "output_type": "execute_result"
    }
   ],
   "source": [
    "ell_3 = optimize.minimize_scalar(g, args=(y-mean_ntk_1, corrcoef_type), method='bounded', bounds=[0.001, 10000000], options={'disp':3})\n",
    "ell_3"
   ]
  },
  {
   "cell_type": "code",
   "execution_count": 37,
   "metadata": {},
   "outputs": [
    {
     "name": "stdout",
     "output_type": "stream",
     "text": [
      " \n",
      " Func-count     x          f(x)          Procedure\n",
      "    1    3.81966e+06    -0.778219        initial\n",
      "    2    6.18034e+06    -0.785038        golden\n",
      "    3    7.63932e+06    -0.788211        golden\n",
      "    4    8.54102e+06    -0.789861        golden\n",
      "    5     9.0983e+06    -0.790778        golden\n",
      "    6    9.44272e+06     -0.79131        golden\n",
      "    7    9.65558e+06    -0.791625        golden\n",
      "    8    9.78714e+06    -0.791815        golden\n",
      "    9    9.86844e+06    -0.791931        golden\n",
      "   10    9.91869e+06    -0.792002        golden\n",
      "   11    9.94975e+06    -0.792045        golden\n",
      "   12    9.96894e+06    -0.792072        golden\n",
      "   13    9.98081e+06    -0.792089        golden\n",
      "   14    9.98814e+06    -0.792099        golden\n",
      "   15    9.99267e+06    -0.792105        golden\n",
      "   16    9.99547e+06    -0.792109        golden\n",
      "   17     9.9972e+06    -0.792111        golden\n",
      "   18    9.99827e+06    -0.792113        golden\n",
      "   19    9.99893e+06    -0.792114        golden\n",
      "   20    9.99934e+06    -0.792114        golden\n",
      "   21    9.99959e+06    -0.792115        golden\n",
      "   22    9.99975e+06    -0.792115        golden\n",
      "   23    9.99984e+06    -0.792115        golden\n",
      "   24     9.9999e+06    -0.792115        golden\n",
      "   25    9.99994e+06    -0.792115        golden\n",
      "   26    9.99996e+06    -0.792115        golden\n",
      "   27    9.99998e+06    -0.792115        golden\n",
      "   28    9.99999e+06    -0.792115        golden\n",
      "   29    9.99999e+06    -0.792115        golden\n",
      "   30    9.99999e+06    -0.792115        golden\n",
      "   31          1e+07    -0.792115        golden\n",
      "   32          1e+07    -0.792115        parabolic\n",
      "   33          1e+07    -0.792115        parabolic\n",
      "   34          1e+07    -0.792115        golden\n",
      "   35          1e+07    -0.792115        golden\n",
      "\n",
      "Optimization terminated successfully;\n",
      "The returned value satisfies the termination criteria\n",
      "(using xtol =  1e-05 )\n"
     ]
    },
    {
     "data": {
      "text/plain": [
       "     fun: -0.7921152033929455\n",
       " message: 'Solution found.'\n",
       "    nfev: 35\n",
       "     nit: 35\n",
       "  status: 0\n",
       " success: True\n",
       "       x: 9999996.678126026"
      ]
     },
     "execution_count": 37,
     "metadata": {},
     "output_type": "execute_result"
    }
   ],
   "source": [
    "ell_100 = optimize.minimize_scalar(g, args=(y-mean_ntk_2, corrcoef_type), method='bounded', bounds=[0.001, 10000000], options={'disp':3})\n",
    "ell_100"
   ]
  },
  {
   "cell_type": "code",
   "execution_count": 38,
   "metadata": {},
   "outputs": [],
   "source": [
    "# D=3\n",
    "gp_lpk.set_params(**{'kernel__k2__length_scale': ell_3.x})\n",
    "gp_lpk.fit(X_train, y_train)\n",
    "mean_opt_1 = gp_lpk.predict(X)\n",
    "\n",
    "# D=100\n",
    "gp_lpk.set_params(**{'kernel__k2__length_scale': ell_100.x})\n",
    "gp_lpk.fit(X_train, y_train)\n",
    "mean_opt_2 = gp_lpk.predict(X)"
   ]
  },
  {
   "cell_type": "code",
   "execution_count": 39,
   "metadata": {},
   "outputs": [
    {
     "data": {
      "image/png": "[encoded data removed]",
      "text/plain": [
       "<Figure size 720x720 with 4 Axes>"
      ]
     },
     "metadata": {
      "needs_background": "light"
     },
     "output_type": "display_data"
    }
   ],
   "source": [
    "fig1, ax1 = plt.subplots(nrows=2, ncols=2, sharex=True, sharey=True, figsize=(10,10))\n",
    "ax1 = ax1.ravel()\n",
    "ax1[0].scatter(y - mean_ntk_1, y - mean_lpk)\n",
    "ax1[0].set_title('Depth=3, Lengthscale=1')\n",
    "ax1[1].scatter(y - mean_ntk_2, y - mean_lpk)\n",
    "ax1[1].set_title('Depth=100, Lengthscale=1')\n",
    "ax1[2].scatter(y - mean_ntk_1, y - mean_opt_1)\n",
    "ax1[2].set_title(f'Depth=3, Optimal Lengthscale (1/c)={round(ell_3.x, 4)}')\n",
    "ax1[3].scatter(y - mean_ntk_2, y - mean_opt_2)\n",
    "ax1[3].set_title(f'Depth=100, Optimal Lengthscale (1/c)={round(ell_100.x, 4)}')\n",
    "fig1.suptitle(r'Noisy Friedman 1 $\\mathbb{R}^d$ NTK vs LPK')\n",
    "fig1.supxlabel('NTK residuals')\n",
    "fig1.supylabel('LaPlace residuals')\n",
    "fig1.tight_layout()"
   ]
  },
  {
   "cell_type": "markdown",
   "metadata": {},
   "source": [
    "Data Table - $\\mathbb{R}^{d}$\n",
    "| NTK Depth=3      | Fixed     | Unfixed    |\n",
    "|------------------|-----------|------------|\n",
    "| Pearson - $x$    | 1515785.8 |            |\n",
    "| Pearson - $f(x)$ | 0.8790    |            |\n",
    "| Spearman - $x$   |           |            |\n",
    "| Spearman - $f(x)$|           |            |\n",
    "\n",
    "| NTK Depth=100    | Fixed     | Unfixed    |\n",
    "|------------------|-----------|------------|\n",
    "| Pearson - $x$    | 9999996.6 |            |\n",
    "| Pearson - $f(x)$ | 0.7921    |            |\n",
    "| Spearman - $x$   |           |            |\n",
    "| Spearman - $f(x)$|           |            |"
   ]
  },
  {
   "cell_type": "markdown",
   "metadata": {},
   "source": [
    "### $\\mathbb{S}^{d-1}$"
   ]
  },
  {
   "cell_type": "code",
   "execution_count": 40,
   "metadata": {},
   "outputs": [
    {
     "name": "stderr",
     "output_type": "stream",
     "text": [
      "/home/rona1das/Tools/anaconda3/envs/thesis/lib/python3.9/site-packages/sklearn/gaussian_process/_gpr.py:610: ConvergenceWarning: lbfgs failed to converge (status=2):\n",
      "ABNORMAL_TERMINATION_IN_LNSRCH.\n",
      "\n",
      "Increase the number of iterations (max_iter) or scale the data as shown in:\n",
      "    https://scikit-learn.org/stable/modules/preprocessing.html\n",
      "  _check_optimize_result(\"lbfgs\", opt_res)\n"
     ]
    },
    {
     "name": "stdout",
     "output_type": "stream",
     "text": [
      "NTK     :  0.703**2 * NTK(depth=3, c=2.000, bias=0.526)\n",
      "NTK     :  0.114**2 * NTK(depth=100, c=2.000, bias=0.000)\n",
      "Laplace :  0.224**2 * Matern(length_scale=1, nu=0.5)\n"
     ]
    }
   ],
   "source": [
    "ntk_1 = (\n",
    "    ConstantKernel(\n",
    "        constant_value=1, \n",
    "        constant_value_bounds=(1e-9, 1e2)\n",
    "    ) * \n",
    "    NTK(depth=3, c=2, \n",
    "        bias=1e-1, \n",
    "        bias_bounds=(1e-9, 1e2)\n",
    "    ) \n",
    ")\n",
    "\n",
    "ntk_2 = (\n",
    "    ConstantKernel(\n",
    "        constant_value=1, \n",
    "        constant_value_bounds=(1e-9, 1e2)\n",
    "    ) * \n",
    "    NTK(depth=100, c=2, \n",
    "        bias=1e-1, \n",
    "        bias_bounds=(1e-9, 1e2)\n",
    "    ) \n",
    ")\n",
    "\n",
    "lpk = (\n",
    "    ConstantKernel(\n",
    "        constant_value=0.224**2, \n",
    "        constant_value_bounds=c_val_bounds\n",
    "    ) * \n",
    "    Matern(\n",
    "        nu=1/2,\n",
    "        length_scale=1,\n",
    "        length_scale_bounds='fixed'#(1e-1, 1e3), \n",
    "    ) \n",
    ")\n",
    "\n",
    "gp_ntk_1 = GPR(kernel=ntk_1, alpha=1e-9, normalize_y=True, n_restarts_optimizer=9, random_state=3480795)\n",
    "gp_ntk_1.fit(X_train_norm, y_train)\n",
    "print('NTK     : ', gp_ntk_1.kernel_)\n",
    "mean_ntk_1 = gp_ntk_1.predict(X_norm)\n",
    "\n",
    "gp_ntk_2 = GPR(kernel=ntk_2, alpha=1e-9, normalize_y=True, n_restarts_optimizer=9, random_state=3480795)\n",
    "gp_ntk_2.fit(X_train_norm, y_train)\n",
    "print('NTK     : ', gp_ntk_2.kernel_)\n",
    "mean_ntk_2 = gp_ntk_2.predict(X_norm)\n",
    "\n",
    "gp_lpk = GPR(kernel=lpk, alpha=1e-9, normalize_y=True, n_restarts_optimizer=0, random_state=3480795)\n",
    "gp_lpk.fit(X_train_norm, y_train)\n",
    "print('Laplace : ', gp_lpk.kernel_)\n",
    "mean_lpk = gp_lpk.predict(X_norm)"
   ]
  },
  {
   "cell_type": "code",
   "execution_count": 41,
   "metadata": {},
   "outputs": [],
   "source": [
    "# arg_list = (gp_lpk, X_norm, X_train_norm, y_train, y-mean_ntk_1, False)\n",
    "# N = 10000\n",
    "# ell_search = np.linspace(0.01, 100, N)\n",
    "\n",
    "# args = [(ell, *arg_list) for ell in ell_search]\n",
    "\n",
    "# with Pool(4) as p:\n",
    "#     result_1 = p.map(f, args)\n",
    "#     i = np.argmax(result_1)\n",
    "#     print(f\"NTK depth 3, LPK lengthscale {ell_search[i]} at {i} with {max(result_1)}\")"
   ]
  },
  {
   "cell_type": "code",
   "execution_count": 42,
   "metadata": {},
   "outputs": [],
   "source": [
    "# arg_list = (gp_lpk, X_norm, X_train_norm, y_train, y-mean_ntk_2, False)\n",
    "# N = 10000\n",
    "# ell_search = np.linspace(0.01, 100, N)\n",
    "\n",
    "# args = [(ell, *arg_list) for ell in ell_search]\n",
    "\n",
    "# with Pool(4) as p:\n",
    "#     result_1 = p.map(f, args)\n",
    "#     i = np.argmax(result_1)\n",
    "#     print(f\"NTK depth 3, LPK lengthscale {ell_search[i]} at {i} with {max(result_1)}\")"
   ]
  },
  {
   "cell_type": "code",
   "execution_count": 43,
   "metadata": {},
   "outputs": [],
   "source": [
    "def g(ell, residual, p_or_s = 'p'):\n",
    "    gp_lpk.set_params(**{'kernel__k2__length_scale': ell})\n",
    "    gp_lpk.fit(X_train, y_train)\n",
    "    mean = gp_lpk.predict(X)\n",
    "    if p_or_s == 's':\n",
    "        return -spearmanr(residual, y-mean)[0]\n",
    "    else:\n",
    "        return -np.corrcoef((residual)[:,0], (y-mean)[:,0])[0, 1]"
   ]
  },
  {
   "cell_type": "code",
   "execution_count": 44,
   "metadata": {},
   "outputs": [
    {
     "name": "stdout",
     "output_type": "stream",
     "text": [
      " \n",
      " Func-count     x          f(x)          Procedure\n",
      "    1        38.1972    -0.853944        initial\n",
      "    2        61.8038    -0.853248        golden\n",
      "    3        23.6076    -0.855055        golden\n",
      "    4        14.5907    -0.856811        golden\n",
      "    5         9.0179    -0.859545        golden\n",
      "    6        5.57375    -0.863676        golden\n",
      "    7        3.44515     -0.86957        golden\n",
      "    8         2.1296    -0.876991        golden\n",
      "    9        1.31655    -0.883627        golden\n",
      "   10       0.814054    -0.882529        golden\n",
      "   11        1.20425    -0.884314        parabolic\n",
      "   12        1.11664    -0.884652        parabolic\n",
      "   13        1.00106    -0.884644        golden\n",
      "   14        1.06054    -0.884728        parabolic\n",
      "   15        1.06021    -0.884728        parabolic\n",
      "   16        1.05721    -0.884728        parabolic\n",
      "   17        1.03576    -0.884717        golden\n",
      "   18         1.0575    -0.884728        parabolic\n",
      "   19         1.0575    -0.884728        parabolic\n",
      "   20        1.05751    -0.884728        parabolic\n",
      "\n",
      "Optimization terminated successfully;\n",
      "The returned value satisfies the termination criteria\n",
      "(using xtol =  1e-05 )\n"
     ]
    },
    {
     "data": {
      "text/plain": [
       "     fun: -0.8847284789046778\n",
       " message: 'Solution found.'\n",
       "    nfev: 20\n",
       "     nit: 20\n",
       "  status: 0\n",
       " success: True\n",
       "       x: 1.0575026214046306"
      ]
     },
     "execution_count": 44,
     "metadata": {},
     "output_type": "execute_result"
    }
   ],
   "source": [
    "ell_3 = optimize.minimize_scalar(g, args=(y-mean_ntk_1, corrcoef_type), method='bounded', bounds=[0.001, 100], options={'disp':3})\n",
    "ell_3"
   ]
  },
  {
   "cell_type": "code",
   "execution_count": 45,
   "metadata": {},
   "outputs": [
    {
     "name": "stdout",
     "output_type": "stream",
     "text": [
      " \n",
      " Func-count     x          f(x)          Procedure\n",
      "    1        38.1972    -0.757824        initial\n",
      "    2        61.8038    -0.756058        golden\n",
      "    3        23.6076     -0.76068        golden\n",
      "    4        14.5907    -0.765293        golden\n",
      "    5         9.0179    -0.772724        golden\n",
      "    6        5.57375    -0.784626        golden\n",
      "    7        3.44515    -0.803421        golden\n",
      "    8         2.1296    -0.832175        golden\n",
      "    9        1.31655    -0.873222        golden\n",
      "   10       0.814054    -0.923994        golden\n",
      "   11       0.503495    -0.971225        golden\n",
      "   12       0.311559    -0.995765        golden\n",
      "   13       0.192936    -0.998349        golden\n",
      "   14       0.220353    -0.998661        parabolic\n",
      "   15       0.222272    -0.998668        parabolic\n",
      "   16        0.22838    -0.998675        parabolic\n",
      "   17       0.260152    -0.998265        golden\n",
      "   18       0.227076    -0.998675        parabolic\n",
      "   19       0.227024    -0.998675        parabolic\n",
      "   20       0.227038    -0.998675        parabolic\n",
      "   21       0.227035    -0.998675        parabolic\n",
      "   22       0.227041    -0.998675        parabolic\n",
      "\n",
      "Optimization terminated successfully;\n",
      "The returned value satisfies the termination criteria\n",
      "(using xtol =  1e-05 )\n"
     ]
    },
    {
     "data": {
      "text/plain": [
       "     fun: -0.9986754098428052\n",
       " message: 'Solution found.'\n",
       "    nfev: 22\n",
       "     nit: 22\n",
       "  status: 0\n",
       " success: True\n",
       "       x: 0.22703789218938678"
      ]
     },
     "execution_count": 45,
     "metadata": {},
     "output_type": "execute_result"
    }
   ],
   "source": [
    "ell_100 = optimize.minimize_scalar(g, args=(y-mean_ntk_2, corrcoef_type), method='bounded', bounds=[0.001, 100], options={'disp':3})\n",
    "ell_100"
   ]
  },
  {
   "cell_type": "code",
   "execution_count": 46,
   "metadata": {},
   "outputs": [],
   "source": [
    "# D=3\n",
    "gp_lpk.set_params(**{'kernel__k2__length_scale': ell_3.x})\n",
    "gp_lpk.fit(X_train_norm, y_train)\n",
    "mean_opt_1 = gp_lpk.predict(X_norm)\n",
    "\n",
    "# D=100\n",
    "gp_lpk.set_params(**{'kernel__k2__length_scale': ell_100.x})\n",
    "gp_lpk.fit(X_train_norm, y_train)\n",
    "mean_opt_2 = gp_lpk.predict(X_norm)"
   ]
  },
  {
   "cell_type": "code",
   "execution_count": 47,
   "metadata": {},
   "outputs": [
    {
     "data": {
      "image/png": "[encoded data removed]",
      "text/plain": [
       "<Figure size 720x720 with 4 Axes>"
      ]
     },
     "metadata": {
      "needs_background": "light"
     },
     "output_type": "display_data"
    }
   ],
   "source": [
    "fig2, ax2 = plt.subplots(nrows=2, ncols=2, sharex=True, sharey=True, figsize=(10,10))\n",
    "ax2 = ax2.ravel()\n",
    "ax2[0].scatter(y - mean_ntk_1, y - mean_lpk)\n",
    "ax2[0].set_title('Depth=3, Lengthscale=1')\n",
    "ax2[1].scatter(y - mean_ntk_2, y - mean_lpk)\n",
    "ax2[1].set_title('Depth=100, Lengthscale=1')\n",
    "ax2[2].scatter(y - mean_ntk_1, y - mean_opt_1)\n",
    "ax2[2].set_title(f'Depth=3, Optimal Lengthscale (1/c)={round(ell_3.x, 4)}')\n",
    "ax2[3].scatter(y - mean_ntk_2, y - mean_opt_2)\n",
    "ax2[3].set_title(f'Depth=100, Optimal Lengthscale (1/c)={round(ell_100.x, 4)}')\n",
    "fig2.suptitle(r'Noisy Friedman 1 $\\mathbb{S}^{d-1}$ NTK vs LPK')\n",
    "fig2.supxlabel('NTK residuals')\n",
    "fig2.supylabel('LaPlace residuals')\n",
    "fig2.tight_layout()"
   ]
  },
  {
   "cell_type": "markdown",
   "metadata": {},
   "source": [
    "Data Table - $\\mathbb{S}^{d-1}$ LPK\n",
    "| NTK Depth=3      | Fixed     | Unfixed    |\n",
    "|------------------|-----------|------------|\n",
    "| Pearson - $x$    | 1.0761219 |            |\n",
    "| Pearson - $f(x)$ | 0.8876    |            |\n",
    "| Spearman - $x$   |           |            |\n",
    "| Spearman - $f(x)$|           |            |\n",
    "\n",
    "| NTK Depth=100    | Fixed     | Unfixed    |\n",
    "|------------------|-----------|------------|\n",
    "| Pearson - $x$    | 0.2267738 |            |\n",
    "| Pearson - $f(x)$ | 0.9987    |            |\n",
    "| Spearman - $x$   |           |            |\n",
    "| Spearman - $f(x)$|           |            |"
   ]
  },
  {
   "cell_type": "markdown",
   "metadata": {},
   "source": [
    "### RBF"
   ]
  },
  {
   "cell_type": "code",
   "execution_count": 48,
   "metadata": {},
   "outputs": [],
   "source": [
    "rbf = (\n",
    "        ConstantKernel(\n",
    "            constant_value=0.224**2, \n",
    "            constant_value_bounds=c_val_bounds\n",
    "        ) * \n",
    "        Matern(\n",
    "            nu=np.inf,\n",
    "            length_scale=1,\n",
    "            length_scale_bounds='fixed',#(1e-1, 1e3), \n",
    "        ) \n",
    "    )\n",
    "\n",
    "gp_rbf = GPR(kernel=rbf, alpha=1e-10, normalize_y=True, n_restarts_optimizer=0, random_state=3480795)\n",
    "gp_rbf.fit(X_train_norm, y_train)\n",
    "mean_rbf = gp_rbf.predict(X_norm)"
   ]
  },
  {
   "cell_type": "code",
   "execution_count": 49,
   "metadata": {},
   "outputs": [],
   "source": [
    "def h(ell, residual, p_or_s = 'p'):\n",
    "    gp_rbf.set_params(**{'kernel__k2__length_scale': ell})\n",
    "    gp_rbf.fit(X_train, y_train)\n",
    "    mean = gp_rbf.predict(X)\n",
    "    if p_or_s == 's':\n",
    "        return -spearmanr(residual, y-mean)[0]\n",
    "    else:\n",
    "        return -np.corrcoef((residual)[:,0], (y-mean)[:,0])[0, 1]"
   ]
  },
  {
   "cell_type": "code",
   "execution_count": 50,
   "metadata": {},
   "outputs": [
    {
     "name": "stdout",
     "output_type": "stream",
     "text": [
      " \n",
      " Func-count     x          f(x)          Procedure\n",
      "    1    3.81966e+06     -0.55336        initial\n",
      "    2    6.18034e+06    -0.553342        golden\n",
      "    3    2.36068e+06    -0.553408        golden\n",
      "    4    1.45898e+06    -0.553534        golden\n",
      "    5         901699    -0.553862        golden\n",
      "    6         557281    -0.554716        golden\n",
      "    7         344419    -0.556918        golden\n",
      "    8         212862    -0.562469        golden\n",
      "    9         131556    -0.575661        golden\n",
      "   10        81306.2    -0.602931        golden\n",
      "   11          50250    -0.643365        golden\n",
      "   12        31056.2    -0.667029        golden\n",
      "   13        19193.8    -0.647463        golden\n",
      "   14          34011    -0.665914        parabolic\n",
      "   15          31154    -0.667021        parabolic\n",
      "   16        30717.4    -0.667039        parabolic\n",
      "   17        30756.5     -0.66704        parabolic\n",
      "   18        30754.5     -0.66704        parabolic\n",
      "   19        30739.5     -0.66704        parabolic\n",
      "   20        30748.8     -0.66704        golden\n",
      "   21        30751.7     -0.66704        parabolic\n",
      "   22        30751.7     -0.66704        parabolic\n",
      "   23        30752.8     -0.66704        golden\n",
      "   24        30752.1     -0.66704        golden\n",
      "   25        30751.9     -0.66704        golden\n",
      "   26        30751.8     -0.66704        golden\n",
      "   27        30751.8     -0.66704        golden\n",
      "   28        30751.7     -0.66704        golden\n",
      "   29        30751.7     -0.66704        golden\n",
      "   30        30751.7     -0.66704        golden\n",
      "   31        30751.7     -0.66704        parabolic\n",
      "   32        30751.7     -0.66704        golden\n",
      "   33        30751.7     -0.66704        parabolic\n",
      "   34        30751.7     -0.66704        parabolic\n",
      "   35        30751.7     -0.66704        golden\n",
      "\n",
      "Optimization terminated successfully;\n",
      "The returned value satisfies the termination criteria\n",
      "(using xtol =  1e-05 )\n"
     ]
    },
    {
     "data": {
      "text/plain": [
       "     fun: -0.6670396596972366\n",
       " message: 'Solution found.'\n",
       "    nfev: 35\n",
       "     nit: 35\n",
       "  status: 0\n",
       " success: True\n",
       "       x: 30751.739966896876"
      ]
     },
     "execution_count": 50,
     "metadata": {},
     "output_type": "execute_result"
    }
   ],
   "source": [
    "ell_3 = optimize.minimize_scalar(h, args=(y-mean_ntk_1, corrcoef_type), method='bounded', bounds=[0.001, 10000000], options={'disp':3})\n",
    "ell_3"
   ]
  },
  {
   "cell_type": "code",
   "execution_count": 51,
   "metadata": {},
   "outputs": [
    {
     "name": "stdout",
     "output_type": "stream",
     "text": [
      " \n",
      " Func-count     x          f(x)          Procedure\n",
      "    1    3.81966e+06    -0.716362        initial\n",
      "    2    6.18034e+06    -0.716352        golden\n",
      "    3    2.36068e+06    -0.716386        golden\n",
      "    4    1.45898e+06     -0.71645        golden\n",
      "    5         901699    -0.716616        golden\n",
      "    6         557281    -0.717046        golden\n",
      "    7         344419    -0.718138        golden\n",
      "    8         212862     -0.72078        golden\n",
      "    9         131556    -0.726403        golden\n",
      "   10        81306.2    -0.734612        golden\n",
      "   11          50250    -0.732716        golden\n",
      "   12        76837.9    -0.735396        parabolic\n",
      "   13        69209.2    -0.736424        parabolic\n",
      "   14        61967.4    -0.736604        golden\n",
      "   15        63898.4    -0.736672        parabolic\n",
      "   16        64483.8    -0.736673        parabolic\n",
      "   17          64266    -0.736674        parabolic\n",
      "   18        64275.4    -0.736674        parabolic\n",
      "   19          64331    -0.736674        parabolic\n",
      "   20        64389.4    -0.736674        golden\n",
      "   21        64307.3    -0.736674        parabolic\n",
      "   22        64309.9    -0.736674        parabolic\n",
      "   23        64295.1    -0.736674        golden\n",
      "   24        64302.6    -0.736674        golden\n",
      "   25        64305.5    -0.736674        golden\n",
      "   26        64308.3    -0.736674        golden\n",
      "   27        64306.6    -0.736674        golden\n",
      "   28        64306.2    -0.736674        golden\n",
      "   29        64306.8    -0.736674        golden\n",
      "   30        64306.7    -0.736674        parabolic\n",
      "   31        64306.6    -0.736674        parabolic\n",
      "   32        64306.6    -0.736674        golden\n",
      "   33        64306.6    -0.736674        golden\n",
      "   34        64306.6    -0.736674        golden\n",
      "   35        64306.6    -0.736674        golden\n",
      "   36        64306.6    -0.736674        golden\n",
      "\n",
      "Optimization terminated successfully;\n",
      "The returned value satisfies the termination criteria\n",
      "(using xtol =  1e-05 )\n"
     ]
    },
    {
     "data": {
      "text/plain": [
       "     fun: -0.7366738685544317\n",
       " message: 'Solution found.'\n",
       "    nfev: 36\n",
       "     nit: 36\n",
       "  status: 0\n",
       " success: True\n",
       "       x: 64306.58212975864"
      ]
     },
     "execution_count": 51,
     "metadata": {},
     "output_type": "execute_result"
    }
   ],
   "source": [
    "ell_100 = optimize.minimize_scalar(h, args=(y-mean_ntk_2, corrcoef_type), method='bounded', bounds=[0.001, 10000000], options={'disp':3})\n",
    "ell_100"
   ]
  },
  {
   "cell_type": "code",
   "execution_count": 52,
   "metadata": {},
   "outputs": [],
   "source": [
    "# D=3\n",
    "gp_rbf.set_params(**{'kernel__k2__length_scale': ell_3.x})\n",
    "gp_rbf.fit(X_train_norm, y_train)\n",
    "mean_opt_1 = gp_rbf.predict(X_norm)\n",
    "\n",
    "# D=100\n",
    "gp_rbf.set_params(**{'kernel__k2__length_scale': ell_100.x})\n",
    "gp_rbf.fit(X_train_norm, y_train)\n",
    "mean_opt_2 = gp_rbf.predict(X_norm)"
   ]
  },
  {
   "cell_type": "code",
   "execution_count": 53,
   "metadata": {},
   "outputs": [
    {
     "data": {
      "image/png": "[encoded data removed]",
      "text/plain": [
       "<Figure size 720x720 with 4 Axes>"
      ]
     },
     "metadata": {
      "needs_background": "light"
     },
     "output_type": "display_data"
    }
   ],
   "source": [
    "fig2, ax2 = plt.subplots(nrows=2, ncols=2, sharex=True, sharey=True, figsize=(10,10))\n",
    "ax2 = ax2.ravel()\n",
    "ax2[0].scatter(y - mean_ntk_1, y - mean_rbf)\n",
    "ax2[0].set_title('Depth=3, Lengthscale=1')\n",
    "ax2[1].scatter(y - mean_ntk_2, y - mean_rbf)\n",
    "ax2[1].set_title('Depth=100, Lengthscale=1')\n",
    "ax2[2].scatter(y - mean_ntk_1, y - mean_opt_1)\n",
    "ax2[2].set_title(f'Depth=3, Optimal Lengthscale (1/c)={round(ell_3.x, 4)}')\n",
    "ax2[3].scatter(y - mean_ntk_2, y - mean_opt_2)\n",
    "ax2[3].set_title(f'Depth=100, Optimal Lengthscale (1/c)={round(ell_100.x, 4)}')\n",
    "fig2.suptitle(r'Noisy Friedman 1 $\\mathbb{S}^{d-1}$ NTK vs RBF')\n",
    "fig2.supxlabel('NTK residuals')\n",
    "fig2.supylabel('RBF residuals')\n",
    "fig2.tight_layout()"
   ]
  },
  {
   "cell_type": "markdown",
   "metadata": {},
   "source": [
    "Data Table - $\\mathbb{S}^{d-1}$ - RBF\n",
    "| NTK Depth=3      | Fixed     | Unfixed    |\n",
    "|------------------|-----------|------------|\n",
    "| Pearson - $x$    | 9747.0671 |            |\n",
    "| Pearson - $f(x)$ | 0.6754    |            |\n",
    "| Spearman - $x$   |           |            |\n",
    "| Spearman - $f(x)$|           |            |\n",
    "\n",
    "| NTK Depth=100    | Fixed     | Unfixed    |\n",
    "|------------------|-----------|------------|\n",
    "| Pearson - $x$    | 19709.814 |            |\n",
    "| Pearson - $f(x)$ | 0.7451    |            |\n",
    "| Spearman - $x$   |           |            |\n",
    "| Spearman - $f(x)$|           |            |"
   ]
  },
  {
   "cell_type": "code",
   "execution_count": 54,
   "metadata": {},
   "outputs": [],
   "source": [
    "# lengthscale = np.linspace(0.1, 5, 50)\n",
    "\n",
    "# fig, ax = plt.subplots(nrows=10, ncols=5, sharex=True, sharey=True, figsize=(15, 30))\n",
    "# ax=ax.ravel()\n",
    "\n",
    "# for x, ax in zip(lengthscale, ax):\n",
    "#     rbf = (\n",
    "#         ConstantKernel(\n",
    "#             constant_value=0.05, \n",
    "#             constant_value_bounds=(1e-9, 1e5) \n",
    "#         ) * \n",
    "#         Matern(\n",
    "#             nu=np.inf,\n",
    "#             length_scale=x,\n",
    "#             length_scale_bounds='fixed',#(1e-1, 1e3), \n",
    "#         ) \n",
    "#     )\n",
    "\n",
    "#     gp = GPR(kernel=rbf, alpha=1e-10, normalize_y=True, n_restarts_optimizer=9, random_state=3480795)\n",
    "#     gp.fit(X_train_norm, y_train)\n",
    "#     mean_rbf = gp.predict(X_norm)\n",
    "\n",
    "#     ax.set_title(f'RBF Lengthscale={x.round(2)}')\n",
    "#     ax.scatter(y-mean_ntk_1, y-mean_rbf)\n",
    "\n",
    "# fig.suptitle(r\"NTK vs RBF Kernel in $\\mathbb{S}^{d-1}$\")\n",
    "# fig.supxlabel('NTK residuals')\n",
    "# fig.supylabel('RBF residuals')\n",
    "# fig.tight_layout()"
   ]
  },
  {
   "cell_type": "code",
   "execution_count": 55,
   "metadata": {},
   "outputs": [],
   "source": [
    "# rbf = (\n",
    "#     ConstantKernel(\n",
    "#         constant_value=0.05, \n",
    "#         constant_value_bounds=(1e-9, 1e5) \n",
    "#     ) * \n",
    "#     Matern(\n",
    "#         nu=np.inf,\n",
    "#         length_scale=0.35,\n",
    "#         length_scale_bounds=(1e-1, 1e3), \n",
    "#     ) \n",
    "# )\n",
    "\n",
    "# gp = GPR(kernel=rbf, alpha=1e-10, normalize_y=True, n_restarts_optimizer=9, random_state=3480795)\n",
    "# gp.fit(X_train_norm, y_train)\n",
    "# mean_rbf = gp.predict(X_norm)\n",
    "# print(rbf)\n",
    "# fig, ax = plt.subplots(1,1, figsize=(5,5))\n",
    "# ax.set_title(f'RBF Lengthscale={0.35}')\n",
    "# ax.scatter(y-mean_ntk_1, y-mean_rbf)"
   ]
  },
  {
   "cell_type": "code",
   "execution_count": 56,
   "metadata": {},
   "outputs": [
    {
     "data": {
      "text/plain": [
       "array([[1.        , 0.57826697],\n",
       "       [0.57826697, 1.        ]])"
      ]
     },
     "execution_count": 56,
     "metadata": {},
     "output_type": "execute_result"
    }
   ],
   "source": [
    "np.corrcoef((y-mean_ntk_1)[:,0], (y-mean_rbf)[:,0])"
   ]
  },
  {
   "cell_type": "code",
   "execution_count": 57,
   "metadata": {},
   "outputs": [
    {
     "data": {
      "text/plain": [
       "array([[1.        , 0.99368528],\n",
       "       [0.99368528, 1.        ]])"
      ]
     },
     "execution_count": 57,
     "metadata": {},
     "output_type": "execute_result"
    }
   ],
   "source": [
    "np.corrcoef((y-mean_ntk_1)[:,0], (y-mean_lpk)[:,0])"
   ]
  }
 ],
 "metadata": {
  "interpreter": {
   "hash": "68b02c908e2cdb95db1fe9ab6c7ce5e7b7519642826f3cbd5d028e2ea906a416"
  },
  "kernelspec": {
   "display_name": "Python 3.9.7 ('thesis')",
   "language": "python",
   "name": "python3"
  },
  "language_info": {
   "codemirror_mode": {
    "name": "ipython",
    "version": 3
   },
   "file_extension": ".py",
   "mimetype": "text/x-python",
   "name": "python",
   "nbconvert_exporter": "python",
   "pygments_lexer": "ipython3",
   "version": "3.9.7"
  },
  "orig_nbformat": 4
 },
 "nbformat": 4,
 "nbformat_minor": 2
}
