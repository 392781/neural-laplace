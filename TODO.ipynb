{
 "cells": [
  {
   "cell_type": "markdown",
   "metadata": {},
   "source": [
    "# TODO LIST for 03/30/22\n",
    "* Ansiotropic\n",
    "  * Run all configs (fixed/unfixed * white/no white) on 2 worst performing experiments for $R^{d}$ and $S^{d-1}$\n",
    "* ~~Enable white/no white option in runner... potentially rerun experiments using new and improved version~~\n",
    "* Figure out how to set up tables better\n",
    "* WRITE "
   ]
  }
 ],
 "metadata": {
  "interpreter": {
   "hash": "68b02c908e2cdb95db1fe9ab6c7ce5e7b7519642826f3cbd5d028e2ea906a416"
  },
  "kernelspec": {
   "display_name": "Python 3.9.7 ('thesis')",
   "language": "python",
   "name": "python3"
  },
  "language_info": {
   "name": "python",
   "version": "3.9.7"
  },
  "orig_nbformat": 4
 },
 "nbformat": 4,
 "nbformat_minor": 2
}
